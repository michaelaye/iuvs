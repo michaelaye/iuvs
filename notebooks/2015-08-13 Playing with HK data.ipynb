{
 "cells": [
  {
   "cell_type": "code",
   "execution_count": 1,
   "metadata": {
    "collapsed": false
   },
   "outputs": [],
   "source": [
    "%matplotlib qt\n",
    "import seaborn as sns\n",
    "sns.set_context('notebook')"
   ]
  },
  {
   "cell_type": "code",
   "execution_count": 2,
   "metadata": {
    "collapsed": false
   },
   "outputs": [
    {
     "ename": "OSError",
     "evalue": "File /Users/klay6683/data/iuvs/HK_DB.h5 does not exist",
     "output_type": "error",
     "traceback": [
      "\u001b[0;31m---------------------------------------------------------------------------\u001b[0m",
      "\u001b[0;31mOSError\u001b[0m                                   Traceback (most recent call last)",
      "\u001b[0;32m<ipython-input-2-1cd1124114b8>\u001b[0m in \u001b[0;36m<module>\u001b[0;34m()\u001b[0m\n\u001b[0;32m----> 1\u001b[0;31m \u001b[0mhk\u001b[0m \u001b[0;34m=\u001b[0m \u001b[0mpd\u001b[0m\u001b[0;34m.\u001b[0m\u001b[0mread_hdf\u001b[0m\u001b[0;34m(\u001b[0m\u001b[0;34m'/Users/klay6683/data/iuvs/HK_DB.h5'\u001b[0m\u001b[0;34m,\u001b[0m \u001b[0;34m'df'\u001b[0m\u001b[0;34m)\u001b[0m\u001b[0;34m\u001b[0m\u001b[0m\n\u001b[0m",
      "\u001b[0;32m/Users/klay6683/miniconda3/lib/python3.4/site-packages/pandas/io/pytables.py\u001b[0m in \u001b[0;36mread_hdf\u001b[0;34m(path_or_buf, key, **kwargs)\u001b[0m\n\u001b[1;32m    312\u001b[0m \u001b[0;34m\u001b[0m\u001b[0m\n\u001b[1;32m    313\u001b[0m         \u001b[0;32mif\u001b[0m \u001b[0;32mnot\u001b[0m \u001b[0mexists\u001b[0m\u001b[0;34m:\u001b[0m\u001b[0;34m\u001b[0m\u001b[0m\n\u001b[0;32m--> 314\u001b[0;31m             \u001b[0;32mraise\u001b[0m \u001b[0mIOError\u001b[0m\u001b[0;34m(\u001b[0m\u001b[0;34m'File %s does not exist'\u001b[0m \u001b[0;34m%\u001b[0m \u001b[0mpath_or_buf\u001b[0m\u001b[0;34m)\u001b[0m\u001b[0;34m\u001b[0m\u001b[0m\n\u001b[0m\u001b[1;32m    315\u001b[0m \u001b[0;34m\u001b[0m\u001b[0m\n\u001b[1;32m    316\u001b[0m         \u001b[0;31m# can't auto open/close if we are using an iterator\u001b[0m\u001b[0;34m\u001b[0m\u001b[0;34m\u001b[0m\u001b[0m\n",
      "\u001b[0;31mOSError\u001b[0m: File /Users/klay6683/data/iuvs/HK_DB.h5 does not exist"
     ]
    }
   ],
   "source": [
    "hk = pd.read_hdf('/Users/klay6683/data/iuvs/HK_DB.h5', 'df')"
   ]
  },
  {
   "cell_type": "code",
   "execution_count": 3,
   "metadata": {
    "collapsed": true
   },
   "outputs": [],
   "source": [
    "df = hk.resample('1h').dropna()\n",
    "std = hk.resample('1h', how='std')"
   ]
  },
  {
   "cell_type": "code",
   "execution_count": 4,
   "metadata": {
    "collapsed": false
   },
   "outputs": [
    {
     "name": "stdout",
     "output_type": "stream",
     "text": [
      "<class 'pandas.core.frame.DataFrame'>\n",
      "DatetimeIndex: 9489 entries, 2013-12-16 00:00:00 to 2015-08-11 19:00:00\n",
      "Data columns (total 21 columns):\n",
      "FUV_CHIP_TEMP_C      9489 non-null float64\n",
      "FUV_DET_TEMP_C       9489 non-null float64\n",
      "FUV_INT_TEMP_C       9489 non-null float64\n",
      "GRAT_MOT_TEMP_C      9489 non-null float64\n",
      "HV_POWR_TEMP_C       9489 non-null float64\n",
      "IUVS_1_TEMP_C        9489 non-null float64\n",
      "IUVS_2_TEMP_C        9489 non-null float64\n",
      "IUVS_3_TEMP_C        9489 non-null float64\n",
      "IUVS_4_TEMP_C        9489 non-null float64\n",
      "IUVS_5_TEMP_C        9489 non-null float64\n",
      "MUV_CHIP_TEMP_C      9489 non-null float64\n",
      "MUV_DET_TEMP_C       9489 non-null float64\n",
      "MUV_INT_TEMP_C       9489 non-null float64\n",
      "OP_1_HTR_TEMP_C      9489 non-null float64\n",
      "OP_2_HTR_TEMP_C      9489 non-null float64\n",
      "POWER_BD1_TEMP_C     9489 non-null float64\n",
      "POWER_BD2_TEMP_C     9489 non-null float64\n",
      "PROC_BD_TEMP_C       9489 non-null float64\n",
      "SCAN_MOT_TEMP_C      9489 non-null float64\n",
      "ZONE_1_HTR_TEMP_C    9489 non-null float64\n",
      "ZONE_2_HTR_TEMP_C    9489 non-null float64\n",
      "dtypes: float64(21)\n",
      "memory usage: 1.6 MB\n"
     ]
    }
   ],
   "source": [
    "df.info()"
   ]
  },
  {
   "cell_type": "code",
   "execution_count": 5,
   "metadata": {
    "collapsed": false
   },
   "outputs": [],
   "source": [
    "fig, ax = plt.subplots(nrows=3, figsize=(10,10))\n",
    "df.filter(regex='^FUV_').plot(ax=ax[0], yerr=std)\n",
    "\n",
    "df.filter(regex='^MUV_').plot(ax=ax[1], yerr=std)\n",
    "\n",
    "df.filter(regex='^IUVS_._TEMP_C').plot(ax=ax[2],yerr =std)\n",
    "plt.tight_layout()"
   ]
  },
  {
   "cell_type": "code",
   "execution_count": 6,
   "metadata": {
    "collapsed": false
   },
   "outputs": [
    {
     "data": {
      "text/plain": [
       "array([<matplotlib.axes._subplots.AxesSubplot object at 0x1265b1748>,\n",
       "       <matplotlib.axes._subplots.AxesSubplot object at 0x12a569828>,\n",
       "       <matplotlib.axes._subplots.AxesSubplot object at 0x129cb7e10>,\n",
       "       <matplotlib.axes._subplots.AxesSubplot object at 0x12903e588>,\n",
       "       <matplotlib.axes._subplots.AxesSubplot object at 0x129461b70>], dtype=object)"
      ]
     },
     "execution_count": 6,
     "metadata": {},
     "output_type": "execute_result"
    }
   ],
   "source": [
    "df.filter(regex='^IUVS_._TEMP_C').plot(yerr=std, subplots=True)"
   ]
  },
  {
   "cell_type": "code",
   "execution_count": null,
   "metadata": {
    "collapsed": true
   },
   "outputs": [],
   "source": []
  },
  {
   "cell_type": "code",
   "execution_count": null,
   "metadata": {
    "collapsed": true
   },
   "outputs": [],
   "source": []
  },
  {
   "cell_type": "markdown",
   "metadata": {},
   "source": [
    "# Seaborn PairPlot"
   ]
  },
  {
   "cell_type": "code",
   "execution_count": null,
   "metadata": {
    "collapsed": true
   },
   "outputs": [],
   "source": [
    "g = sns.PairGrid(df.filter(regex='IUVS_._TEMP_C'))\n",
    "g.map_diag(sns.kdeplot)\n",
    "g.map_offdiag(sns.kdeplot, cmap=\"Blues_d\", n_levels=6)"
   ]
  },
  {
   "cell_type": "code",
   "execution_count": null,
   "metadata": {
    "collapsed": true
   },
   "outputs": [],
   "source": []
  },
  {
   "cell_type": "code",
   "execution_count": null,
   "metadata": {
    "collapsed": true
   },
   "outputs": [],
   "source": []
  },
  {
   "cell_type": "code",
   "execution_count": null,
   "metadata": {
    "collapsed": true
   },
   "outputs": [],
   "source": [
    "tips = sns.load_dataset('tips')"
   ]
  },
  {
   "cell_type": "code",
   "execution_count": null,
   "metadata": {
    "collapsed": false
   },
   "outputs": [],
   "source": [
    "tips.head()"
   ]
  },
  {
   "cell_type": "code",
   "execution_count": null,
   "metadata": {
    "collapsed": false
   },
   "outputs": [],
   "source": [
    "tips.day.value_counts().index"
   ]
  },
  {
   "cell_type": "code",
   "execution_count": null,
   "metadata": {
    "collapsed": true
   },
   "outputs": [],
   "source": [
    "attend = sns.load_dataset('attention').query('subject <=12')"
   ]
  },
  {
   "cell_type": "code",
   "execution_count": null,
   "metadata": {
    "collapsed": false
   },
   "outputs": [],
   "source": [
    "attend"
   ]
  },
  {
   "cell_type": "code",
   "execution_count": null,
   "metadata": {
    "collapsed": true
   },
   "outputs": [],
   "source": []
  }
 ],
 "metadata": {
  "kernelspec": {
   "display_name": "Python 3",
   "language": "python",
   "name": "python3"
  },
  "language_info": {
   "codemirror_mode": {
    "name": "ipython",
    "version": 3
   },
   "file_extension": ".py",
   "mimetype": "text/x-python",
   "name": "python",
   "nbconvert_exporter": "python",
   "pygments_lexer": "ipython3",
   "version": "3.4.3"
  }
 },
 "nbformat": 4,
 "nbformat_minor": 0
}

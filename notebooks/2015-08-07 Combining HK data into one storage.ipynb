{
 "cells": [
  {
   "cell_type": "code",
   "execution_count": 1,
   "metadata": {
    "collapsed": false
   },
   "outputs": [
    {
     "name": "stderr",
     "output_type": "stream",
     "text": [
      "WARNING:py.warnings:/usr/local/python3/miniconda/envs/py35/lib/python3.5/site-packages/matplotlib-1.5.0rc2+186.gf184f2d-py3.5-linux-x86_64.egg/matplotlib/__init__.py:876: UserWarning: axes.color_cycle is deprecated and replaced with axes.prop_cycle; please use the latter.\n",
      "  warnings.warn(self.msg_depr % (key, alt_key))\n",
      "\n"
     ]
    }
   ],
   "source": [
    "from iuvs import hk\n",
    "from iuvs.spice import load_kernels\n",
    "load_kernels()"
   ]
  },
  {
   "cell_type": "code",
   "execution_count": 2,
   "metadata": {
    "collapsed": true
   },
   "outputs": [],
   "source": [
    "from iuvs import io"
   ]
  },
  {
   "cell_type": "code",
   "execution_count": 3,
   "metadata": {
    "collapsed": false,
    "scrolled": true
   },
   "outputs": [
    {
     "data": {
      "text/html": [
       "<div>\n",
       "<table border=\"1\" class=\"dataframe\">\n",
       "  <thead>\n",
       "    <tr style=\"text-align: right;\">\n",
       "      <th></th>\n",
       "      <th>basename</th>\n",
       "      <th>channel</th>\n",
       "      <th>cycle_orbit</th>\n",
       "      <th>instrument</th>\n",
       "      <th>level</th>\n",
       "      <th>mission</th>\n",
       "      <th>mode</th>\n",
       "      <th>obs_id</th>\n",
       "      <th>orbit</th>\n",
       "      <th>p</th>\n",
       "      <th>phase</th>\n",
       "      <th>revision</th>\n",
       "      <th>root</th>\n",
       "      <th>timestr</th>\n",
       "      <th>tokens</th>\n",
       "      <th>version</th>\n",
       "      <th>version_string</th>\n",
       "    </tr>\n",
       "    <tr>\n",
       "      <th>time</th>\n",
       "      <th></th>\n",
       "      <th></th>\n",
       "      <th></th>\n",
       "      <th></th>\n",
       "      <th></th>\n",
       "      <th></th>\n",
       "      <th></th>\n",
       "      <th></th>\n",
       "      <th></th>\n",
       "      <th></th>\n",
       "      <th></th>\n",
       "      <th></th>\n",
       "      <th></th>\n",
       "      <th></th>\n",
       "      <th></th>\n",
       "      <th></th>\n",
       "      <th></th>\n",
       "    </tr>\n",
       "  </thead>\n",
       "  <tbody>\n",
       "    <tr>\n",
       "      <th>2014-04-02 16:54:08</th>\n",
       "      <td>mvn_iuv_l1a_cruisecal1-mode011-muvdark_2014040...</td>\n",
       "      <td>muvdark</td>\n",
       "      <td>mode011</td>\n",
       "      <td>iuv</td>\n",
       "      <td>l1a</td>\n",
       "      <td>mvn</td>\n",
       "      <td>N/A</td>\n",
       "      <td>mvn_iuv_l1a_cruisecal1-mode011-muvdark_2014040...</td>\n",
       "      <td>NaN</td>\n",
       "      <td>/maven_iuvs/stage/products/level1a/mvn_iuv_l1a...</td>\n",
       "      <td>cruisecal1</td>\n",
       "      <td>r01</td>\n",
       "      <td>/maven_iuvs/stage/products/level1a</td>\n",
       "      <td>20140402T165408</td>\n",
       "      <td>[mvn, iuv, l1a, cruisecal1-mode011-muvdark, 20...</td>\n",
       "      <td>v01</td>\n",
       "      <td>v01r01</td>\n",
       "    </tr>\n",
       "    <tr>\n",
       "      <th>2014-04-02 16:54:19</th>\n",
       "      <td>mvn_iuv_l1a_cruisecal1-mode011-fuv_20140402T16...</td>\n",
       "      <td>fuv</td>\n",
       "      <td>mode011</td>\n",
       "      <td>iuv</td>\n",
       "      <td>l1a</td>\n",
       "      <td>mvn</td>\n",
       "      <td>N/A</td>\n",
       "      <td>mvn_iuv_l1a_cruisecal1-mode011-fuv_20140402T16...</td>\n",
       "      <td>NaN</td>\n",
       "      <td>/maven_iuvs/stage/products/level1a/mvn_iuv_l1a...</td>\n",
       "      <td>cruisecal1</td>\n",
       "      <td>r01</td>\n",
       "      <td>/maven_iuvs/stage/products/level1a</td>\n",
       "      <td>20140402T165419</td>\n",
       "      <td>[mvn, iuv, l1a, cruisecal1-mode011-fuv, 201404...</td>\n",
       "      <td>v01</td>\n",
       "      <td>v01r01</td>\n",
       "    </tr>\n",
       "    <tr>\n",
       "      <th>2014-04-02 16:54:19</th>\n",
       "      <td>mvn_iuv_l1a_cruisecal1-mode011-muv_20140402T16...</td>\n",
       "      <td>muv</td>\n",
       "      <td>mode011</td>\n",
       "      <td>iuv</td>\n",
       "      <td>l1a</td>\n",
       "      <td>mvn</td>\n",
       "      <td>N/A</td>\n",
       "      <td>mvn_iuv_l1a_cruisecal1-mode011-muv_20140402T16...</td>\n",
       "      <td>NaN</td>\n",
       "      <td>/maven_iuvs/stage/products/level1a/mvn_iuv_l1a...</td>\n",
       "      <td>cruisecal1</td>\n",
       "      <td>r01</td>\n",
       "      <td>/maven_iuvs/stage/products/level1a</td>\n",
       "      <td>20140402T165419</td>\n",
       "      <td>[mvn, iuv, l1a, cruisecal1-mode011-muv, 201404...</td>\n",
       "      <td>v01</td>\n",
       "      <td>v01r01</td>\n",
       "    </tr>\n",
       "    <tr>\n",
       "      <th>2014-04-02 17:12:32</th>\n",
       "      <td>mvn_iuv_l1a_cruisecal1-mode011-fuv_20140402T17...</td>\n",
       "      <td>fuv</td>\n",
       "      <td>mode011</td>\n",
       "      <td>iuv</td>\n",
       "      <td>l1a</td>\n",
       "      <td>mvn</td>\n",
       "      <td>N/A</td>\n",
       "      <td>mvn_iuv_l1a_cruisecal1-mode011-fuv_20140402T17...</td>\n",
       "      <td>NaN</td>\n",
       "      <td>/maven_iuvs/stage/products/level1a/mvn_iuv_l1a...</td>\n",
       "      <td>cruisecal1</td>\n",
       "      <td>r01</td>\n",
       "      <td>/maven_iuvs/stage/products/level1a</td>\n",
       "      <td>20140402T171232</td>\n",
       "      <td>[mvn, iuv, l1a, cruisecal1-mode011-fuv, 201404...</td>\n",
       "      <td>v01</td>\n",
       "      <td>v01r01</td>\n",
       "    </tr>\n",
       "    <tr>\n",
       "      <th>2014-04-02 17:12:32</th>\n",
       "      <td>mvn_iuv_l1a_cruisecal1-mode011-muv_20140402T17...</td>\n",
       "      <td>muv</td>\n",
       "      <td>mode011</td>\n",
       "      <td>iuv</td>\n",
       "      <td>l1a</td>\n",
       "      <td>mvn</td>\n",
       "      <td>N/A</td>\n",
       "      <td>mvn_iuv_l1a_cruisecal1-mode011-muv_20140402T17...</td>\n",
       "      <td>NaN</td>\n",
       "      <td>/maven_iuvs/stage/products/level1a/mvn_iuv_l1a...</td>\n",
       "      <td>cruisecal1</td>\n",
       "      <td>r01</td>\n",
       "      <td>/maven_iuvs/stage/products/level1a</td>\n",
       "      <td>20140402T171232</td>\n",
       "      <td>[mvn, iuv, l1a, cruisecal1-mode011-muv, 201404...</td>\n",
       "      <td>v01</td>\n",
       "      <td>v01r01</td>\n",
       "    </tr>\n",
       "  </tbody>\n",
       "</table>\n",
       "</div>"
      ],
      "text/plain": [
       "                                                              basename  \\\n",
       "time                                                                     \n",
       "2014-04-02 16:54:08  mvn_iuv_l1a_cruisecal1-mode011-muvdark_2014040...   \n",
       "2014-04-02 16:54:19  mvn_iuv_l1a_cruisecal1-mode011-fuv_20140402T16...   \n",
       "2014-04-02 16:54:19  mvn_iuv_l1a_cruisecal1-mode011-muv_20140402T16...   \n",
       "2014-04-02 17:12:32  mvn_iuv_l1a_cruisecal1-mode011-fuv_20140402T17...   \n",
       "2014-04-02 17:12:32  mvn_iuv_l1a_cruisecal1-mode011-muv_20140402T17...   \n",
       "\n",
       "                     channel cycle_orbit instrument level mission mode  \\\n",
       "time                                                                     \n",
       "2014-04-02 16:54:08  muvdark     mode011        iuv   l1a     mvn  N/A   \n",
       "2014-04-02 16:54:19      fuv     mode011        iuv   l1a     mvn  N/A   \n",
       "2014-04-02 16:54:19      muv     mode011        iuv   l1a     mvn  N/A   \n",
       "2014-04-02 17:12:32      fuv     mode011        iuv   l1a     mvn  N/A   \n",
       "2014-04-02 17:12:32      muv     mode011        iuv   l1a     mvn  N/A   \n",
       "\n",
       "                                                                obs_id  orbit  \\\n",
       "time                                                                            \n",
       "2014-04-02 16:54:08  mvn_iuv_l1a_cruisecal1-mode011-muvdark_2014040...    NaN   \n",
       "2014-04-02 16:54:19  mvn_iuv_l1a_cruisecal1-mode011-fuv_20140402T16...    NaN   \n",
       "2014-04-02 16:54:19  mvn_iuv_l1a_cruisecal1-mode011-muv_20140402T16...    NaN   \n",
       "2014-04-02 17:12:32  mvn_iuv_l1a_cruisecal1-mode011-fuv_20140402T17...    NaN   \n",
       "2014-04-02 17:12:32  mvn_iuv_l1a_cruisecal1-mode011-muv_20140402T17...    NaN   \n",
       "\n",
       "                                                                     p  \\\n",
       "time                                                                     \n",
       "2014-04-02 16:54:08  /maven_iuvs/stage/products/level1a/mvn_iuv_l1a...   \n",
       "2014-04-02 16:54:19  /maven_iuvs/stage/products/level1a/mvn_iuv_l1a...   \n",
       "2014-04-02 16:54:19  /maven_iuvs/stage/products/level1a/mvn_iuv_l1a...   \n",
       "2014-04-02 17:12:32  /maven_iuvs/stage/products/level1a/mvn_iuv_l1a...   \n",
       "2014-04-02 17:12:32  /maven_iuvs/stage/products/level1a/mvn_iuv_l1a...   \n",
       "\n",
       "                          phase revision                                root  \\\n",
       "time                                                                           \n",
       "2014-04-02 16:54:08  cruisecal1      r01  /maven_iuvs/stage/products/level1a   \n",
       "2014-04-02 16:54:19  cruisecal1      r01  /maven_iuvs/stage/products/level1a   \n",
       "2014-04-02 16:54:19  cruisecal1      r01  /maven_iuvs/stage/products/level1a   \n",
       "2014-04-02 17:12:32  cruisecal1      r01  /maven_iuvs/stage/products/level1a   \n",
       "2014-04-02 17:12:32  cruisecal1      r01  /maven_iuvs/stage/products/level1a   \n",
       "\n",
       "                             timestr  \\\n",
       "time                                   \n",
       "2014-04-02 16:54:08  20140402T165408   \n",
       "2014-04-02 16:54:19  20140402T165419   \n",
       "2014-04-02 16:54:19  20140402T165419   \n",
       "2014-04-02 17:12:32  20140402T171232   \n",
       "2014-04-02 17:12:32  20140402T171232   \n",
       "\n",
       "                                                                tokens  \\\n",
       "time                                                                     \n",
       "2014-04-02 16:54:08  [mvn, iuv, l1a, cruisecal1-mode011-muvdark, 20...   \n",
       "2014-04-02 16:54:19  [mvn, iuv, l1a, cruisecal1-mode011-fuv, 201404...   \n",
       "2014-04-02 16:54:19  [mvn, iuv, l1a, cruisecal1-mode011-muv, 201404...   \n",
       "2014-04-02 17:12:32  [mvn, iuv, l1a, cruisecal1-mode011-fuv, 201404...   \n",
       "2014-04-02 17:12:32  [mvn, iuv, l1a, cruisecal1-mode011-muv, 201404...   \n",
       "\n",
       "                    version version_string  \n",
       "time                                        \n",
       "2014-04-02 16:54:08     v01         v01r01  \n",
       "2014-04-02 16:54:19     v01         v01r01  \n",
       "2014-04-02 16:54:19     v01         v01r01  \n",
       "2014-04-02 17:12:32     v01         v01r01  \n",
       "2014-04-02 17:12:32     v01         v01r01  "
      ]
     },
     "execution_count": 3,
     "metadata": {},
     "output_type": "execute_result"
    }
   ],
   "source": [
    "df = io.get_filename_df('l1a', env='stage')\n",
    "df = df['2014':'2015']\n",
    "df.head()"
   ]
  },
  {
   "cell_type": "code",
   "execution_count": 4,
   "metadata": {
    "collapsed": true
   },
   "outputs": [],
   "source": [
    "from iuvs import meta"
   ]
  },
  {
   "cell_type": "code",
   "execution_count": 5,
   "metadata": {
    "collapsed": true
   },
   "outputs": [],
   "source": [
    "l1asum = meta.l1a_summary()"
   ]
  },
  {
   "cell_type": "code",
   "execution_count": 137,
   "metadata": {
    "collapsed": false
   },
   "outputs": [],
   "source": [
    "l1asum['orbit'] = l1asum.filename.map(lambda x: io.ScienceFilename(x).orbit)"
   ]
  },
  {
   "cell_type": "code",
   "execution_count": 141,
   "metadata": {
    "collapsed": true
   },
   "outputs": [],
   "source": [
    "l1asum['time'] = l1asum.filename.map(lambda x: io.ScienceFilename(x).time)"
   ]
  },
  {
   "cell_type": "code",
   "execution_count": 142,
   "metadata": {
    "collapsed": true
   },
   "outputs": [],
   "source": [
    "l1asum.set_index('time', inplace=True)"
   ]
  },
  {
   "cell_type": "code",
   "execution_count": 138,
   "metadata": {
    "collapsed": false
   },
   "outputs": [
    {
     "data": {
      "text/plain": [
       "Index(['filename', 'OBS_ID', 'XUV', 'INT_TIME', 'NX', 'NY', 'NZ', 'X1', 'X2',\n",
       "       'Y1', 'Y2', 'BINX', 'BINY', 'MCP_HV', 'SHUT_STATE', 'PHASE', 'MODE',\n",
       "       'CYCLE', 'DET_TEMP', 'CASE_TEMP', 'FOV_DEG', 'STIM_STATE', 'FILL_BINS',\n",
       "       'TARGET', 'PURPOSE', 'ScienceFilename', 'orbit'],\n",
       "      dtype='object')"
      ]
     },
     "execution_count": 138,
     "metadata": {},
     "output_type": "execute_result"
    }
   ],
   "source": [
    "l1asum.columns"
   ]
  },
  {
   "cell_type": "code",
   "execution_count": 139,
   "metadata": {
    "collapsed": true
   },
   "outputs": [],
   "source": [
    "%matplotlib inline"
   ]
  },
  {
   "cell_type": "code",
   "execution_count": 143,
   "metadata": {
    "collapsed": false
   },
   "outputs": [
    {
     "data": {
      "text/plain": [
       "<matplotlib.axes._subplots.AxesSubplot at 0x7f1072fb9be0>"
      ]
     },
     "execution_count": 143,
     "metadata": {},
     "output_type": "execute_result"
    },
    {
     "data": {
      "image/png": "[encoded data removed]",
      "text/plain": [
       "<matplotlib.figure.Figure at 0x7f1072fae2e8>"
      ]
     },
     "metadata": {},
     "output_type": "display_data"
    }
   ],
   "source": [
    "l1asum.orbit.plot(style='*')"
   ]
  },
  {
   "cell_type": "code",
   "execution_count": 125,
   "metadata": {
    "collapsed": false
   },
   "outputs": [
    {
     "data": {
      "text/plain": [
       "<matplotlib.axes._subplots.AxesSubplot at 0x7f107754cc50>"
      ]
     },
     "execution_count": 125,
     "metadata": {},
     "output_type": "execute_result"
    },
    {
     "data": {
      "image/png": "[encoded data removed]",
      "text/plain": [
       "<matplotlib.figure.Figure at 0x7f1076fd65c0>"
      ]
     },
     "metadata": {},
     "output_type": "display_data"
    }
   ],
   "source": [
    "df.orbit.plot(style='*')"
   ]
  },
  {
   "cell_type": "code",
   "execution_count": 9,
   "metadata": {
    "collapsed": false
   },
   "outputs": [],
   "source": [
    "def process_hk_fname(fname):\n",
    "    hkfile = hk.HKReader(str(fname))\n",
    "    hkfile.temp_df.to_hdf('/home/klay6683/to_keep/HK_DB_stage.h5', 'df', mode='a',\n",
    "                      format='table', append=True)"
   ]
  },
  {
   "cell_type": "code",
   "execution_count": 8,
   "metadata": {
    "collapsed": true
   },
   "outputs": [],
   "source": [
    "currenthknames = io.get_current_hk_fnames(env='stage')"
   ]
  },
  {
   "cell_type": "code",
   "execution_count": 10,
   "metadata": {
    "collapsed": false,
    "scrolled": false
   },
   "outputs": [],
   "source": [
    "from IPython.display import display\n",
    "from ipywidgets import FloatText\n",
    "ft = FloatText()\n",
    "display(ft)\n",
    "for i,fname in enumerate(currenthknames):\n",
    "    ft.value = round(i*100/len(currenthknames), 1)\n",
    "    process_hk_fname(fname)"
   ]
  },
  {
   "cell_type": "code",
   "execution_count": 38,
   "metadata": {
    "collapsed": false
   },
   "outputs": [],
   "source": [
    "from pathlib import Path\n",
    "dbpath = Path('/home/klay6683/to_keep/HK_DB_stage.h5')\n",
    "timestring = '20150101'\n",
    "with pd.HDFStore(str(dbpath)) as store:\n",
    "    c = store.select_column('df', 'index')\n",
    "    where = c[pd.DatetimeIndex(c).date==pd.Timestamp(timestring).date()].index\n",
    "    data = store.select('df', where=where)"
   ]
  },
  {
   "cell_type": "code",
   "execution_count": 40,
   "metadata": {
    "collapsed": false
   },
   "outputs": [],
   "source": [
    "instr_temps = ['FUV_CHIP_TEMP_C',\n",
    "               'FUV_DET_TEMP_C',\n",
    "               'FUV_INT_TEMP_C',\n",
    "               'MUV_CHIP_TEMP_C',\n",
    "               'MUV_DET_TEMP_C',\n",
    "               'MUV_INT_TEMP_C']\n",
    "\n",
    "iuvs_temps = ['IUVS_1_TEMP_C',\n",
    "              'IUVS_2_TEMP_C',\n",
    "              'IUVS_3_TEMP_C',\n",
    "              'IUVS_4_TEMP_C']\n",
    "\n",
    "htr_mot_temps = ['ZONE_1_HTR_TEMP_C', 'ZONE_2_HTR_TEMP_C',\n",
    "                 'HV_POWR_TEMP_C', 'GRAT_MOT_TEMP_C', 'SCAN_MOT_TEMP_C']\n"
   ]
  },
  {
   "cell_type": "code",
   "execution_count": 42,
   "metadata": {
    "collapsed": false,
    "scrolled": true
   },
   "outputs": [
    {
     "data": {
      "text/plain": [
       "{'IUVS_5_TEMP_C',\n",
       " 'OP_1_HTR_TEMP_C',\n",
       " 'OP_2_HTR_TEMP_C',\n",
       " 'POWER_BD1_TEMP_C',\n",
       " 'POWER_BD2_TEMP_C',\n",
       " 'PROC_BD_TEMP_C'}"
      ]
     },
     "execution_count": 42,
     "metadata": {},
     "output_type": "execute_result"
    }
   ],
   "source": [
    "set(data.columns) - set(instr_temps) - set(iuvs_temps) - set(htr_mot_temps)"
   ]
  },
  {
   "cell_type": "code",
   "execution_count": 42,
   "metadata": {
    "collapsed": false
   },
   "outputs": [],
   "source": [
    "s = dtindex.to_series()"
   ]
  },
  {
   "cell_type": "code",
   "execution_count": 43,
   "metadata": {
    "collapsed": false
   },
   "outputs": [
    {
     "data": {
      "text/plain": [
       "DatetimeIndex(['2015-10-25', '2015-10-26', '2015-10-27', '2015-10-28',\n",
       "               '2015-10-29', '2015-10-30'],\n",
       "              dtype='datetime64[ns]', freq=None)"
      ]
     },
     "execution_count": 43,
     "metadata": {},
     "output_type": "execute_result"
    }
   ],
   "source": [
    "pd.DatetimeIndex(s)"
   ]
  },
  {
   "cell_type": "code",
   "execution_count": 57,
   "metadata": {
    "collapsed": false
   },
   "outputs": [],
   "source": [
    "diff = pd.DatetimeIndex(pd.read_hdf(str(dbpath.parent / 'current_datediff.hdf')))"
   ]
  },
  {
   "cell_type": "code",
   "execution_count": 60,
   "metadata": {
    "collapsed": false
   },
   "outputs": [
    {
     "data": {
      "text/plain": [
       "0"
      ]
     },
     "execution_count": 60,
     "metadata": {},
     "output_type": "execute_result"
    }
   ],
   "source": [
    "len(diff)"
   ]
  },
  {
   "cell_type": "code",
   "execution_count": 56,
   "metadata": {
    "collapsed": false
   },
   "outputs": [
    {
     "name": "stdout",
     "output_type": "stream",
     "text": [
      "2015-10-25 /maven_iuvs/stage/products/housekeeping/level1a/mvn_iuv_analog_l0_20151025_v001.fits.gz\n",
      "2015-10-26 /maven_iuvs/stage/products/housekeeping/level1a/mvn_iuv_analog_l0_20151026_v001.fits.gz\n",
      "2015-10-27 /maven_iuvs/stage/products/housekeeping/level1a/mvn_iuv_analog_l0_20151027_v002.fits.gz\n",
      "2015-10-28 /maven_iuvs/stage/products/housekeeping/level1a/mvn_iuv_analog_l0_20151028_v001.fits.gz\n",
      "2015-10-29 /maven_iuvs/stage/products/housekeeping/level1a/mvn_iuv_analog_l0_20151029_v001.fits.gz\n",
      "2015-10-30 /maven_iuvs/stage/products/housekeeping/level1a/mvn_iuv_analog_l0_20151030_v001.fits.gz\n"
     ]
    }
   ],
   "source": [
    "for index, row in hkfname_df.loc[diff].iterrows():\n",
    "    print(index.date(), row.p)"
   ]
  },
  {
   "cell_type": "code",
   "execution_count": null,
   "metadata": {
    "collapsed": true
   },
   "outputs": [],
   "source": []
  },
  {
   "cell_type": "code",
   "execution_count": 12,
   "metadata": {
    "collapsed": false
   },
   "outputs": [
    {
     "data": {
      "text/plain": [
       "{'basename': 'mvn_iuv_analog_l0_20151030_v001.fits.gz',\n",
       " 'datestring': '20151030',\n",
       " 'instrument': 'iuv',\n",
       " 'kind': 'analog',\n",
       " 'level': 'l0',\n",
       " 'mission': 'mvn',\n",
       " 'obs_id': 'mvn_iuv_analog_l0_20151030',\n",
       " 'p': PosixPath('/maven_iuvs/stage/products/housekeeping/level1a/mvn_iuv_analog_l0_20151030_v001.fits.gz'),\n",
       " 'root': PosixPath('/maven_iuvs/stage/products/housekeeping/level1a'),\n",
       " 'time': datetime.datetime(2015, 10, 30, 0, 0),\n",
       " 'tokens': ['mvn', 'iuv', 'analog', 'l0', '20151030', 'v001.fits.gz'],\n",
       " 'version': 'v001'}"
      ]
     },
     "execution_count": 12,
     "metadata": {},
     "output_type": "execute_result"
    }
   ],
   "source": [
    "hkfilename.__dict__"
   ]
  },
  {
   "cell_type": "code",
   "execution_count": null,
   "metadata": {
    "collapsed": true
   },
   "outputs": [],
   "source": []
  }
 ],
 "metadata": {
  "kernelspec": {
   "display_name": "Python 3",
   "language": "python",
   "name": "python3"
  },
  "language_info": {
   "codemirror_mode": {
    "name": "ipython",
    "version": 3
   },
   "file_extension": ".py",
   "mimetype": "text/x-python",
   "name": "python",
   "nbconvert_exporter": "python",
   "pygments_lexer": "ipython3",
   "version": "3.5.0"
  }
 },
 "nbformat": 4,
 "nbformat_minor": 0
}

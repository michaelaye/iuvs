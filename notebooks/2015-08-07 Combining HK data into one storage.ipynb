{
 "cells": [
  {
   "cell_type": "code",
   "execution_count": 1,
   "metadata": {
    "collapsed": false
   },
   "outputs": [],
   "source": [
    "from iuvs import hk\n",
    "from iuvs.spice import load_kernels\n",
    "load_kernels()"
   ]
  },
  {
   "cell_type": "code",
   "execution_count": 1,
   "metadata": {
    "collapsed": true
   },
   "outputs": [],
   "source": [
    "from iuvs import io"
   ]
  },
  {
   "cell_type": "code",
   "execution_count": 2,
   "metadata": {
    "collapsed": false
   },
   "outputs": [
    {
     "data": {
      "text/plain": [
       "PosixPath('/maven_iuvs/stage/products/housekeeping/level1a')"
      ]
     },
     "execution_count": 2,
     "metadata": {},
     "output_type": "execute_result"
    }
   ],
   "source": [
    "io.stagehkpath"
   ]
  },
  {
   "cell_type": "code",
   "execution_count": 3,
   "metadata": {
    "collapsed": false
   },
   "outputs": [
    {
     "data": {
      "text/plain": [
       "PosixPath('/maven_iuvs/production/products/housekeeping/level1a')"
      ]
     },
     "execution_count": 3,
     "metadata": {},
     "output_type": "execute_result"
    }
   ],
   "source": [
    "io.productionhkpath"
   ]
  },
  {
   "cell_type": "code",
   "execution_count": 5,
   "metadata": {
    "collapsed": true
   },
   "outputs": [],
   "source": [
    "stagehks = io.get_current_hk_fnames(env='stage')"
   ]
  },
  {
   "cell_type": "code",
   "execution_count": 6,
   "metadata": {
    "collapsed": true
   },
   "outputs": [],
   "source": [
    "prodhks = io.get_current_hk_fnames(env='production')"
   ]
  },
  {
   "cell_type": "code",
   "execution_count": 13,
   "metadata": {
    "collapsed": false
   },
   "outputs": [
    {
     "data": {
      "text/plain": [
       "obs_id\n",
       "mvn_iuv_analog_l0_20000101    /maven_iuvs/stage/products/housekeeping/level1...\n",
       "mvn_iuv_analog_l0_20131216    /maven_iuvs/stage/products/housekeeping/level1...\n",
       "mvn_iuv_analog_l0_20140402    /maven_iuvs/stage/products/housekeeping/level1...\n",
       "mvn_iuv_analog_l0_20140403    /maven_iuvs/stage/products/housekeeping/level1...\n",
       "mvn_iuv_analog_l0_20140404    /maven_iuvs/stage/products/housekeeping/level1...\n",
       "mvn_iuv_analog_l0_20140405    /maven_iuvs/stage/products/housekeeping/level1...\n",
       "mvn_iuv_analog_l0_20140406    /maven_iuvs/stage/products/housekeeping/level1...\n",
       "mvn_iuv_analog_l0_20140407    /maven_iuvs/stage/products/housekeeping/level1...\n",
       "mvn_iuv_analog_l0_20140408    /maven_iuvs/stage/products/housekeeping/level1...\n",
       "mvn_iuv_analog_l0_20140409    /maven_iuvs/stage/products/housekeeping/level1...\n",
       "mvn_iuv_analog_l0_20140410    /maven_iuvs/stage/products/housekeeping/level1...\n",
       "mvn_iuv_analog_l0_20140411    /maven_iuvs/stage/products/housekeeping/level1...\n",
       "mvn_iuv_analog_l0_20140412    /maven_iuvs/stage/products/housekeeping/level1...\n",
       "mvn_iuv_analog_l0_20140413    /maven_iuvs/stage/products/housekeeping/level1...\n",
       "mvn_iuv_analog_l0_20140414    /maven_iuvs/stage/products/housekeeping/level1...\n",
       "mvn_iuv_analog_l0_20140415    /maven_iuvs/stage/products/housekeeping/level1...\n",
       "mvn_iuv_analog_l0_20140416    /maven_iuvs/stage/products/housekeeping/level1...\n",
       "mvn_iuv_analog_l0_20140417    /maven_iuvs/stage/products/housekeeping/level1...\n",
       "mvn_iuv_analog_l0_20140418    /maven_iuvs/stage/products/housekeeping/level1...\n",
       "mvn_iuv_analog_l0_20140419    /maven_iuvs/stage/products/housekeeping/level1...\n",
       "mvn_iuv_analog_l0_20140420    /maven_iuvs/stage/products/housekeeping/level1...\n",
       "mvn_iuv_analog_l0_20140421    /maven_iuvs/stage/products/housekeeping/level1...\n",
       "mvn_iuv_analog_l0_20140422    /maven_iuvs/stage/products/housekeeping/level1...\n",
       "mvn_iuv_analog_l0_20140423    /maven_iuvs/stage/products/housekeeping/level1...\n",
       "mvn_iuv_analog_l0_20140424    /maven_iuvs/stage/products/housekeeping/level1...\n",
       "mvn_iuv_analog_l0_20140425    /maven_iuvs/stage/products/housekeeping/level1...\n",
       "mvn_iuv_analog_l0_20140426    /maven_iuvs/stage/products/housekeeping/level1...\n",
       "mvn_iuv_analog_l0_20140427    /maven_iuvs/stage/products/housekeeping/level1...\n",
       "mvn_iuv_analog_l0_20140428    /maven_iuvs/stage/products/housekeeping/level1...\n",
       "mvn_iuv_analog_l0_20140429    /maven_iuvs/stage/products/housekeeping/level1...\n",
       "                                                    ...                        \n",
       "mvn_iuv_analog_l0_20150917    /maven_iuvs/stage/products/housekeeping/level1...\n",
       "mvn_iuv_analog_l0_20150918    /maven_iuvs/stage/products/housekeeping/level1...\n",
       "mvn_iuv_analog_l0_20150919    /maven_iuvs/stage/products/housekeeping/level1...\n",
       "mvn_iuv_analog_l0_20150920    /maven_iuvs/stage/products/housekeeping/level1...\n",
       "mvn_iuv_analog_l0_20150921    /maven_iuvs/stage/products/housekeeping/level1...\n",
       "mvn_iuv_analog_l0_20150922    /maven_iuvs/stage/products/housekeeping/level1...\n",
       "mvn_iuv_analog_l0_20150923    /maven_iuvs/stage/products/housekeeping/level1...\n",
       "mvn_iuv_analog_l0_20150924    /maven_iuvs/stage/products/housekeeping/level1...\n",
       "mvn_iuv_analog_l0_20150925    /maven_iuvs/stage/products/housekeeping/level1...\n",
       "mvn_iuv_analog_l0_20150926    /maven_iuvs/stage/products/housekeeping/level1...\n",
       "mvn_iuv_analog_l0_20150929    /maven_iuvs/stage/products/housekeeping/level1...\n",
       "mvn_iuv_analog_l0_20151002    /maven_iuvs/stage/products/housekeeping/level1...\n",
       "mvn_iuv_analog_l0_20151003    /maven_iuvs/stage/products/housekeeping/level1...\n",
       "mvn_iuv_analog_l0_20151004    /maven_iuvs/stage/products/housekeeping/level1...\n",
       "mvn_iuv_analog_l0_20151005    /maven_iuvs/stage/products/housekeeping/level1...\n",
       "mvn_iuv_analog_l0_20151006    /maven_iuvs/stage/products/housekeeping/level1...\n",
       "mvn_iuv_analog_l0_20151007    /maven_iuvs/stage/products/housekeeping/level1...\n",
       "mvn_iuv_analog_l0_20151008    /maven_iuvs/stage/products/housekeeping/level1...\n",
       "mvn_iuv_analog_l0_20151009    /maven_iuvs/stage/products/housekeeping/level1...\n",
       "mvn_iuv_analog_l0_20151010    /maven_iuvs/stage/products/housekeeping/level1...\n",
       "mvn_iuv_analog_l0_20151011    /maven_iuvs/stage/products/housekeeping/level1...\n",
       "mvn_iuv_analog_l0_20151012    /maven_iuvs/stage/products/housekeeping/level1...\n",
       "mvn_iuv_analog_l0_20151013    /maven_iuvs/stage/products/housekeeping/level1...\n",
       "mvn_iuv_analog_l0_20151014    /maven_iuvs/stage/products/housekeeping/level1...\n",
       "mvn_iuv_analog_l0_20151015    /maven_iuvs/stage/products/housekeeping/level1...\n",
       "mvn_iuv_analog_l0_20151016    /maven_iuvs/stage/products/housekeeping/level1...\n",
       "mvn_iuv_analog_l0_20151017    /maven_iuvs/stage/products/housekeeping/level1...\n",
       "mvn_iuv_analog_l0_20151018    /maven_iuvs/stage/products/housekeeping/level1...\n",
       "mvn_iuv_analog_l0_20151019    /maven_iuvs/stage/products/housekeeping/level1...\n",
       "mvn_iuv_analog_l0_20151020    /maven_iuvs/stage/products/housekeeping/level1...\n",
       "Name: p, dtype: object"
      ]
     },
     "execution_count": 13,
     "metadata": {},
     "output_type": "execute_result"
    }
   ],
   "source": [
    "stagehks"
   ]
  },
  {
   "cell_type": "code",
   "execution_count": 10,
   "metadata": {
    "collapsed": false
   },
   "outputs": [
    {
     "data": {
      "text/plain": [
       "Index(['mvn_iuv_analog_l0_20000101', 'mvn_iuv_analog_l0_20131204',\n",
       "       'mvn_iuv_analog_l0_20131211', 'mvn_iuv_analog_l0_20131212',\n",
       "       'mvn_iuv_analog_l0_20131213', 'mvn_iuv_analog_l0_20131214',\n",
       "       'mvn_iuv_analog_l0_20131215', 'mvn_iuv_analog_l0_20131216',\n",
       "       'mvn_iuv_analog_l0_20140402', 'mvn_iuv_analog_l0_20140403',\n",
       "       ...\n",
       "       'mvn_iuv_analog_l0_20151004', 'mvn_iuv_analog_l0_20151005',\n",
       "       'mvn_iuv_analog_l0_20151006', 'mvn_iuv_analog_l0_20151007',\n",
       "       'mvn_iuv_analog_l0_20151008', 'mvn_iuv_analog_l0_20151009',\n",
       "       'mvn_iuv_analog_l0_20151010', 'mvn_iuv_analog_l0_20151011',\n",
       "       'mvn_iuv_analog_l0_20151012', 'mvn_iuv_analog_l0_20151013'],\n",
       "      dtype='object', name='obs_id', length=418)"
      ]
     },
     "execution_count": 10,
     "metadata": {},
     "output_type": "execute_result"
    }
   ],
   "source": [
    "prodhks.index"
   ]
  },
  {
   "cell_type": "code",
   "execution_count": 2,
   "metadata": {
    "collapsed": false
   },
   "outputs": [],
   "source": [
    "currenthknames = io.get_current_hk_fnames()"
   ]
  },
  {
   "cell_type": "code",
   "execution_count": 4,
   "metadata": {
    "collapsed": false
   },
   "outputs": [],
   "source": [
    "def process_hk_fname(fname):\n",
    "    hkfile = hk.HKReader(str(fname))\n",
    "    if hkfile.temp_df.index.year == 2000:\n",
    "        print(fname)\n",
    "#     hkfile.temp_df.to_hdf('/home/klay6683/to_keep/HK_DB.h5', 'df', mode='a',\n",
    "#                       format='table', append=True)"
   ]
  },
  {
   "cell_type": "code",
   "execution_count": 5,
   "metadata": {
    "collapsed": false,
    "scrolled": false
   },
   "outputs": [
    {
     "name": "stdout",
     "output_type": "stream",
     "text": [
      "0.0\n",
      "/maven_iuvs/stage/products/housekeeping/level1a/mvn_iuv_analog_l0_20000101_v003.fits.gz\n",
      "0.21052631578947367\n"
     ]
    },
    {
     "ename": "ValueError",
     "evalue": "The truth value of an array with more than one element is ambiguous. Use a.any() or a.all()",
     "output_type": "error",
     "traceback": [
      "\u001b[1;31m---------------------------------------------------------------------------\u001b[0m",
      "\u001b[1;31mValueError\u001b[0m                                Traceback (most recent call last)",
      "\u001b[1;32m<ipython-input-5-37c5c4bcf704>\u001b[0m in \u001b[0;36m<module>\u001b[1;34m()\u001b[0m\n\u001b[0;32m      1\u001b[0m \u001b[1;32mfor\u001b[0m \u001b[0mi\u001b[0m\u001b[1;33m,\u001b[0m\u001b[0mfname\u001b[0m \u001b[1;32min\u001b[0m \u001b[0menumerate\u001b[0m\u001b[1;33m(\u001b[0m\u001b[0mcurrenthknames\u001b[0m\u001b[1;33m)\u001b[0m\u001b[1;33m:\u001b[0m\u001b[1;33m\u001b[0m\u001b[0m\n\u001b[0;32m      2\u001b[0m     \u001b[0mprint\u001b[0m\u001b[1;33m(\u001b[0m\u001b[0mi\u001b[0m\u001b[1;33m*\u001b[0m\u001b[1;36m100\u001b[0m\u001b[1;33m/\u001b[0m\u001b[0mlen\u001b[0m\u001b[1;33m(\u001b[0m\u001b[0mcurrenthknames\u001b[0m\u001b[1;33m)\u001b[0m\u001b[1;33m)\u001b[0m\u001b[1;33m\u001b[0m\u001b[0m\n\u001b[1;32m----> 3\u001b[1;33m     \u001b[0mprocess_hk_fname\u001b[0m\u001b[1;33m(\u001b[0m\u001b[0mfname\u001b[0m\u001b[1;33m)\u001b[0m\u001b[1;33m\u001b[0m\u001b[0m\n\u001b[0m",
      "\u001b[1;32m<ipython-input-4-c0440177305d>\u001b[0m in \u001b[0;36mprocess_hk_fname\u001b[1;34m(fname)\u001b[0m\n\u001b[0;32m      1\u001b[0m \u001b[1;32mdef\u001b[0m \u001b[0mprocess_hk_fname\u001b[0m\u001b[1;33m(\u001b[0m\u001b[0mfname\u001b[0m\u001b[1;33m)\u001b[0m\u001b[1;33m:\u001b[0m\u001b[1;33m\u001b[0m\u001b[0m\n\u001b[0;32m      2\u001b[0m     \u001b[0mhkfile\u001b[0m \u001b[1;33m=\u001b[0m \u001b[0mhk\u001b[0m\u001b[1;33m.\u001b[0m\u001b[0mHKReader\u001b[0m\u001b[1;33m(\u001b[0m\u001b[0mstr\u001b[0m\u001b[1;33m(\u001b[0m\u001b[0mfname\u001b[0m\u001b[1;33m)\u001b[0m\u001b[1;33m)\u001b[0m\u001b[1;33m\u001b[0m\u001b[0m\n\u001b[1;32m----> 3\u001b[1;33m     \u001b[1;32mif\u001b[0m \u001b[0mhkfile\u001b[0m\u001b[1;33m.\u001b[0m\u001b[0mtemp_df\u001b[0m\u001b[1;33m.\u001b[0m\u001b[0mindex\u001b[0m\u001b[1;33m.\u001b[0m\u001b[0myear\u001b[0m \u001b[1;33m==\u001b[0m \u001b[1;36m2000\u001b[0m\u001b[1;33m:\u001b[0m\u001b[1;33m\u001b[0m\u001b[0m\n\u001b[0m\u001b[0;32m      4\u001b[0m         \u001b[0mprint\u001b[0m\u001b[1;33m(\u001b[0m\u001b[0mfname\u001b[0m\u001b[1;33m)\u001b[0m\u001b[1;33m\u001b[0m\u001b[0m\n\u001b[0;32m      5\u001b[0m \u001b[1;31m#     hkfile.temp_df.to_hdf('/home/klay6683/to_keep/HK_DB.h5', 'df', mode='a',\u001b[0m\u001b[1;33m\u001b[0m\u001b[1;33m\u001b[0m\u001b[0m\n",
      "\u001b[1;31mValueError\u001b[0m: The truth value of an array with more than one element is ambiguous. Use a.any() or a.all()"
     ]
    }
   ],
   "source": [
    "for i,fname in enumerate(currenthknames):\n",
    "    print(i*100/len(currenthknames))\n",
    "    process_hk_fname(fname)"
   ]
  },
  {
   "cell_type": "code",
   "execution_count": null,
   "metadata": {
    "collapsed": true
   },
   "outputs": [],
   "source": []
  }
 ],
 "metadata": {
  "kernelspec": {
   "display_name": "Python 3",
   "language": "python",
   "name": "python3"
  },
  "language_info": {
   "codemirror_mode": {
    "name": "ipython",
    "version": 3
   },
   "file_extension": ".py",
   "mimetype": "text/x-python",
   "name": "python",
   "nbconvert_exporter": "python",
   "pygments_lexer": "ipython3",
   "version": "3.4.3"
  }
 },
 "nbformat": 4,
 "nbformat_minor": 0
}

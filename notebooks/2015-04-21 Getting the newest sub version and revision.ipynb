{
 "cells": [
  {
   "cell_type": "markdown",
   "metadata": {},
   "source": [
    "# Pick filenames"
   ]
  },
  {
   "cell_type": "code",
   "execution_count": 19,
   "metadata": {
    "collapsed": false
   },
   "outputs": [
    {
     "name": "stdout",
     "output_type": "stream",
     "text": [
      "/maven_iuvs/stage/products/level1b\n"
     ]
    }
   ],
   "source": [
    "fnames = io.l1b_filenames(env='stage', iterator=False)"
   ]
  },
  {
   "cell_type": "code",
   "execution_count": 20,
   "metadata": {
    "collapsed": false
   },
   "outputs": [],
   "source": [
    "iuvsfname = io.ScienceFilename(fnames[0])"
   ]
  },
  {
   "cell_type": "code",
   "execution_count": 21,
   "metadata": {
    "collapsed": false
   },
   "outputs": [
    {
     "data": {
      "text/plain": [
       "125400"
      ]
     },
     "execution_count": 21,
     "metadata": {},
     "output_type": "execute_result"
    }
   ],
   "source": [
    "len(fnames)"
   ]
  },
  {
   "cell_type": "code",
   "execution_count": 8,
   "metadata": {
    "collapsed": false
   },
   "outputs": [
    {
     "data": {
      "text/plain": [
       "Basename: mvn_iuv_l1b_apoapse-orbit00537-fuv_20150108T161145_v02_s02.fits.gz\n",
       "Mission: mvn\n",
       "Instrument: iuv\n",
       "Level: l1b\n",
       "Phase: apoapse\n",
       "Cycle_orbit: orbit00537\n",
       "Mode: N/A\n",
       "Channel: fuv\n",
       "Version: v02\n",
       "Revision: s02\n",
       "Time: 2015-01-08 16:11:45"
      ]
     },
     "execution_count": 8,
     "metadata": {},
     "output_type": "execute_result"
    }
   ],
   "source": [
    "iuvsfname"
   ]
  },
  {
   "cell_type": "code",
   "execution_count": 9,
   "metadata": {
    "collapsed": false
   },
   "outputs": [
    {
     "data": {
      "text/plain": [
       "'mvn_iuv_l1b_apoapse-orbit00537-fuv_20150108T161145'"
      ]
     },
     "execution_count": 9,
     "metadata": {},
     "output_type": "execute_result"
    }
   ],
   "source": [
    "iuvsfname.obs_id"
   ]
  },
  {
   "cell_type": "code",
   "execution_count": 10,
   "metadata": {
    "collapsed": true
   },
   "outputs": [],
   "source": [
    "df = pd.DataFrame(fnames, columns=['fname'])"
   ]
  },
  {
   "cell_type": "code",
   "execution_count": 13,
   "metadata": {
    "collapsed": true
   },
   "outputs": [],
   "source": [
    "def create_version(fname):\n",
    "    iuvsfname = io.ScienceFilename(fname)\n",
    "    return iuvsfname.version + iuvsfname.revision\n",
    "def get_product_id(fname):\n",
    "    return io.ScienceFilename(fname).obs_id"
   ]
  },
  {
   "cell_type": "code",
   "execution_count": 14,
   "metadata": {
    "collapsed": false
   },
   "outputs": [],
   "source": [
    "df['obs_id'] = df.fname.map(get_product_id)"
   ]
  },
  {
   "cell_type": "code",
   "execution_count": 27,
   "metadata": {
    "collapsed": true
   },
   "outputs": [],
   "source": [
    "df['version_string'] = df.fname.map(create_version)"
   ]
  },
  {
   "cell_type": "code",
   "execution_count": 28,
   "metadata": {
    "collapsed": false
   },
   "outputs": [],
   "source": [
    "current_fnames = df.groupby('obs_id')['fname'].max()"
   ]
  },
  {
   "cell_type": "code",
   "execution_count": 26,
   "metadata": {
    "collapsed": false
   },
   "outputs": [
    {
     "data": {
      "text/plain": [
       "'/maven_iuvs/stage/products/level1b/mvn_iuv_l1b_comet-orbit00106-mode0041-fuv_20141018T060032_v02_s10.fits.gz'"
      ]
     },
     "execution_count": 26,
     "metadata": {},
     "output_type": "execute_result"
    }
   ],
   "source": [
    "current_fnames.loc['mvn_iuv_l1b_comet-orbit00106-mode0041-fuv_20141018T060032']"
   ]
  },
  {
   "cell_type": "code",
   "execution_count": 30,
   "metadata": {
    "collapsed": false
   },
   "outputs": [
    {
     "data": {
      "text/html": [
       "<div>\n",
       "<table border=\"1\" class=\"dataframe\">\n",
       "  <thead>\n",
       "    <tr style=\"text-align: right;\">\n",
       "      <th></th>\n",
       "      <th>fname</th>\n",
       "      <th>obs_id</th>\n",
       "      <th>version_string</th>\n",
       "    </tr>\n",
       "  </thead>\n",
       "  <tbody>\n",
       "    <tr>\n",
       "      <th>8332</th>\n",
       "      <td>/maven_iuvs/stage/products/level1b/mvn_iuv_l1b...</td>\n",
       "      <td>mvn_iuv_l1b_comet-orbit00106-mode0041-fuv_2014...</td>\n",
       "      <td>v02s09</td>\n",
       "    </tr>\n",
       "    <tr>\n",
       "      <th>10459</th>\n",
       "      <td>/maven_iuvs/stage/products/level1b/mvn_iuv_l1b...</td>\n",
       "      <td>mvn_iuv_l1b_comet-orbit00106-mode0041-fuv_2014...</td>\n",
       "      <td>v02s05</td>\n",
       "    </tr>\n",
       "    <tr>\n",
       "      <th>10928</th>\n",
       "      <td>/maven_iuvs/stage/products/level1b/mvn_iuv_l1b...</td>\n",
       "      <td>mvn_iuv_l1b_comet-orbit00106-mode0041-fuv_2014...</td>\n",
       "      <td>v02s01</td>\n",
       "    </tr>\n",
       "    <tr>\n",
       "      <th>16572</th>\n",
       "      <td>/maven_iuvs/stage/products/level1b/mvn_iuv_l1b...</td>\n",
       "      <td>mvn_iuv_l1b_comet-orbit00106-mode0041-fuv_2014...</td>\n",
       "      <td>v02s10</td>\n",
       "    </tr>\n",
       "    <tr>\n",
       "      <th>55553</th>\n",
       "      <td>/maven_iuvs/stage/products/level1b/mvn_iuv_l1b...</td>\n",
       "      <td>mvn_iuv_l1b_comet-orbit00106-mode0041-fuv_2014...</td>\n",
       "      <td>v02s04</td>\n",
       "    </tr>\n",
       "    <tr>\n",
       "      <th>57143</th>\n",
       "      <td>/maven_iuvs/stage/products/level1b/mvn_iuv_l1b...</td>\n",
       "      <td>mvn_iuv_l1b_comet-orbit00106-mode0041-fuv_2014...</td>\n",
       "      <td>v02s08</td>\n",
       "    </tr>\n",
       "    <tr>\n",
       "      <th>91187</th>\n",
       "      <td>/maven_iuvs/stage/products/level1b/mvn_iuv_l1b...</td>\n",
       "      <td>mvn_iuv_l1b_comet-orbit00106-mode0041-fuv_2014...</td>\n",
       "      <td>v02s06</td>\n",
       "    </tr>\n",
       "    <tr>\n",
       "      <th>108475</th>\n",
       "      <td>/maven_iuvs/stage/products/level1b/mvn_iuv_l1b...</td>\n",
       "      <td>mvn_iuv_l1b_comet-orbit00106-mode0041-fuv_2014...</td>\n",
       "      <td>v02s07</td>\n",
       "    </tr>\n",
       "    <tr>\n",
       "      <th>109107</th>\n",
       "      <td>/maven_iuvs/stage/products/level1b/mvn_iuv_l1b...</td>\n",
       "      <td>mvn_iuv_l1b_comet-orbit00106-mode0041-fuv_2014...</td>\n",
       "      <td>v02s03</td>\n",
       "    </tr>\n",
       "    <tr>\n",
       "      <th>115479</th>\n",
       "      <td>/maven_iuvs/stage/products/level1b/mvn_iuv_l1b...</td>\n",
       "      <td>mvn_iuv_l1b_comet-orbit00106-mode0041-fuv_2014...</td>\n",
       "      <td>v01r01</td>\n",
       "    </tr>\n",
       "  </tbody>\n",
       "</table>\n",
       "</div>"
      ],
      "text/plain": [
       "                                                    fname  \\\n",
       "8332    /maven_iuvs/stage/products/level1b/mvn_iuv_l1b...   \n",
       "10459   /maven_iuvs/stage/products/level1b/mvn_iuv_l1b...   \n",
       "10928   /maven_iuvs/stage/products/level1b/mvn_iuv_l1b...   \n",
       "16572   /maven_iuvs/stage/products/level1b/mvn_iuv_l1b...   \n",
       "55553   /maven_iuvs/stage/products/level1b/mvn_iuv_l1b...   \n",
       "57143   /maven_iuvs/stage/products/level1b/mvn_iuv_l1b...   \n",
       "91187   /maven_iuvs/stage/products/level1b/mvn_iuv_l1b...   \n",
       "108475  /maven_iuvs/stage/products/level1b/mvn_iuv_l1b...   \n",
       "109107  /maven_iuvs/stage/products/level1b/mvn_iuv_l1b...   \n",
       "115479  /maven_iuvs/stage/products/level1b/mvn_iuv_l1b...   \n",
       "\n",
       "                                                   obs_id version_string  \n",
       "8332    mvn_iuv_l1b_comet-orbit00106-mode0041-fuv_2014...         v02s09  \n",
       "10459   mvn_iuv_l1b_comet-orbit00106-mode0041-fuv_2014...         v02s05  \n",
       "10928   mvn_iuv_l1b_comet-orbit00106-mode0041-fuv_2014...         v02s01  \n",
       "16572   mvn_iuv_l1b_comet-orbit00106-mode0041-fuv_2014...         v02s10  \n",
       "55553   mvn_iuv_l1b_comet-orbit00106-mode0041-fuv_2014...         v02s04  \n",
       "57143   mvn_iuv_l1b_comet-orbit00106-mode0041-fuv_2014...         v02s08  \n",
       "91187   mvn_iuv_l1b_comet-orbit00106-mode0041-fuv_2014...         v02s06  \n",
       "108475  mvn_iuv_l1b_comet-orbit00106-mode0041-fuv_2014...         v02s07  \n",
       "109107  mvn_iuv_l1b_comet-orbit00106-mode0041-fuv_2014...         v02s03  \n",
       "115479  mvn_iuv_l1b_comet-orbit00106-mode0041-fuv_2014...         v01r01  "
      ]
     },
     "execution_count": 30,
     "metadata": {},
     "output_type": "execute_result"
    }
   ],
   "source": [
    "df[df.obs_id == 'mvn_iuv_l1b_comet-orbit00106-mode0041-fuv_20141018T060032']"
   ]
  },
  {
   "cell_type": "markdown",
   "metadata": {},
   "source": [
    "Done! :)"
   ]
  },
  {
   "cell_type": "code",
   "execution_count": null,
   "metadata": {
    "collapsed": true
   },
   "outputs": [],
   "source": []
  }
 ],
 "metadata": {
  "kernelspec": {
   "display_name": "Python 3",
   "language": "python",
   "name": "python3"
  },
  "language_info": {
   "codemirror_mode": {
    "name": "ipython",
    "version": 3
   },
   "file_extension": ".py",
   "mimetype": "text/x-python",
   "name": "python",
   "nbconvert_exporter": "python",
   "pygments_lexer": "ipython3",
   "version": "3.4.3"
  }
 },
 "nbformat": 4,
 "nbformat_minor": 0
}

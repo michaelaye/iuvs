{
 "cells": [
  {
   "cell_type": "code",
   "execution_count": 1,
   "metadata": {
    "collapsed": false
   },
   "outputs": [],
   "source": [
    "pd.options.display.max_columns = 100"
   ]
  },
  {
   "cell_type": "code",
   "execution_count": 8,
   "metadata": {
    "collapsed": false
   },
   "outputs": [
    {
     "name": "stdout",
     "output_type": "stream",
     "text": [
      "/maven_iuvs/stage/products/level1b\n"
     ]
    }
   ],
   "source": [
    "l1b = io.some_l1b()"
   ]
  },
  {
   "cell_type": "code",
   "execution_count": 9,
   "metadata": {
    "collapsed": false
   },
   "outputs": [
    {
     "data": {
      "text/plain": [
       "array([[80],\n",
       "       [80],\n",
       "       [80],\n",
       "       [80],\n",
       "       [80],\n",
       "       [80],\n",
       "       [80],\n",
       "       [80],\n",
       "       [80],\n",
       "       [80]], dtype=int16)"
      ]
     },
     "execution_count": 9,
     "metadata": {},
     "output_type": "execute_result"
    }
   ],
   "source": []
  },
  {
   "cell_type": "code",
   "execution_count": 2,
   "metadata": {
    "collapsed": false
   },
   "outputs": [
    {
     "name": "stdout",
     "output_type": "stream",
     "text": [
      "/maven_iuvs/production/products/level1b\n"
     ]
    }
   ],
   "source": [
    "l1bdarkfnames = io.get_current_science_fnames('l1b', env='production')"
   ]
  },
  {
   "cell_type": "code",
   "execution_count": 3,
   "metadata": {
    "collapsed": false
   },
   "outputs": [
    {
     "data": {
      "text/plain": [
       "58227"
      ]
     },
     "execution_count": 3,
     "metadata": {},
     "output_type": "execute_result"
    }
   ],
   "source": [
    "len(l1bdarkfnames)"
   ]
  },
  {
   "cell_type": "code",
   "execution_count": 4,
   "metadata": {
    "collapsed": false
   },
   "outputs": [],
   "source": [
    "def process_fname(fname):\n",
    "    l1b = io.L1BReader(fname)\n",
    "    d = dict(fname=fname)\n",
    "    if not hasattr(l1b, 'detector_dark'):\n",
    "        d['error'] = 'no dark'\n",
    "        return d\n",
    "    if l1b.dark_dn_s.ndim == 3:\n",
    "        dark = l1b.dark_dn_s[0]\n",
    "    else:\n",
    "        dark = l1b.dark_dn_s\n",
    "    if l1b.raw_dn_s.ndim == 3:\n",
    "        light = l1b.raw_dn_s[0]\n",
    "    else:\n",
    "        light = l1b.raw_dn_s\n",
    "    sub = light - dark\n",
    "    try:\n",
    "        spa_slice, spe_slice = io.find_scaling_window(sub)\n",
    "    except IndexError:\n",
    "        d['error'] = 'IndexError'\n",
    "        return d\n",
    "    window = sub[spa_slice, spe_slice]\n",
    "    d['mean'] = window.mean()\n",
    "    d['std'] = window.std()\n",
    "    d['nspa'] = window.shape[0]\n",
    "    d['nspe'] = window.shape[1]\n",
    "    return d"
   ]
  },
  {
   "cell_type": "code",
   "execution_count": 5,
   "metadata": {
    "collapsed": false
   },
   "outputs": [
    {
     "data": {
      "text/plain": [
       "{'fname': PosixPath('/maven_iuvs/production/products/level1b/mvn_iuv_l1b_APP1-orbit00087-mode1231-fuv_20141014T132121_v02_r01.fits.gz'),\n",
       " 'mean': -0.22160493827160496,\n",
       " 'nspa': 9,\n",
       " 'nspe': 3,\n",
       " 'std': 0.33600211929859064}"
      ]
     },
     "execution_count": 5,
     "metadata": {},
     "output_type": "execute_result"
    }
   ],
   "source": [
    "process_fname(l1bdarkfnames[100])"
   ]
  },
  {
   "cell_type": "markdown",
   "metadata": {},
   "source": [
    "## Generate dataframe with filename stats"
   ]
  },
  {
   "cell_type": "code",
   "execution_count": 6,
   "metadata": {
    "collapsed": false
   },
   "outputs": [],
   "source": [
    "namestats = pd.DataFrame([io.ScienceFilename(str(i)).as_series() for i in l1bdarkfnames])"
   ]
  },
  {
   "cell_type": "code",
   "execution_count": 7,
   "metadata": {
    "collapsed": false
   },
   "outputs": [],
   "source": [
    "from IPython.parallel import Client\n",
    "c = Client()"
   ]
  },
  {
   "cell_type": "code",
   "execution_count": 8,
   "metadata": {
    "collapsed": true
   },
   "outputs": [],
   "source": [
    "dview = c.direct_view()\n",
    "lview = c.load_balanced_view()"
   ]
  },
  {
   "cell_type": "code",
   "execution_count": 9,
   "metadata": {
    "collapsed": true
   },
   "outputs": [],
   "source": [
    "doing = namestats.sample(2000).basename\n",
    "results = lview.map_async(process_fname, doing)"
   ]
  },
  {
   "cell_type": "code",
   "execution_count": 10,
   "metadata": {
    "collapsed": false
   },
   "outputs": [
    {
     "name": "stderr",
     "output_type": "stream",
     "text": [
      "WARNING:py.warnings::0: FutureWarning: IPython widgets are experimental and may change in the future.\n",
      "\n"
     ]
    }
   ],
   "source": [
    "from iuvs.multitools import nb_progress_display"
   ]
  },
  {
   "cell_type": "code",
   "execution_count": 11,
   "metadata": {
    "collapsed": false
   },
   "outputs": [
    {
     "ename": "KeyboardInterrupt",
     "evalue": "",
     "output_type": "error",
     "traceback": [
      "\u001b[1;31m---------------------------------------------------------------------------\u001b[0m",
      "\u001b[1;31mKeyboardInterrupt\u001b[0m                         Traceback (most recent call last)",
      "\u001b[1;32m<ipython-input-11-4ae4ead6bb39>\u001b[0m in \u001b[0;36m<module>\u001b[1;34m()\u001b[0m\n\u001b[1;32m----> 1\u001b[1;33m \u001b[0mnb_progress_display\u001b[0m\u001b[1;33m(\u001b[0m\u001b[0mresults\u001b[0m\u001b[1;33m,\u001b[0m \u001b[0mdoing\u001b[0m\u001b[1;33m)\u001b[0m\u001b[1;33m\u001b[0m\u001b[0m\n\u001b[0m",
      "\u001b[1;32m/home/klay6683/src/iuvs/iuvs/multitools.py\u001b[0m in \u001b[0;36mnb_progress_display\u001b[1;34m(results, objectlist, sleep)\u001b[0m\n\u001b[0;32m     19\u001b[0m     \u001b[1;32mwhile\u001b[0m \u001b[1;32mnot\u001b[0m \u001b[0mresults\u001b[0m\u001b[1;33m.\u001b[0m\u001b[0mready\u001b[0m\u001b[1;33m(\u001b[0m\u001b[1;33m)\u001b[0m\u001b[1;33m:\u001b[0m\u001b[1;33m\u001b[0m\u001b[0m\n\u001b[0;32m     20\u001b[0m         \u001b[0mprog\u001b[0m\u001b[1;33m.\u001b[0m\u001b[0mvalue\u001b[0m \u001b[1;33m=\u001b[0m \u001b[0mresults\u001b[0m\u001b[1;33m.\u001b[0m\u001b[0mprogress\u001b[0m\u001b[1;33m\u001b[0m\u001b[0m\n\u001b[1;32m---> 21\u001b[1;33m         \u001b[0mtime\u001b[0m\u001b[1;33m.\u001b[0m\u001b[0msleep\u001b[0m\u001b[1;33m(\u001b[0m\u001b[0msleep\u001b[0m\u001b[1;33m)\u001b[0m\u001b[1;33m\u001b[0m\u001b[0m\n\u001b[0m\u001b[0;32m     22\u001b[0m \u001b[1;33m\u001b[0m\u001b[0m\n\u001b[0;32m     23\u001b[0m \u001b[1;33m\u001b[0m\u001b[0m\n",
      "\u001b[1;31mKeyboardInterrupt\u001b[0m: "
     ]
    }
   ],
   "source": [
    "nb_progress_display(results, doing)"
   ]
  },
  {
   "cell_type": "code",
   "execution_count": 123,
   "metadata": {
    "collapsed": false
   },
   "outputs": [
    {
     "ename": "RemoteError",
     "evalue": "EngineError(Engine b'67724e8b-32c7-49a1-aa46-97285d4446aa' died while running task '4cd2895b-cd10-4c84-9ce4-f1173fad988c')",
     "output_type": "error",
     "traceback": [
      "Traceback (most recent call last):",
      "  File \"/usr/local/python3/miniconda/lib/python3.4/site-packages/IPython/parallel/controller/scheduler.py\", line 347, in handle_stranded_tasks",
      "    raise error.EngineError(\"Engine %r died while running task %r\"%(engine, msg_id))",
      "IPython.parallel.error.EngineError: Engine b'67724e8b-32c7-49a1-aa46-97285d4446aa' died while running task '4cd2895b-cd10-4c84-9ce4-f1173fad988c'"
     ]
    }
   ],
   "source": [
    "res = []\n",
    "for result in results:\n",
    "    res.append(result)"
   ]
  },
  {
   "cell_type": "code",
   "execution_count": 125,
   "metadata": {
    "collapsed": false,
    "scrolled": false
   },
   "outputs": [],
   "source": [
    "res = pd.DataFrame(res)"
   ]
  },
  {
   "cell_type": "code",
   "execution_count": 130,
   "metadata": {
    "collapsed": false
   },
   "outputs": [],
   "source": [
    "merged = res.merge(namestats, left_on='fname', right_on='basename')"
   ]
  },
  {
   "cell_type": "code",
   "execution_count": 133,
   "metadata": {
    "collapsed": false
   },
   "outputs": [],
   "source": [
    "import seaborn as sns"
   ]
  },
  {
   "cell_type": "code",
   "execution_count": 134,
   "metadata": {
    "collapsed": true
   },
   "outputs": [],
   "source": [
    "sns.set_context('notebook')"
   ]
  },
  {
   "cell_type": "code",
   "execution_count": 136,
   "metadata": {
    "collapsed": false
   },
   "outputs": [
    {
     "data": {
      "text/plain": [
       "Index(['error', 'fname', 'mean', 'nspa', 'nspe', 'std', 'basename', 'channel',\n",
       "       'cycle_orbit', 'instrument', 'level', 'mission', 'mode', 'obs_id', 'p',\n",
       "       'phase', 'revision', 'root', 'time', 'timestr', 'tokens', 'version',\n",
       "       'version_string'],\n",
       "      dtype='object')"
      ]
     },
     "execution_count": 136,
     "metadata": {},
     "output_type": "execute_result"
    }
   ],
   "source": [
    "merged.columns"
   ]
  },
  {
   "cell_type": "code",
   "execution_count": null,
   "metadata": {
    "collapsed": false
   },
   "outputs": [],
   "source": [
    "len(res)"
   ]
  },
  {
   "cell_type": "code",
   "execution_count": 135,
   "metadata": {
    "collapsed": false
   },
   "outputs": [
    {
     "ename": "ValueError",
     "evalue": "Could not interperet input 'phase'",
     "output_type": "error",
     "traceback": [
      "\u001b[1;31m---------------------------------------------------------------------------\u001b[0m",
      "\u001b[1;31mValueError\u001b[0m                                Traceback (most recent call last)",
      "\u001b[1;32m<ipython-input-135-150e35ab0db0>\u001b[0m in \u001b[0;36m<module>\u001b[1;34m()\u001b[0m\n\u001b[1;32m----> 1\u001b[1;33m \u001b[0msns\u001b[0m\u001b[1;33m.\u001b[0m\u001b[0mstripplot\u001b[0m\u001b[1;33m(\u001b[0m\u001b[0mx\u001b[0m\u001b[1;33m=\u001b[0m\u001b[1;34m'phase'\u001b[0m\u001b[1;33m,\u001b[0m \u001b[0my\u001b[0m\u001b[1;33m=\u001b[0m\u001b[1;34m'mean'\u001b[0m\u001b[1;33m)\u001b[0m\u001b[1;33m\u001b[0m\u001b[0m\n\u001b[0m",
      "\u001b[1;32m/usr/local/python3/miniconda/lib/python3.4/site-packages/seaborn/categorical.py\u001b[0m in \u001b[0;36mstripplot\u001b[1;34m(x, y, hue, data, order, hue_order, jitter, split, orient, color, palette, size, edgecolor, linewidth, ax, **kwargs)\u001b[0m\n\u001b[0;32m   2000\u001b[0m \u001b[1;33m\u001b[0m\u001b[0m\n\u001b[0;32m   2001\u001b[0m     plotter = _StripPlotter(x, y, hue, data, order, hue_order,\n\u001b[1;32m-> 2002\u001b[1;33m                             jitter, split, orient, color, palette)\n\u001b[0m\u001b[0;32m   2003\u001b[0m     \u001b[1;32mif\u001b[0m \u001b[0max\u001b[0m \u001b[1;32mis\u001b[0m \u001b[1;32mNone\u001b[0m\u001b[1;33m:\u001b[0m\u001b[1;33m\u001b[0m\u001b[0m\n\u001b[0;32m   2004\u001b[0m         \u001b[0max\u001b[0m \u001b[1;33m=\u001b[0m \u001b[0mplt\u001b[0m\u001b[1;33m.\u001b[0m\u001b[0mgca\u001b[0m\u001b[1;33m(\u001b[0m\u001b[1;33m)\u001b[0m\u001b[1;33m\u001b[0m\u001b[0m\n",
      "\u001b[1;32m/usr/local/python3/miniconda/lib/python3.4/site-packages/seaborn/categorical.py\u001b[0m in \u001b[0;36m__init__\u001b[1;34m(self, x, y, hue, data, order, hue_order, jitter, split, orient, color, palette)\u001b[0m\n\u001b[0;32m   1061\u001b[0m                  jitter, split, orient, color, palette):\n\u001b[0;32m   1062\u001b[0m         \u001b[1;34m\"\"\"Initialize the plotter.\"\"\"\u001b[0m\u001b[1;33m\u001b[0m\u001b[0m\n\u001b[1;32m-> 1063\u001b[1;33m         \u001b[0mself\u001b[0m\u001b[1;33m.\u001b[0m\u001b[0mestablish_variables\u001b[0m\u001b[1;33m(\u001b[0m\u001b[0mx\u001b[0m\u001b[1;33m,\u001b[0m \u001b[0my\u001b[0m\u001b[1;33m,\u001b[0m \u001b[0mhue\u001b[0m\u001b[1;33m,\u001b[0m \u001b[0mdata\u001b[0m\u001b[1;33m,\u001b[0m \u001b[0morient\u001b[0m\u001b[1;33m,\u001b[0m \u001b[0morder\u001b[0m\u001b[1;33m,\u001b[0m \u001b[0mhue_order\u001b[0m\u001b[1;33m)\u001b[0m\u001b[1;33m\u001b[0m\u001b[0m\n\u001b[0m\u001b[0;32m   1064\u001b[0m         \u001b[0mself\u001b[0m\u001b[1;33m.\u001b[0m\u001b[0mestablish_colors\u001b[0m\u001b[1;33m(\u001b[0m\u001b[0mcolor\u001b[0m\u001b[1;33m,\u001b[0m \u001b[0mpalette\u001b[0m\u001b[1;33m,\u001b[0m \u001b[1;36m1\u001b[0m\u001b[1;33m)\u001b[0m\u001b[1;33m\u001b[0m\u001b[0m\n\u001b[0;32m   1065\u001b[0m \u001b[1;33m\u001b[0m\u001b[0m\n",
      "\u001b[1;32m/usr/local/python3/miniconda/lib/python3.4/site-packages/seaborn/categorical.py\u001b[0m in \u001b[0;36mestablish_variables\u001b[1;34m(self, x, y, hue, data, orient, order, hue_order, units)\u001b[0m\n\u001b[0;32m    143\u001b[0m                 \u001b[1;32mif\u001b[0m \u001b[0misinstance\u001b[0m\u001b[1;33m(\u001b[0m\u001b[0minput\u001b[0m\u001b[1;33m,\u001b[0m \u001b[0mstring_types\u001b[0m\u001b[1;33m)\u001b[0m\u001b[1;33m:\u001b[0m\u001b[1;33m\u001b[0m\u001b[0m\n\u001b[0;32m    144\u001b[0m                     \u001b[0merr\u001b[0m \u001b[1;33m=\u001b[0m \u001b[1;34m\"Could not interperet input '{}'\"\u001b[0m\u001b[1;33m.\u001b[0m\u001b[0mformat\u001b[0m\u001b[1;33m(\u001b[0m\u001b[0minput\u001b[0m\u001b[1;33m)\u001b[0m\u001b[1;33m\u001b[0m\u001b[0m\n\u001b[1;32m--> 145\u001b[1;33m                     \u001b[1;32mraise\u001b[0m \u001b[0mValueError\u001b[0m\u001b[1;33m(\u001b[0m\u001b[0merr\u001b[0m\u001b[1;33m)\u001b[0m\u001b[1;33m\u001b[0m\u001b[0m\n\u001b[0m\u001b[0;32m    146\u001b[0m \u001b[1;33m\u001b[0m\u001b[0m\n\u001b[0;32m    147\u001b[0m             \u001b[1;31m# Figure out the plotting orientation\u001b[0m\u001b[1;33m\u001b[0m\u001b[1;33m\u001b[0m\u001b[0m\n",
      "\u001b[1;31mValueError\u001b[0m: Could not interperet input 'phase'"
     ]
    }
   ],
   "source": [
    "sns.stripplot(x='phase', y='mean'"
   ]
  },
  {
   "cell_type": "code",
   "execution_count": 88,
   "metadata": {
    "collapsed": true
   },
   "outputs": [],
   "source": [
    "l1b = io.L1BReader('/maven_iuvs/production/products/level1b/mvn_iuv_l1b_APP1-orbit00087-mode0002-fuv_20141014T141612_v02_r01.fits.gz')"
   ]
  },
  {
   "cell_type": "code",
   "execution_count": 89,
   "metadata": {
    "collapsed": false
   },
   "outputs": [
    {
     "data": {
      "text/plain": [
       "(128, 128)"
      ]
     },
     "execution_count": 89,
     "metadata": {},
     "output_type": "execute_result"
    }
   ],
   "source": [
    "l1b.detector_dark.shape"
   ]
  },
  {
   "cell_type": "code",
   "execution_count": 91,
   "metadata": {
    "collapsed": false
   },
   "outputs": [
    {
     "data": {
      "text/plain": [
       "2"
      ]
     },
     "execution_count": 91,
     "metadata": {},
     "output_type": "execute_result"
    }
   ],
   "source": [
    "l1b.detector_raw.ndim"
   ]
  },
  {
   "cell_type": "code",
   "execution_count": null,
   "metadata": {
    "collapsed": true
   },
   "outputs": [],
   "source": []
  },
  {
   "cell_type": "code",
   "execution_count": 16,
   "metadata": {
    "collapsed": true
   },
   "outputs": [],
   "source": [
    "def check_for_issues(p):\n",
    "    from iuvs import exceptions\n",
    "    d = {}\n",
    "    d['fname'] = p.name\n",
    "    try:\n",
    "        l1a = io.L1AReader(str(p))\n",
    "    except exceptions.DimensionsError:\n",
    "        d['dims'] = False\n",
    "    d['kind'] = l1a.img_header['BIN_TBL'][:3]\n",
    "    d['n_unique_spabins'] = l1a.n_unique_spabins\n",
    "    d['n_unique_spebins'] = l1a.n_unique_spebins\n",
    "    return d"
   ]
  },
  {
   "cell_type": "code",
   "execution_count": 17,
   "metadata": {
    "collapsed": false
   },
   "outputs": [
    {
     "data": {
      "text/plain": [
       "{'fname': 'mvn_iuv_l1a_APP1-orbit00084-mode0111-muvdark_20141013T232042_v02_r01.fits.gz',\n",
       " 'kind': 'LIN',\n",
       " 'n_unique_spabins': 2,\n",
       " 'n_unique_spebins': 1}"
      ]
     },
     "execution_count": 17,
     "metadata": {},
     "output_type": "execute_result"
    }
   ],
   "source": [
    "check_for_issues(df.p[4])"
   ]
  },
  {
   "cell_type": "code",
   "execution_count": 18,
   "metadata": {
    "collapsed": false
   },
   "outputs": [],
   "source": [
    "doing = df.p\n",
    "results = lview.map_async(check_for_issues, doing)"
   ]
  },
  {
   "cell_type": "code",
   "execution_count": 19,
   "metadata": {
    "collapsed": false,
    "scrolled": true
   },
   "outputs": [
    {
     "data": {
      "text/plain": [
       "False"
      ]
     },
     "execution_count": 19,
     "metadata": {},
     "output_type": "execute_result"
    }
   ],
   "source": [
    "from iuvs.multitools import nb_progress_display\n",
    "results.ready()"
   ]
  },
  {
   "cell_type": "code",
   "execution_count": 20,
   "metadata": {
    "collapsed": false
   },
   "outputs": [],
   "source": [
    "nb_progress_display(results, doing)"
   ]
  },
  {
   "cell_type": "code",
   "execution_count": 21,
   "metadata": {
    "collapsed": false
   },
   "outputs": [],
   "source": [
    "resultdf = pd.DataFrame(results.result)"
   ]
  },
  {
   "cell_type": "code",
   "execution_count": 22,
   "metadata": {
    "collapsed": false,
    "scrolled": true
   },
   "outputs": [
    {
     "name": "stdout",
     "output_type": "stream",
     "text": [
      "kind\n",
      "LIN    13758\n",
      "NON      374\n",
      "Name: kind, dtype: int64\n",
      "n_unique_spabins\n",
      "1    13567\n",
      "2      565\n",
      "Name: n_unique_spabins, dtype: int64\n",
      "n_unique_spebins\n",
      "1    13171\n",
      "2      775\n",
      "9      186\n",
      "Name: n_unique_spebins, dtype: int64\n"
     ]
    }
   ],
   "source": [
    "for col in resultdf.columns:\n",
    "    if col == 'fname': continue\n",
    "    print(col)\n",
    "    print(resultdf[col].value_counts(dropna=False))"
   ]
  },
  {
   "cell_type": "code",
   "execution_count": 23,
   "metadata": {
    "collapsed": false
   },
   "outputs": [],
   "source": [
    "resultdf['phase'] = resultdf.fname.map(lambda x: io.ScienceFilename(x).phase)"
   ]
  },
  {
   "cell_type": "code",
   "execution_count": 24,
   "metadata": {
    "collapsed": true
   },
   "outputs": [],
   "source": [
    "subdf = resultdf[(resultdf.n_unique_spabins==2) | (resultdf.n_unique_spebins==2)]"
   ]
  },
  {
   "cell_type": "code",
   "execution_count": 40,
   "metadata": {
    "collapsed": false
   },
   "outputs": [
    {
     "name": "stdout",
     "output_type": "stream",
     "text": [
      "<class 'pandas.core.frame.DataFrame'>\n",
      "Int64Index: 645 entries, 2 to 4301\n",
      "Data columns (total 5 columns):\n",
      "fname               645 non-null object\n",
      "kind                645 non-null object\n",
      "n_unique_spabins    645 non-null int64\n",
      "n_unique_spebins    645 non-null int64\n",
      "phase               645 non-null object\n",
      "dtypes: int64(2), object(3)\n",
      "memory usage: 30.2+ KB\n"
     ]
    }
   ],
   "source": [
    "subdf[subdf.kind=='LIN'].info()"
   ]
  },
  {
   "cell_type": "markdown",
   "metadata": {},
   "source": [
    "## Scanning code"
   ]
  },
  {
   "cell_type": "code",
   "execution_count": 271,
   "metadata": {
    "collapsed": false
   },
   "outputs": [],
   "source": [
    "def process_fname(fname):\n",
    "    from iuvs import exceptions\n",
    "    import numpy as np\n",
    "    l1a = io.L1AReader(fname)\n",
    "    d = dict(fname=fname)\n",
    "    try:\n",
    "        l1a = io.L1AReader(fname)\n",
    "    except exceptions.DimensionsError:\n",
    "        d['error'] = 'dims'\n",
    "        return d\n",
    "    if l1a.img_header['BIN_TBL'].startswith('NON LINEAR'):\n",
    "        d['error'] = 'nonlinear'\n",
    "        return d\n",
    "    if any([l1a.n_unique_spabins>1, l1a.n_unique_spebins>1]):\n",
    "        d['error'] = 'badbins'\n",
    "        return d\n",
    "    main_header = io.get_header_df(l1a.hdulist[0])\n",
    "    integration = l1a.Integration\n",
    "    if main_header.loc[0, 'NAXIS'] == 2:\n",
    "        main_header.loc[0, 'NAXIS3'] = np.nan\n",
    "        avgtuple = None\n",
    "    elif main_header.loc[0, 'NAXIS'] == 3:\n",
    "        avgtuple = (1,2)\n",
    "    else:\n",
    "        d['error'] = 'axes'\n",
    "        return d\n",
    "    try:\n",
    "        integration['mean'] = l1a.primary_img_dn_s.mean(axis=avgtuple)\n",
    "        integration['median'] = np.median(l1a.primary_img_dn_s, axis=avgtuple)\n",
    "        integration['std'] = l1a.primary_img_dn_s.std(axis=avgtuple)\n",
    "    except KeyError:\n",
    "        integration['mean'] = np.nan\n",
    "        integration['median'] = np.nan\n",
    "        integration['std'] = np.nan\n",
    "    lenint = len(integration)\n",
    "    if lenint > 1:\n",
    "        main_header = main_header.append([main_header]*(lenint-1), ignore_index=True)\n",
    "    joined = pd.concat([integration, main_header], axis=1)\n",
    "    for col in l1a.Observation.names[:-3]:\n",
    "        val = l1a.Observation[col][0]\n",
    "        if col == 'COLLECTION_ID':\n",
    "            val = val[0]\n",
    "        joined[col] = val\n",
    "    savepath = io.save_to_hdf(joined.sort_index(axis=1), fname, 'l1a_dark_scans')\n",
    "    d['success'] = True\n",
    "    return d\n",
    "#     return joined, 0"
   ]
  },
  {
   "cell_type": "code",
   "execution_count": 272,
   "metadata": {
    "collapsed": false
   },
   "outputs": [
    {
     "data": {
      "text/plain": [
       "{'fname': PosixPath('/maven_iuvs/production/products/level1a/mvn_iuv_l1a_IPH2-cycle00075-mode060-muvdark_20140513T205057_v02_r01.fits.gz'),\n",
       " 'success': True}"
      ]
     },
     "execution_count": 272,
     "metadata": {},
     "output_type": "execute_result"
    }
   ],
   "source": [
    "process_fname(l1adarkfnames[2000])"
   ]
  },
  {
   "cell_type": "code",
   "execution_count": 273,
   "metadata": {
    "collapsed": true
   },
   "outputs": [],
   "source": [
    "doing = l1adarkfnames\n",
    "results = lview.map_async(process_fname, doing)"
   ]
  },
  {
   "cell_type": "code",
   "execution_count": 274,
   "metadata": {
    "collapsed": false
   },
   "outputs": [
    {
     "ename": "KeyboardInterrupt",
     "evalue": "",
     "output_type": "error",
     "traceback": [
      "\u001b[1;31m---------------------------------------------------------------------------\u001b[0m",
      "\u001b[1;31mKeyboardInterrupt\u001b[0m                         Traceback (most recent call last)",
      "\u001b[1;32m<ipython-input-274-4ae4ead6bb39>\u001b[0m in \u001b[0;36m<module>\u001b[1;34m()\u001b[0m\n\u001b[1;32m----> 1\u001b[1;33m \u001b[0mnb_progress_display\u001b[0m\u001b[1;33m(\u001b[0m\u001b[0mresults\u001b[0m\u001b[1;33m,\u001b[0m \u001b[0mdoing\u001b[0m\u001b[1;33m)\u001b[0m\u001b[1;33m\u001b[0m\u001b[0m\n\u001b[0m",
      "\u001b[1;32m/home/klay6683/src/iuvs/iuvs/multitools.py\u001b[0m in \u001b[0;36mnb_progress_display\u001b[1;34m(results, objectlist, sleep)\u001b[0m\n\u001b[0;32m     19\u001b[0m     \u001b[1;32mwhile\u001b[0m \u001b[1;32mnot\u001b[0m \u001b[0mresults\u001b[0m\u001b[1;33m.\u001b[0m\u001b[0mready\u001b[0m\u001b[1;33m(\u001b[0m\u001b[1;33m)\u001b[0m\u001b[1;33m:\u001b[0m\u001b[1;33m\u001b[0m\u001b[0m\n\u001b[0;32m     20\u001b[0m         \u001b[0mprog\u001b[0m\u001b[1;33m.\u001b[0m\u001b[0mvalue\u001b[0m \u001b[1;33m=\u001b[0m \u001b[0mresults\u001b[0m\u001b[1;33m.\u001b[0m\u001b[0mprogress\u001b[0m\u001b[1;33m\u001b[0m\u001b[0m\n\u001b[1;32m---> 21\u001b[1;33m         \u001b[0mtime\u001b[0m\u001b[1;33m.\u001b[0m\u001b[0msleep\u001b[0m\u001b[1;33m(\u001b[0m\u001b[0msleep\u001b[0m\u001b[1;33m)\u001b[0m\u001b[1;33m\u001b[0m\u001b[0m\n\u001b[0m\u001b[0;32m     22\u001b[0m \u001b[1;33m\u001b[0m\u001b[0m\n\u001b[0;32m     23\u001b[0m \u001b[1;33m\u001b[0m\u001b[0m\n",
      "\u001b[1;31mKeyboardInterrupt\u001b[0m: "
     ]
    }
   ],
   "source": [
    "nb_progress_display(results, doing)"
   ]
  },
  {
   "cell_type": "code",
   "execution_count": 281,
   "metadata": {
    "collapsed": true
   },
   "outputs": [],
   "source": [
    "results_df = pd.DataFrame(results.result)"
   ]
  },
  {
   "cell_type": "code",
   "execution_count": 61,
   "metadata": {
    "collapsed": false
   },
   "outputs": [
    {
     "name": "stdout",
     "output_type": "stream",
     "text": [
      "<class 'pandas.core.frame.DataFrame'>\n",
      "Int64Index: 18826 entries, 0 to 18825\n",
      "Data columns (total 53 columns):\n",
      "ANC_SVN_REVISION         18826 non-null object\n",
      "BIN_PATTERN_INDEX        18826 non-null object\n",
      "BIN_TBL                  18826 non-null object\n",
      "BITPIX                   18826 non-null int64\n",
      "BLANK                    18826 non-null int64\n",
      "BUNDLE_ID                18826 non-null object\n",
      "CADENCE                  18826 non-null float64\n",
      "CAPTURE                  18826 non-null object\n",
      "CASE_TEMP                18826 non-null float64\n",
      "CHANNEL                  18826 non-null object\n",
      "CODE_SVN_REVISION        18826 non-null object\n",
      "COLLECTION_ID            18826 non-null object\n",
      "DET_TEMP                 18826 non-null float64\n",
      "DUTY_CYCLE               18826 non-null float64\n",
      "ET                       18826 non-null float64\n",
      "EXTEND                   18826 non-null bool\n",
      "FILENAME                 18826 non-null object\n",
      "FOV_DEG                  18826 non-null float64\n",
      "GRATING_SELECT           18826 non-null object\n",
      "INT_TIME                 18826 non-null float64\n",
      "KEYHOLE_SELECT           18826 non-null object\n",
      "LYA_CENTROID             18826 non-null int64\n",
      "MCP_VOLT                 18826 non-null float64\n",
      "MIRROR_DEG               18826 non-null float64\n",
      "MIRROR_DN                18826 non-null float64\n",
      "MIR_DEG                  18826 non-null float64\n",
      "MISSION_PHASE            18826 non-null object\n",
      "NAXIS                    18826 non-null int64\n",
      "NAXIS1                   18826 non-null int64\n",
      "NAXIS2                   18826 non-null int64\n",
      "NAXIS3                   16775 non-null float64\n",
      "N_FILL                   18826 non-null int64\n",
      "OBSERVATION_TYPE         18826 non-null object\n",
      "OBS_ID                   18826 non-null int64\n",
      "ORBIT_NUMBER             18826 non-null int64\n",
      "ORBIT_SEGMENT            18826 non-null int64\n",
      "PROCESS                  18826 non-null object\n",
      "PRODUCT_CREATION_DATE    18826 non-null object\n",
      "PRODUCT_ID               18826 non-null object\n",
      "SIMPLE                   18826 non-null bool\n",
      "SOLAR_LONGITUDE          18826 non-null float64\n",
      "SPA_OFS                  17716 non-null float64\n",
      "SPA_SIZE                 17716 non-null float64\n",
      "SPE_OFS                  17716 non-null float64\n",
      "SPE_SIZE                 17716 non-null float64\n",
      "SW_VER                   17563 non-null object\n",
      "TARGET_NAME              18826 non-null object\n",
      "TIMESTAMP                18826 non-null float64\n",
      "UTC                      18826 non-null object\n",
      "XUV                      18826 non-null object\n",
      "mean                     17810 non-null float64\n",
      "median                   17814 non-null float64\n",
      "std                      17810 non-null float64\n",
      "dtypes: bool(2), float64(21), int64(10), object(20)\n",
      "memory usage: 7.5+ MB\n"
     ]
    }
   ],
   "source": [
    "results_df.info()"
   ]
  },
  {
   "cell_type": "code",
   "execution_count": 62,
   "metadata": {
    "collapsed": false
   },
   "outputs": [],
   "source": [
    "results_df.loc[results_df.ANC_SVN_REVISION == '', 'ANC_SVN_REVISION'] = 0"
   ]
  },
  {
   "cell_type": "code",
   "execution_count": 63,
   "metadata": {
    "collapsed": false
   },
   "outputs": [],
   "source": [
    "results_df = results_df.convert_objects(convert_numeric=True)"
   ]
  },
  {
   "cell_type": "code",
   "execution_count": 64,
   "metadata": {
    "collapsed": false
   },
   "outputs": [],
   "source": [
    "results_df.to_hdf('/home/klay6683/output/l1a_dark_scans/results_df.h5', 'df')"
   ]
  },
  {
   "cell_type": "markdown",
   "metadata": {},
   "source": [
    "## Merge temporary h5 files to database"
   ]
  },
  {
   "cell_type": "code",
   "execution_count": 277,
   "metadata": {
    "collapsed": true
   },
   "outputs": [],
   "source": [
    "import glob\n",
    "h5fnames = glob.glob(\"/home/klay6683/output/l1a_dark_scans/*.h5\")"
   ]
  },
  {
   "cell_type": "code",
   "execution_count": 278,
   "metadata": {
    "collapsed": false
   },
   "outputs": [
    {
     "data": {
      "text/plain": [
       "13107"
      ]
     },
     "execution_count": 278,
     "metadata": {},
     "output_type": "execute_result"
    }
   ],
   "source": [
    "len(h5fnames)"
   ]
  },
  {
   "cell_type": "code",
   "execution_count": 279,
   "metadata": {
    "collapsed": true
   },
   "outputs": [],
   "source": [
    "def chunker(seq, size):\n",
    "    return (seq[pos:pos + size] for pos in range(0, len(seq), size))"
   ]
  },
  {
   "cell_type": "code",
   "execution_count": 280,
   "metadata": {
    "collapsed": false
   },
   "outputs": [
    {
     "name": "stdout",
     "output_type": "stream",
     "text": [
      "Chunk 0\n",
      "Chunk 1\n",
      "Chunk 2\n",
      "Chunk 3\n",
      "Chunk 4\n",
      "Chunk 5\n",
      "Chunk 6\n",
      "Chunk 7\n",
      "Chunk 8\n",
      "Chunk 9\n",
      "Chunk 10\n",
      "Chunk 11\n",
      "Chunk 12\n",
      "Chunk 13\n",
      "Chunk 14\n",
      "Chunk 15\n",
      "Chunk 16\n",
      "Chunk 17\n",
      "Chunk 18\n",
      "Chunk 19\n",
      "Chunk 20\n",
      "Chunk 21\n",
      "Chunk 22\n",
      "Chunk 23\n",
      "Chunk 24\n",
      "Chunk 25\n",
      "Chunk 26\n",
      "Chunk 27\n",
      "Chunk 28\n",
      "Chunk 29\n",
      "Chunk 30\n",
      "Chunk 31\n",
      "Chunk 32\n",
      "Chunk 33\n",
      "Chunk 34\n",
      "Chunk 35\n",
      "Chunk 36\n",
      "Chunk 37\n",
      "Chunk 38\n",
      "Chunk 39\n",
      "Chunk 40\n",
      "Chunk 41\n",
      "Chunk 42\n",
      "Chunk 43\n",
      "Chunk 44\n",
      "Chunk 45\n",
      "Chunk 46\n",
      "Chunk 47\n",
      "Chunk 48\n",
      "Chunk 49\n",
      "Chunk 50\n",
      "Chunk 51\n",
      "Chunk 52\n",
      "Chunk 53\n",
      "Chunk 54\n",
      "Chunk 55\n",
      "Chunk 56\n",
      "Chunk 57\n",
      "Chunk 58\n",
      "Chunk 59\n",
      "Chunk 60\n",
      "Chunk 61\n",
      "Chunk 62\n",
      "Chunk 63\n",
      "Chunk 64\n",
      "Chunk 65\n"
     ]
    }
   ],
   "source": [
    "dfs = []\n",
    "for i,chunk in enumerate(chunker(h5fnames, 200)):\n",
    "    print(\"Chunk {}\".format(i))\n",
    "    frames = []\n",
    "    for fname in chunk:\n",
    "        frames.append(pd.read_hdf(fname, 'df'))\n",
    "    dfs.append(pd.concat(frames, ignore_index=True))"
   ]
  },
  {
   "cell_type": "code",
   "execution_count": 282,
   "metadata": {
    "collapsed": false
   },
   "outputs": [],
   "source": [
    "superdf = pd.concat(dfs, ignore_index=True)"
   ]
  },
  {
   "cell_type": "code",
   "execution_count": 283,
   "metadata": {
    "collapsed": false
   },
   "outputs": [
    {
     "name": "stdout",
     "output_type": "stream",
     "text": [
      "<class 'pandas.core.frame.DataFrame'>\n",
      "Int64Index: 51306 entries, 0 to 51305\n",
      "Data columns (total 52 columns):\n",
      "ANC_SVN_REVISION         51306 non-null object\n",
      "BIN_PATTERN_INDEX        51306 non-null object\n",
      "BIN_TBL                  51306 non-null object\n",
      "BITPIX                   51306 non-null int64\n",
      "BLANK                    51306 non-null int64\n",
      "BUNDLE_ID                51306 non-null object\n",
      "CADENCE                  51306 non-null float64\n",
      "CAPTURE                  51306 non-null object\n",
      "CASE_TEMP                51306 non-null float64\n",
      "CHANNEL                  51306 non-null object\n",
      "CODE_SVN_REVISION        51306 non-null object\n",
      "COLLECTION_ID            51306 non-null object\n",
      "DET_TEMP                 51306 non-null float64\n",
      "DUTY_CYCLE               51306 non-null float64\n",
      "ET                       51306 non-null float64\n",
      "EXTEND                   51306 non-null bool\n",
      "FILENAME                 51306 non-null object\n",
      "FOV_DEG                  51306 non-null float32\n",
      "GRATING_SELECT           51306 non-null object\n",
      "INT_TIME                 51306 non-null float64\n",
      "KEYHOLE_SELECT           51306 non-null object\n",
      "LYA_CENTROID             51306 non-null int16\n",
      "MCP_VOLT                 51306 non-null float64\n",
      "MIRROR_DEG               51306 non-null float32\n",
      "MIRROR_DN                51306 non-null float64\n",
      "MIR_DEG                  51306 non-null float64\n",
      "MISSION_PHASE            51306 non-null object\n",
      "NAXIS                    51306 non-null int64\n",
      "NAXIS1                   51306 non-null int64\n",
      "NAXIS2                   51306 non-null int64\n",
      "NAXIS3                   44027 non-null float64\n",
      "N_FILL                   51306 non-null int64\n",
      "OBSERVATION_TYPE         51306 non-null object\n",
      "OBS_ID                   51306 non-null int64\n",
      "ORBIT_NUMBER             51306 non-null int64\n",
      "ORBIT_SEGMENT            51306 non-null int64\n",
      "PROCESS                  51306 non-null object\n",
      "PRODUCT_CREATION_DATE    51306 non-null object\n",
      "PRODUCT_ID               51306 non-null object\n",
      "SIMPLE                   51306 non-null bool\n",
      "SOLAR_LONGITUDE          51306 non-null float64\n",
      "SPA_OFS                  51306 non-null int64\n",
      "SPA_SIZE                 51306 non-null int64\n",
      "SPE_OFS                  51306 non-null int64\n",
      "SPE_SIZE                 51306 non-null int64\n",
      "TARGET_NAME              51306 non-null object\n",
      "TIMESTAMP                51306 non-null float64\n",
      "UTC                      51306 non-null object\n",
      "XUV                      51306 non-null object\n",
      "mean                     50262 non-null float64\n",
      "median                   50290 non-null float64\n",
      "std                      50262 non-null float64\n",
      "dtypes: bool(2), float32(2), float64(15), int16(1), int64(13), object(19)\n",
      "memory usage: 19.4+ MB\n"
     ]
    }
   ],
   "source": [
    "superdf.info()"
   ]
  },
  {
   "cell_type": "code",
   "execution_count": 284,
   "metadata": {
    "collapsed": true
   },
   "outputs": [],
   "source": [
    "from iuvs import calib"
   ]
  },
  {
   "cell_type": "code",
   "execution_count": 285,
   "metadata": {
    "collapsed": false
   },
   "outputs": [],
   "source": [
    "superdf.DET_TEMP = superdf.DET_TEMP.map(calib.convert_det_temp_to_C)\n",
    "superdf.CASE_TEMP = superdf.CASE_TEMP.map(calib.convert_case_temp_to_C)"
   ]
  },
  {
   "cell_type": "code",
   "execution_count": 286,
   "metadata": {
    "collapsed": true
   },
   "outputs": [],
   "source": [
    "superdf.to_hdf('/home/klay6683/to_keep/l1a_dark_scan.h5','df')"
   ]
  },
  {
   "cell_type": "code",
   "execution_count": 287,
   "metadata": {
    "collapsed": true
   },
   "outputs": [],
   "source": [
    "from iuvs import meta"
   ]
  },
  {
   "cell_type": "code",
   "execution_count": null,
   "metadata": {
    "collapsed": true
   },
   "outputs": [],
   "source": []
  }
 ],
 "metadata": {
  "kernelspec": {
   "display_name": "Python 3",
   "language": "python",
   "name": "python3"
  },
  "language_info": {
   "codemirror_mode": {
    "name": "ipython",
    "version": 3
   },
   "file_extension": ".py",
   "mimetype": "text/x-python",
   "name": "python",
   "nbconvert_exporter": "python",
   "pygments_lexer": "ipython3",
   "version": "3.4.3"
  }
 },
 "nbformat": 4,
 "nbformat_minor": 0
}

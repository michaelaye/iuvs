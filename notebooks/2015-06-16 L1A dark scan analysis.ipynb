{
 "cells": [
  {
   "cell_type": "code",
   "execution_count": 1,
   "metadata": {
    "collapsed": false
   },
   "outputs": [],
   "source": [
    "# df = pd.read_hdf('/home/klay6683/to_keep/l1a_dark_scan.h5', 'df')\n",
    "df = pd.read_hdf('/Users/klay6683/data/iuvs/l1a_dark_scan.h5', 'df')"
   ]
  },
  {
   "cell_type": "code",
   "execution_count": 2,
   "metadata": {
    "collapsed": false
   },
   "outputs": [
    {
     "data": {
      "text/html": [
       "<div>\n",
       "<table border=\"1\" class=\"dataframe\">\n",
       "  <thead>\n",
       "    <tr style=\"text-align: right;\">\n",
       "      <th></th>\n",
       "      <th>ANC_SVN_REVISION</th>\n",
       "      <th>BIN_PATTERN_INDEX</th>\n",
       "      <th>BIN_TBL</th>\n",
       "      <th>BITPIX</th>\n",
       "      <th>BLANK</th>\n",
       "      <th>BUNDLE_ID</th>\n",
       "      <th>CADENCE</th>\n",
       "      <th>CAPTURE</th>\n",
       "      <th>CASE_TEMP</th>\n",
       "      <th>CHANNEL</th>\n",
       "      <th>...</th>\n",
       "      <th>SPA_SIZE</th>\n",
       "      <th>SPE_OFS</th>\n",
       "      <th>SPE_SIZE</th>\n",
       "      <th>TARGET_NAME</th>\n",
       "      <th>TIMESTAMP</th>\n",
       "      <th>UTC</th>\n",
       "      <th>XUV</th>\n",
       "      <th>mean</th>\n",
       "      <th>median</th>\n",
       "      <th>std</th>\n",
       "    </tr>\n",
       "  </thead>\n",
       "  <tbody>\n",
       "    <tr>\n",
       "      <th>0</th>\n",
       "      <td>1145</td>\n",
       "      <td>LINEAR linear_0011</td>\n",
       "      <td>LINEAR 11,12 linear_0011</td>\n",
       "      <td>32</td>\n",
       "      <td>-1</td>\n",
       "      <td>raw</td>\n",
       "      <td>2</td>\n",
       "      <td>2015/067 Mar 08 05:11:57.86878UTC</td>\n",
       "      <td>5.246964</td>\n",
       "      <td>FUV</td>\n",
       "      <td>...</td>\n",
       "      <td>115</td>\n",
       "      <td>52</td>\n",
       "      <td>8</td>\n",
       "      <td>MARS</td>\n",
       "      <td>4.790635e+08</td>\n",
       "      <td>2015/067 Mar 08 05:11:57.86878UTC</td>\n",
       "      <td>FUV</td>\n",
       "      <td>1.161304</td>\n",
       "      <td>1.144420</td>\n",
       "      <td>0.201202</td>\n",
       "    </tr>\n",
       "    <tr>\n",
       "      <th>1</th>\n",
       "      <td>1145</td>\n",
       "      <td>LINEAR linear_0011</td>\n",
       "      <td>LINEAR 11,12 linear_0011</td>\n",
       "      <td>32</td>\n",
       "      <td>-1</td>\n",
       "      <td>raw</td>\n",
       "      <td>2</td>\n",
       "      <td>2015/067 Mar 08 05:11:57.86878UTC</td>\n",
       "      <td>5.246964</td>\n",
       "      <td>FUV</td>\n",
       "      <td>...</td>\n",
       "      <td>115</td>\n",
       "      <td>52</td>\n",
       "      <td>8</td>\n",
       "      <td>MARS</td>\n",
       "      <td>4.790635e+08</td>\n",
       "      <td>2015/067 Mar 08 05:11:59.86878UTC</td>\n",
       "      <td>FUV</td>\n",
       "      <td>1.104368</td>\n",
       "      <td>1.086578</td>\n",
       "      <td>0.215619</td>\n",
       "    </tr>\n",
       "    <tr>\n",
       "      <th>2</th>\n",
       "      <td>1141</td>\n",
       "      <td>LINEAR linear_0006</td>\n",
       "      <td>LINEAR 15,16 linear_0006</td>\n",
       "      <td>32</td>\n",
       "      <td>-1</td>\n",
       "      <td>raw</td>\n",
       "      <td>15</td>\n",
       "      <td>2015/025 Jan 25 20:45:08.45005UTC</td>\n",
       "      <td>4.760925</td>\n",
       "      <td>FUV</td>\n",
       "      <td>...</td>\n",
       "      <td>80</td>\n",
       "      <td>0</td>\n",
       "      <td>4</td>\n",
       "      <td>MARS</td>\n",
       "      <td>4.754907e+08</td>\n",
       "      <td>2015/025 Jan 25 20:45:08.45005UTC</td>\n",
       "      <td>FUV</td>\n",
       "      <td>0.293088</td>\n",
       "      <td>0.274858</td>\n",
       "      <td>0.081759</td>\n",
       "    </tr>\n",
       "    <tr>\n",
       "      <th>3</th>\n",
       "      <td>1141</td>\n",
       "      <td>LINEAR linear_0006</td>\n",
       "      <td>LINEAR 15,16 linear_0006</td>\n",
       "      <td>32</td>\n",
       "      <td>-1</td>\n",
       "      <td>raw</td>\n",
       "      <td>15</td>\n",
       "      <td>2015/025 Jan 25 20:45:08.45005UTC</td>\n",
       "      <td>4.760925</td>\n",
       "      <td>FUV</td>\n",
       "      <td>...</td>\n",
       "      <td>80</td>\n",
       "      <td>0</td>\n",
       "      <td>4</td>\n",
       "      <td>MARS</td>\n",
       "      <td>4.754907e+08</td>\n",
       "      <td>2015/025 Jan 25 20:45:23.45006UTC</td>\n",
       "      <td>FUV</td>\n",
       "      <td>0.290655</td>\n",
       "      <td>0.272145</td>\n",
       "      <td>0.081497</td>\n",
       "    </tr>\n",
       "    <tr>\n",
       "      <th>4</th>\n",
       "      <td>1141</td>\n",
       "      <td>LINEAR linear_0006</td>\n",
       "      <td>LINEAR 15,16 linear_0006</td>\n",
       "      <td>32</td>\n",
       "      <td>-1</td>\n",
       "      <td>raw</td>\n",
       "      <td>15</td>\n",
       "      <td>2015/025 Jan 25 20:45:08.45005UTC</td>\n",
       "      <td>4.760925</td>\n",
       "      <td>FUV</td>\n",
       "      <td>...</td>\n",
       "      <td>80</td>\n",
       "      <td>0</td>\n",
       "      <td>4</td>\n",
       "      <td>MARS</td>\n",
       "      <td>4.754907e+08</td>\n",
       "      <td>2015/025 Jan 25 20:45:38.45007UTC</td>\n",
       "      <td>FUV</td>\n",
       "      <td>0.295681</td>\n",
       "      <td>0.277354</td>\n",
       "      <td>0.086342</td>\n",
       "    </tr>\n",
       "  </tbody>\n",
       "</table>\n",
       "<p>5 rows × 52 columns</p>\n",
       "</div>"
      ],
      "text/plain": [
       "  ANC_SVN_REVISION   BIN_PATTERN_INDEX                   BIN_TBL  BITPIX  \\\n",
       "0             1145  LINEAR linear_0011  LINEAR 11,12 linear_0011      32   \n",
       "1             1145  LINEAR linear_0011  LINEAR 11,12 linear_0011      32   \n",
       "2             1141  LINEAR linear_0006  LINEAR 15,16 linear_0006      32   \n",
       "3             1141  LINEAR linear_0006  LINEAR 15,16 linear_0006      32   \n",
       "4             1141  LINEAR linear_0006  LINEAR 15,16 linear_0006      32   \n",
       "\n",
       "   BLANK BUNDLE_ID  CADENCE                            CAPTURE  CASE_TEMP  \\\n",
       "0     -1       raw        2  2015/067 Mar 08 05:11:57.86878UTC   5.246964   \n",
       "1     -1       raw        2  2015/067 Mar 08 05:11:57.86878UTC   5.246964   \n",
       "2     -1       raw       15  2015/025 Jan 25 20:45:08.45005UTC   4.760925   \n",
       "3     -1       raw       15  2015/025 Jan 25 20:45:08.45005UTC   4.760925   \n",
       "4     -1       raw       15  2015/025 Jan 25 20:45:08.45005UTC   4.760925   \n",
       "\n",
       "  CHANNEL    ...    SPA_SIZE SPE_OFS  SPE_SIZE  TARGET_NAME     TIMESTAMP  \\\n",
       "0     FUV    ...         115      52         8         MARS  4.790635e+08   \n",
       "1     FUV    ...         115      52         8         MARS  4.790635e+08   \n",
       "2     FUV    ...          80       0         4         MARS  4.754907e+08   \n",
       "3     FUV    ...          80       0         4         MARS  4.754907e+08   \n",
       "4     FUV    ...          80       0         4         MARS  4.754907e+08   \n",
       "\n",
       "                                 UTC  XUV      mean    median       std  \n",
       "0  2015/067 Mar 08 05:11:57.86878UTC  FUV  1.161304  1.144420  0.201202  \n",
       "1  2015/067 Mar 08 05:11:59.86878UTC  FUV  1.104368  1.086578  0.215619  \n",
       "2  2015/025 Jan 25 20:45:08.45005UTC  FUV  0.293088  0.274858  0.081759  \n",
       "3  2015/025 Jan 25 20:45:23.45006UTC  FUV  0.290655  0.272145  0.081497  \n",
       "4  2015/025 Jan 25 20:45:38.45007UTC  FUV  0.295681  0.277354  0.086342  \n",
       "\n",
       "[5 rows x 52 columns]"
      ]
     },
     "execution_count": 2,
     "metadata": {},
     "output_type": "execute_result"
    }
   ],
   "source": [
    "df.head()"
   ]
  },
  {
   "cell_type": "markdown",
   "metadata": {},
   "source": [
    "### removing items that don't change\n",
    "I determine via unique-ness measure if there's ever a change of the value in a column. If not, I drop the column as not meaningful for a independent variable search."
   ]
  },
  {
   "cell_type": "code",
   "execution_count": 3,
   "metadata": {
    "collapsed": false
   },
   "outputs": [
    {
     "name": "stdout",
     "output_type": "stream",
     "text": [
      "BITPIX\n",
      "[32]\n",
      "BLANK\n",
      "[-1]\n",
      "BUNDLE_ID\n",
      "['raw']\n",
      "EXTEND\n",
      "[True]\n",
      "GRATING_SELECT\n",
      "['LOWRES']\n",
      "KEYHOLE_SELECT\n",
      "['NEITHER']\n",
      "OBSERVATION_TYPE\n",
      "['CDS']\n",
      "ORBIT_SEGMENT\n",
      "[0]\n",
      "SIMPLE\n",
      "[True]\n"
     ]
    }
   ],
   "source": [
    "to_drop = []\n",
    "for col in df:\n",
    "    n_unique = len(df[col].unique())\n",
    "    if n_unique == 1:\n",
    "        print(col)\n",
    "        print(df[col].unique())\n",
    "        to_drop.append(col)\n",
    "df = df.drop(to_drop, axis=1)"
   ]
  },
  {
   "cell_type": "code",
   "execution_count": 4,
   "metadata": {
    "collapsed": true
   },
   "outputs": [],
   "source": [
    "from iuvs import io, scaling, meta"
   ]
  },
  {
   "cell_type": "code",
   "execution_count": 5,
   "metadata": {
    "collapsed": false
   },
   "outputs": [],
   "source": [
    "df['CAPTURE'] = df.CAPTURE.map(io.iuvs_utc_to_dtime)"
   ]
  },
  {
   "cell_type": "code",
   "execution_count": 6,
   "metadata": {
    "collapsed": false
   },
   "outputs": [],
   "source": [
    "df.UTC = df.UTC.map(io.iuvs_utc_to_dtime)"
   ]
  },
  {
   "cell_type": "code",
   "execution_count": 7,
   "metadata": {
    "collapsed": false
   },
   "outputs": [
    {
     "data": {
      "text/plain": [
       "Index(['ANC_SVN_REVISION', 'BIN_PATTERN_INDEX', 'BIN_TBL', 'CADENCE',\n",
       "       'CAPTURE', 'CASE_TEMP', 'CHANNEL', 'CODE_SVN_REVISION', 'COLLECTION_ID',\n",
       "       'DET_TEMP', 'DUTY_CYCLE', 'ET', 'FILENAME', 'FOV_DEG', 'INT_TIME',\n",
       "       'LYA_CENTROID', 'MCP_VOLT', 'MIRROR_DEG', 'MIRROR_DN', 'MIR_DEG',\n",
       "       'MISSION_PHASE', 'NAXIS', 'NAXIS1', 'NAXIS2', 'NAXIS3', 'N_FILL',\n",
       "       'OBS_ID', 'ORBIT_NUMBER', 'PROCESS', 'PRODUCT_CREATION_DATE',\n",
       "       'PRODUCT_ID', 'SOLAR_LONGITUDE', 'SPA_OFS', 'SPA_SIZE', 'SPE_OFS',\n",
       "       'SPE_SIZE', 'TARGET_NAME', 'TIMESTAMP', 'UTC', 'XUV', 'mean', 'median',\n",
       "       'std'],\n",
       "      dtype='object')"
      ]
     },
     "execution_count": 7,
     "metadata": {},
     "output_type": "execute_result"
    }
   ],
   "source": [
    "df.columns"
   ]
  },
  {
   "cell_type": "code",
   "execution_count": 8,
   "metadata": {
    "collapsed": false
   },
   "outputs": [],
   "source": [
    "df.rename(columns=lambda x: 'TIME_OF_INT' if x=='UTC' else x, inplace=True)"
   ]
  },
  {
   "cell_type": "code",
   "execution_count": 9,
   "metadata": {
    "collapsed": false
   },
   "outputs": [
    {
     "data": {
      "text/plain": [
       "Index(['ANC_SVN_REVISION', 'BIN_PATTERN_INDEX', 'BIN_TBL', 'CADENCE',\n",
       "       'CAPTURE', 'CASE_TEMP', 'CHANNEL', 'CODE_SVN_REVISION', 'COLLECTION_ID',\n",
       "       'DET_TEMP', 'DUTY_CYCLE', 'ET', 'FILENAME', 'FOV_DEG', 'INT_TIME',\n",
       "       'LYA_CENTROID', 'MCP_VOLT', 'MIRROR_DEG', 'MIRROR_DN', 'MIR_DEG',\n",
       "       'MISSION_PHASE', 'NAXIS', 'NAXIS1', 'NAXIS2', 'NAXIS3', 'N_FILL',\n",
       "       'OBS_ID', 'ORBIT_NUMBER', 'PROCESS', 'PRODUCT_CREATION_DATE',\n",
       "       'PRODUCT_ID', 'SOLAR_LONGITUDE', 'SPA_OFS', 'SPA_SIZE', 'SPE_OFS',\n",
       "       'SPE_SIZE', 'TARGET_NAME', 'TIMESTAMP', 'TIME_OF_INT', 'XUV', 'mean',\n",
       "       'median', 'std'],\n",
       "      dtype='object')"
      ]
     },
     "execution_count": 9,
     "metadata": {},
     "output_type": "execute_result"
    }
   ],
   "source": [
    "df.columns"
   ]
  },
  {
   "cell_type": "markdown",
   "metadata": {},
   "source": [
    "### Remove all times apart of time of integration for now"
   ]
  },
  {
   "cell_type": "code",
   "execution_count": 10,
   "metadata": {
    "collapsed": true
   },
   "outputs": [],
   "source": [
    "df = df.drop('et timestamp capture'.upper().split(), axis=1)"
   ]
  },
  {
   "cell_type": "code",
   "execution_count": 11,
   "metadata": {
    "collapsed": false,
    "scrolled": true
   },
   "outputs": [
    {
     "data": {
      "text/plain": [
       "Index(['ANC_SVN_REVISION', 'BIN_PATTERN_INDEX', 'BIN_TBL', 'CADENCE',\n",
       "       'CASE_TEMP', 'CHANNEL', 'CODE_SVN_REVISION', 'COLLECTION_ID',\n",
       "       'DET_TEMP', 'DUTY_CYCLE', 'FILENAME', 'FOV_DEG', 'INT_TIME',\n",
       "       'LYA_CENTROID', 'MCP_VOLT', 'MIRROR_DEG', 'MIRROR_DN', 'MIR_DEG',\n",
       "       'MISSION_PHASE', 'NAXIS', 'NAXIS1', 'NAXIS2', 'NAXIS3', 'N_FILL',\n",
       "       'OBS_ID', 'ORBIT_NUMBER', 'PROCESS', 'PRODUCT_CREATION_DATE',\n",
       "       'PRODUCT_ID', 'SOLAR_LONGITUDE', 'SPA_OFS', 'SPA_SIZE', 'SPE_OFS',\n",
       "       'SPE_SIZE', 'TARGET_NAME', 'TIME_OF_INT', 'XUV', 'mean', 'median',\n",
       "       'std'],\n",
       "      dtype='object')"
      ]
     },
     "execution_count": 11,
     "metadata": {},
     "output_type": "execute_result"
    }
   ],
   "source": [
    "df.columns"
   ]
  },
  {
   "cell_type": "markdown",
   "metadata": {},
   "source": [
    "### CHANNEL and XUV are the same so remove one of it"
   ]
  },
  {
   "cell_type": "code",
   "execution_count": 12,
   "metadata": {
    "collapsed": false
   },
   "outputs": [
    {
     "data": {
      "text/plain": [
       "True"
      ]
     },
     "execution_count": 12,
     "metadata": {},
     "output_type": "execute_result"
    }
   ],
   "source": [
    "(df.XUV == df.CHANNEL).all()"
   ]
  },
  {
   "cell_type": "code",
   "execution_count": 13,
   "metadata": {
    "collapsed": true
   },
   "outputs": [],
   "source": [
    "df = df.drop(['XUV'], axis=1)"
   ]
  },
  {
   "cell_type": "code",
   "execution_count": 14,
   "metadata": {
    "collapsed": false
   },
   "outputs": [
    {
     "data": {
      "text/plain": [
       "Index(['ANC_SVN_REVISION', 'BIN_PATTERN_INDEX', 'BIN_TBL', 'CADENCE',\n",
       "       'CASE_TEMP', 'CHANNEL', 'CODE_SVN_REVISION', 'COLLECTION_ID',\n",
       "       'DET_TEMP', 'DUTY_CYCLE', 'FILENAME', 'FOV_DEG', 'INT_TIME',\n",
       "       'LYA_CENTROID', 'MCP_VOLT', 'MIRROR_DEG', 'MIRROR_DN', 'MIR_DEG',\n",
       "       'MISSION_PHASE', 'NAXIS', 'NAXIS1', 'NAXIS2', 'NAXIS3', 'N_FILL',\n",
       "       'OBS_ID', 'ORBIT_NUMBER', 'PROCESS', 'PRODUCT_CREATION_DATE',\n",
       "       'PRODUCT_ID', 'SOLAR_LONGITUDE', 'SPA_OFS', 'SPA_SIZE', 'SPE_OFS',\n",
       "       'SPE_SIZE', 'TARGET_NAME', 'TIME_OF_INT', 'mean', 'median', 'std'],\n",
       "      dtype='object')"
      ]
     },
     "execution_count": 14,
     "metadata": {},
     "output_type": "execute_result"
    }
   ],
   "source": [
    "df.columns"
   ]
  },
  {
   "cell_type": "markdown",
   "metadata": {},
   "source": [
    "### Also PROCESS and PRODUCT_CREATION_DATE are the same and I remove the longer column title version"
   ]
  },
  {
   "cell_type": "code",
   "execution_count": 15,
   "metadata": {
    "collapsed": false
   },
   "outputs": [
    {
     "data": {
      "text/plain": [
       "True"
      ]
     },
     "execution_count": 15,
     "metadata": {},
     "output_type": "execute_result"
    }
   ],
   "source": [
    "(df['PROCESS'] == df['PRODUCT_CREATION_DATE']).all()"
   ]
  },
  {
   "cell_type": "code",
   "execution_count": 16,
   "metadata": {
    "collapsed": true
   },
   "outputs": [],
   "source": [
    "df = df.drop(['PRODUCT_CREATION_DATE'], axis=1)"
   ]
  },
  {
   "cell_type": "code",
   "execution_count": 17,
   "metadata": {
    "collapsed": false
   },
   "outputs": [
    {
     "data": {
      "text/plain": [
       "Index(['ANC_SVN_REVISION', 'BIN_PATTERN_INDEX', 'BIN_TBL', 'CADENCE',\n",
       "       'CASE_TEMP', 'CHANNEL', 'CODE_SVN_REVISION', 'COLLECTION_ID',\n",
       "       'DET_TEMP', 'DUTY_CYCLE', 'FILENAME', 'FOV_DEG', 'INT_TIME',\n",
       "       'LYA_CENTROID', 'MCP_VOLT', 'MIRROR_DEG', 'MIRROR_DN', 'MIR_DEG',\n",
       "       'MISSION_PHASE', 'NAXIS', 'NAXIS1', 'NAXIS2', 'NAXIS3', 'N_FILL',\n",
       "       'OBS_ID', 'ORBIT_NUMBER', 'PROCESS', 'PRODUCT_ID', 'SOLAR_LONGITUDE',\n",
       "       'SPA_OFS', 'SPA_SIZE', 'SPE_OFS', 'SPE_SIZE', 'TARGET_NAME',\n",
       "       'TIME_OF_INT', 'mean', 'median', 'std'],\n",
       "      dtype='object')"
      ]
     },
     "execution_count": 17,
     "metadata": {},
     "output_type": "execute_result"
    }
   ],
   "source": [
    "df.columns"
   ]
  },
  {
   "cell_type": "markdown",
   "metadata": {},
   "source": [
    "### Having PRODUCT_ID I don't need FILENAME "
   ]
  },
  {
   "cell_type": "code",
   "execution_count": 18,
   "metadata": {
    "collapsed": true
   },
   "outputs": [],
   "source": [
    "df = df.drop(['FILENAME'], axis=1)"
   ]
  },
  {
   "cell_type": "code",
   "execution_count": 19,
   "metadata": {
    "collapsed": false
   },
   "outputs": [
    {
     "data": {
      "text/plain": [
       "Index(['ANC_SVN_REVISION', 'BIN_PATTERN_INDEX', 'BIN_TBL', 'CADENCE',\n",
       "       'CASE_TEMP', 'CHANNEL', 'CODE_SVN_REVISION', 'COLLECTION_ID',\n",
       "       'DET_TEMP', 'DUTY_CYCLE', 'FOV_DEG', 'INT_TIME', 'LYA_CENTROID',\n",
       "       'MCP_VOLT', 'MIRROR_DEG', 'MIRROR_DN', 'MIR_DEG', 'MISSION_PHASE',\n",
       "       'NAXIS', 'NAXIS1', 'NAXIS2', 'NAXIS3', 'N_FILL', 'OBS_ID',\n",
       "       'ORBIT_NUMBER', 'PROCESS', 'PRODUCT_ID', 'SOLAR_LONGITUDE', 'SPA_OFS',\n",
       "       'SPA_SIZE', 'SPE_OFS', 'SPE_SIZE', 'TARGET_NAME', 'TIME_OF_INT', 'mean',\n",
       "       'median', 'std'],\n",
       "      dtype='object')"
      ]
     },
     "execution_count": 19,
     "metadata": {},
     "output_type": "execute_result"
    }
   ],
   "source": [
    "df.columns"
   ]
  },
  {
   "cell_type": "markdown",
   "metadata": {},
   "source": [
    "#### creating little checking function:"
   ]
  },
  {
   "cell_type": "code",
   "execution_count": 20,
   "metadata": {
    "collapsed": true
   },
   "outputs": [],
   "source": [
    "def check_values(col):\n",
    "    return df[col.upper()].value_counts(dropna=False)"
   ]
  },
  {
   "cell_type": "markdown",
   "metadata": {},
   "source": [
    "### Combine binning sets into one tuple"
   ]
  },
  {
   "cell_type": "code",
   "execution_count": 21,
   "metadata": {
    "collapsed": true
   },
   "outputs": [],
   "source": [
    "def combine_binning_data(row):\n",
    "    return tuple(int(row[col]) for col in ['SPE_OFS', 'SPE_SIZE', 'SPA_OFS', 'SPA_SIZE'])"
   ]
  },
  {
   "cell_type": "code",
   "execution_count": 22,
   "metadata": {
    "collapsed": true
   },
   "outputs": [],
   "source": [
    "# not sure why I need to do this for the next step, but it's not bad anyway.\n",
    "df.set_index('TIME_OF_INT', inplace=True)"
   ]
  },
  {
   "cell_type": "code",
   "execution_count": 23,
   "metadata": {
    "collapsed": false
   },
   "outputs": [
    {
     "data": {
      "text/plain": [
       "ANC_SVN_REVISION      object\n",
       "BIN_PATTERN_INDEX     object\n",
       "BIN_TBL               object\n",
       "CADENCE              float64\n",
       "CASE_TEMP            float64\n",
       "CHANNEL               object\n",
       "CODE_SVN_REVISION     object\n",
       "COLLECTION_ID         object\n",
       "DET_TEMP             float64\n",
       "DUTY_CYCLE           float64\n",
       "FOV_DEG              float32\n",
       "INT_TIME             float64\n",
       "LYA_CENTROID           int16\n",
       "MCP_VOLT             float64\n",
       "MIRROR_DEG           float32\n",
       "MIRROR_DN            float64\n",
       "MIR_DEG              float64\n",
       "MISSION_PHASE         object\n",
       "NAXIS                  int64\n",
       "NAXIS1                 int64\n",
       "NAXIS2                 int64\n",
       "NAXIS3               float64\n",
       "N_FILL                 int64\n",
       "OBS_ID                 int64\n",
       "ORBIT_NUMBER           int64\n",
       "PROCESS               object\n",
       "PRODUCT_ID            object\n",
       "SOLAR_LONGITUDE      float64\n",
       "SPA_OFS                int64\n",
       "SPA_SIZE               int64\n",
       "SPE_OFS                int64\n",
       "SPE_SIZE               int64\n",
       "TARGET_NAME           object\n",
       "mean                 float64\n",
       "median               float64\n",
       "std                  float64\n",
       "dtype: object"
      ]
     },
     "execution_count": 23,
     "metadata": {},
     "output_type": "execute_result"
    }
   ],
   "source": [
    "df.dtypes"
   ]
  },
  {
   "cell_type": "code",
   "execution_count": 24,
   "metadata": {
    "collapsed": false
   },
   "outputs": [],
   "source": [
    "df['BINNING_SET'] = df.apply(combine_binning_data, axis=1)\n",
    "df = df.drop('spe_size spe_ofs spa_size spa_ofs'.upper().split(), axis=1)"
   ]
  },
  {
   "cell_type": "code",
   "execution_count": 25,
   "metadata": {
    "collapsed": false
   },
   "outputs": [
    {
     "data": {
      "text/plain": [
       "Index(['ANC_SVN_REVISION', 'BIN_PATTERN_INDEX', 'BIN_TBL', 'CADENCE',\n",
       "       'CASE_TEMP', 'CHANNEL', 'CODE_SVN_REVISION', 'COLLECTION_ID',\n",
       "       'DET_TEMP', 'DUTY_CYCLE', 'FOV_DEG', 'INT_TIME', 'LYA_CENTROID',\n",
       "       'MCP_VOLT', 'MIRROR_DEG', 'MIRROR_DN', 'MIR_DEG', 'MISSION_PHASE',\n",
       "       'NAXIS', 'NAXIS1', 'NAXIS2', 'NAXIS3', 'N_FILL', 'OBS_ID',\n",
       "       'ORBIT_NUMBER', 'PROCESS', 'PRODUCT_ID', 'SOLAR_LONGITUDE',\n",
       "       'TARGET_NAME', 'mean', 'median', 'std', 'BINNING_SET'],\n",
       "      dtype='object')"
      ]
     },
     "execution_count": 25,
     "metadata": {},
     "output_type": "execute_result"
    }
   ],
   "source": [
    "df.columns"
   ]
  },
  {
   "cell_type": "code",
   "execution_count": 26,
   "metadata": {
    "collapsed": false
   },
   "outputs": [
    {
     "data": {
      "text/plain": [
       "limb           19085\n",
       "disk           18143\n",
       "corona          5646\n",
       "cruise          4362\n",
       "transition      3422\n",
       "occultation      434\n",
       "calibration      214\n",
       "dtype: int64"
      ]
     },
     "execution_count": 26,
     "metadata": {},
     "output_type": "execute_result"
    }
   ],
   "source": [
    "check_values('collection_id')"
   ]
  },
  {
   "cell_type": "code",
   "execution_count": 27,
   "metadata": {
    "collapsed": false
   },
   "outputs": [
    {
     "data": {
      "text/plain": [
       "0    4362\n",
       "dtype: int64"
      ]
     },
     "execution_count": 27,
     "metadata": {},
     "output_type": "execute_result"
    }
   ],
   "source": [
    "df[df.COLLECTION_ID=='cruise'].ORBIT_NUMBER.value_counts()"
   ]
  },
  {
   "cell_type": "markdown",
   "metadata": {},
   "source": [
    "## removing cruise and transition for being too special for now"
   ]
  },
  {
   "cell_type": "code",
   "execution_count": 28,
   "metadata": {
    "collapsed": false
   },
   "outputs": [],
   "source": [
    "df = df[df.COLLECTION_ID!='cruise']"
   ]
  },
  {
   "cell_type": "code",
   "execution_count": 29,
   "metadata": {
    "collapsed": false
   },
   "outputs": [
    {
     "data": {
      "text/plain": [
       "DatetimeIndex(['2014-09-25 09:43:13.891360', '2014-09-25 15:54:30.068680',\n",
       "               '2014-09-25 15:54:41.068690', '2014-09-24 06:52:52.196050',\n",
       "               '2014-09-24 06:53:03.196060', '2014-09-24 06:53:14.196070',\n",
       "               '2014-09-24 06:53:25.196080', '2014-09-24 06:53:36.196090',\n",
       "               '2014-09-24 06:53:47.196100', '2014-09-24 06:53:58.196110', \n",
       "               ...\n",
       "               '2014-09-23 16:21:45.863150', '2014-09-23 17:00:11.104480',\n",
       "               '2014-09-22 13:57:12.164080', '2014-09-22 13:57:23.164090',\n",
       "               '2014-09-25 05:10:03.439280', '2014-09-25 05:10:14.439290',\n",
       "               '2014-09-23 23:29:42.783710', '2014-09-22 22:43:51.062320',\n",
       "               '2014-10-14 13:47:56.696000', '2014-10-14 13:47:58.696000'],\n",
       "              dtype='datetime64[ns]', name='TIME_OF_INT', length=3422, freq=None, tz=None)"
      ]
     },
     "execution_count": 29,
     "metadata": {},
     "output_type": "execute_result"
    }
   ],
   "source": [
    "df[df.COLLECTION_ID == 'transition'].index"
   ]
  },
  {
   "cell_type": "code",
   "execution_count": 30,
   "metadata": {
    "collapsed": false
   },
   "outputs": [],
   "source": [
    "df = df[df.COLLECTION_ID!='transition']"
   ]
  },
  {
   "cell_type": "code",
   "execution_count": 31,
   "metadata": {
    "collapsed": false
   },
   "outputs": [],
   "source": [
    "df = df.sort_index()"
   ]
  },
  {
   "cell_type": "code",
   "execution_count": 36,
   "metadata": {
    "collapsed": false
   },
   "outputs": [
    {
     "data": {
      "text/plain": [
       "1145    21170\n",
       "1141    15078\n",
       "1168     7232\n",
       "1170       42\n",
       "dtype: int64"
      ]
     },
     "execution_count": 36,
     "metadata": {},
     "output_type": "execute_result"
    }
   ],
   "source": [
    "df.CODE_SVN_REVISION.value_counts()"
   ]
  },
  {
   "cell_type": "code",
   "execution_count": 37,
   "metadata": {
    "collapsed": false
   },
   "outputs": [
    {
     "data": {
      "text/plain": [
       "29.839017854461659"
      ]
     },
     "execution_count": 37,
     "metadata": {},
     "output_type": "execute_result"
    }
   ],
   "source": [
    "df['mean'].max()"
   ]
  },
  {
   "cell_type": "code",
   "execution_count": 38,
   "metadata": {
    "collapsed": false
   },
   "outputs": [
    {
     "data": {
      "text/plain": [
       "29.548838125"
      ]
     },
     "execution_count": 38,
     "metadata": {},
     "output_type": "execute_result"
    }
   ],
   "source": [
    "df['median'].max()"
   ]
  },
  {
   "cell_type": "code",
   "execution_count": 40,
   "metadata": {
    "collapsed": false
   },
   "outputs": [
    {
     "data": {
      "text/plain": [
       "array(['mvn_iuv_l1a_inbound-orbit00335-muvdark_20141201T034341_v02_r01',\n",
       "       'mvn_iuv_l1a_inbound-orbit00338-muvdark_20141201T172957_v02_r01',\n",
       "       'mvn_iuv_l1a_inbound-orbit00341-muvdark_20141202T071612_v02_r01',\n",
       "       'mvn_iuv_l1a_apoapse-orbit01597-muvdark_20150725T184050_v02_r01',\n",
       "       'mvn_iuv_l1a_apoapse-orbit01597-fuvdark_20150725T184050_v02_r01'], dtype=object)"
      ]
     },
     "execution_count": 40,
     "metadata": {},
     "output_type": "execute_result"
    }
   ],
   "source": [
    "df[df['mean']> 25].PRODUCT_ID.unique()"
   ]
  },
  {
   "cell_type": "code",
   "execution_count": 41,
   "metadata": {
    "collapsed": false
   },
   "outputs": [
    {
     "ename": "FileNotFoundError",
     "evalue": "[Errno 2] No such file or directory: '/Users/klay6683/data/iuvs/level1a/mvn_iuv_l1a_apoapse-orbit01597-fuvdark_20150725T184050_v02_r01.fits.gz'",
     "output_type": "error",
     "traceback": [
      "\u001b[0;31m---------------------------------------------------------------------------\u001b[0m",
      "\u001b[0;31mFileNotFoundError\u001b[0m                         Traceback (most recent call last)",
      "\u001b[0;32m<ipython-input-41-daf91ed5981d>\u001b[0m in \u001b[0;36m<module>\u001b[0;34m()\u001b[0m\n\u001b[1;32m      1\u001b[0m l1a = io.L1AReader('mvn_iuv_l1a_apoapse-orbit01597-fuvdark_20150725T184050_v02_r01.fits.gz',\n\u001b[0;32m----> 2\u001b[0;31m                    env='production')\n\u001b[0m",
      "\u001b[0;32m/Users/klay6683/Dropbox/src/iuvs/iuvs/io.py\u001b[0m in \u001b[0;36m__init__\u001b[0;34m(self, fname, env)\u001b[0m\n\u001b[1;32m    616\u001b[0m         \u001b[0mself\u001b[0m\u001b[0;34m.\u001b[0m\u001b[0mp\u001b[0m \u001b[0;34m=\u001b[0m \u001b[0mfname\u001b[0m\u001b[0;34m\u001b[0m\u001b[0m\n\u001b[1;32m    617\u001b[0m         \u001b[0;31m# call super init\u001b[0m\u001b[0;34m\u001b[0m\u001b[0;34m\u001b[0m\u001b[0m\n\u001b[0;32m--> 618\u001b[0;31m         \u001b[0msuper\u001b[0m\u001b[0;34m(\u001b[0m\u001b[0mL1AReader\u001b[0m\u001b[0;34m,\u001b[0m \u001b[0mself\u001b[0m\u001b[0;34m)\u001b[0m\u001b[0;34m.\u001b[0m\u001b[0m__init__\u001b[0m\u001b[0;34m(\u001b[0m\u001b[0mstr\u001b[0m\u001b[0;34m(\u001b[0m\u001b[0mfname\u001b[0m\u001b[0;34m)\u001b[0m\u001b[0;34m)\u001b[0m\u001b[0;34m\u001b[0m\u001b[0m\n\u001b[0m\u001b[1;32m    619\u001b[0m \u001b[0;34m\u001b[0m\u001b[0m\n\u001b[1;32m    620\u001b[0m         \u001b[0;32mfor\u001b[0m \u001b[0mhdu\u001b[0m \u001b[0;32min\u001b[0m \u001b[0mself\u001b[0m\u001b[0;34m.\u001b[0m\u001b[0mhdulist\u001b[0m\u001b[0;34m[\u001b[0m\u001b[0;36m1\u001b[0m\u001b[0;34m:\u001b[0m\u001b[0;34m]\u001b[0m\u001b[0;34m:\u001b[0m\u001b[0;34m\u001b[0m\u001b[0m\n",
      "\u001b[0;32m/Users/klay6683/Dropbox/src/iuvs/iuvs/io.py\u001b[0m in \u001b[0;36m__init__\u001b[0;34m(self, fname)\u001b[0m\n\u001b[1;32m    366\u001b[0m         \u001b[0mself\u001b[0m\u001b[0;34m.\u001b[0m\u001b[0mfname\u001b[0m \u001b[0;34m=\u001b[0m \u001b[0mfname\u001b[0m\u001b[0;34m\u001b[0m\u001b[0m\n\u001b[1;32m    367\u001b[0m         \u001b[0mself\u001b[0m\u001b[0;34m.\u001b[0m\u001b[0miuvsfname\u001b[0m \u001b[0;34m=\u001b[0m \u001b[0mFilename\u001b[0m\u001b[0;34m(\u001b[0m\u001b[0mfname\u001b[0m\u001b[0;34m)\u001b[0m\u001b[0;34m\u001b[0m\u001b[0m\n\u001b[0;32m--> 368\u001b[0;31m         \u001b[0mself\u001b[0m\u001b[0;34m.\u001b[0m\u001b[0mhdulist\u001b[0m \u001b[0;34m=\u001b[0m \u001b[0mfits\u001b[0m\u001b[0;34m.\u001b[0m\u001b[0mopen\u001b[0m\u001b[0;34m(\u001b[0m\u001b[0mself\u001b[0m\u001b[0;34m.\u001b[0m\u001b[0mfname\u001b[0m\u001b[0;34m)\u001b[0m\u001b[0;34m\u001b[0m\u001b[0m\n\u001b[0m\u001b[1;32m    369\u001b[0m \u001b[0;34m\u001b[0m\u001b[0m\n\u001b[1;32m    370\u001b[0m     \u001b[0;34m@\u001b[0m\u001b[0mproperty\u001b[0m\u001b[0;34m\u001b[0m\u001b[0m\n",
      "\u001b[0;32m/Users/klay6683/miniconda3/lib/python3.4/site-packages/astropy/io/fits/hdu/hdulist.py\u001b[0m in \u001b[0;36mfitsopen\u001b[0;34m(name, mode, memmap, save_backup, cache, **kwargs)\u001b[0m\n\u001b[1;32m    127\u001b[0m         \u001b[0;32mraise\u001b[0m \u001b[0mValueError\u001b[0m\u001b[0;34m(\u001b[0m\u001b[0;34m'Empty filename: %s'\u001b[0m \u001b[0;34m%\u001b[0m \u001b[0mrepr\u001b[0m\u001b[0;34m(\u001b[0m\u001b[0mname\u001b[0m\u001b[0;34m)\u001b[0m\u001b[0;34m)\u001b[0m\u001b[0;34m\u001b[0m\u001b[0m\n\u001b[1;32m    128\u001b[0m \u001b[0;34m\u001b[0m\u001b[0m\n\u001b[0;32m--> 129\u001b[0;31m     \u001b[0;32mreturn\u001b[0m \u001b[0mHDUList\u001b[0m\u001b[0;34m.\u001b[0m\u001b[0mfromfile\u001b[0m\u001b[0;34m(\u001b[0m\u001b[0mname\u001b[0m\u001b[0;34m,\u001b[0m \u001b[0mmode\u001b[0m\u001b[0;34m,\u001b[0m \u001b[0mmemmap\u001b[0m\u001b[0;34m,\u001b[0m \u001b[0msave_backup\u001b[0m\u001b[0;34m,\u001b[0m \u001b[0mcache\u001b[0m\u001b[0;34m,\u001b[0m \u001b[0;34m**\u001b[0m\u001b[0mkwargs\u001b[0m\u001b[0;34m)\u001b[0m\u001b[0;34m\u001b[0m\u001b[0m\n\u001b[0m\u001b[1;32m    130\u001b[0m \u001b[0;34m\u001b[0m\u001b[0m\n\u001b[1;32m    131\u001b[0m \u001b[0;34m\u001b[0m\u001b[0m\n",
      "\u001b[0;32m/Users/klay6683/miniconda3/lib/python3.4/site-packages/astropy/io/fits/hdu/hdulist.py\u001b[0m in \u001b[0;36mfromfile\u001b[0;34m(cls, fileobj, mode, memmap, save_backup, cache, **kwargs)\u001b[0m\n\u001b[1;32m    269\u001b[0m \u001b[0;34m\u001b[0m\u001b[0m\n\u001b[1;32m    270\u001b[0m         return cls._readfrom(fileobj=fileobj, mode=mode, memmap=memmap,\n\u001b[0;32m--> 271\u001b[0;31m                              save_backup=save_backup, cache=cache, **kwargs)\n\u001b[0m\u001b[1;32m    272\u001b[0m \u001b[0;34m\u001b[0m\u001b[0m\n\u001b[1;32m    273\u001b[0m     \u001b[0;34m@\u001b[0m\u001b[0mclassmethod\u001b[0m\u001b[0;34m\u001b[0m\u001b[0m\n",
      "\u001b[0;32m/Users/klay6683/miniconda3/lib/python3.4/site-packages/astropy/io/fits/hdu/hdulist.py\u001b[0m in \u001b[0;36m_readfrom\u001b[0;34m(cls, fileobj, data, mode, memmap, save_backup, cache, **kwargs)\u001b[0m\n\u001b[1;32m    790\u001b[0m             \u001b[0;32mif\u001b[0m \u001b[0;32mnot\u001b[0m \u001b[0misinstance\u001b[0m\u001b[0;34m(\u001b[0m\u001b[0mfileobj\u001b[0m\u001b[0;34m,\u001b[0m \u001b[0m_File\u001b[0m\u001b[0;34m)\u001b[0m\u001b[0;34m:\u001b[0m\u001b[0;34m\u001b[0m\u001b[0m\n\u001b[1;32m    791\u001b[0m                 \u001b[0;31m# instantiate a FITS file object (ffo)\u001b[0m\u001b[0;34m\u001b[0m\u001b[0;34m\u001b[0m\u001b[0m\n\u001b[0;32m--> 792\u001b[0;31m                 \u001b[0mffo\u001b[0m \u001b[0;34m=\u001b[0m \u001b[0m_File\u001b[0m\u001b[0;34m(\u001b[0m\u001b[0mfileobj\u001b[0m\u001b[0;34m,\u001b[0m \u001b[0mmode\u001b[0m\u001b[0;34m=\u001b[0m\u001b[0mmode\u001b[0m\u001b[0;34m,\u001b[0m \u001b[0mmemmap\u001b[0m\u001b[0;34m=\u001b[0m\u001b[0mmemmap\u001b[0m\u001b[0;34m,\u001b[0m \u001b[0mcache\u001b[0m\u001b[0;34m=\u001b[0m\u001b[0mcache\u001b[0m\u001b[0;34m)\u001b[0m\u001b[0;34m\u001b[0m\u001b[0m\n\u001b[0m\u001b[1;32m    793\u001b[0m             \u001b[0;32melse\u001b[0m\u001b[0;34m:\u001b[0m\u001b[0;34m\u001b[0m\u001b[0m\n\u001b[1;32m    794\u001b[0m                 \u001b[0mffo\u001b[0m \u001b[0;34m=\u001b[0m \u001b[0mfileobj\u001b[0m\u001b[0;34m\u001b[0m\u001b[0m\n",
      "\u001b[0;32m/Users/klay6683/miniconda3/lib/python3.4/site-packages/astropy/io/fits/file.py\u001b[0m in \u001b[0;36m__init__\u001b[0;34m(self, fileobj, mode, memmap, clobber, cache)\u001b[0m\n\u001b[1;32m    135\u001b[0m             \u001b[0mself\u001b[0m\u001b[0;34m.\u001b[0m\u001b[0m_open_fileobj\u001b[0m\u001b[0;34m(\u001b[0m\u001b[0mfileobj\u001b[0m\u001b[0;34m,\u001b[0m \u001b[0mmode\u001b[0m\u001b[0;34m,\u001b[0m \u001b[0mclobber\u001b[0m\u001b[0;34m)\u001b[0m\u001b[0;34m\u001b[0m\u001b[0m\n\u001b[1;32m    136\u001b[0m         \u001b[0;32melif\u001b[0m \u001b[0misinstance\u001b[0m\u001b[0;34m(\u001b[0m\u001b[0mfileobj\u001b[0m\u001b[0;34m,\u001b[0m \u001b[0mstring_types\u001b[0m\u001b[0;34m)\u001b[0m\u001b[0;34m:\u001b[0m\u001b[0;34m\u001b[0m\u001b[0m\n\u001b[0;32m--> 137\u001b[0;31m             \u001b[0mself\u001b[0m\u001b[0;34m.\u001b[0m\u001b[0m_open_filename\u001b[0m\u001b[0;34m(\u001b[0m\u001b[0mfileobj\u001b[0m\u001b[0;34m,\u001b[0m \u001b[0mmode\u001b[0m\u001b[0;34m,\u001b[0m \u001b[0mclobber\u001b[0m\u001b[0;34m)\u001b[0m\u001b[0;34m\u001b[0m\u001b[0m\n\u001b[0m\u001b[1;32m    138\u001b[0m         \u001b[0;32melse\u001b[0m\u001b[0;34m:\u001b[0m\u001b[0;34m\u001b[0m\u001b[0m\n\u001b[1;32m    139\u001b[0m             \u001b[0mself\u001b[0m\u001b[0;34m.\u001b[0m\u001b[0m_open_filelike\u001b[0m\u001b[0;34m(\u001b[0m\u001b[0mfileobj\u001b[0m\u001b[0;34m,\u001b[0m \u001b[0mmode\u001b[0m\u001b[0;34m,\u001b[0m \u001b[0mclobber\u001b[0m\u001b[0;34m)\u001b[0m\u001b[0;34m\u001b[0m\u001b[0m\n",
      "\u001b[0;32m/Users/klay6683/miniconda3/lib/python3.4/site-packages/astropy/io/fits/file.py\u001b[0m in \u001b[0;36m_open_filename\u001b[0;34m(self, filename, mode, clobber)\u001b[0m\n\u001b[1;32m    432\u001b[0m         \u001b[0;32mif\u001b[0m \u001b[0mext\u001b[0m \u001b[0;34m==\u001b[0m \u001b[0;34m'.gz'\u001b[0m \u001b[0;32mor\u001b[0m \u001b[0mmagic\u001b[0m\u001b[0;34m.\u001b[0m\u001b[0mstartswith\u001b[0m\u001b[0;34m(\u001b[0m\u001b[0mGZIP_MAGIC\u001b[0m\u001b[0;34m)\u001b[0m\u001b[0;34m:\u001b[0m\u001b[0;34m\u001b[0m\u001b[0m\n\u001b[1;32m    433\u001b[0m             \u001b[0;31m# Handle gzip files\u001b[0m\u001b[0;34m\u001b[0m\u001b[0;34m\u001b[0m\u001b[0m\n\u001b[0;32m--> 434\u001b[0;31m             \u001b[0mself\u001b[0m\u001b[0;34m.\u001b[0m\u001b[0m_file\u001b[0m \u001b[0;34m=\u001b[0m \u001b[0mgzip\u001b[0m\u001b[0;34m.\u001b[0m\u001b[0mopen\u001b[0m\u001b[0;34m(\u001b[0m\u001b[0mself\u001b[0m\u001b[0;34m.\u001b[0m\u001b[0mname\u001b[0m\u001b[0;34m,\u001b[0m \u001b[0mPYFITS_MODES\u001b[0m\u001b[0;34m[\u001b[0m\u001b[0mmode\u001b[0m\u001b[0;34m]\u001b[0m\u001b[0;34m)\u001b[0m\u001b[0;34m\u001b[0m\u001b[0m\n\u001b[0m\u001b[1;32m    435\u001b[0m             \u001b[0mself\u001b[0m\u001b[0;34m.\u001b[0m\u001b[0mcompression\u001b[0m \u001b[0;34m=\u001b[0m \u001b[0;34m'gzip'\u001b[0m\u001b[0;34m\u001b[0m\u001b[0m\n\u001b[1;32m    436\u001b[0m         \u001b[0;32melif\u001b[0m \u001b[0mext\u001b[0m \u001b[0;34m==\u001b[0m \u001b[0;34m'.zip'\u001b[0m \u001b[0;32mor\u001b[0m \u001b[0mmagic\u001b[0m\u001b[0;34m.\u001b[0m\u001b[0mstartswith\u001b[0m\u001b[0;34m(\u001b[0m\u001b[0mPKZIP_MAGIC\u001b[0m\u001b[0;34m)\u001b[0m\u001b[0;34m:\u001b[0m\u001b[0;34m\u001b[0m\u001b[0m\n",
      "\u001b[0;32m/Users/klay6683/miniconda3/lib/python3.4/gzip.py\u001b[0m in \u001b[0;36mopen\u001b[0;34m(filename, mode, compresslevel, encoding, errors, newline)\u001b[0m\n\u001b[1;32m     50\u001b[0m     \u001b[0mgz_mode\u001b[0m \u001b[0;34m=\u001b[0m \u001b[0mmode\u001b[0m\u001b[0;34m.\u001b[0m\u001b[0mreplace\u001b[0m\u001b[0;34m(\u001b[0m\u001b[0;34m\"t\"\u001b[0m\u001b[0;34m,\u001b[0m \u001b[0;34m\"\"\u001b[0m\u001b[0;34m)\u001b[0m\u001b[0;34m\u001b[0m\u001b[0m\n\u001b[1;32m     51\u001b[0m     \u001b[0;32mif\u001b[0m \u001b[0misinstance\u001b[0m\u001b[0;34m(\u001b[0m\u001b[0mfilename\u001b[0m\u001b[0;34m,\u001b[0m \u001b[0;34m(\u001b[0m\u001b[0mstr\u001b[0m\u001b[0;34m,\u001b[0m \u001b[0mbytes\u001b[0m\u001b[0;34m)\u001b[0m\u001b[0;34m)\u001b[0m\u001b[0;34m:\u001b[0m\u001b[0;34m\u001b[0m\u001b[0m\n\u001b[0;32m---> 52\u001b[0;31m         \u001b[0mbinary_file\u001b[0m \u001b[0;34m=\u001b[0m \u001b[0mGzipFile\u001b[0m\u001b[0;34m(\u001b[0m\u001b[0mfilename\u001b[0m\u001b[0;34m,\u001b[0m \u001b[0mgz_mode\u001b[0m\u001b[0;34m,\u001b[0m \u001b[0mcompresslevel\u001b[0m\u001b[0;34m)\u001b[0m\u001b[0;34m\u001b[0m\u001b[0m\n\u001b[0m\u001b[1;32m     53\u001b[0m     \u001b[0;32melif\u001b[0m \u001b[0mhasattr\u001b[0m\u001b[0;34m(\u001b[0m\u001b[0mfilename\u001b[0m\u001b[0;34m,\u001b[0m \u001b[0;34m\"read\"\u001b[0m\u001b[0;34m)\u001b[0m \u001b[0;32mor\u001b[0m \u001b[0mhasattr\u001b[0m\u001b[0;34m(\u001b[0m\u001b[0mfilename\u001b[0m\u001b[0;34m,\u001b[0m \u001b[0;34m\"write\"\u001b[0m\u001b[0;34m)\u001b[0m\u001b[0;34m:\u001b[0m\u001b[0;34m\u001b[0m\u001b[0m\n\u001b[1;32m     54\u001b[0m         \u001b[0mbinary_file\u001b[0m \u001b[0;34m=\u001b[0m \u001b[0mGzipFile\u001b[0m\u001b[0;34m(\u001b[0m\u001b[0;32mNone\u001b[0m\u001b[0;34m,\u001b[0m \u001b[0mgz_mode\u001b[0m\u001b[0;34m,\u001b[0m \u001b[0mcompresslevel\u001b[0m\u001b[0;34m,\u001b[0m \u001b[0mfilename\u001b[0m\u001b[0;34m)\u001b[0m\u001b[0;34m\u001b[0m\u001b[0m\n",
      "\u001b[0;32m/Users/klay6683/miniconda3/lib/python3.4/gzip.py\u001b[0m in \u001b[0;36m__init__\u001b[0;34m(self, filename, mode, compresslevel, fileobj, mtime)\u001b[0m\n\u001b[1;32m    179\u001b[0m             \u001b[0mmode\u001b[0m \u001b[0;34m+=\u001b[0m \u001b[0;34m'b'\u001b[0m\u001b[0;34m\u001b[0m\u001b[0m\n\u001b[1;32m    180\u001b[0m         \u001b[0;32mif\u001b[0m \u001b[0mfileobj\u001b[0m \u001b[0;32mis\u001b[0m \u001b[0;32mNone\u001b[0m\u001b[0;34m:\u001b[0m\u001b[0;34m\u001b[0m\u001b[0m\n\u001b[0;32m--> 181\u001b[0;31m             \u001b[0mfileobj\u001b[0m \u001b[0;34m=\u001b[0m \u001b[0mself\u001b[0m\u001b[0;34m.\u001b[0m\u001b[0mmyfileobj\u001b[0m \u001b[0;34m=\u001b[0m \u001b[0mbuiltins\u001b[0m\u001b[0;34m.\u001b[0m\u001b[0mopen\u001b[0m\u001b[0;34m(\u001b[0m\u001b[0mfilename\u001b[0m\u001b[0;34m,\u001b[0m \u001b[0mmode\u001b[0m \u001b[0;32mor\u001b[0m \u001b[0;34m'rb'\u001b[0m\u001b[0;34m)\u001b[0m\u001b[0;34m\u001b[0m\u001b[0m\n\u001b[0m\u001b[1;32m    182\u001b[0m         \u001b[0;32mif\u001b[0m \u001b[0mfilename\u001b[0m \u001b[0;32mis\u001b[0m \u001b[0;32mNone\u001b[0m\u001b[0;34m:\u001b[0m\u001b[0;34m\u001b[0m\u001b[0m\n\u001b[1;32m    183\u001b[0m             \u001b[0mfilename\u001b[0m \u001b[0;34m=\u001b[0m \u001b[0mgetattr\u001b[0m\u001b[0;34m(\u001b[0m\u001b[0mfileobj\u001b[0m\u001b[0;34m,\u001b[0m \u001b[0;34m'name'\u001b[0m\u001b[0;34m,\u001b[0m \u001b[0;34m''\u001b[0m\u001b[0;34m)\u001b[0m\u001b[0;34m\u001b[0m\u001b[0m\n",
      "\u001b[0;31mFileNotFoundError\u001b[0m: [Errno 2] No such file or directory: '/Users/klay6683/data/iuvs/level1a/mvn_iuv_l1a_apoapse-orbit01597-fuvdark_20150725T184050_v02_r01.fits.gz'"
     ]
    }
   ],
   "source": [
    "l1a = io.L1AReader('mvn_iuv_l1a_apoapse-orbit01597-fuvdark_20150725T184050_v02_r01.fits.gz',\n",
    "                   env='production')"
   ]
  },
  {
   "cell_type": "code",
   "execution_count": null,
   "metadata": {
    "collapsed": true
   },
   "outputs": [],
   "source": []
  },
  {
   "cell_type": "code",
   "execution_count": null,
   "metadata": {
    "collapsed": true
   },
   "outputs": [],
   "source": []
  },
  {
   "cell_type": "code",
   "execution_count": null,
   "metadata": {
    "collapsed": true
   },
   "outputs": [],
   "source": []
  },
  {
   "cell_type": "code",
   "execution_count": null,
   "metadata": {
    "collapsed": true
   },
   "outputs": [],
   "source": []
  },
  {
   "cell_type": "code",
   "execution_count": 32,
   "metadata": {
    "collapsed": false,
    "scrolled": false
   },
   "outputs": [
    {
     "data": {
      "text/plain": [
       " 1    42653\n",
       "-1     4291\n",
       "dtype: int64"
      ]
     },
     "execution_count": 32,
     "metadata": {},
     "output_type": "execute_result"
    }
   ],
   "source": [
    "check_values('lya_centroid')"
   ]
  },
  {
   "cell_type": "code",
   "execution_count": 33,
   "metadata": {
    "collapsed": true
   },
   "outputs": [],
   "source": [
    "df.sort_index(inplace=True)"
   ]
  },
  {
   "cell_type": "code",
   "execution_count": 34,
   "metadata": {
    "collapsed": false
   },
   "outputs": [
    {
     "data": {
      "text/plain": [
       "CHANNEL  COLLECTION_ID  INT_TIME\n",
       "FUV      calibration    1.0          1.484199\n",
       "         corona         1.0          1.632823\n",
       "                        1.4          1.101343\n",
       "                        4.2          0.458752\n",
       "                        14.4         0.308992\n",
       "         disk           1.0          1.536338\n",
       "                        4.2          0.554363\n",
       "                        14.4         0.289752\n",
       "                        16.0        14.123057\n",
       "         limb           1.0          1.609385\n",
       "                        1.4          1.083330\n",
       "                        4.2          0.488440\n",
       "                        4.6          0.479429\n",
       "         occultation    2.0          0.849249\n",
       "                        3.0          0.603714\n",
       "         transition     0.2          0.000010\n",
       "                        1.0          1.459998\n",
       "                        4.2          0.603271\n",
       "                        6.0          0.506954\n",
       "                        10.2         0.704095\n",
       "                        14.4         0.173621\n",
       "                        16.0         0.260752\n",
       "                        30.0         0.258343\n",
       "                        60.0         0.233545\n",
       "MUV      calibration    1.0          1.622251\n",
       "         corona         1.0          1.661289\n",
       "                        1.4          1.140586\n",
       "                        4.2          0.460209\n",
       "                        14.4         0.442403\n",
       "                        29.4         7.362001\n",
       "         disk           1.0          1.701482\n",
       "                        1.4          1.127242\n",
       "                        4.2          0.533921\n",
       "                        14.4         0.277487\n",
       "                        16.0        14.903330\n",
       "         limb           1.0          1.528452\n",
       "                        1.4          1.124045\n",
       "                        4.2          0.488971\n",
       "                        4.6          0.468567\n",
       "         occultation    2.0          0.913681\n",
       "                        3.0          0.614825\n",
       "         transition     0.2          0.000010\n",
       "                        1.0          1.540635\n",
       "                        4.2          0.623716\n",
       "                        6.0          0.583343\n",
       "                        10.2         0.679883\n",
       "                        14.4         0.138899\n",
       "                        16.0         0.273448\n",
       "                        30.0         0.212510\n",
       "                        60.0         0.237245\n",
       "Name: median, dtype: float64"
      ]
     },
     "execution_count": 34,
     "metadata": {},
     "output_type": "execute_result"
    }
   ],
   "source": [
    "df.groupby(['CHANNEL', 'COLLECTION_ID','INT_TIME'])['median'].mean()"
   ]
  },
  {
   "cell_type": "code",
   "execution_count": 83,
   "metadata": {
    "collapsed": true
   },
   "outputs": [],
   "source": [
    "%matplotlib nbagg"
   ]
  },
  {
   "cell_type": "code",
   "execution_count": 92,
   "metadata": {
    "collapsed": false
   },
   "outputs": [
    {
     "data": {
      "text/plain": [
       "29.839017854461659"
      ]
     },
     "execution_count": 92,
     "metadata": {},
     "output_type": "execute_result"
    }
   ],
   "source": [
    "df['mean'].max()"
   ]
  },
  {
   "cell_type": "code",
   "execution_count": 96,
   "metadata": {
    "collapsed": false
   },
   "outputs": [
    {
     "data": {
      "text/html": [
       "<div>\n",
       "<table border=\"1\" class=\"dataframe\">\n",
       "  <thead>\n",
       "    <tr style=\"text-align: right;\">\n",
       "      <th></th>\n",
       "      <th>NAXIS1</th>\n",
       "      <th>NAXIS2</th>\n",
       "      <th>NAXIS3</th>\n",
       "    </tr>\n",
       "    <tr>\n",
       "      <th>TIME_OF_INT</th>\n",
       "      <th></th>\n",
       "      <th></th>\n",
       "      <th></th>\n",
       "    </tr>\n",
       "  </thead>\n",
       "  <tbody>\n",
       "    <tr>\n",
       "      <th>2014-12-01 04:38:26.089490</th>\n",
       "      <td>30</td>\n",
       "      <td>10</td>\n",
       "      <td>226</td>\n",
       "    </tr>\n",
       "    <tr>\n",
       "      <th>2014-12-01 18:24:42.437500</th>\n",
       "      <td>30</td>\n",
       "      <td>10</td>\n",
       "      <td>226</td>\n",
       "    </tr>\n",
       "    <tr>\n",
       "      <th>2014-12-02 08:10:57.528970</th>\n",
       "      <td>30</td>\n",
       "      <td>10</td>\n",
       "      <td>226</td>\n",
       "    </tr>\n",
       "    <tr>\n",
       "      <th>2015-07-25 18:41:07.308330</th>\n",
       "      <td>512</td>\n",
       "      <td>32</td>\n",
       "      <td>2</td>\n",
       "    </tr>\n",
       "    <tr>\n",
       "      <th>2015-07-25 18:41:07.308330</th>\n",
       "      <td>512</td>\n",
       "      <td>32</td>\n",
       "      <td>2</td>\n",
       "    </tr>\n",
       "  </tbody>\n",
       "</table>\n",
       "</div>"
      ],
      "text/plain": [
       "                            NAXIS1  NAXIS2  NAXIS3\n",
       "TIME_OF_INT                                       \n",
       "2014-12-01 04:38:26.089490      30      10     226\n",
       "2014-12-01 18:24:42.437500      30      10     226\n",
       "2014-12-02 08:10:57.528970      30      10     226\n",
       "2015-07-25 18:41:07.308330     512      32       2\n",
       "2015-07-25 18:41:07.308330     512      32       2"
      ]
     },
     "execution_count": 96,
     "metadata": {},
     "output_type": "execute_result"
    }
   ],
   "source": [
    "df[df['mean']> 20].filter(regex='NAXIS.')"
   ]
  },
  {
   "cell_type": "code",
   "execution_count": null,
   "metadata": {
    "collapsed": true
   },
   "outputs": [],
   "source": []
  },
  {
   "cell_type": "code",
   "execution_count": 103,
   "metadata": {
    "collapsed": false
   },
   "outputs": [
    {
     "data": {
      "text/plain": [
       "array(['mvn_iuv_l1a_inbound-orbit00335-muvdark_20141201T034341_v02_r01',\n",
       "       'mvn_iuv_l1a_inbound-orbit00338-muvdark_20141201T172957_v02_r01',\n",
       "       'mvn_iuv_l1a_inbound-orbit00341-muvdark_20141202T071612_v02_r01',\n",
       "       'mvn_iuv_l1a_apoapse-orbit01597-muvdark_20150725T184050_v02_r01',\n",
       "       'mvn_iuv_l1a_apoapse-orbit01597-fuvdark_20150725T184050_v02_r01'], dtype=object)"
      ]
     },
     "execution_count": 103,
     "metadata": {},
     "output_type": "execute_result"
    }
   ],
   "source": [
    "df[df['mean']> 20].PRODUCT_ID.values"
   ]
  },
  {
   "cell_type": "code",
   "execution_count": 100,
   "metadata": {
    "collapsed": false
   },
   "outputs": [
    {
     "data": {
      "application/javascript": [
       "/* Put everything inside the global mpl namespace */\n",
       "window.mpl = {};\n",
       "\n",
       "mpl.get_websocket_type = function() {\n",
       "    if (typeof(WebSocket) !== 'undefined') {\n",
       "        return WebSocket;\n",
       "    } else if (typeof(MozWebSocket) !== 'undefined') {\n",
       "        return MozWebSocket;\n",
       "    } else {\n",
       "        alert('Your browser does not have WebSocket support.' +\n",
       "              'Please try Chrome, Safari or Firefox ≥ 6. ' +\n",
       "              'Firefox 4 and 5 are also supported but you ' +\n",
       "              'have to enable WebSockets in about:config.');\n",
       "    };\n",
       "}\n",
       "\n",
       "mpl.figure = function(figure_id, websocket, ondownload, parent_element) {\n",
       "    this.id = figure_id;\n",
       "\n",
       "    this.ws = websocket;\n",
       "\n",
       "    this.supports_binary = (this.ws.binaryType != undefined);\n",
       "\n",
       "    if (!this.supports_binary) {\n",
       "        var warnings = document.getElementById(\"mpl-warnings\");\n",
       "        if (warnings) {\n",
       "            warnings.style.display = 'block';\n",
       "            warnings.textContent = (\n",
       "                \"This browser does not support binary websocket messages. \" +\n",
       "                    \"Performance may be slow.\");\n",
       "        }\n",
       "    }\n",
       "\n",
       "    this.imageObj = new Image();\n",
       "\n",
       "    this.context = undefined;\n",
       "    this.message = undefined;\n",
       "    this.canvas = undefined;\n",
       "    this.rubberband_canvas = undefined;\n",
       "    this.rubberband_context = undefined;\n",
       "    this.format_dropdown = undefined;\n",
       "\n",
       "    this.image_mode = 'full';\n",
       "\n",
       "    this.root = $('<div/>');\n",
       "    this._root_extra_style(this.root)\n",
       "    this.root.attr('style', 'display: inline-block');\n",
       "\n",
       "    $(parent_element).append(this.root);\n",
       "\n",
       "    this._init_header(this);\n",
       "    this._init_canvas(this);\n",
       "    this._init_toolbar(this);\n",
       "\n",
       "    var fig = this;\n",
       "\n",
       "    this.waiting = false;\n",
       "\n",
       "    this.ws.onopen =  function () {\n",
       "            fig.send_message(\"supports_binary\", {value: fig.supports_binary});\n",
       "            fig.send_message(\"send_image_mode\", {});\n",
       "            fig.send_message(\"refresh\", {});\n",
       "        }\n",
       "\n",
       "    this.imageObj.onload = function() {\n",
       "            if (fig.image_mode == 'full') {\n",
       "                // Full images could contain transparency (where diff images\n",
       "                // almost always do), so we need to clear the canvas so that\n",
       "                // there is no ghosting.\n",
       "                fig.context.clearRect(0, 0, fig.canvas.width, fig.canvas.height);\n",
       "            }\n",
       "            fig.context.drawImage(fig.imageObj, 0, 0);\n",
       "        };\n",
       "\n",
       "    this.imageObj.onunload = function() {\n",
       "        this.ws.close();\n",
       "    }\n",
       "\n",
       "    this.ws.onmessage = this._make_on_message_function(this);\n",
       "\n",
       "    this.ondownload = ondownload;\n",
       "}\n",
       "\n",
       "mpl.figure.prototype._init_header = function() {\n",
       "    var titlebar = $(\n",
       "        '<div class=\"ui-dialog-titlebar ui-widget-header ui-corner-all ' +\n",
       "        'ui-helper-clearfix\"/>');\n",
       "    var titletext = $(\n",
       "        '<div class=\"ui-dialog-title\" style=\"width: 100%; ' +\n",
       "        'text-align: center; padding: 3px;\"/>');\n",
       "    titlebar.append(titletext)\n",
       "    this.root.append(titlebar);\n",
       "    this.header = titletext[0];\n",
       "}\n",
       "\n",
       "\n",
       "\n",
       "mpl.figure.prototype._canvas_extra_style = function(canvas_div) {\n",
       "\n",
       "}\n",
       "\n",
       "\n",
       "mpl.figure.prototype._root_extra_style = function(canvas_div) {\n",
       "\n",
       "}\n",
       "\n",
       "mpl.figure.prototype._init_canvas = function() {\n",
       "    var fig = this;\n",
       "\n",
       "    var canvas_div = $('<div/>');\n",
       "\n",
       "    canvas_div.attr('style', 'position: relative; clear: both; outline: 0');\n",
       "\n",
       "    function canvas_keyboard_event(event) {\n",
       "        return fig.key_event(event, event['data']);\n",
       "    }\n",
       "\n",
       "    canvas_div.keydown('key_press', canvas_keyboard_event);\n",
       "    canvas_div.keyup('key_release', canvas_keyboard_event);\n",
       "    this.canvas_div = canvas_div\n",
       "    this._canvas_extra_style(canvas_div)\n",
       "    this.root.append(canvas_div);\n",
       "\n",
       "    var canvas = $('<canvas/>');\n",
       "    canvas.addClass('mpl-canvas');\n",
       "    canvas.attr('style', \"left: 0; top: 0; z-index: 0; outline: 0\")\n",
       "\n",
       "    this.canvas = canvas[0];\n",
       "    this.context = canvas[0].getContext(\"2d\");\n",
       "\n",
       "    var rubberband = $('<canvas/>');\n",
       "    rubberband.attr('style', \"position: absolute; left: 0; top: 0; z-index: 1;\")\n",
       "\n",
       "    var pass_mouse_events = true;\n",
       "\n",
       "    canvas_div.resizable({\n",
       "        start: function(event, ui) {\n",
       "            pass_mouse_events = false;\n",
       "        },\n",
       "        resize: function(event, ui) {\n",
       "            fig.request_resize(ui.size.width, ui.size.height);\n",
       "        },\n",
       "        stop: function(event, ui) {\n",
       "            pass_mouse_events = true;\n",
       "            fig.request_resize(ui.size.width, ui.size.height);\n",
       "        },\n",
       "    });\n",
       "\n",
       "    function mouse_event_fn(event) {\n",
       "        if (pass_mouse_events)\n",
       "            return fig.mouse_event(event, event['data']);\n",
       "    }\n",
       "\n",
       "    rubberband.mousedown('button_press', mouse_event_fn);\n",
       "    rubberband.mouseup('button_release', mouse_event_fn);\n",
       "    // Throttle sequential mouse events to 1 every 20ms.\n",
       "    rubberband.mousemove('motion_notify', mouse_event_fn);\n",
       "\n",
       "    rubberband.mouseenter('figure_enter', mouse_event_fn);\n",
       "    rubberband.mouseleave('figure_leave', mouse_event_fn);\n",
       "\n",
       "    canvas_div.on(\"wheel\", function (event) {\n",
       "        event = event.originalEvent;\n",
       "        event['data'] = 'scroll'\n",
       "        if (event.deltaY < 0) {\n",
       "            event.step = 1;\n",
       "        } else {\n",
       "            event.step = -1;\n",
       "        }\n",
       "        mouse_event_fn(event);\n",
       "    });\n",
       "\n",
       "    canvas_div.append(canvas);\n",
       "    canvas_div.append(rubberband);\n",
       "\n",
       "    this.rubberband = rubberband;\n",
       "    this.rubberband_canvas = rubberband[0];\n",
       "    this.rubberband_context = rubberband[0].getContext(\"2d\");\n",
       "    this.rubberband_context.strokeStyle = \"#000000\";\n",
       "\n",
       "    this._resize_canvas = function(width, height) {\n",
       "        // Keep the size of the canvas, canvas container, and rubber band\n",
       "        // canvas in synch.\n",
       "        canvas_div.css('width', width)\n",
       "        canvas_div.css('height', height)\n",
       "\n",
       "        canvas.attr('width', width);\n",
       "        canvas.attr('height', height);\n",
       "\n",
       "        rubberband.attr('width', width);\n",
       "        rubberband.attr('height', height);\n",
       "    }\n",
       "\n",
       "    // Set the figure to an initial 600x600px, this will subsequently be updated\n",
       "    // upon first draw.\n",
       "    this._resize_canvas(600, 600);\n",
       "\n",
       "    // Disable right mouse context menu.\n",
       "    $(this.rubberband_canvas).bind(\"contextmenu\",function(e){\n",
       "        return false;\n",
       "    });\n",
       "\n",
       "    function set_focus () {\n",
       "        canvas.focus();\n",
       "        canvas_div.focus();\n",
       "    }\n",
       "\n",
       "    window.setTimeout(set_focus, 100);\n",
       "}\n",
       "\n",
       "mpl.figure.prototype._init_toolbar = function() {\n",
       "    var fig = this;\n",
       "\n",
       "    var nav_element = $('<div/>')\n",
       "    nav_element.attr('style', 'width: 100%');\n",
       "    this.root.append(nav_element);\n",
       "\n",
       "    // Define a callback function for later on.\n",
       "    function toolbar_event(event) {\n",
       "        return fig.toolbar_button_onclick(event['data']);\n",
       "    }\n",
       "    function toolbar_mouse_event(event) {\n",
       "        return fig.toolbar_button_onmouseover(event['data']);\n",
       "    }\n",
       "\n",
       "    for(var toolbar_ind in mpl.toolbar_items) {\n",
       "        var name = mpl.toolbar_items[toolbar_ind][0];\n",
       "        var tooltip = mpl.toolbar_items[toolbar_ind][1];\n",
       "        var image = mpl.toolbar_items[toolbar_ind][2];\n",
       "        var method_name = mpl.toolbar_items[toolbar_ind][3];\n",
       "\n",
       "        if (!name) {\n",
       "            // put a spacer in here.\n",
       "            continue;\n",
       "        }\n",
       "        var button = $('<button/>');\n",
       "        button.addClass('ui-button ui-widget ui-state-default ui-corner-all ' +\n",
       "                        'ui-button-icon-only');\n",
       "        button.attr('role', 'button');\n",
       "        button.attr('aria-disabled', 'false');\n",
       "        button.click(method_name, toolbar_event);\n",
       "        button.mouseover(tooltip, toolbar_mouse_event);\n",
       "\n",
       "        var icon_img = $('<span/>');\n",
       "        icon_img.addClass('ui-button-icon-primary ui-icon');\n",
       "        icon_img.addClass(image);\n",
       "        icon_img.addClass('ui-corner-all');\n",
       "\n",
       "        var tooltip_span = $('<span/>');\n",
       "        tooltip_span.addClass('ui-button-text');\n",
       "        tooltip_span.html(tooltip);\n",
       "\n",
       "        button.append(icon_img);\n",
       "        button.append(tooltip_span);\n",
       "\n",
       "        nav_element.append(button);\n",
       "    }\n",
       "\n",
       "    var fmt_picker_span = $('<span/>');\n",
       "\n",
       "    var fmt_picker = $('<select/>');\n",
       "    fmt_picker.addClass('mpl-toolbar-option ui-widget ui-widget-content');\n",
       "    fmt_picker_span.append(fmt_picker);\n",
       "    nav_element.append(fmt_picker_span);\n",
       "    this.format_dropdown = fmt_picker[0];\n",
       "\n",
       "    for (var ind in mpl.extensions) {\n",
       "        var fmt = mpl.extensions[ind];\n",
       "        var option = $(\n",
       "            '<option/>', {selected: fmt === mpl.default_extension}).html(fmt);\n",
       "        fmt_picker.append(option)\n",
       "    }\n",
       "\n",
       "    // Add hover states to the ui-buttons\n",
       "    $( \".ui-button\" ).hover(\n",
       "        function() { $(this).addClass(\"ui-state-hover\");},\n",
       "        function() { $(this).removeClass(\"ui-state-hover\");}\n",
       "    );\n",
       "\n",
       "    var status_bar = $('<span class=\"mpl-message\"/>');\n",
       "    nav_element.append(status_bar);\n",
       "    this.message = status_bar[0];\n",
       "}\n",
       "\n",
       "mpl.figure.prototype.request_resize = function(x_pixels, y_pixels) {\n",
       "    // Request matplotlib to resize the figure. Matplotlib will then trigger a resize in the client,\n",
       "    // which will in turn request a refresh of the image.\n",
       "    this.send_message('resize', {'width': x_pixels, 'height': y_pixels});\n",
       "}\n",
       "\n",
       "mpl.figure.prototype.send_message = function(type, properties) {\n",
       "    properties['type'] = type;\n",
       "    properties['figure_id'] = this.id;\n",
       "    this.ws.send(JSON.stringify(properties));\n",
       "}\n",
       "\n",
       "mpl.figure.prototype.send_draw_message = function() {\n",
       "    if (!this.waiting) {\n",
       "        this.waiting = true;\n",
       "        this.ws.send(JSON.stringify({type: \"draw\", figure_id: this.id}));\n",
       "    }\n",
       "}\n",
       "\n",
       "\n",
       "mpl.figure.prototype.handle_save = function(fig, msg) {\n",
       "    var format_dropdown = fig.format_dropdown;\n",
       "    var format = format_dropdown.options[format_dropdown.selectedIndex].value;\n",
       "    fig.ondownload(fig, format);\n",
       "}\n",
       "\n",
       "\n",
       "mpl.figure.prototype.handle_resize = function(fig, msg) {\n",
       "    var size = msg['size'];\n",
       "    if (size[0] != fig.canvas.width || size[1] != fig.canvas.height) {\n",
       "        fig._resize_canvas(size[0], size[1]);\n",
       "        fig.send_message(\"refresh\", {});\n",
       "    };\n",
       "}\n",
       "\n",
       "mpl.figure.prototype.handle_rubberband = function(fig, msg) {\n",
       "    var x0 = msg['x0'];\n",
       "    var y0 = fig.canvas.height - msg['y0'];\n",
       "    var x1 = msg['x1'];\n",
       "    var y1 = fig.canvas.height - msg['y1'];\n",
       "    x0 = Math.floor(x0) + 0.5;\n",
       "    y0 = Math.floor(y0) + 0.5;\n",
       "    x1 = Math.floor(x1) + 0.5;\n",
       "    y1 = Math.floor(y1) + 0.5;\n",
       "    var min_x = Math.min(x0, x1);\n",
       "    var min_y = Math.min(y0, y1);\n",
       "    var width = Math.abs(x1 - x0);\n",
       "    var height = Math.abs(y1 - y0);\n",
       "\n",
       "    fig.rubberband_context.clearRect(\n",
       "        0, 0, fig.canvas.width, fig.canvas.height);\n",
       "\n",
       "    fig.rubberband_context.strokeRect(min_x, min_y, width, height);\n",
       "}\n",
       "\n",
       "mpl.figure.prototype.handle_figure_label = function(fig, msg) {\n",
       "    // Updates the figure title.\n",
       "    fig.header.textContent = msg['label'];\n",
       "}\n",
       "\n",
       "mpl.figure.prototype.handle_cursor = function(fig, msg) {\n",
       "    var cursor = msg['cursor'];\n",
       "    switch(cursor)\n",
       "    {\n",
       "    case 0:\n",
       "        cursor = 'pointer';\n",
       "        break;\n",
       "    case 1:\n",
       "        cursor = 'default';\n",
       "        break;\n",
       "    case 2:\n",
       "        cursor = 'crosshair';\n",
       "        break;\n",
       "    case 3:\n",
       "        cursor = 'move';\n",
       "        break;\n",
       "    }\n",
       "    fig.rubberband_canvas.style.cursor = cursor;\n",
       "}\n",
       "\n",
       "mpl.figure.prototype.handle_message = function(fig, msg) {\n",
       "    fig.message.textContent = msg['message'];\n",
       "}\n",
       "\n",
       "mpl.figure.prototype.handle_draw = function(fig, msg) {\n",
       "    // Request the server to send over a new figure.\n",
       "    fig.send_draw_message();\n",
       "}\n",
       "\n",
       "mpl.figure.prototype.handle_image_mode = function(fig, msg) {\n",
       "    fig.image_mode = msg['mode'];\n",
       "}\n",
       "\n",
       "mpl.figure.prototype.updated_canvas_event = function() {\n",
       "    // Called whenever the canvas gets updated.\n",
       "    this.send_message(\"ack\", {});\n",
       "}\n",
       "\n",
       "// A function to construct a web socket function for onmessage handling.\n",
       "// Called in the figure constructor.\n",
       "mpl.figure.prototype._make_on_message_function = function(fig) {\n",
       "    return function socket_on_message(evt) {\n",
       "        if (evt.data instanceof Blob) {\n",
       "            /* FIXME: We get \"Resource interpreted as Image but\n",
       "             * transferred with MIME type text/plain:\" errors on\n",
       "             * Chrome.  But how to set the MIME type?  It doesn't seem\n",
       "             * to be part of the websocket stream */\n",
       "            evt.data.type = \"image/png\";\n",
       "\n",
       "            /* Free the memory for the previous frames */\n",
       "            if (fig.imageObj.src) {\n",
       "                (window.URL || window.webkitURL).revokeObjectURL(\n",
       "                    fig.imageObj.src);\n",
       "            }\n",
       "\n",
       "            fig.imageObj.src = (window.URL || window.webkitURL).createObjectURL(\n",
       "                evt.data);\n",
       "            fig.updated_canvas_event();\n",
       "            fig.waiting = false;\n",
       "            return;\n",
       "        }\n",
       "        else if (typeof evt.data === 'string' && evt.data.slice(0, 21) == \"data:image/png;base64\") {\n",
       "            fig.imageObj.src = evt.data;\n",
       "            fig.updated_canvas_event();\n",
       "            fig.waiting = false;\n",
       "            return;\n",
       "        }\n",
       "\n",
       "        var msg = JSON.parse(evt.data);\n",
       "        var msg_type = msg['type'];\n",
       "\n",
       "        // Call the  \"handle_{type}\" callback, which takes\n",
       "        // the figure and JSON message as its only arguments.\n",
       "        try {\n",
       "            var callback = fig[\"handle_\" + msg_type];\n",
       "        } catch (e) {\n",
       "            console.log(\"No handler for the '\" + msg_type + \"' message type: \", msg);\n",
       "            return;\n",
       "        }\n",
       "\n",
       "        if (callback) {\n",
       "            try {\n",
       "                // console.log(\"Handling '\" + msg_type + \"' message: \", msg);\n",
       "                callback(fig, msg);\n",
       "            } catch (e) {\n",
       "                console.log(\"Exception inside the 'handler_\" + msg_type + \"' callback:\", e, e.stack, msg);\n",
       "            }\n",
       "        }\n",
       "    };\n",
       "}\n",
       "\n",
       "// from http://stackoverflow.com/questions/1114465/getting-mouse-location-in-canvas\n",
       "mpl.findpos = function(e) {\n",
       "    //this section is from http://www.quirksmode.org/js/events_properties.html\n",
       "    var targ;\n",
       "    if (!e)\n",
       "        e = window.event;\n",
       "    if (e.target)\n",
       "        targ = e.target;\n",
       "    else if (e.srcElement)\n",
       "        targ = e.srcElement;\n",
       "    if (targ.nodeType == 3) // defeat Safari bug\n",
       "        targ = targ.parentNode;\n",
       "\n",
       "    // jQuery normalizes the pageX and pageY\n",
       "    // pageX,Y are the mouse positions relative to the document\n",
       "    // offset() returns the position of the element relative to the document\n",
       "    var x = e.pageX - $(targ).offset().left;\n",
       "    var y = e.pageY - $(targ).offset().top;\n",
       "\n",
       "    return {\"x\": x, \"y\": y};\n",
       "};\n",
       "\n",
       "/*\n",
       " * return a copy of an object with only non-object keys\n",
       " * we need this to avoid circular references\n",
       " * http://stackoverflow.com/a/24161582/3208463\n",
       " */\n",
       "function simpleKeys (original) {\n",
       "  return Object.keys(original).reduce(function (obj, key) {\n",
       "    if (typeof original[key] !== 'object')\n",
       "        obj[key] = original[key]\n",
       "    return obj;\n",
       "  }, {});\n",
       "}\n",
       "\n",
       "mpl.figure.prototype.mouse_event = function(event, name) {\n",
       "    var canvas_pos = mpl.findpos(event)\n",
       "\n",
       "    if (name === 'button_press')\n",
       "    {\n",
       "        this.canvas.focus();\n",
       "        this.canvas_div.focus();\n",
       "    }\n",
       "\n",
       "    var x = canvas_pos.x;\n",
       "    var y = canvas_pos.y;\n",
       "\n",
       "    this.send_message(name, {x: x, y: y, button: event.button,\n",
       "                             step: event.step,\n",
       "                             guiEvent: simpleKeys(event)});\n",
       "\n",
       "    /* This prevents the web browser from automatically changing to\n",
       "     * the text insertion cursor when the button is pressed.  We want\n",
       "     * to control all of the cursor setting manually through the\n",
       "     * 'cursor' event from matplotlib */\n",
       "    event.preventDefault();\n",
       "    return false;\n",
       "}\n",
       "\n",
       "mpl.figure.prototype._key_event_extra = function(event, name) {\n",
       "    // Handle any extra behaviour associated with a key event\n",
       "}\n",
       "\n",
       "mpl.figure.prototype.key_event = function(event, name) {\n",
       "\n",
       "    // Prevent repeat events\n",
       "    if (name == 'key_press')\n",
       "    {\n",
       "        if (event.which === this._key)\n",
       "            return;\n",
       "        else\n",
       "            this._key = event.which;\n",
       "    }\n",
       "    if (name == 'key_release')\n",
       "        this._key = null;\n",
       "\n",
       "    var value = '';\n",
       "    if (event.ctrlKey && event.which != 17)\n",
       "        value += \"ctrl+\";\n",
       "    if (event.altKey && event.which != 18)\n",
       "        value += \"alt+\";\n",
       "    if (event.shiftKey && event.which != 16)\n",
       "        value += \"shift+\";\n",
       "\n",
       "    value += 'k';\n",
       "    value += event.which.toString();\n",
       "\n",
       "    this._key_event_extra(event, name);\n",
       "\n",
       "    this.send_message(name, {key: value,\n",
       "                             guiEvent: simpleKeys(event)});\n",
       "    return false;\n",
       "}\n",
       "\n",
       "mpl.figure.prototype.toolbar_button_onclick = function(name) {\n",
       "    if (name == 'download') {\n",
       "        this.handle_save(this, null);\n",
       "    } else {\n",
       "        this.send_message(\"toolbar_button\", {name: name});\n",
       "    }\n",
       "};\n",
       "\n",
       "mpl.figure.prototype.toolbar_button_onmouseover = function(tooltip) {\n",
       "    this.message.textContent = tooltip;\n",
       "};\n",
       "mpl.toolbar_items = [[\"Home\", \"Reset original view\", \"fa fa-home icon-home\", \"home\"], [\"Back\", \"Back to  previous view\", \"fa fa-arrow-left icon-arrow-left\", \"back\"], [\"Forward\", \"Forward to next view\", \"fa fa-arrow-right icon-arrow-right\", \"forward\"], [\"\", \"\", \"\", \"\"], [\"Pan\", \"Pan axes with left mouse, zoom with right\", \"fa fa-arrows icon-move\", \"pan\"], [\"Zoom\", \"Zoom to rectangle\", \"fa fa-square-o icon-check-empty\", \"zoom\"], [\"\", \"\", \"\", \"\"], [\"Download\", \"Download plot\", \"fa fa-floppy-o icon-save\", \"download\"]];\n",
       "\n",
       "mpl.extensions = [\"eps\", \"jpeg\", \"pdf\", \"png\", \"ps\", \"raw\", \"svg\", \"tif\"];\n",
       "\n",
       "mpl.default_extension = \"png\";var comm_websocket_adapter = function(comm) {\n",
       "    // Create a \"websocket\"-like object which calls the given IPython comm\n",
       "    // object with the appropriate methods. Currently this is a non binary\n",
       "    // socket, so there is still some room for performance tuning.\n",
       "    var ws = {};\n",
       "\n",
       "    ws.close = function() {\n",
       "        comm.close()\n",
       "    };\n",
       "    ws.send = function(m) {\n",
       "        //console.log('sending', m);\n",
       "        comm.send(m);\n",
       "    };\n",
       "    // Register the callback with on_msg.\n",
       "    comm.on_msg(function(msg) {\n",
       "        //console.log('receiving', msg['content']['data'], msg);\n",
       "        // Pass the mpl event to the overriden (by mpl) onmessage function.\n",
       "        ws.onmessage(msg['content']['data'])\n",
       "    });\n",
       "    return ws;\n",
       "}\n",
       "\n",
       "mpl.mpl_figure_comm = function(comm, msg) {\n",
       "    // This is the function which gets called when the mpl process\n",
       "    // starts-up an IPython Comm through the \"matplotlib\" channel.\n",
       "\n",
       "    var id = msg.content.data.id;\n",
       "    // Get hold of the div created by the display call when the Comm\n",
       "    // socket was opened in Python.\n",
       "    var element = $(\"#\" + id);\n",
       "    var ws_proxy = comm_websocket_adapter(comm)\n",
       "\n",
       "    function ondownload(figure, format) {\n",
       "        window.open(figure.imageObj.src);\n",
       "    }\n",
       "\n",
       "    var fig = new mpl.figure(id, ws_proxy,\n",
       "                           ondownload,\n",
       "                           element.get(0));\n",
       "\n",
       "    // Call onopen now - mpl needs it, as it is assuming we've passed it a real\n",
       "    // web socket which is closed, not our websocket->open comm proxy.\n",
       "    ws_proxy.onopen();\n",
       "\n",
       "    fig.parent_element = element.get(0);\n",
       "    fig.cell_info = mpl.find_output_cell(\"<div id='\" + id + \"'></div>\");\n",
       "    if (!fig.cell_info) {\n",
       "        console.error(\"Failed to find cell for figure\", id, fig);\n",
       "        return;\n",
       "    }\n",
       "\n",
       "    var output_index = fig.cell_info[2]\n",
       "    var cell = fig.cell_info[0];\n",
       "\n",
       "};\n",
       "\n",
       "mpl.figure.prototype.handle_close = function(fig, msg) {\n",
       "    // Update the output cell to use the data from the current canvas.\n",
       "    fig.push_to_output();\n",
       "    var dataURL = fig.canvas.toDataURL();\n",
       "    // Re-enable the keyboard manager in IPython - without this line, in FF,\n",
       "    // the notebook keyboard shortcuts fail.\n",
       "    IPython.keyboard_manager.enable()\n",
       "    $(fig.parent_element).html('<img src=\"' + dataURL + '\">');\n",
       "    fig.send_message('closing', {});\n",
       "    fig.ws.close()\n",
       "}\n",
       "\n",
       "mpl.figure.prototype.push_to_output = function(remove_interactive) {\n",
       "    // Turn the data on the canvas into data in the output cell.\n",
       "    var dataURL = this.canvas.toDataURL();\n",
       "    this.cell_info[1]['text/html'] = '<img src=\"' + dataURL + '\">';\n",
       "}\n",
       "\n",
       "mpl.figure.prototype.updated_canvas_event = function() {\n",
       "    // Tell IPython that the notebook contents must change.\n",
       "    IPython.notebook.set_dirty(true);\n",
       "    this.send_message(\"ack\", {});\n",
       "    var fig = this;\n",
       "    // Wait a second, then push the new image to the DOM so\n",
       "    // that it is saved nicely (might be nice to debounce this).\n",
       "    setTimeout(function () { fig.push_to_output() }, 1000);\n",
       "}\n",
       "\n",
       "mpl.figure.prototype._init_toolbar = function() {\n",
       "    var fig = this;\n",
       "\n",
       "    var nav_element = $('<div/>')\n",
       "    nav_element.attr('style', 'width: 100%');\n",
       "    this.root.append(nav_element);\n",
       "\n",
       "    // Define a callback function for later on.\n",
       "    function toolbar_event(event) {\n",
       "        return fig.toolbar_button_onclick(event['data']);\n",
       "    }\n",
       "    function toolbar_mouse_event(event) {\n",
       "        return fig.toolbar_button_onmouseover(event['data']);\n",
       "    }\n",
       "\n",
       "    for(var toolbar_ind in mpl.toolbar_items){\n",
       "        var name = mpl.toolbar_items[toolbar_ind][0];\n",
       "        var tooltip = mpl.toolbar_items[toolbar_ind][1];\n",
       "        var image = mpl.toolbar_items[toolbar_ind][2];\n",
       "        var method_name = mpl.toolbar_items[toolbar_ind][3];\n",
       "\n",
       "        if (!name) { continue; };\n",
       "\n",
       "        var button = $('<button class=\"btn btn-default\" href=\"#\" title=\"' + name + '\"><i class=\"fa ' + image + ' fa-lg\"></i></button>');\n",
       "        button.click(method_name, toolbar_event);\n",
       "        button.mouseover(tooltip, toolbar_mouse_event);\n",
       "        nav_element.append(button);\n",
       "    }\n",
       "\n",
       "    // Add the status bar.\n",
       "    var status_bar = $('<span class=\"mpl-message\" style=\"text-align:right; float: right;\"/>');\n",
       "    nav_element.append(status_bar);\n",
       "    this.message = status_bar[0];\n",
       "\n",
       "    // Add the close button to the window.\n",
       "    var buttongrp = $('<div class=\"btn-group inline pull-right\"></div>');\n",
       "    var button = $('<button class=\"btn btn-mini btn-danger\" href=\"#\" title=\"Close figure\"><i class=\"fa fa-times icon-remove icon-large\"></i></button>');\n",
       "    button.click(function (evt) { fig.handle_close(fig, {}); } );\n",
       "    button.mouseover('Close figure', toolbar_mouse_event);\n",
       "    buttongrp.append(button);\n",
       "    var titlebar = this.root.find($('.ui-dialog-titlebar'));\n",
       "    titlebar.prepend(buttongrp);\n",
       "}\n",
       "\n",
       "\n",
       "mpl.figure.prototype._canvas_extra_style = function(el){\n",
       "    // this is important to make the div 'focusable\n",
       "    el.attr('tabindex', 0)\n",
       "    // reach out to IPython and tell the keyboard manager to turn it's self\n",
       "    // off when our div gets focus\n",
       "\n",
       "    // location in version 3\n",
       "    if (IPython.notebook.keyboard_manager) {\n",
       "        IPython.notebook.keyboard_manager.register_events(el);\n",
       "    }\n",
       "    else {\n",
       "        // location in version 2\n",
       "        IPython.keyboard_manager.register_events(el);\n",
       "    }\n",
       "\n",
       "}\n",
       "\n",
       "mpl.figure.prototype._key_event_extra = function(event, name) {\n",
       "    var manager = IPython.notebook.keyboard_manager;\n",
       "    if (!manager)\n",
       "        manager = IPython.keyboard_manager;\n",
       "\n",
       "    // Check for shift+enter\n",
       "    if (event.shiftKey && event.which == 13) {\n",
       "        this.canvas_div.blur();\n",
       "        event.shiftKey = false;\n",
       "        // Send a \"J\" for go to next cell\n",
       "        event.which = 74;\n",
       "        event.keyCode = 74;\n",
       "        manager.command_mode();\n",
       "        manager.handle_keydown(event);\n",
       "    }\n",
       "}\n",
       "\n",
       "mpl.figure.prototype.handle_save = function(fig, msg) {\n",
       "    fig.ondownload(fig, null);\n",
       "}\n",
       "\n",
       "\n",
       "mpl.find_output_cell = function(html_output) {\n",
       "    // Return the cell and output element which can be found *uniquely* in the notebook.\n",
       "    // Note - this is a bit hacky, but it is done because the \"notebook_saving.Notebook\"\n",
       "    // IPython event is triggered only after the cells have been serialised, which for\n",
       "    // our purposes (turning an active figure into a static one), is too late.\n",
       "    var cells = IPython.notebook.get_cells();\n",
       "    var ncells = cells.length;\n",
       "    for (var i=0; i<ncells; i++) {\n",
       "        var cell = cells[i];\n",
       "        if (cell.cell_type === 'code'){\n",
       "            for (var j=0; j<cell.output_area.outputs.length; j++) {\n",
       "                var data = cell.output_area.outputs[j];\n",
       "                if (data.data) {\n",
       "                    // IPython >= 3 moved mimebundle to data attribute of output\n",
       "                    data = data.data;\n",
       "                }\n",
       "                if (data['text/html'] == html_output) {\n",
       "                    return [cell, data, j];\n",
       "                }\n",
       "            }\n",
       "        }\n",
       "    }\n",
       "}\n",
       "\n",
       "// Register the function which deals with the matplotlib target/channel.\n",
       "// The kernel may be null if the page has been refreshed.\n",
       "if (IPython.notebook.kernel != null) {\n",
       "    IPython.notebook.kernel.comm_manager.register_target('matplotlib', mpl.mpl_figure_comm);\n",
       "}\n"
      ],
      "text/plain": [
       "<IPython.core.display.Javascript object>"
      ]
     },
     "metadata": {},
     "output_type": "display_data"
    },
    {
     "data": {
      "text/html": [
       "<img src=\"data:image/png;base64,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\">"
      ],
      "text/plain": [
       "<IPython.core.display.HTML object>"
      ]
     },
     "metadata": {},
     "output_type": "display_data"
    },
    {
     "data": {
      "text/plain": [
       "<matplotlib.axes._subplots.AxesSubplot at 0x7f0d0b5fa9e8>"
      ]
     },
     "execution_count": 100,
     "metadata": {},
     "output_type": "execute_result"
    }
   ],
   "source": [
    "plt.figure()\n",
    "df['mean'].plot(kind='hist', bins=100, logy=True, xlim=(0,3))"
   ]
  },
  {
   "cell_type": "code",
   "execution_count": 105,
   "metadata": {
    "collapsed": false
   },
   "outputs": [],
   "source": [
    "l1a = io.L1AReader('mvn_iuv_l1a_apoapse-orbit01597-muvdark_20150725T184050_v02_r01.fits.gz',\n",
    "                   env='production')"
   ]
  },
  {
   "cell_type": "code",
   "execution_count": 106,
   "metadata": {
    "collapsed": false
   },
   "outputs": [
    {
     "data": {
      "text/plain": [
       "Filename: mvn_iuv_l1a_apoapse-orbit01597-muvdark_20150725T184050_v02_r01.fits.gz\n",
       "Environment: production\n",
       "NAXIS : 3\n",
       "NAXIS1 : 512\n",
       "NAXIS2 : 32\n",
       "NAXIS3 : 2"
      ]
     },
     "execution_count": 106,
     "metadata": {},
     "output_type": "execute_result"
    }
   ],
   "source": [
    "l1a"
   ]
  },
  {
   "cell_type": "code",
   "execution_count": 107,
   "metadata": {
    "collapsed": false
   },
   "outputs": [
    {
     "data": {
      "text/plain": [
       "(2, 32, 512)"
      ]
     },
     "execution_count": 107,
     "metadata": {},
     "output_type": "execute_result"
    }
   ],
   "source": [
    "l1a.img.shape"
   ]
  },
  {
   "cell_type": "code",
   "execution_count": 108,
   "metadata": {
    "collapsed": false
   },
   "outputs": [
    {
     "data": {
      "text/plain": [
       "15426.932983398438"
      ]
     },
     "execution_count": 108,
     "metadata": {},
     "output_type": "execute_result"
    }
   ],
   "source": [
    "l1a.img.mean()"
   ]
  },
  {
   "cell_type": "code",
   "execution_count": null,
   "metadata": {
    "collapsed": true
   },
   "outputs": [],
   "source": [
    "l1a.p "
   ]
  },
  {
   "cell_type": "code",
   "execution_count": 69,
   "metadata": {
    "collapsed": false
   },
   "outputs": [],
   "source": [
    "s = df.PRODUCT_ID.str.split('_')\n",
    "s = s.map(lambda x: x[3]).str.split('-')\n",
    "df['activity'] = s.map(lambda x: x[0])"
   ]
  },
  {
   "cell_type": "code",
   "execution_count": 79,
   "metadata": {
    "collapsed": false
   },
   "outputs": [
    {
     "data": {
      "text/plain": [
       "activity      COLLECTION_ID\n",
       "APP1          transition       1.417262\n",
       "APP2          transition       0.620629\n",
       "apoapse       disk             0.300909\n",
       "centroid      calibration      1.625554\n",
       "comet         transition       0.470771\n",
       "early         transition       0.755636\n",
       "inbound       corona           0.411287\n",
       "occultation   occultation      0.942057\n",
       "outbound      corona           0.835910\n",
       "outboundhifi  corona           0.452791\n",
       "outdisk       disk             0.290992\n",
       "outdiskhifi   disk             0.622472\n",
       "outlimb       limb             1.116697\n",
       "periapse      limb             0.503505\n",
       "periapsehifi  limb             0.505721\n",
       "Name: mean, dtype: float64"
      ]
     },
     "execution_count": 79,
     "metadata": {},
     "output_type": "execute_result"
    }
   ],
   "source": [
    "df.groupby(['activity','COLLECTION_ID'])['mean'].mean()"
   ]
  },
  {
   "cell_type": "code",
   "execution_count": 34,
   "metadata": {
    "collapsed": false
   },
   "outputs": [],
   "source": [
    "cols_of_interest = df.columns.drop('anc_svn_revision  bin_tbl code_svn_revision obs_id'\n",
    "                                   ' orbit_number process product_id'.upper().split())"
   ]
  },
  {
   "cell_type": "code",
   "execution_count": 35,
   "metadata": {
    "collapsed": true
   },
   "outputs": [],
   "source": [
    "# df.CHANNEL = df.CHANNEL.map(lambda x: 0 if x=='MUV' else 1)"
   ]
  },
  {
   "cell_type": "code",
   "execution_count": 36,
   "metadata": {
    "collapsed": false
   },
   "outputs": [],
   "source": [
    "df=df[cols_of_interest]\n",
    "# df = df.select_dtypes(include=[float, int])\n",
    "# df= df.drop('SW_VER NAXIS3'.split(), axis=1)"
   ]
  },
  {
   "cell_type": "code",
   "execution_count": 37,
   "metadata": {
    "collapsed": true
   },
   "outputs": [],
   "source": [
    "df = df.dropna(how='any')"
   ]
  },
  {
   "cell_type": "code",
   "execution_count": 38,
   "metadata": {
    "collapsed": false,
    "scrolled": true
   },
   "outputs": [
    {
     "name": "stderr",
     "output_type": "stream",
     "text": [
      "WARNING:py.warnings:/Users/klay6683/miniconda3/lib/python3.4/site-packages/pandas/io/pytables.py:2559: PerformanceWarning: \n",
      "your performance may suffer as PyTables will pickle object types that it cannot\n",
      "map directly to c-types [inferred_type->mixed,key->block0_values] [items->['BIN_PATTERN_INDEX', 'CHANNEL', 'COLLECTION_ID', 'MISSION_PHASE', 'TARGET_NAME', 'BINNING_SET']]\n",
      "\n",
      "  warnings.warn(ws, PerformanceWarning)\n",
      "\n"
     ]
    }
   ],
   "source": [
    "df.to_hdf('/Users/klay6683/data/iuvs/dark_stuff/to_study.h5','df')"
   ]
  },
  {
   "cell_type": "code",
   "execution_count": 40,
   "metadata": {
    "collapsed": false
   },
   "outputs": [
    {
     "data": {
      "text/html": [
       "<div style=\"max-height:1000px;max-width:1500px;overflow:auto;\">\n",
       "<table border=\"1\" class=\"dataframe\">\n",
       "  <thead>\n",
       "    <tr style=\"text-align: right;\">\n",
       "      <th></th>\n",
       "      <th>CADENCE</th>\n",
       "      <th>CASE_TEMP</th>\n",
       "      <th>CHANNEL</th>\n",
       "      <th>DET_TEMP</th>\n",
       "      <th>DUTY_CYCLE</th>\n",
       "      <th>FOV_DEG</th>\n",
       "      <th>INT_TIME</th>\n",
       "      <th>LYA_CENTROID</th>\n",
       "      <th>MCP_VOLT</th>\n",
       "      <th>MIRROR_DEG</th>\n",
       "      <th>MIRROR_DN</th>\n",
       "      <th>MIR_DEG</th>\n",
       "      <th>NAXIS</th>\n",
       "      <th>NAXIS1</th>\n",
       "      <th>NAXIS2</th>\n",
       "      <th>N_FILL</th>\n",
       "      <th>SOLAR_LONGITUDE</th>\n",
       "      <th>mean</th>\n",
       "      <th>median</th>\n",
       "      <th>std</th>\n",
       "    </tr>\n",
       "    <tr>\n",
       "      <th>TIME_OF_INT</th>\n",
       "      <th></th>\n",
       "      <th></th>\n",
       "      <th></th>\n",
       "      <th></th>\n",
       "      <th></th>\n",
       "      <th></th>\n",
       "      <th></th>\n",
       "      <th></th>\n",
       "      <th></th>\n",
       "      <th></th>\n",
       "      <th></th>\n",
       "      <th></th>\n",
       "      <th></th>\n",
       "      <th></th>\n",
       "      <th></th>\n",
       "      <th></th>\n",
       "      <th></th>\n",
       "      <th></th>\n",
       "      <th></th>\n",
       "      <th></th>\n",
       "    </tr>\n",
       "  </thead>\n",
       "  <tbody>\n",
       "    <tr>\n",
       "      <th>2013-12-04 19:02:17.420740</th>\n",
       "      <td>2</td>\n",
       "      <td>14456</td>\n",
       "      <td>5</td>\n",
       "      <td>2351</td>\n",
       "      <td>1</td>\n",
       "      <td>-48.581543</td>\n",
       "      <td>1</td>\n",
       "      <td>1</td>\n",
       "      <td>622.322</td>\n",
       "      <td>-24.290771</td>\n",
       "      <td>4095</td>\n",
       "      <td>-24.288</td>\n",
       "      <td>2</td>\n",
       "      <td>128</td>\n",
       "      <td>128</td>\n",
       "      <td>0</td>\n",
       "      <td>58.333862</td>\n",
       "      <td>241.076477</td>\n",
       "      <td>229</td>\n",
       "      <td>75.493331</td>\n",
       "    </tr>\n",
       "    <tr>\n",
       "      <th>2013-12-04 19:02:17.420740</th>\n",
       "      <td>2</td>\n",
       "      <td>14456</td>\n",
       "      <td>0</td>\n",
       "      <td>2402</td>\n",
       "      <td>1</td>\n",
       "      <td>-48.581543</td>\n",
       "      <td>1</td>\n",
       "      <td>1</td>\n",
       "      <td>497.638</td>\n",
       "      <td>-24.290771</td>\n",
       "      <td>4095</td>\n",
       "      <td>-24.288</td>\n",
       "      <td>2</td>\n",
       "      <td>128</td>\n",
       "      <td>128</td>\n",
       "      <td>0</td>\n",
       "      <td>58.333862</td>\n",
       "      <td>213.668213</td>\n",
       "      <td>202</td>\n",
       "      <td>66.896731</td>\n",
       "    </tr>\n",
       "    <tr>\n",
       "      <th>2013-12-04 19:03:04.420770</th>\n",
       "      <td>2</td>\n",
       "      <td>14455</td>\n",
       "      <td>5</td>\n",
       "      <td>2351</td>\n",
       "      <td>1</td>\n",
       "      <td>-48.581543</td>\n",
       "      <td>1</td>\n",
       "      <td>1</td>\n",
       "      <td>622.322</td>\n",
       "      <td>-24.290771</td>\n",
       "      <td>4095</td>\n",
       "      <td>-24.288</td>\n",
       "      <td>2</td>\n",
       "      <td>128</td>\n",
       "      <td>128</td>\n",
       "      <td>0</td>\n",
       "      <td>58.334099</td>\n",
       "      <td>23373.713318</td>\n",
       "      <td>24218</td>\n",
       "      <td>6042.129036</td>\n",
       "    </tr>\n",
       "    <tr>\n",
       "      <th>2013-12-04 19:03:04.420770</th>\n",
       "      <td>2</td>\n",
       "      <td>14455</td>\n",
       "      <td>0</td>\n",
       "      <td>2400</td>\n",
       "      <td>1</td>\n",
       "      <td>-48.581543</td>\n",
       "      <td>1</td>\n",
       "      <td>1</td>\n",
       "      <td>497.638</td>\n",
       "      <td>-24.290771</td>\n",
       "      <td>4095</td>\n",
       "      <td>-24.288</td>\n",
       "      <td>2</td>\n",
       "      <td>128</td>\n",
       "      <td>128</td>\n",
       "      <td>0</td>\n",
       "      <td>58.334099</td>\n",
       "      <td>17524.360107</td>\n",
       "      <td>17720</td>\n",
       "      <td>4284.540316</td>\n",
       "    </tr>\n",
       "    <tr>\n",
       "      <th>2014-04-25 00:07:44.265320</th>\n",
       "      <td>61</td>\n",
       "      <td>15825</td>\n",
       "      <td>5</td>\n",
       "      <td>2361</td>\n",
       "      <td>1</td>\n",
       "      <td>0.494385</td>\n",
       "      <td>60</td>\n",
       "      <td>-1</td>\n",
       "      <td>-1.830</td>\n",
       "      <td>0.247192</td>\n",
       "      <td>13029</td>\n",
       "      <td>0.250</td>\n",
       "      <td>2</td>\n",
       "      <td>512</td>\n",
       "      <td>256</td>\n",
       "      <td>0</td>\n",
       "      <td>121.203468</td>\n",
       "      <td>520.624687</td>\n",
       "      <td>436</td>\n",
       "      <td>348.122660</td>\n",
       "    </tr>\n",
       "  </tbody>\n",
       "</table>\n",
       "</div>"
      ],
      "text/plain": [
       "                            CADENCE  CASE_TEMP  CHANNEL  DET_TEMP  DUTY_CYCLE  \\\n",
       "TIME_OF_INT                                                                     \n",
       "2013-12-04 19:02:17.420740        2      14456        5      2351           1   \n",
       "2013-12-04 19:02:17.420740        2      14456        0      2402           1   \n",
       "2013-12-04 19:03:04.420770        2      14455        5      2351           1   \n",
       "2013-12-04 19:03:04.420770        2      14455        0      2400           1   \n",
       "2014-04-25 00:07:44.265320       61      15825        5      2361           1   \n",
       "\n",
       "                              FOV_DEG  INT_TIME  LYA_CENTROID  MCP_VOLT  \\\n",
       "TIME_OF_INT                                                               \n",
       "2013-12-04 19:02:17.420740 -48.581543         1             1   622.322   \n",
       "2013-12-04 19:02:17.420740 -48.581543         1             1   497.638   \n",
       "2013-12-04 19:03:04.420770 -48.581543         1             1   622.322   \n",
       "2013-12-04 19:03:04.420770 -48.581543         1             1   497.638   \n",
       "2014-04-25 00:07:44.265320   0.494385        60            -1    -1.830   \n",
       "\n",
       "                            MIRROR_DEG  MIRROR_DN  MIR_DEG  NAXIS  NAXIS1  \\\n",
       "TIME_OF_INT                                                                 \n",
       "2013-12-04 19:02:17.420740  -24.290771       4095  -24.288      2     128   \n",
       "2013-12-04 19:02:17.420740  -24.290771       4095  -24.288      2     128   \n",
       "2013-12-04 19:03:04.420770  -24.290771       4095  -24.288      2     128   \n",
       "2013-12-04 19:03:04.420770  -24.290771       4095  -24.288      2     128   \n",
       "2014-04-25 00:07:44.265320    0.247192      13029    0.250      2     512   \n",
       "\n",
       "                            NAXIS2  N_FILL  SOLAR_LONGITUDE          mean  \\\n",
       "TIME_OF_INT                                                                 \n",
       "2013-12-04 19:02:17.420740     128       0        58.333862    241.076477   \n",
       "2013-12-04 19:02:17.420740     128       0        58.333862    213.668213   \n",
       "2013-12-04 19:03:04.420770     128       0        58.334099  23373.713318   \n",
       "2013-12-04 19:03:04.420770     128       0        58.334099  17524.360107   \n",
       "2014-04-25 00:07:44.265320     256       0       121.203468    520.624687   \n",
       "\n",
       "                            median          std  \n",
       "TIME_OF_INT                                      \n",
       "2013-12-04 19:02:17.420740     229    75.493331  \n",
       "2013-12-04 19:02:17.420740     202    66.896731  \n",
       "2013-12-04 19:03:04.420770   24218  6042.129036  \n",
       "2013-12-04 19:03:04.420770   17720  4284.540316  \n",
       "2014-04-25 00:07:44.265320     436   348.122660  "
      ]
     },
     "execution_count": 40,
     "metadata": {},
     "output_type": "execute_result"
    }
   ],
   "source": [
    "df.head()"
   ]
  },
  {
   "cell_type": "markdown",
   "metadata": {},
   "source": [
    "# Odd things\n",
    "\n",
    "## Difference between MIRROR_DEG and MIR_DEG"
   ]
  },
  {
   "cell_type": "code",
   "execution_count": 80,
   "metadata": {
    "collapsed": false
   },
   "outputs": [],
   "source": [
    "df['mirdeg_delta'] = df.MIRROR_DEG - df.MIR_DEG"
   ]
  },
  {
   "cell_type": "code",
   "execution_count": 81,
   "metadata": {
    "collapsed": false
   },
   "outputs": [
    {
     "data": {
      "application/javascript": [
       "/* Put everything inside the global mpl namespace */\n",
       "window.mpl = {};\n",
       "\n",
       "mpl.get_websocket_type = function() {\n",
       "    if (typeof(WebSocket) !== 'undefined') {\n",
       "        return WebSocket;\n",
       "    } else if (typeof(MozWebSocket) !== 'undefined') {\n",
       "        return MozWebSocket;\n",
       "    } else {\n",
       "        alert('Your browser does not have WebSocket support.' +\n",
       "              'Please try Chrome, Safari or Firefox ≥ 6. ' +\n",
       "              'Firefox 4 and 5 are also supported but you ' +\n",
       "              'have to enable WebSockets in about:config.');\n",
       "    };\n",
       "}\n",
       "\n",
       "mpl.figure = function(figure_id, websocket, ondownload, parent_element) {\n",
       "    this.id = figure_id;\n",
       "\n",
       "    this.ws = websocket;\n",
       "\n",
       "    this.supports_binary = (this.ws.binaryType != undefined);\n",
       "\n",
       "    if (!this.supports_binary) {\n",
       "        var warnings = document.getElementById(\"mpl-warnings\");\n",
       "        if (warnings) {\n",
       "            warnings.style.display = 'block';\n",
       "            warnings.textContent = (\n",
       "                \"This browser does not support binary websocket messages. \" +\n",
       "                    \"Performance may be slow.\");\n",
       "        }\n",
       "    }\n",
       "\n",
       "    this.imageObj = new Image();\n",
       "\n",
       "    this.context = undefined;\n",
       "    this.message = undefined;\n",
       "    this.canvas = undefined;\n",
       "    this.rubberband_canvas = undefined;\n",
       "    this.rubberband_context = undefined;\n",
       "    this.format_dropdown = undefined;\n",
       "\n",
       "    this.image_mode = 'full';\n",
       "\n",
       "    this.root = $('<div/>');\n",
       "    this._root_extra_style(this.root)\n",
       "    this.root.attr('style', 'display: inline-block');\n",
       "\n",
       "    $(parent_element).append(this.root);\n",
       "\n",
       "    this._init_header(this);\n",
       "    this._init_canvas(this);\n",
       "    this._init_toolbar(this);\n",
       "\n",
       "    var fig = this;\n",
       "\n",
       "    this.waiting = false;\n",
       "\n",
       "    this.ws.onopen =  function () {\n",
       "            fig.send_message(\"supports_binary\", {value: fig.supports_binary});\n",
       "            fig.send_message(\"send_image_mode\", {});\n",
       "            fig.send_message(\"refresh\", {});\n",
       "        }\n",
       "\n",
       "    this.imageObj.onload = function() {\n",
       "            if (fig.image_mode == 'full') {\n",
       "                // Full images could contain transparency (where diff images\n",
       "                // almost always do), so we need to clear the canvas so that\n",
       "                // there is no ghosting.\n",
       "                fig.context.clearRect(0, 0, fig.canvas.width, fig.canvas.height);\n",
       "            }\n",
       "            fig.context.drawImage(fig.imageObj, 0, 0);\n",
       "        };\n",
       "\n",
       "    this.imageObj.onunload = function() {\n",
       "        this.ws.close();\n",
       "    }\n",
       "\n",
       "    this.ws.onmessage = this._make_on_message_function(this);\n",
       "\n",
       "    this.ondownload = ondownload;\n",
       "}\n",
       "\n",
       "mpl.figure.prototype._init_header = function() {\n",
       "    var titlebar = $(\n",
       "        '<div class=\"ui-dialog-titlebar ui-widget-header ui-corner-all ' +\n",
       "        'ui-helper-clearfix\"/>');\n",
       "    var titletext = $(\n",
       "        '<div class=\"ui-dialog-title\" style=\"width: 100%; ' +\n",
       "        'text-align: center; padding: 3px;\"/>');\n",
       "    titlebar.append(titletext)\n",
       "    this.root.append(titlebar);\n",
       "    this.header = titletext[0];\n",
       "}\n",
       "\n",
       "\n",
       "\n",
       "mpl.figure.prototype._canvas_extra_style = function(canvas_div) {\n",
       "\n",
       "}\n",
       "\n",
       "\n",
       "mpl.figure.prototype._root_extra_style = function(canvas_div) {\n",
       "\n",
       "}\n",
       "\n",
       "mpl.figure.prototype._init_canvas = function() {\n",
       "    var fig = this;\n",
       "\n",
       "    var canvas_div = $('<div/>');\n",
       "\n",
       "    canvas_div.attr('style', 'position: relative; clear: both; outline: 0');\n",
       "\n",
       "    function canvas_keyboard_event(event) {\n",
       "        return fig.key_event(event, event['data']);\n",
       "    }\n",
       "\n",
       "    canvas_div.keydown('key_press', canvas_keyboard_event);\n",
       "    canvas_div.keyup('key_release', canvas_keyboard_event);\n",
       "    this.canvas_div = canvas_div\n",
       "    this._canvas_extra_style(canvas_div)\n",
       "    this.root.append(canvas_div);\n",
       "\n",
       "    var canvas = $('<canvas/>');\n",
       "    canvas.addClass('mpl-canvas');\n",
       "    canvas.attr('style', \"left: 0; top: 0; z-index: 0; outline: 0\")\n",
       "\n",
       "    this.canvas = canvas[0];\n",
       "    this.context = canvas[0].getContext(\"2d\");\n",
       "\n",
       "    var rubberband = $('<canvas/>');\n",
       "    rubberband.attr('style', \"position: absolute; left: 0; top: 0; z-index: 1;\")\n",
       "\n",
       "    var pass_mouse_events = true;\n",
       "\n",
       "    canvas_div.resizable({\n",
       "        start: function(event, ui) {\n",
       "            pass_mouse_events = false;\n",
       "        },\n",
       "        resize: function(event, ui) {\n",
       "            fig.request_resize(ui.size.width, ui.size.height);\n",
       "        },\n",
       "        stop: function(event, ui) {\n",
       "            pass_mouse_events = true;\n",
       "            fig.request_resize(ui.size.width, ui.size.height);\n",
       "        },\n",
       "    });\n",
       "\n",
       "    function mouse_event_fn(event) {\n",
       "        if (pass_mouse_events)\n",
       "            return fig.mouse_event(event, event['data']);\n",
       "    }\n",
       "\n",
       "    rubberband.mousedown('button_press', mouse_event_fn);\n",
       "    rubberband.mouseup('button_release', mouse_event_fn);\n",
       "    // Throttle sequential mouse events to 1 every 20ms.\n",
       "    rubberband.mousemove('motion_notify', mouse_event_fn);\n",
       "\n",
       "    rubberband.mouseenter('figure_enter', mouse_event_fn);\n",
       "    rubberband.mouseleave('figure_leave', mouse_event_fn);\n",
       "\n",
       "    canvas_div.on(\"wheel\", function (event) {\n",
       "        event = event.originalEvent;\n",
       "        event['data'] = 'scroll'\n",
       "        if (event.deltaY < 0) {\n",
       "            event.step = 1;\n",
       "        } else {\n",
       "            event.step = -1;\n",
       "        }\n",
       "        mouse_event_fn(event);\n",
       "    });\n",
       "\n",
       "    canvas_div.append(canvas);\n",
       "    canvas_div.append(rubberband);\n",
       "\n",
       "    this.rubberband = rubberband;\n",
       "    this.rubberband_canvas = rubberband[0];\n",
       "    this.rubberband_context = rubberband[0].getContext(\"2d\");\n",
       "    this.rubberband_context.strokeStyle = \"#000000\";\n",
       "\n",
       "    this._resize_canvas = function(width, height) {\n",
       "        // Keep the size of the canvas, canvas container, and rubber band\n",
       "        // canvas in synch.\n",
       "        canvas_div.css('width', width)\n",
       "        canvas_div.css('height', height)\n",
       "\n",
       "        canvas.attr('width', width);\n",
       "        canvas.attr('height', height);\n",
       "\n",
       "        rubberband.attr('width', width);\n",
       "        rubberband.attr('height', height);\n",
       "    }\n",
       "\n",
       "    // Set the figure to an initial 600x600px, this will subsequently be updated\n",
       "    // upon first draw.\n",
       "    this._resize_canvas(600, 600);\n",
       "\n",
       "    // Disable right mouse context menu.\n",
       "    $(this.rubberband_canvas).bind(\"contextmenu\",function(e){\n",
       "        return false;\n",
       "    });\n",
       "\n",
       "    function set_focus () {\n",
       "        canvas.focus();\n",
       "        canvas_div.focus();\n",
       "    }\n",
       "\n",
       "    window.setTimeout(set_focus, 100);\n",
       "}\n",
       "\n",
       "mpl.figure.prototype._init_toolbar = function() {\n",
       "    var fig = this;\n",
       "\n",
       "    var nav_element = $('<div/>')\n",
       "    nav_element.attr('style', 'width: 100%');\n",
       "    this.root.append(nav_element);\n",
       "\n",
       "    // Define a callback function for later on.\n",
       "    function toolbar_event(event) {\n",
       "        return fig.toolbar_button_onclick(event['data']);\n",
       "    }\n",
       "    function toolbar_mouse_event(event) {\n",
       "        return fig.toolbar_button_onmouseover(event['data']);\n",
       "    }\n",
       "\n",
       "    for(var toolbar_ind in mpl.toolbar_items) {\n",
       "        var name = mpl.toolbar_items[toolbar_ind][0];\n",
       "        var tooltip = mpl.toolbar_items[toolbar_ind][1];\n",
       "        var image = mpl.toolbar_items[toolbar_ind][2];\n",
       "        var method_name = mpl.toolbar_items[toolbar_ind][3];\n",
       "\n",
       "        if (!name) {\n",
       "            // put a spacer in here.\n",
       "            continue;\n",
       "        }\n",
       "        var button = $('<button/>');\n",
       "        button.addClass('ui-button ui-widget ui-state-default ui-corner-all ' +\n",
       "                        'ui-button-icon-only');\n",
       "        button.attr('role', 'button');\n",
       "        button.attr('aria-disabled', 'false');\n",
       "        button.click(method_name, toolbar_event);\n",
       "        button.mouseover(tooltip, toolbar_mouse_event);\n",
       "\n",
       "        var icon_img = $('<span/>');\n",
       "        icon_img.addClass('ui-button-icon-primary ui-icon');\n",
       "        icon_img.addClass(image);\n",
       "        icon_img.addClass('ui-corner-all');\n",
       "\n",
       "        var tooltip_span = $('<span/>');\n",
       "        tooltip_span.addClass('ui-button-text');\n",
       "        tooltip_span.html(tooltip);\n",
       "\n",
       "        button.append(icon_img);\n",
       "        button.append(tooltip_span);\n",
       "\n",
       "        nav_element.append(button);\n",
       "    }\n",
       "\n",
       "    var fmt_picker_span = $('<span/>');\n",
       "\n",
       "    var fmt_picker = $('<select/>');\n",
       "    fmt_picker.addClass('mpl-toolbar-option ui-widget ui-widget-content');\n",
       "    fmt_picker_span.append(fmt_picker);\n",
       "    nav_element.append(fmt_picker_span);\n",
       "    this.format_dropdown = fmt_picker[0];\n",
       "\n",
       "    for (var ind in mpl.extensions) {\n",
       "        var fmt = mpl.extensions[ind];\n",
       "        var option = $(\n",
       "            '<option/>', {selected: fmt === mpl.default_extension}).html(fmt);\n",
       "        fmt_picker.append(option)\n",
       "    }\n",
       "\n",
       "    // Add hover states to the ui-buttons\n",
       "    $( \".ui-button\" ).hover(\n",
       "        function() { $(this).addClass(\"ui-state-hover\");},\n",
       "        function() { $(this).removeClass(\"ui-state-hover\");}\n",
       "    );\n",
       "\n",
       "    var status_bar = $('<span class=\"mpl-message\"/>');\n",
       "    nav_element.append(status_bar);\n",
       "    this.message = status_bar[0];\n",
       "}\n",
       "\n",
       "mpl.figure.prototype.request_resize = function(x_pixels, y_pixels) {\n",
       "    // Request matplotlib to resize the figure. Matplotlib will then trigger a resize in the client,\n",
       "    // which will in turn request a refresh of the image.\n",
       "    this.send_message('resize', {'width': x_pixels, 'height': y_pixels});\n",
       "}\n",
       "\n",
       "mpl.figure.prototype.send_message = function(type, properties) {\n",
       "    properties['type'] = type;\n",
       "    properties['figure_id'] = this.id;\n",
       "    this.ws.send(JSON.stringify(properties));\n",
       "}\n",
       "\n",
       "mpl.figure.prototype.send_draw_message = function() {\n",
       "    if (!this.waiting) {\n",
       "        this.waiting = true;\n",
       "        this.ws.send(JSON.stringify({type: \"draw\", figure_id: this.id}));\n",
       "    }\n",
       "}\n",
       "\n",
       "\n",
       "mpl.figure.prototype.handle_save = function(fig, msg) {\n",
       "    var format_dropdown = fig.format_dropdown;\n",
       "    var format = format_dropdown.options[format_dropdown.selectedIndex].value;\n",
       "    fig.ondownload(fig, format);\n",
       "}\n",
       "\n",
       "\n",
       "mpl.figure.prototype.handle_resize = function(fig, msg) {\n",
       "    var size = msg['size'];\n",
       "    if (size[0] != fig.canvas.width || size[1] != fig.canvas.height) {\n",
       "        fig._resize_canvas(size[0], size[1]);\n",
       "        fig.send_message(\"refresh\", {});\n",
       "    };\n",
       "}\n",
       "\n",
       "mpl.figure.prototype.handle_rubberband = function(fig, msg) {\n",
       "    var x0 = msg['x0'];\n",
       "    var y0 = fig.canvas.height - msg['y0'];\n",
       "    var x1 = msg['x1'];\n",
       "    var y1 = fig.canvas.height - msg['y1'];\n",
       "    x0 = Math.floor(x0) + 0.5;\n",
       "    y0 = Math.floor(y0) + 0.5;\n",
       "    x1 = Math.floor(x1) + 0.5;\n",
       "    y1 = Math.floor(y1) + 0.5;\n",
       "    var min_x = Math.min(x0, x1);\n",
       "    var min_y = Math.min(y0, y1);\n",
       "    var width = Math.abs(x1 - x0);\n",
       "    var height = Math.abs(y1 - y0);\n",
       "\n",
       "    fig.rubberband_context.clearRect(\n",
       "        0, 0, fig.canvas.width, fig.canvas.height);\n",
       "\n",
       "    fig.rubberband_context.strokeRect(min_x, min_y, width, height);\n",
       "}\n",
       "\n",
       "mpl.figure.prototype.handle_figure_label = function(fig, msg) {\n",
       "    // Updates the figure title.\n",
       "    fig.header.textContent = msg['label'];\n",
       "}\n",
       "\n",
       "mpl.figure.prototype.handle_cursor = function(fig, msg) {\n",
       "    var cursor = msg['cursor'];\n",
       "    switch(cursor)\n",
       "    {\n",
       "    case 0:\n",
       "        cursor = 'pointer';\n",
       "        break;\n",
       "    case 1:\n",
       "        cursor = 'default';\n",
       "        break;\n",
       "    case 2:\n",
       "        cursor = 'crosshair';\n",
       "        break;\n",
       "    case 3:\n",
       "        cursor = 'move';\n",
       "        break;\n",
       "    }\n",
       "    fig.rubberband_canvas.style.cursor = cursor;\n",
       "}\n",
       "\n",
       "mpl.figure.prototype.handle_message = function(fig, msg) {\n",
       "    fig.message.textContent = msg['message'];\n",
       "}\n",
       "\n",
       "mpl.figure.prototype.handle_draw = function(fig, msg) {\n",
       "    // Request the server to send over a new figure.\n",
       "    fig.send_draw_message();\n",
       "}\n",
       "\n",
       "mpl.figure.prototype.handle_image_mode = function(fig, msg) {\n",
       "    fig.image_mode = msg['mode'];\n",
       "}\n",
       "\n",
       "mpl.figure.prototype.updated_canvas_event = function() {\n",
       "    // Called whenever the canvas gets updated.\n",
       "    this.send_message(\"ack\", {});\n",
       "}\n",
       "\n",
       "// A function to construct a web socket function for onmessage handling.\n",
       "// Called in the figure constructor.\n",
       "mpl.figure.prototype._make_on_message_function = function(fig) {\n",
       "    return function socket_on_message(evt) {\n",
       "        if (evt.data instanceof Blob) {\n",
       "            /* FIXME: We get \"Resource interpreted as Image but\n",
       "             * transferred with MIME type text/plain:\" errors on\n",
       "             * Chrome.  But how to set the MIME type?  It doesn't seem\n",
       "             * to be part of the websocket stream */\n",
       "            evt.data.type = \"image/png\";\n",
       "\n",
       "            /* Free the memory for the previous frames */\n",
       "            if (fig.imageObj.src) {\n",
       "                (window.URL || window.webkitURL).revokeObjectURL(\n",
       "                    fig.imageObj.src);\n",
       "            }\n",
       "\n",
       "            fig.imageObj.src = (window.URL || window.webkitURL).createObjectURL(\n",
       "                evt.data);\n",
       "            fig.updated_canvas_event();\n",
       "            fig.waiting = false;\n",
       "            return;\n",
       "        }\n",
       "        else if (typeof evt.data === 'string' && evt.data.slice(0, 21) == \"data:image/png;base64\") {\n",
       "            fig.imageObj.src = evt.data;\n",
       "            fig.updated_canvas_event();\n",
       "            fig.waiting = false;\n",
       "            return;\n",
       "        }\n",
       "\n",
       "        var msg = JSON.parse(evt.data);\n",
       "        var msg_type = msg['type'];\n",
       "\n",
       "        // Call the  \"handle_{type}\" callback, which takes\n",
       "        // the figure and JSON message as its only arguments.\n",
       "        try {\n",
       "            var callback = fig[\"handle_\" + msg_type];\n",
       "        } catch (e) {\n",
       "            console.log(\"No handler for the '\" + msg_type + \"' message type: \", msg);\n",
       "            return;\n",
       "        }\n",
       "\n",
       "        if (callback) {\n",
       "            try {\n",
       "                // console.log(\"Handling '\" + msg_type + \"' message: \", msg);\n",
       "                callback(fig, msg);\n",
       "            } catch (e) {\n",
       "                console.log(\"Exception inside the 'handler_\" + msg_type + \"' callback:\", e, e.stack, msg);\n",
       "            }\n",
       "        }\n",
       "    };\n",
       "}\n",
       "\n",
       "// from http://stackoverflow.com/questions/1114465/getting-mouse-location-in-canvas\n",
       "mpl.findpos = function(e) {\n",
       "    //this section is from http://www.quirksmode.org/js/events_properties.html\n",
       "    var targ;\n",
       "    if (!e)\n",
       "        e = window.event;\n",
       "    if (e.target)\n",
       "        targ = e.target;\n",
       "    else if (e.srcElement)\n",
       "        targ = e.srcElement;\n",
       "    if (targ.nodeType == 3) // defeat Safari bug\n",
       "        targ = targ.parentNode;\n",
       "\n",
       "    // jQuery normalizes the pageX and pageY\n",
       "    // pageX,Y are the mouse positions relative to the document\n",
       "    // offset() returns the position of the element relative to the document\n",
       "    var x = e.pageX - $(targ).offset().left;\n",
       "    var y = e.pageY - $(targ).offset().top;\n",
       "\n",
       "    return {\"x\": x, \"y\": y};\n",
       "};\n",
       "\n",
       "/*\n",
       " * return a copy of an object with only non-object keys\n",
       " * we need this to avoid circular references\n",
       " * http://stackoverflow.com/a/24161582/3208463\n",
       " */\n",
       "function simpleKeys (original) {\n",
       "  return Object.keys(original).reduce(function (obj, key) {\n",
       "    if (typeof original[key] !== 'object')\n",
       "        obj[key] = original[key]\n",
       "    return obj;\n",
       "  }, {});\n",
       "}\n",
       "\n",
       "mpl.figure.prototype.mouse_event = function(event, name) {\n",
       "    var canvas_pos = mpl.findpos(event)\n",
       "\n",
       "    if (name === 'button_press')\n",
       "    {\n",
       "        this.canvas.focus();\n",
       "        this.canvas_div.focus();\n",
       "    }\n",
       "\n",
       "    var x = canvas_pos.x;\n",
       "    var y = canvas_pos.y;\n",
       "\n",
       "    this.send_message(name, {x: x, y: y, button: event.button,\n",
       "                             step: event.step,\n",
       "                             guiEvent: simpleKeys(event)});\n",
       "\n",
       "    /* This prevents the web browser from automatically changing to\n",
       "     * the text insertion cursor when the button is pressed.  We want\n",
       "     * to control all of the cursor setting manually through the\n",
       "     * 'cursor' event from matplotlib */\n",
       "    event.preventDefault();\n",
       "    return false;\n",
       "}\n",
       "\n",
       "mpl.figure.prototype._key_event_extra = function(event, name) {\n",
       "    // Handle any extra behaviour associated with a key event\n",
       "}\n",
       "\n",
       "mpl.figure.prototype.key_event = function(event, name) {\n",
       "\n",
       "    // Prevent repeat events\n",
       "    if (name == 'key_press')\n",
       "    {\n",
       "        if (event.which === this._key)\n",
       "            return;\n",
       "        else\n",
       "            this._key = event.which;\n",
       "    }\n",
       "    if (name == 'key_release')\n",
       "        this._key = null;\n",
       "\n",
       "    var value = '';\n",
       "    if (event.ctrlKey && event.which != 17)\n",
       "        value += \"ctrl+\";\n",
       "    if (event.altKey && event.which != 18)\n",
       "        value += \"alt+\";\n",
       "    if (event.shiftKey && event.which != 16)\n",
       "        value += \"shift+\";\n",
       "\n",
       "    value += 'k';\n",
       "    value += event.which.toString();\n",
       "\n",
       "    this._key_event_extra(event, name);\n",
       "\n",
       "    this.send_message(name, {key: value,\n",
       "                             guiEvent: simpleKeys(event)});\n",
       "    return false;\n",
       "}\n",
       "\n",
       "mpl.figure.prototype.toolbar_button_onclick = function(name) {\n",
       "    if (name == 'download') {\n",
       "        this.handle_save(this, null);\n",
       "    } else {\n",
       "        this.send_message(\"toolbar_button\", {name: name});\n",
       "    }\n",
       "};\n",
       "\n",
       "mpl.figure.prototype.toolbar_button_onmouseover = function(tooltip) {\n",
       "    this.message.textContent = tooltip;\n",
       "};\n",
       "mpl.toolbar_items = [[\"Home\", \"Reset original view\", \"fa fa-home icon-home\", \"home\"], [\"Back\", \"Back to  previous view\", \"fa fa-arrow-left icon-arrow-left\", \"back\"], [\"Forward\", \"Forward to next view\", \"fa fa-arrow-right icon-arrow-right\", \"forward\"], [\"\", \"\", \"\", \"\"], [\"Pan\", \"Pan axes with left mouse, zoom with right\", \"fa fa-arrows icon-move\", \"pan\"], [\"Zoom\", \"Zoom to rectangle\", \"fa fa-square-o icon-check-empty\", \"zoom\"], [\"\", \"\", \"\", \"\"], [\"Download\", \"Download plot\", \"fa fa-floppy-o icon-save\", \"download\"]];\n",
       "\n",
       "mpl.extensions = [\"eps\", \"jpeg\", \"pdf\", \"png\", \"ps\", \"raw\", \"svg\", \"tif\"];\n",
       "\n",
       "mpl.default_extension = \"png\";var comm_websocket_adapter = function(comm) {\n",
       "    // Create a \"websocket\"-like object which calls the given IPython comm\n",
       "    // object with the appropriate methods. Currently this is a non binary\n",
       "    // socket, so there is still some room for performance tuning.\n",
       "    var ws = {};\n",
       "\n",
       "    ws.close = function() {\n",
       "        comm.close()\n",
       "    };\n",
       "    ws.send = function(m) {\n",
       "        //console.log('sending', m);\n",
       "        comm.send(m);\n",
       "    };\n",
       "    // Register the callback with on_msg.\n",
       "    comm.on_msg(function(msg) {\n",
       "        //console.log('receiving', msg['content']['data'], msg);\n",
       "        // Pass the mpl event to the overriden (by mpl) onmessage function.\n",
       "        ws.onmessage(msg['content']['data'])\n",
       "    });\n",
       "    return ws;\n",
       "}\n",
       "\n",
       "mpl.mpl_figure_comm = function(comm, msg) {\n",
       "    // This is the function which gets called when the mpl process\n",
       "    // starts-up an IPython Comm through the \"matplotlib\" channel.\n",
       "\n",
       "    var id = msg.content.data.id;\n",
       "    // Get hold of the div created by the display call when the Comm\n",
       "    // socket was opened in Python.\n",
       "    var element = $(\"#\" + id);\n",
       "    var ws_proxy = comm_websocket_adapter(comm)\n",
       "\n",
       "    function ondownload(figure, format) {\n",
       "        window.open(figure.imageObj.src);\n",
       "    }\n",
       "\n",
       "    var fig = new mpl.figure(id, ws_proxy,\n",
       "                           ondownload,\n",
       "                           element.get(0));\n",
       "\n",
       "    // Call onopen now - mpl needs it, as it is assuming we've passed it a real\n",
       "    // web socket which is closed, not our websocket->open comm proxy.\n",
       "    ws_proxy.onopen();\n",
       "\n",
       "    fig.parent_element = element.get(0);\n",
       "    fig.cell_info = mpl.find_output_cell(\"<div id='\" + id + \"'></div>\");\n",
       "    if (!fig.cell_info) {\n",
       "        console.error(\"Failed to find cell for figure\", id, fig);\n",
       "        return;\n",
       "    }\n",
       "\n",
       "    var output_index = fig.cell_info[2]\n",
       "    var cell = fig.cell_info[0];\n",
       "\n",
       "};\n",
       "\n",
       "mpl.figure.prototype.handle_close = function(fig, msg) {\n",
       "    // Update the output cell to use the data from the current canvas.\n",
       "    fig.push_to_output();\n",
       "    var dataURL = fig.canvas.toDataURL();\n",
       "    // Re-enable the keyboard manager in IPython - without this line, in FF,\n",
       "    // the notebook keyboard shortcuts fail.\n",
       "    IPython.keyboard_manager.enable()\n",
       "    $(fig.parent_element).html('<img src=\"' + dataURL + '\">');\n",
       "    fig.send_message('closing', {});\n",
       "    fig.ws.close()\n",
       "}\n",
       "\n",
       "mpl.figure.prototype.push_to_output = function(remove_interactive) {\n",
       "    // Turn the data on the canvas into data in the output cell.\n",
       "    var dataURL = this.canvas.toDataURL();\n",
       "    this.cell_info[1]['text/html'] = '<img src=\"' + dataURL + '\">';\n",
       "}\n",
       "\n",
       "mpl.figure.prototype.updated_canvas_event = function() {\n",
       "    // Tell IPython that the notebook contents must change.\n",
       "    IPython.notebook.set_dirty(true);\n",
       "    this.send_message(\"ack\", {});\n",
       "    var fig = this;\n",
       "    // Wait a second, then push the new image to the DOM so\n",
       "    // that it is saved nicely (might be nice to debounce this).\n",
       "    setTimeout(function () { fig.push_to_output() }, 1000);\n",
       "}\n",
       "\n",
       "mpl.figure.prototype._init_toolbar = function() {\n",
       "    var fig = this;\n",
       "\n",
       "    var nav_element = $('<div/>')\n",
       "    nav_element.attr('style', 'width: 100%');\n",
       "    this.root.append(nav_element);\n",
       "\n",
       "    // Define a callback function for later on.\n",
       "    function toolbar_event(event) {\n",
       "        return fig.toolbar_button_onclick(event['data']);\n",
       "    }\n",
       "    function toolbar_mouse_event(event) {\n",
       "        return fig.toolbar_button_onmouseover(event['data']);\n",
       "    }\n",
       "\n",
       "    for(var toolbar_ind in mpl.toolbar_items){\n",
       "        var name = mpl.toolbar_items[toolbar_ind][0];\n",
       "        var tooltip = mpl.toolbar_items[toolbar_ind][1];\n",
       "        var image = mpl.toolbar_items[toolbar_ind][2];\n",
       "        var method_name = mpl.toolbar_items[toolbar_ind][3];\n",
       "\n",
       "        if (!name) { continue; };\n",
       "\n",
       "        var button = $('<button class=\"btn btn-default\" href=\"#\" title=\"' + name + '\"><i class=\"fa ' + image + ' fa-lg\"></i></button>');\n",
       "        button.click(method_name, toolbar_event);\n",
       "        button.mouseover(tooltip, toolbar_mouse_event);\n",
       "        nav_element.append(button);\n",
       "    }\n",
       "\n",
       "    // Add the status bar.\n",
       "    var status_bar = $('<span class=\"mpl-message\" style=\"text-align:right; float: right;\"/>');\n",
       "    nav_element.append(status_bar);\n",
       "    this.message = status_bar[0];\n",
       "\n",
       "    // Add the close button to the window.\n",
       "    var buttongrp = $('<div class=\"btn-group inline pull-right\"></div>');\n",
       "    var button = $('<button class=\"btn btn-mini btn-danger\" href=\"#\" title=\"Close figure\"><i class=\"fa fa-times icon-remove icon-large\"></i></button>');\n",
       "    button.click(function (evt) { fig.handle_close(fig, {}); } );\n",
       "    button.mouseover('Close figure', toolbar_mouse_event);\n",
       "    buttongrp.append(button);\n",
       "    var titlebar = this.root.find($('.ui-dialog-titlebar'));\n",
       "    titlebar.prepend(buttongrp);\n",
       "}\n",
       "\n",
       "\n",
       "mpl.figure.prototype._canvas_extra_style = function(el){\n",
       "    // this is important to make the div 'focusable\n",
       "    el.attr('tabindex', 0)\n",
       "    // reach out to IPython and tell the keyboard manager to turn it's self\n",
       "    // off when our div gets focus\n",
       "\n",
       "    // location in version 3\n",
       "    if (IPython.notebook.keyboard_manager) {\n",
       "        IPython.notebook.keyboard_manager.register_events(el);\n",
       "    }\n",
       "    else {\n",
       "        // location in version 2\n",
       "        IPython.keyboard_manager.register_events(el);\n",
       "    }\n",
       "\n",
       "}\n",
       "\n",
       "mpl.figure.prototype._key_event_extra = function(event, name) {\n",
       "    var manager = IPython.notebook.keyboard_manager;\n",
       "    if (!manager)\n",
       "        manager = IPython.keyboard_manager;\n",
       "\n",
       "    // Check for shift+enter\n",
       "    if (event.shiftKey && event.which == 13) {\n",
       "        this.canvas_div.blur();\n",
       "        event.shiftKey = false;\n",
       "        // Send a \"J\" for go to next cell\n",
       "        event.which = 74;\n",
       "        event.keyCode = 74;\n",
       "        manager.command_mode();\n",
       "        manager.handle_keydown(event);\n",
       "    }\n",
       "}\n",
       "\n",
       "mpl.figure.prototype.handle_save = function(fig, msg) {\n",
       "    fig.ondownload(fig, null);\n",
       "}\n",
       "\n",
       "\n",
       "mpl.find_output_cell = function(html_output) {\n",
       "    // Return the cell and output element which can be found *uniquely* in the notebook.\n",
       "    // Note - this is a bit hacky, but it is done because the \"notebook_saving.Notebook\"\n",
       "    // IPython event is triggered only after the cells have been serialised, which for\n",
       "    // our purposes (turning an active figure into a static one), is too late.\n",
       "    var cells = IPython.notebook.get_cells();\n",
       "    var ncells = cells.length;\n",
       "    for (var i=0; i<ncells; i++) {\n",
       "        var cell = cells[i];\n",
       "        if (cell.cell_type === 'code'){\n",
       "            for (var j=0; j<cell.output_area.outputs.length; j++) {\n",
       "                var data = cell.output_area.outputs[j];\n",
       "                if (data.data) {\n",
       "                    // IPython >= 3 moved mimebundle to data attribute of output\n",
       "                    data = data.data;\n",
       "                }\n",
       "                if (data['text/html'] == html_output) {\n",
       "                    return [cell, data, j];\n",
       "                }\n",
       "            }\n",
       "        }\n",
       "    }\n",
       "}\n",
       "\n",
       "// Register the function which deals with the matplotlib target/channel.\n",
       "// The kernel may be null if the page has been refreshed.\n",
       "if (IPython.notebook.kernel != null) {\n",
       "    IPython.notebook.kernel.comm_manager.register_target('matplotlib', mpl.mpl_figure_comm);\n",
       "}\n"
      ],
      "text/plain": [
       "<IPython.core.display.Javascript object>"
      ]
     },
     "metadata": {},
     "output_type": "display_data"
    },
    {
     "data": {
      "text/html": [
       "<img src=\"data:image/png;base64,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\">"
      ],
      "text/plain": [
       "<IPython.core.display.HTML object>"
      ]
     },
     "metadata": {},
     "output_type": "display_data"
    },
    {
     "data": {
      "text/plain": [
       "<matplotlib.axes._subplots.AxesSubplot at 0x7f0d0843f198>"
      ]
     },
     "execution_count": 81,
     "metadata": {},
     "output_type": "execute_result"
    }
   ],
   "source": [
    "plt.figure()\n",
    "df.mirdeg_delta.plot(style='.')"
   ]
  },
  {
   "cell_type": "code",
   "execution_count": null,
   "metadata": {
    "collapsed": true
   },
   "outputs": [],
   "source": []
  }
 ],
 "metadata": {
  "kernelspec": {
   "display_name": "Python 3",
   "language": "python",
   "name": "python3"
  },
  "language_info": {
   "codemirror_mode": {
    "name": "ipython",
    "version": 3
   },
   "file_extension": ".py",
   "mimetype": "text/x-python",
   "name": "python",
   "nbconvert_exporter": "python",
   "pygments_lexer": "ipython3",
   "version": "3.4.3"
  }
 },
 "nbformat": 4,
 "nbformat_minor": 0
}

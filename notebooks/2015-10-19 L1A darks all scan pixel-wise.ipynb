{
 "cells": [
  {
   "cell_type": "code",
   "execution_count": 1,
   "metadata": {
    "collapsed": false
   },
   "outputs": [],
   "source": [
    "pd.options.display.max_columns = 100"
   ]
  },
  {
   "cell_type": "code",
   "execution_count": 18,
   "metadata": {
    "collapsed": false
   },
   "outputs": [],
   "source": [
    "# l1adarkfnames = io.get_current_science_fnames('l1a', 'periapse*uvdark', env='production')\n",
    "l1adarkfnames = !ls /Users/klay6683/Dropbox/data/iuvs/periapse_muvdarks_v02_r01/*.fits*"
   ]
  },
  {
   "cell_type": "code",
   "execution_count": 19,
   "metadata": {
    "collapsed": false
   },
   "outputs": [
    {
     "data": {
      "text/plain": [
       "1270"
      ]
     },
     "execution_count": 19,
     "metadata": {},
     "output_type": "execute_result"
    }
   ],
   "source": [
    "len(l1adarkfnames)"
   ]
  },
  {
   "cell_type": "code",
   "execution_count": 4,
   "metadata": {
    "collapsed": false
   },
   "outputs": [],
   "source": [
    "from ipywidgets import interact, interactive, fixed"
   ]
  },
  {
   "cell_type": "code",
   "execution_count": 5,
   "metadata": {
    "collapsed": false
   },
   "outputs": [
    {
     "name": "stderr",
     "output_type": "stream",
     "text": [
      "/Users/klay6683/miniconda3/envs/py34/lib/python3.4/site-packages/IPython/kernel/__init__.py:13: ShimWarning: The `IPython.kernel` package has been deprecated. You should import from ipykernel or jupyter_client instead.\n",
      "  \"You should import from ipykernel or jupyter_client instead.\", ShimWarning)\n"
     ]
    }
   ],
   "source": [
    "from iuvs import io"
   ]
  },
  {
   "cell_type": "code",
   "execution_count": 13,
   "metadata": {
    "collapsed": true
   },
   "outputs": [],
   "source": [
    "def f(i):\n",
    "    l1a = io.L1AReader(l1adarkfnames[i])\n",
    "    print('n_dims:', l1a.n_dims)\n",
    "    i = 0\n",
    "    if l1a.n_dims == 3:\n",
    "        i = 1\n",
    "    print(l1a.img.shape[i])\n",
    "    print(l1a.Binning['SPABINWIDTH'].shape[1])"
   ]
  },
  {
   "cell_type": "code",
   "execution_count": 22,
   "metadata": {
    "collapsed": false
   },
   "outputs": [
    {
     "name": "stdout",
     "output_type": "stream",
     "text": [
      "n_dims: 3\n",
      "7\n",
      "9\n"
     ]
    }
   ],
   "source": [
    "interact(f, i=(0,len(l1adarkfnames)-1));"
   ]
  },
  {
   "cell_type": "code",
   "execution_count": 7,
   "metadata": {
    "collapsed": false
   },
   "outputs": [],
   "source": [
    "l1a = io.L1AReader(l1adarkfnames[0])"
   ]
  },
  {
   "cell_type": "code",
   "execution_count": 8,
   "metadata": {
    "collapsed": false
   },
   "outputs": [
    {
     "data": {
      "text/html": [
       "<div>\n",
       "<table border=\"1\" class=\"dataframe\">\n",
       "  <thead>\n",
       "    <tr style=\"text-align: right;\">\n",
       "      <th></th>\n",
       "      <th>CASE_TEMP</th>\n",
       "      <th>DET_TEMP</th>\n",
       "      <th>ET</th>\n",
       "      <th>FOV_DEG</th>\n",
       "      <th>LYA_CENTROID</th>\n",
       "      <th>MIRROR_DEG</th>\n",
       "      <th>MIRROR_DN</th>\n",
       "      <th>TIMESTAMP</th>\n",
       "      <th>UTC</th>\n",
       "    </tr>\n",
       "  </thead>\n",
       "  <tbody>\n",
       "    <tr>\n",
       "      <th>0</th>\n",
       "      <td>15950</td>\n",
       "      <td>2576</td>\n",
       "      <td>4.669038e+08</td>\n",
       "      <td>17.29248</td>\n",
       "      <td>-1</td>\n",
       "      <td>8.64624</td>\n",
       "      <td>16087</td>\n",
       "      <td>4.669037e+08</td>\n",
       "      <td>2014/291 Oct 18 11:28:44.36433UTC</td>\n",
       "    </tr>\n",
       "  </tbody>\n",
       "</table>\n",
       "</div>"
      ],
      "text/plain": [
       "   CASE_TEMP  DET_TEMP            ET   FOV_DEG  LYA_CENTROID  MIRROR_DEG  \\\n",
       "0      15950      2576  4.669038e+08  17.29248            -1     8.64624   \n",
       "\n",
       "   MIRROR_DN     TIMESTAMP                                UTC  \n",
       "0      16087  4.669037e+08  2014/291 Oct 18 11:28:44.36433UTC  "
      ]
     },
     "execution_count": 8,
     "metadata": {},
     "output_type": "execute_result"
    }
   ],
   "source": [
    "l1a.Integration"
   ]
  },
  {
   "cell_type": "code",
   "execution_count": 9,
   "metadata": {
    "collapsed": false
   },
   "outputs": [
    {
     "data": {
      "text/plain": [
       "2"
      ]
     },
     "execution_count": 9,
     "metadata": {},
     "output_type": "execute_result"
    }
   ],
   "source": [
    "l1a.n_dims"
   ]
  },
  {
   "cell_type": "code",
   "execution_count": 10,
   "metadata": {
    "collapsed": false
   },
   "outputs": [
    {
     "data": {
      "text/plain": [
       "(7, 256)"
      ]
     },
     "execution_count": 10,
     "metadata": {},
     "output_type": "execute_result"
    }
   ],
   "source": [
    "l1a.img.shape"
   ]
  },
  {
   "cell_type": "code",
   "execution_count": null,
   "metadata": {
    "collapsed": true
   },
   "outputs": [],
   "source": []
  },
  {
   "cell_type": "markdown",
   "metadata": {},
   "source": [
    "## Generate dataframe with filename stats"
   ]
  },
  {
   "cell_type": "code",
   "execution_count": 20,
   "metadata": {
    "collapsed": false
   },
   "outputs": [],
   "source": [
    "df = pd.DataFrame([io.ScienceFilename(str(i)).as_series() for i in l1adarkfnames])"
   ]
  },
  {
   "cell_type": "code",
   "execution_count": 21,
   "metadata": {
    "collapsed": false
   },
   "outputs": [
    {
     "data": {
      "text/plain": [
       "Index(['basename', 'channel', 'cycle_orbit', 'instrument', 'level', 'mission',\n",
       "       'mode', 'obs_id', 'p', 'phase', 'revision', 'root', 'time', 'timestr',\n",
       "       'tokens', 'version', 'version_string'],\n",
       "      dtype='object')"
      ]
     },
     "execution_count": 21,
     "metadata": {},
     "output_type": "execute_result"
    }
   ],
   "source": [
    "df.columns"
   ]
  },
  {
   "cell_type": "code",
   "execution_count": 22,
   "metadata": {
    "collapsed": false
   },
   "outputs": [
    {
     "data": {
      "text/plain": [
       "periapse    1270\n",
       "dtype: int64"
      ]
     },
     "execution_count": 22,
     "metadata": {},
     "output_type": "execute_result"
    }
   ],
   "source": [
    "df['phase'].value_counts()"
   ]
  },
  {
   "cell_type": "code",
   "execution_count": 24,
   "metadata": {
    "collapsed": false
   },
   "outputs": [],
   "source": [
    "from ipyparallel import Client\n",
    "c = Client()"
   ]
  },
  {
   "cell_type": "code",
   "execution_count": 25,
   "metadata": {
    "collapsed": true
   },
   "outputs": [],
   "source": [
    "dview = c.direct_view()\n",
    "lview = c.load_balanced_view()"
   ]
  },
  {
   "cell_type": "code",
   "execution_count": 57,
   "metadata": {
    "collapsed": true
   },
   "outputs": [],
   "source": [
    "def check_for_issues(p):\n",
    "    from iuvs import exceptions, io\n",
    "    d = {}\n",
    "    d['fname'] = p.name\n",
    "    try:\n",
    "        l1a = io.L1AReader(p)\n",
    "    except exceptions.DimensionsError:\n",
    "        d['dims'] = False\n",
    "    d['kind'] = l1a.img_header['BIN_TBL'][:3]\n",
    "    d['n_unique_spabins'] = l1a.n_unique_spabins\n",
    "    d['n_unique_spebins'] = l1a.n_unique_spebins\n",
    "    return d"
   ]
  },
  {
   "cell_type": "code",
   "execution_count": 58,
   "metadata": {
    "collapsed": false
   },
   "outputs": [
    {
     "data": {
      "text/plain": [
       "{'fname': 'mvn_iuv_l1a_periapse-orbit00110-muvdark_20141018T204249_v02_r01.fits.gz',\n",
       " 'kind': 'LIN',\n",
       " 'n_unique_spabins': 1,\n",
       " 'n_unique_spebins': 1}"
      ]
     },
     "execution_count": 58,
     "metadata": {},
     "output_type": "execute_result"
    }
   ],
   "source": [
    "check_for_issues(df.p[4])"
   ]
  },
  {
   "cell_type": "code",
   "execution_count": 59,
   "metadata": {
    "collapsed": false
   },
   "outputs": [],
   "source": [
    "doing = df.p\n",
    "results = lview.map_async(check_for_issues, doing)"
   ]
  },
  {
   "cell_type": "code",
   "execution_count": 14,
   "metadata": {
    "collapsed": false,
    "scrolled": true
   },
   "outputs": [],
   "source": [
    "from iuvs.multitools import nb_progress_display"
   ]
  },
  {
   "cell_type": "code",
   "execution_count": 71,
   "metadata": {
    "collapsed": false
   },
   "outputs": [],
   "source": [
    "nb_progress_display(results, doing)"
   ]
  },
  {
   "cell_type": "code",
   "execution_count": 72,
   "metadata": {
    "collapsed": false
   },
   "outputs": [
    {
     "data": {
      "text/plain": [
       "1270"
      ]
     },
     "execution_count": 72,
     "metadata": {},
     "output_type": "execute_result"
    }
   ],
   "source": [
    "results.progress"
   ]
  },
  {
   "cell_type": "code",
   "execution_count": 73,
   "metadata": {
    "collapsed": false
   },
   "outputs": [],
   "source": [
    "resultdf = pd.DataFrame(results.result)"
   ]
  },
  {
   "cell_type": "code",
   "execution_count": 77,
   "metadata": {
    "collapsed": false
   },
   "outputs": [
    {
     "data": {
      "text/html": [
       "<div>\n",
       "<table border=\"1\" class=\"dataframe\">\n",
       "  <thead>\n",
       "    <tr style=\"text-align: right;\">\n",
       "      <th></th>\n",
       "      <th>n_unique_spabins</th>\n",
       "      <th>n_unique_spebins</th>\n",
       "    </tr>\n",
       "  </thead>\n",
       "  <tbody>\n",
       "    <tr>\n",
       "      <th>count</th>\n",
       "      <td>1270</td>\n",
       "      <td>1270</td>\n",
       "    </tr>\n",
       "    <tr>\n",
       "      <th>mean</th>\n",
       "      <td>1</td>\n",
       "      <td>1</td>\n",
       "    </tr>\n",
       "    <tr>\n",
       "      <th>std</th>\n",
       "      <td>0</td>\n",
       "      <td>0</td>\n",
       "    </tr>\n",
       "    <tr>\n",
       "      <th>min</th>\n",
       "      <td>1</td>\n",
       "      <td>1</td>\n",
       "    </tr>\n",
       "    <tr>\n",
       "      <th>25%</th>\n",
       "      <td>1</td>\n",
       "      <td>1</td>\n",
       "    </tr>\n",
       "    <tr>\n",
       "      <th>50%</th>\n",
       "      <td>1</td>\n",
       "      <td>1</td>\n",
       "    </tr>\n",
       "    <tr>\n",
       "      <th>75%</th>\n",
       "      <td>1</td>\n",
       "      <td>1</td>\n",
       "    </tr>\n",
       "    <tr>\n",
       "      <th>max</th>\n",
       "      <td>1</td>\n",
       "      <td>1</td>\n",
       "    </tr>\n",
       "  </tbody>\n",
       "</table>\n",
       "</div>"
      ],
      "text/plain": [
       "       n_unique_spabins  n_unique_spebins\n",
       "count              1270              1270\n",
       "mean                  1                 1\n",
       "std                   0                 0\n",
       "min                   1                 1\n",
       "25%                   1                 1\n",
       "50%                   1                 1\n",
       "75%                   1                 1\n",
       "max                   1                 1"
      ]
     },
     "execution_count": 77,
     "metadata": {},
     "output_type": "execute_result"
    }
   ],
   "source": [
    "resultdf.describe()"
   ]
  },
  {
   "cell_type": "code",
   "execution_count": 74,
   "metadata": {
    "collapsed": false,
    "scrolled": true
   },
   "outputs": [
    {
     "name": "stdout",
     "output_type": "stream",
     "text": [
      "kind\n",
      "LIN    1270\n",
      "Name: kind, dtype: int64\n",
      "n_unique_spabins\n",
      "1    1270\n",
      "Name: n_unique_spabins, dtype: int64\n",
      "n_unique_spebins\n",
      "1    1270\n",
      "Name: n_unique_spebins, dtype: int64\n"
     ]
    }
   ],
   "source": [
    "for col in resultdf.columns:\n",
    "    if col == 'fname': continue\n",
    "    print(col)\n",
    "    print(resultdf[col].value_counts(dropna=False))"
   ]
  },
  {
   "cell_type": "code",
   "execution_count": 78,
   "metadata": {
    "collapsed": false
   },
   "outputs": [],
   "source": [
    "resultdf['phase'] = resultdf.fname.map(lambda x: io.ScienceFilename(x).phase)"
   ]
  },
  {
   "cell_type": "code",
   "execution_count": 90,
   "metadata": {
    "collapsed": true
   },
   "outputs": [],
   "source": [
    "subdf = resultdf[(resultdf.n_unique_spabins>1) | (resultdf.n_unique_spebins>1)]"
   ]
  },
  {
   "cell_type": "code",
   "execution_count": 91,
   "metadata": {
    "collapsed": false
   },
   "outputs": [
    {
     "name": "stdout",
     "output_type": "stream",
     "text": [
      "<class 'pandas.core.frame.DataFrame'>\n",
      "Int64Index: 0 entries\n",
      "Data columns (total 5 columns):\n",
      "fname               0 non-null object\n",
      "kind                0 non-null object\n",
      "n_unique_spabins    0 non-null int64\n",
      "n_unique_spebins    0 non-null int64\n",
      "phase               0 non-null object\n",
      "dtypes: int64(2), object(3)\n",
      "memory usage: 0.0+ bytes\n"
     ]
    }
   ],
   "source": [
    "subdf[subdf.kind=='LIN'].info()"
   ]
  },
  {
   "cell_type": "markdown",
   "metadata": {},
   "source": [
    "## Scanning code"
   ]
  },
  {
   "cell_type": "code",
   "execution_count": 79,
   "metadata": {
    "collapsed": true
   },
   "outputs": [],
   "source": [
    "def myfilter(fname, d):\n",
    "    from iuvs import exceptions, io\n",
    "    okay = True\n",
    "    try:\n",
    "        l1a = io.L1AReader(fname)\n",
    "    except exceptions.DimensionsError:\n",
    "        d['error'] = 'dims'\n",
    "        l1a = None\n",
    "        okay = False\n",
    "        return d, l1a, False\n",
    "    if l1a.img_header['BIN_TBL'].startswith('NON LINEAR'):\n",
    "        d['error'] = 'nonlinear'\n",
    "        okay = False\n",
    "    elif l1a.spatial_size != 7 or l1a.spectral_size != 256:\n",
    "        d['error'] = 'binning'\n",
    "        okay = False\n",
    "    return d, l1a, okay"
   ]
  },
  {
   "cell_type": "code",
   "execution_count": 80,
   "metadata": {
    "collapsed": false
   },
   "outputs": [],
   "source": [
    "def get_primary_dark(fname):\n",
    "    from iuvs import exceptions, io\n",
    "    import numpy as np\n",
    "    d = dict(fname=fname)\n",
    "    d, l1a, okay = myfilter(fname, d)\n",
    "    if okay is not True:\n",
    "        return d\n",
    "    if l1a.n_dims == 2:\n",
    "        return l1a.primary_img_dn_s[np.newaxis,...]\n",
    "    else:\n",
    "        return l1a.primary_img_dn_s"
   ]
  },
  {
   "cell_type": "code",
   "execution_count": 81,
   "metadata": {
    "collapsed": false
   },
   "outputs": [],
   "source": [
    "from iuvs.multitools import *"
   ]
  },
  {
   "cell_type": "code",
   "execution_count": 82,
   "metadata": {
    "collapsed": true
   },
   "outputs": [],
   "source": [
    "from ipywidgets import HTML"
   ]
  },
  {
   "cell_type": "code",
   "execution_count": 83,
   "metadata": {
    "collapsed": true
   },
   "outputs": [
    {
     "ename": "KeyboardInterrupt",
     "evalue": "",
     "output_type": "error",
     "traceback": [
      "\u001b[0;31m---------------------------------------------------------------------------\u001b[0m",
      "\u001b[0;31mKeyError\u001b[0m                                  Traceback (most recent call last)",
      "\u001b[0;32m/Users/klay6683/miniconda3/envs/py34/lib/python3.4/site-packages/astropy/utils/decorators.py\u001b[0m in \u001b[0;36m__get__\u001b[0;34m(self, obj, owner)\u001b[0m\n\u001b[1;32m    338\u001b[0m         \u001b[0;32mtry\u001b[0m\u001b[0;34m:\u001b[0m\u001b[0;34m\u001b[0m\u001b[0m\n\u001b[0;32m--> 339\u001b[0;31m             \u001b[0;32mreturn\u001b[0m \u001b[0mobj\u001b[0m\u001b[0;34m.\u001b[0m\u001b[0m__dict__\u001b[0m\u001b[0;34m[\u001b[0m\u001b[0mself\u001b[0m\u001b[0;34m.\u001b[0m\u001b[0m_key\u001b[0m\u001b[0;34m]\u001b[0m\u001b[0;34m\u001b[0m\u001b[0m\n\u001b[0m\u001b[1;32m    340\u001b[0m         \u001b[0;32mexcept\u001b[0m \u001b[0mKeyError\u001b[0m\u001b[0;34m:\u001b[0m\u001b[0;34m\u001b[0m\u001b[0m\n",
      "\u001b[0;31mKeyError\u001b[0m: 'data'",
      "\nDuring handling of the above exception, another exception occurred:\n",
      "\u001b[0;31mKeyboardInterrupt\u001b[0m                         Traceback (most recent call last)",
      "\u001b[0;32m<ipython-input-83-b50ecef893f0>\u001b[0m in \u001b[0;36m<module>\u001b[0;34m()\u001b[0m\n\u001b[1;32m      8\u001b[0m     \u001b[0mprog\u001b[0m\u001b[0;34m.\u001b[0m\u001b[0mvalue\u001b[0m \u001b[0;34m=\u001b[0m \u001b[0mi\u001b[0m\u001b[0;34m\u001b[0m\u001b[0m\n\u001b[1;32m      9\u001b[0m     \u001b[0mt\u001b[0m\u001b[0;34m.\u001b[0m\u001b[0mvalue\u001b[0m \u001b[0;34m=\u001b[0m \u001b[0mfname\u001b[0m\u001b[0;34m.\u001b[0m\u001b[0mname\u001b[0m\u001b[0;34m\u001b[0m\u001b[0m\n\u001b[0;32m---> 10\u001b[0;31m     \u001b[0mret\u001b[0m \u001b[0;34m=\u001b[0m \u001b[0mget_primary_dark\u001b[0m\u001b[0;34m(\u001b[0m\u001b[0mfname\u001b[0m\u001b[0;34m)\u001b[0m\u001b[0;34m\u001b[0m\u001b[0m\n\u001b[0m\u001b[1;32m     11\u001b[0m     \u001b[0;32mif\u001b[0m \u001b[0misinstance\u001b[0m\u001b[0;34m(\u001b[0m\u001b[0mret\u001b[0m\u001b[0;34m,\u001b[0m \u001b[0mdict\u001b[0m\u001b[0;34m)\u001b[0m\u001b[0;34m:\u001b[0m\u001b[0;34m\u001b[0m\u001b[0m\n\u001b[1;32m     12\u001b[0m         \u001b[0merrors\u001b[0m\u001b[0;34m.\u001b[0m\u001b[0mappend\u001b[0m\u001b[0;34m(\u001b[0m\u001b[0mret\u001b[0m\u001b[0;34m)\u001b[0m\u001b[0;34m\u001b[0m\u001b[0m\n",
      "\u001b[0;32m<ipython-input-80-e74bd2f12434>\u001b[0m in \u001b[0;36mget_primary_dark\u001b[0;34m(fname)\u001b[0m\n\u001b[1;32m      3\u001b[0m     \u001b[0;32mimport\u001b[0m \u001b[0mnumpy\u001b[0m \u001b[0;32mas\u001b[0m \u001b[0mnp\u001b[0m\u001b[0;34m\u001b[0m\u001b[0m\n\u001b[1;32m      4\u001b[0m     \u001b[0md\u001b[0m \u001b[0;34m=\u001b[0m \u001b[0mdict\u001b[0m\u001b[0;34m(\u001b[0m\u001b[0mfname\u001b[0m\u001b[0;34m=\u001b[0m\u001b[0mfname\u001b[0m\u001b[0;34m)\u001b[0m\u001b[0;34m\u001b[0m\u001b[0m\n\u001b[0;32m----> 5\u001b[0;31m     \u001b[0md\u001b[0m\u001b[0;34m,\u001b[0m \u001b[0ml1a\u001b[0m\u001b[0;34m,\u001b[0m \u001b[0mokay\u001b[0m \u001b[0;34m=\u001b[0m \u001b[0mmyfilter\u001b[0m\u001b[0;34m(\u001b[0m\u001b[0mfname\u001b[0m\u001b[0;34m,\u001b[0m \u001b[0md\u001b[0m\u001b[0;34m)\u001b[0m\u001b[0;34m\u001b[0m\u001b[0m\n\u001b[0m\u001b[1;32m      6\u001b[0m     \u001b[0;32mif\u001b[0m \u001b[0mokay\u001b[0m \u001b[0;32mis\u001b[0m \u001b[0;32mnot\u001b[0m \u001b[0;32mTrue\u001b[0m\u001b[0;34m:\u001b[0m\u001b[0;34m\u001b[0m\u001b[0m\n\u001b[1;32m      7\u001b[0m         \u001b[0;32mreturn\u001b[0m \u001b[0md\u001b[0m\u001b[0;34m\u001b[0m\u001b[0m\n",
      "\u001b[0;32m<ipython-input-79-df926af073a9>\u001b[0m in \u001b[0;36mmyfilter\u001b[0;34m(fname, d)\u001b[0m\n\u001b[1;32m      3\u001b[0m     \u001b[0mokay\u001b[0m \u001b[0;34m=\u001b[0m \u001b[0;32mTrue\u001b[0m\u001b[0;34m\u001b[0m\u001b[0m\n\u001b[1;32m      4\u001b[0m     \u001b[0;32mtry\u001b[0m\u001b[0;34m:\u001b[0m\u001b[0;34m\u001b[0m\u001b[0m\n\u001b[0;32m----> 5\u001b[0;31m         \u001b[0ml1a\u001b[0m \u001b[0;34m=\u001b[0m \u001b[0mio\u001b[0m\u001b[0;34m.\u001b[0m\u001b[0mL1AReader\u001b[0m\u001b[0;34m(\u001b[0m\u001b[0mfname\u001b[0m\u001b[0;34m)\u001b[0m\u001b[0;34m\u001b[0m\u001b[0m\n\u001b[0m\u001b[1;32m      6\u001b[0m     \u001b[0;32mexcept\u001b[0m \u001b[0mexceptions\u001b[0m\u001b[0;34m.\u001b[0m\u001b[0mDimensionsError\u001b[0m\u001b[0;34m:\u001b[0m\u001b[0;34m\u001b[0m\u001b[0m\n\u001b[1;32m      7\u001b[0m         \u001b[0md\u001b[0m\u001b[0;34m[\u001b[0m\u001b[0;34m'error'\u001b[0m\u001b[0;34m]\u001b[0m \u001b[0;34m=\u001b[0m \u001b[0;34m'dims'\u001b[0m\u001b[0;34m\u001b[0m\u001b[0m\n",
      "\u001b[0;32m/Users/klay6683/Dropbox/src/iuvs/iuvs/io.py\u001b[0m in \u001b[0;36m__init__\u001b[0;34m(self, fname, env)\u001b[0m\n\u001b[1;32m    662\u001b[0m                     \u001b[0msetattr\u001b[0m\u001b[0;34m(\u001b[0m\u001b[0mself\u001b[0m\u001b[0;34m,\u001b[0m \u001b[0mname\u001b[0m\u001b[0;34m,\u001b[0m \u001b[0mfits_table_to_dataframe\u001b[0m\u001b[0;34m(\u001b[0m\u001b[0mhdu\u001b[0m\u001b[0;34m)\u001b[0m\u001b[0;34m)\u001b[0m\u001b[0;34m\u001b[0m\u001b[0m\n\u001b[1;32m    663\u001b[0m                 \u001b[0;32melse\u001b[0m\u001b[0;34m:\u001b[0m\u001b[0;34m\u001b[0m\u001b[0m\n\u001b[0;32m--> 664\u001b[0;31m                     \u001b[0msetattr\u001b[0m\u001b[0;34m(\u001b[0m\u001b[0mself\u001b[0m\u001b[0;34m,\u001b[0m \u001b[0mname\u001b[0m\u001b[0;34m,\u001b[0m \u001b[0mhdu\u001b[0m\u001b[0;34m.\u001b[0m\u001b[0mdata\u001b[0m\u001b[0;34m)\u001b[0m\u001b[0;34m\u001b[0m\u001b[0m\n\u001b[0m\u001b[1;32m    665\u001b[0m         \u001b[0;31m# check for error case with binning table not found:\u001b[0m\u001b[0;34m\u001b[0m\u001b[0;34m\u001b[0m\u001b[0m\n\u001b[1;32m    666\u001b[0m         \u001b[0;32mif\u001b[0m \u001b[0mself\u001b[0m\u001b[0;34m.\u001b[0m\u001b[0mn_dims\u001b[0m \u001b[0;34m==\u001b[0m \u001b[0;36m2\u001b[0m \u001b[0;32mand\u001b[0m \u001b[0mself\u001b[0m\u001b[0;34m.\u001b[0m\u001b[0mn_integrations\u001b[0m \u001b[0;34m>\u001b[0m \u001b[0;36m1\u001b[0m\u001b[0;34m:\u001b[0m\u001b[0;34m\u001b[0m\u001b[0m\n",
      "\u001b[0;32m/Users/klay6683/miniconda3/envs/py34/lib/python3.4/site-packages/astropy/utils/decorators.py\u001b[0m in \u001b[0;36m__get__\u001b[0;34m(self, obj, owner)\u001b[0m\n\u001b[1;32m    339\u001b[0m             \u001b[0;32mreturn\u001b[0m \u001b[0mobj\u001b[0m\u001b[0;34m.\u001b[0m\u001b[0m__dict__\u001b[0m\u001b[0;34m[\u001b[0m\u001b[0mself\u001b[0m\u001b[0;34m.\u001b[0m\u001b[0m_key\u001b[0m\u001b[0;34m]\u001b[0m\u001b[0;34m\u001b[0m\u001b[0m\n\u001b[1;32m    340\u001b[0m         \u001b[0;32mexcept\u001b[0m \u001b[0mKeyError\u001b[0m\u001b[0;34m:\u001b[0m\u001b[0;34m\u001b[0m\u001b[0m\n\u001b[0;32m--> 341\u001b[0;31m             \u001b[0mval\u001b[0m \u001b[0;34m=\u001b[0m \u001b[0mself\u001b[0m\u001b[0;34m.\u001b[0m\u001b[0m_fget\u001b[0m\u001b[0;34m(\u001b[0m\u001b[0mobj\u001b[0m\u001b[0;34m)\u001b[0m\u001b[0;34m\u001b[0m\u001b[0m\n\u001b[0m\u001b[1;32m    342\u001b[0m             \u001b[0mobj\u001b[0m\u001b[0;34m.\u001b[0m\u001b[0m__dict__\u001b[0m\u001b[0;34m[\u001b[0m\u001b[0mself\u001b[0m\u001b[0;34m.\u001b[0m\u001b[0m_key\u001b[0m\u001b[0;34m]\u001b[0m \u001b[0;34m=\u001b[0m \u001b[0mval\u001b[0m\u001b[0;34m\u001b[0m\u001b[0m\n\u001b[1;32m    343\u001b[0m             \u001b[0;32mreturn\u001b[0m \u001b[0mval\u001b[0m\u001b[0;34m\u001b[0m\u001b[0m\n",
      "\u001b[0;32m/Users/klay6683/miniconda3/envs/py34/lib/python3.4/site-packages/astropy/io/fits/hdu/table.py\u001b[0m in \u001b[0;36mdata\u001b[0;34m(self)\u001b[0m\n\u001b[1;32m    397\u001b[0m     \u001b[0;34m@\u001b[0m\u001b[0mlazyproperty\u001b[0m\u001b[0;34m\u001b[0m\u001b[0m\n\u001b[1;32m    398\u001b[0m     \u001b[0;32mdef\u001b[0m \u001b[0mdata\u001b[0m\u001b[0;34m(\u001b[0m\u001b[0mself\u001b[0m\u001b[0;34m)\u001b[0m\u001b[0;34m:\u001b[0m\u001b[0;34m\u001b[0m\u001b[0m\n\u001b[0;32m--> 399\u001b[0;31m         \u001b[0mdata\u001b[0m \u001b[0;34m=\u001b[0m \u001b[0mself\u001b[0m\u001b[0;34m.\u001b[0m\u001b[0m_get_tbdata\u001b[0m\u001b[0;34m(\u001b[0m\u001b[0;34m)\u001b[0m\u001b[0;34m\u001b[0m\u001b[0m\n\u001b[0m\u001b[1;32m    400\u001b[0m         \u001b[0mdata\u001b[0m\u001b[0;34m.\u001b[0m\u001b[0m_coldefs\u001b[0m \u001b[0;34m=\u001b[0m \u001b[0mself\u001b[0m\u001b[0;34m.\u001b[0m\u001b[0mcolumns\u001b[0m\u001b[0;34m\u001b[0m\u001b[0m\n\u001b[1;32m    401\u001b[0m         \u001b[0;31m# Columns should now just return a reference to the data._coldefs\u001b[0m\u001b[0;34m\u001b[0m\u001b[0;34m\u001b[0m\u001b[0m\n",
      "\u001b[0;32m/Users/klay6683/miniconda3/envs/py34/lib/python3.4/site-packages/astropy/io/fits/hdu/table.py\u001b[0m in \u001b[0;36m_get_tbdata\u001b[0;34m(self)\u001b[0m\n\u001b[1;32m    176\u001b[0m \u001b[0;34m\u001b[0m\u001b[0m\n\u001b[1;32m    177\u001b[0m         \u001b[0mself\u001b[0m\u001b[0;34m.\u001b[0m\u001b[0m_init_tbdata\u001b[0m\u001b[0;34m(\u001b[0m\u001b[0mdata\u001b[0m\u001b[0;34m)\u001b[0m\u001b[0;34m\u001b[0m\u001b[0m\n\u001b[0;32m--> 178\u001b[0;31m         \u001b[0mdata\u001b[0m \u001b[0;34m=\u001b[0m \u001b[0mdata\u001b[0m\u001b[0;34m.\u001b[0m\u001b[0mview\u001b[0m\u001b[0;34m(\u001b[0m\u001b[0mself\u001b[0m\u001b[0;34m.\u001b[0m\u001b[0m_data_type\u001b[0m\u001b[0;34m)\u001b[0m\u001b[0;34m\u001b[0m\u001b[0m\n\u001b[0m\u001b[1;32m    179\u001b[0m         \u001b[0mcolumns\u001b[0m\u001b[0;34m.\u001b[0m\u001b[0m_add_listener\u001b[0m\u001b[0;34m(\u001b[0m\u001b[0mdata\u001b[0m\u001b[0;34m)\u001b[0m\u001b[0;34m\u001b[0m\u001b[0m\n\u001b[1;32m    180\u001b[0m         \u001b[0;32mreturn\u001b[0m \u001b[0mdata\u001b[0m\u001b[0;34m\u001b[0m\u001b[0m\n",
      "\u001b[0;32m/Users/klay6683/miniconda3/envs/py34/lib/python3.4/site-packages/numpy/core/records.py\u001b[0m in \u001b[0;36mview\u001b[0;34m(self, dtype, type)\u001b[0m\n\u001b[1;32m    490\u001b[0m             \u001b[0;32mtry\u001b[0m\u001b[0;34m:\u001b[0m\u001b[0;34m\u001b[0m\u001b[0m\n\u001b[1;32m    491\u001b[0m                 \u001b[0;32mif\u001b[0m \u001b[0missubclass\u001b[0m\u001b[0;34m(\u001b[0m\u001b[0mdtype\u001b[0m\u001b[0;34m,\u001b[0m \u001b[0mndarray\u001b[0m\u001b[0;34m)\u001b[0m\u001b[0;34m:\u001b[0m\u001b[0;34m\u001b[0m\u001b[0m\n\u001b[0;32m--> 492\u001b[0;31m                     \u001b[0;32mreturn\u001b[0m \u001b[0mndarray\u001b[0m\u001b[0;34m.\u001b[0m\u001b[0mview\u001b[0m\u001b[0;34m(\u001b[0m\u001b[0mself\u001b[0m\u001b[0;34m,\u001b[0m \u001b[0mdtype\u001b[0m\u001b[0;34m)\u001b[0m\u001b[0;34m\u001b[0m\u001b[0m\n\u001b[0m\u001b[1;32m    493\u001b[0m             \u001b[0;32mexcept\u001b[0m \u001b[0mTypeError\u001b[0m\u001b[0;34m:\u001b[0m\u001b[0;34m\u001b[0m\u001b[0m\n\u001b[1;32m    494\u001b[0m                 \u001b[0;32mpass\u001b[0m\u001b[0;34m\u001b[0m\u001b[0m\n",
      "\u001b[0;32m/Users/klay6683/miniconda3/envs/py34/lib/python3.4/site-packages/astropy/io/fits/fitsrec.py\u001b[0m in \u001b[0;36m__array_finalize__\u001b[0;34m(self, obj)\u001b[0m\n\u001b[1;32m    267\u001b[0m \u001b[0;34m\u001b[0m\u001b[0m\n\u001b[1;32m    268\u001b[0m             \u001b[0;32mif\u001b[0m \u001b[0mself\u001b[0m\u001b[0;34m.\u001b[0m\u001b[0m_coldefs\u001b[0m \u001b[0;32mis\u001b[0m \u001b[0;32mNone\u001b[0m\u001b[0;34m:\u001b[0m\u001b[0;34m\u001b[0m\u001b[0m\n\u001b[0;32m--> 269\u001b[0;31m                 \u001b[0mself\u001b[0m\u001b[0;34m.\u001b[0m\u001b[0m_coldefs\u001b[0m \u001b[0;34m=\u001b[0m \u001b[0mColDefs\u001b[0m\u001b[0;34m(\u001b[0m\u001b[0mself\u001b[0m\u001b[0;34m)\u001b[0m\u001b[0;34m\u001b[0m\u001b[0m\n\u001b[0m\u001b[1;32m    270\u001b[0m \u001b[0;34m\u001b[0m\u001b[0m\n\u001b[1;32m    271\u001b[0m     \u001b[0;34m@\u001b[0m\u001b[0mclassmethod\u001b[0m\u001b[0;34m\u001b[0m\u001b[0m\n",
      "\u001b[0;32m/Users/klay6683/miniconda3/envs/py34/lib/python3.4/site-packages/astropy/io/fits/column.py\u001b[0m in \u001b[0;36m__init__\u001b[0;34m(self, input, tbtype, ascii)\u001b[0m\n\u001b[1;32m   1076\u001b[0m         \u001b[0;32melif\u001b[0m \u001b[0misinstance\u001b[0m\u001b[0;34m(\u001b[0m\u001b[0minput\u001b[0m\u001b[0;34m,\u001b[0m \u001b[0mnp\u001b[0m\u001b[0;34m.\u001b[0m\u001b[0mndarray\u001b[0m\u001b[0;34m)\u001b[0m \u001b[0;32mand\u001b[0m \u001b[0minput\u001b[0m\u001b[0;34m.\u001b[0m\u001b[0mdtype\u001b[0m\u001b[0;34m.\u001b[0m\u001b[0mfields\u001b[0m \u001b[0;32mis\u001b[0m \u001b[0;32mnot\u001b[0m \u001b[0;32mNone\u001b[0m\u001b[0;34m:\u001b[0m\u001b[0;34m\u001b[0m\u001b[0m\n\u001b[1;32m   1077\u001b[0m             \u001b[0;31m# Construct columns from the fields of a record array\u001b[0m\u001b[0;34m\u001b[0m\u001b[0;34m\u001b[0m\u001b[0m\n\u001b[0;32m-> 1078\u001b[0;31m             \u001b[0mself\u001b[0m\u001b[0;34m.\u001b[0m\u001b[0m_init_from_array\u001b[0m\u001b[0;34m(\u001b[0m\u001b[0minput\u001b[0m\u001b[0;34m)\u001b[0m\u001b[0;34m\u001b[0m\u001b[0m\n\u001b[0m\u001b[1;32m   1079\u001b[0m         \u001b[0;32melif\u001b[0m \u001b[0misiterable\u001b[0m\u001b[0;34m(\u001b[0m\u001b[0minput\u001b[0m\u001b[0;34m)\u001b[0m\u001b[0;34m:\u001b[0m\u001b[0;34m\u001b[0m\u001b[0m\n\u001b[1;32m   1080\u001b[0m             \u001b[0;31m# if the input is a list of Columns\u001b[0m\u001b[0;34m\u001b[0m\u001b[0;34m\u001b[0m\u001b[0m\n",
      "\u001b[0;32m/Users/klay6683/miniconda3/envs/py34/lib/python3.4/site-packages/astropy/io/fits/column.py\u001b[0m in \u001b[0;36m_init_from_array\u001b[0;34m(self, array)\u001b[0m\n\u001b[1;32m   1111\u001b[0m             \u001b[0mcname\u001b[0m \u001b[0;34m=\u001b[0m \u001b[0marray\u001b[0m\u001b[0;34m.\u001b[0m\u001b[0mdtype\u001b[0m\u001b[0;34m.\u001b[0m\u001b[0mnames\u001b[0m\u001b[0;34m[\u001b[0m\u001b[0midx\u001b[0m\u001b[0;34m]\u001b[0m\u001b[0;34m\u001b[0m\u001b[0m\n\u001b[1;32m   1112\u001b[0m             \u001b[0mftype\u001b[0m \u001b[0;34m=\u001b[0m \u001b[0marray\u001b[0m\u001b[0;34m.\u001b[0m\u001b[0mdtype\u001b[0m\u001b[0;34m.\u001b[0m\u001b[0mfields\u001b[0m\u001b[0;34m[\u001b[0m\u001b[0mcname\u001b[0m\u001b[0;34m]\u001b[0m\u001b[0;34m[\u001b[0m\u001b[0;36m0\u001b[0m\u001b[0;34m]\u001b[0m\u001b[0;34m\u001b[0m\u001b[0m\n\u001b[0;32m-> 1113\u001b[0;31m             \u001b[0mformat\u001b[0m \u001b[0;34m=\u001b[0m \u001b[0mself\u001b[0m\u001b[0;34m.\u001b[0m\u001b[0m_col_format_cls\u001b[0m\u001b[0;34m.\u001b[0m\u001b[0mfrom_recformat\u001b[0m\u001b[0;34m(\u001b[0m\u001b[0mftype\u001b[0m\u001b[0;34m)\u001b[0m\u001b[0;34m\u001b[0m\u001b[0m\n\u001b[0m\u001b[1;32m   1114\u001b[0m \u001b[0;34m\u001b[0m\u001b[0m\n\u001b[1;32m   1115\u001b[0m             \u001b[0;31m# Determine the appropriate dimensions for items in the column\u001b[0m\u001b[0;34m\u001b[0m\u001b[0;34m\u001b[0m\u001b[0m\n",
      "\u001b[0;32m/Users/klay6683/miniconda3/envs/py34/lib/python3.4/site-packages/astropy/io/fits/column.py\u001b[0m in \u001b[0;36mfrom_recformat\u001b[0;34m(cls, recformat)\u001b[0m\n\u001b[1;32m    221\u001b[0m         \u001b[0;34m\"\"\"Creates a column format from a Numpy record dtype format.\"\"\"\u001b[0m\u001b[0;34m\u001b[0m\u001b[0m\n\u001b[1;32m    222\u001b[0m \u001b[0;34m\u001b[0m\u001b[0m\n\u001b[0;32m--> 223\u001b[0;31m         \u001b[0;32mreturn\u001b[0m \u001b[0mcls\u001b[0m\u001b[0;34m(\u001b[0m\u001b[0m_convert_format\u001b[0m\u001b[0;34m(\u001b[0m\u001b[0mrecformat\u001b[0m\u001b[0;34m,\u001b[0m \u001b[0mreverse\u001b[0m\u001b[0;34m=\u001b[0m\u001b[0;32mTrue\u001b[0m\u001b[0;34m)\u001b[0m\u001b[0;34m)\u001b[0m\u001b[0;34m\u001b[0m\u001b[0m\n\u001b[0m\u001b[1;32m    224\u001b[0m \u001b[0;34m\u001b[0m\u001b[0m\n\u001b[1;32m    225\u001b[0m     \u001b[0;34m@\u001b[0m\u001b[0mlazyproperty\u001b[0m\u001b[0;34m\u001b[0m\u001b[0m\n",
      "\u001b[0;32m/Users/klay6683/miniconda3/envs/py34/lib/python3.4/site-packages/astropy/io/fits/column.py\u001b[0m in \u001b[0;36m_convert_format\u001b[0;34m(format, reverse)\u001b[0m\n\u001b[1;32m   2065\u001b[0m \u001b[0;34m\u001b[0m\u001b[0m\n\u001b[1;32m   2066\u001b[0m     \u001b[0;32mif\u001b[0m \u001b[0mreverse\u001b[0m\u001b[0;34m:\u001b[0m\u001b[0;34m\u001b[0m\u001b[0m\n\u001b[0;32m-> 2067\u001b[0;31m         \u001b[0;32mreturn\u001b[0m \u001b[0m_convert_record2fits\u001b[0m\u001b[0;34m(\u001b[0m\u001b[0mformat\u001b[0m\u001b[0;34m)\u001b[0m\u001b[0;34m\u001b[0m\u001b[0m\n\u001b[0m\u001b[1;32m   2068\u001b[0m     \u001b[0;32melse\u001b[0m\u001b[0;34m:\u001b[0m\u001b[0;34m\u001b[0m\u001b[0m\n\u001b[1;32m   2069\u001b[0m         \u001b[0;32mreturn\u001b[0m \u001b[0m_convert_fits2record\u001b[0m\u001b[0;34m(\u001b[0m\u001b[0mformat\u001b[0m\u001b[0;34m)\u001b[0m\u001b[0;34m\u001b[0m\u001b[0m\n",
      "\u001b[0;32m/Users/klay6683/miniconda3/envs/py34/lib/python3.4/site-packages/astropy/io/fits/column.py\u001b[0m in \u001b[0;36m_convert_record2fits\u001b[0;34m(format)\u001b[0m\n\u001b[1;32m   2002\u001b[0m     \"\"\"\n\u001b[1;32m   2003\u001b[0m \u001b[0;34m\u001b[0m\u001b[0m\n\u001b[0;32m-> 2004\u001b[0;31m     \u001b[0mrecformat\u001b[0m\u001b[0;34m,\u001b[0m \u001b[0mkind\u001b[0m\u001b[0;34m,\u001b[0m \u001b[0mdtype\u001b[0m \u001b[0;34m=\u001b[0m \u001b[0m_dtype_to_recformat\u001b[0m\u001b[0;34m(\u001b[0m\u001b[0mformat\u001b[0m\u001b[0;34m)\u001b[0m\u001b[0;34m\u001b[0m\u001b[0m\n\u001b[0m\u001b[1;32m   2005\u001b[0m     \u001b[0mshape\u001b[0m \u001b[0;34m=\u001b[0m \u001b[0mdtype\u001b[0m\u001b[0;34m.\u001b[0m\u001b[0mshape\u001b[0m\u001b[0;34m\u001b[0m\u001b[0m\n\u001b[1;32m   2006\u001b[0m     \u001b[0moption\u001b[0m \u001b[0;34m=\u001b[0m \u001b[0mstr\u001b[0m\u001b[0;34m(\u001b[0m\u001b[0mdtype\u001b[0m\u001b[0;34m.\u001b[0m\u001b[0mbase\u001b[0m\u001b[0;34m.\u001b[0m\u001b[0mitemsize\u001b[0m\u001b[0;34m)\u001b[0m\u001b[0;34m\u001b[0m\u001b[0m\n",
      "\u001b[0;32m/Users/klay6683/miniconda3/envs/py34/lib/python3.4/site-packages/astropy/io/fits/column.py\u001b[0m in \u001b[0;36m_dtype_to_recformat\u001b[0;34m(dtype)\u001b[0m\n\u001b[1;32m   2050\u001b[0m     \u001b[0mkind\u001b[0m \u001b[0;34m=\u001b[0m \u001b[0mdtype\u001b[0m\u001b[0;34m.\u001b[0m\u001b[0mbase\u001b[0m\u001b[0;34m.\u001b[0m\u001b[0mkind\u001b[0m\u001b[0;34m\u001b[0m\u001b[0m\n\u001b[1;32m   2051\u001b[0m     \u001b[0mitemsize\u001b[0m \u001b[0;34m=\u001b[0m \u001b[0mdtype\u001b[0m\u001b[0;34m.\u001b[0m\u001b[0mbase\u001b[0m\u001b[0;34m.\u001b[0m\u001b[0mitemsize\u001b[0m\u001b[0;34m\u001b[0m\u001b[0m\n\u001b[0;32m-> 2052\u001b[0;31m     \u001b[0mrecformat\u001b[0m \u001b[0;34m=\u001b[0m \u001b[0mkind\u001b[0m \u001b[0;34m+\u001b[0m \u001b[0mstr\u001b[0m\u001b[0;34m(\u001b[0m\u001b[0mitemsize\u001b[0m\u001b[0;34m)\u001b[0m\u001b[0;34m\u001b[0m\u001b[0m\n\u001b[0m\u001b[1;32m   2053\u001b[0m \u001b[0;34m\u001b[0m\u001b[0m\n\u001b[1;32m   2054\u001b[0m     \u001b[0;32mif\u001b[0m \u001b[0mkind\u001b[0m \u001b[0;32min\u001b[0m \u001b[0;34m(\u001b[0m\u001b[0;34m'U'\u001b[0m\u001b[0;34m,\u001b[0m \u001b[0;34m'S'\u001b[0m\u001b[0;34m)\u001b[0m\u001b[0;34m:\u001b[0m\u001b[0;34m\u001b[0m\u001b[0m\n",
      "\u001b[0;31mKeyboardInterrupt\u001b[0m: "
     ]
    }
   ],
   "source": [
    "container = []\n",
    "errors = []\n",
    "prog = IntProgress(min=0, max=len(df.p))\n",
    "display(prog)\n",
    "t = HTML()\n",
    "display(t)\n",
    "for i,fname in enumerate(df.p.iloc[:]):\n",
    "    prog.value = i\n",
    "    t.value = fname.name\n",
    "    ret = get_primary_dark(fname)\n",
    "    if isinstance(ret, dict):\n",
    "        errors.append(ret)\n",
    "    else:\n",
    "        container.append(ret)"
   ]
  },
  {
   "cell_type": "code",
   "execution_count": 30,
   "metadata": {
    "collapsed": false
   },
   "outputs": [],
   "source": [
    "periapse_darks = np.concatenate(container, axis=0)"
   ]
  },
  {
   "cell_type": "code",
   "execution_count": 31,
   "metadata": {
    "collapsed": false
   },
   "outputs": [
    {
     "data": {
      "text/plain": [
       "(4030, 7, 256)"
      ]
     },
     "execution_count": 31,
     "metadata": {},
     "output_type": "execute_result"
    }
   ],
   "source": [
    "periapse_darks.shape"
   ]
  },
  {
   "cell_type": "code",
   "execution_count": 32,
   "metadata": {
    "collapsed": true
   },
   "outputs": [],
   "source": [
    "panel = pd.Panel(periapse_darks)"
   ]
  },
  {
   "cell_type": "code",
   "execution_count": 33,
   "metadata": {
    "collapsed": false
   },
   "outputs": [],
   "source": [
    "panel.to_hdf('/Users/klay6683/Dropbox/data/iuvs/periapse_muvdarks_v02_r01/periapse_darks.hdf', 'panel')"
   ]
  },
  {
   "cell_type": "code",
   "execution_count": 72,
   "metadata": {
    "collapsed": true
   },
   "outputs": [],
   "source": [
    "def create_summary_df(fname):\n",
    "    from iuvs import exceptions, io\n",
    "    import numpy as np\n",
    "    d = dict(fname=fname)\n",
    "    d, l1a, okay = myfilter(fname, d)\n",
    "    if not okay:\n",
    "        return d\n",
    "\n",
    "    main_header = io.get_header_df(l1a.hdulist[0])\n",
    "    integration = l1a.Integration\n",
    "\n",
    "    if main_header.loc[0, 'NAXIS'] == 2:\n",
    "        main_header.loc[0, 'NAXIS3'] = np.nan\n",
    "        avgtuple = None\n",
    "    elif main_header.loc[0, 'NAXIS'] == 3:\n",
    "        avgtuple = (1,2)\n",
    "    else:\n",
    "        d['error'] = 'axes'\n",
    "        return d\n",
    "    lenint = len(integration)\n",
    "    if lenint > 1:\n",
    "        main_header = main_header.append([main_header]*(lenint-1), ignore_index=True)\n",
    "    joined = pd.concat([integration, main_header], axis=1)\n",
    "    for col in l1a.Observation.names[:-3]:\n",
    "        val = l1a.Observation[col][0]\n",
    "        if col == 'COLLECTION_ID':\n",
    "            val = val[0]\n",
    "        joined[col] = val\n",
    "#     savepath = io.save_to_hdf(joined.sort_index(axis=1), fname, 'l1a_dark_scans')\n",
    "    d['success'] = True\n",
    "#     return d\n",
    "    return joined"
   ]
  },
  {
   "cell_type": "code",
   "execution_count": 84,
   "metadata": {
    "collapsed": false
   },
   "outputs": [
    {
     "data": {
      "text/plain": [
       "<AsyncResult: finished>"
      ]
     },
     "execution_count": 84,
     "metadata": {},
     "output_type": "execute_result"
    }
   ],
   "source": [
    "dview.push({'myfilter':myfilter})"
   ]
  },
  {
   "cell_type": "code",
   "execution_count": 85,
   "metadata": {
    "collapsed": false
   },
   "outputs": [
    {
     "data": {
      "text/html": [
       "<div>\n",
       "<table border=\"1\" class=\"dataframe\">\n",
       "  <thead>\n",
       "    <tr style=\"text-align: right;\">\n",
       "      <th></th>\n",
       "      <th>CASE_TEMP</th>\n",
       "      <th>DET_TEMP</th>\n",
       "      <th>ET</th>\n",
       "      <th>FOV_DEG</th>\n",
       "      <th>LYA_CENTROID</th>\n",
       "      <th>MIRROR_DEG</th>\n",
       "      <th>MIRROR_DN</th>\n",
       "      <th>TIMESTAMP</th>\n",
       "      <th>UTC</th>\n",
       "      <th>BIN_TBL</th>\n",
       "      <th>BITPIX</th>\n",
       "      <th>BLANK</th>\n",
       "      <th>CAPTURE</th>\n",
       "      <th>EXTEND</th>\n",
       "      <th>FILENAME</th>\n",
       "      <th>INT_TIME</th>\n",
       "      <th>MCP_VOLT</th>\n",
       "      <th>MIR_DEG</th>\n",
       "      <th>NAXIS</th>\n",
       "      <th>NAXIS1</th>\n",
       "      <th>NAXIS2</th>\n",
       "      <th>N_FILL</th>\n",
       "      <th>OBS_ID</th>\n",
       "      <th>PROCESS</th>\n",
       "      <th>SIMPLE</th>\n",
       "      <th>SPA_OFS</th>\n",
       "      <th>SPA_SIZE</th>\n",
       "      <th>SPE_OFS</th>\n",
       "      <th>SPE_SIZE</th>\n",
       "      <th>XUV</th>\n",
       "      <th>NAXIS3</th>\n",
       "      <th>PRODUCT_ID</th>\n",
       "      <th>COLLECTION_ID</th>\n",
       "      <th>BUNDLE_ID</th>\n",
       "      <th>CODE_SVN_REVISION</th>\n",
       "      <th>ANC_SVN_REVISION</th>\n",
       "      <th>PRODUCT_CREATION_DATE</th>\n",
       "      <th>OBSERVATION_TYPE</th>\n",
       "      <th>MISSION_PHASE</th>\n",
       "      <th>TARGET_NAME</th>\n",
       "      <th>ORBIT_SEGMENT</th>\n",
       "      <th>ORBIT_NUMBER</th>\n",
       "      <th>SOLAR_LONGITUDE</th>\n",
       "      <th>GRATING_SELECT</th>\n",
       "      <th>KEYHOLE_SELECT</th>\n",
       "      <th>BIN_PATTERN_INDEX</th>\n",
       "      <th>CADENCE</th>\n",
       "      <th>DUTY_CYCLE</th>\n",
       "      <th>CHANNEL</th>\n",
       "    </tr>\n",
       "  </thead>\n",
       "  <tbody>\n",
       "    <tr>\n",
       "      <th>0</th>\n",
       "      <td>15950</td>\n",
       "      <td>2576</td>\n",
       "      <td>4.669038e+08</td>\n",
       "      <td>17.29248</td>\n",
       "      <td>-1</td>\n",
       "      <td>8.64624</td>\n",
       "      <td>16087</td>\n",
       "      <td>4.669037e+08</td>\n",
       "      <td>2014/291 Oct 18 11:28:44.36433UTC</td>\n",
       "      <td>LINEAR 7,8 CSS_S4</td>\n",
       "      <td>32</td>\n",
       "      <td>-1</td>\n",
       "      <td>2014/291 Oct 18 11:28:44.36433UTC</td>\n",
       "      <td>True</td>\n",
       "      <td>mvn_iuv_l1a_periapse-orbit00108-muvdark_201410...</td>\n",
       "      <td>4.2</td>\n",
       "      <td>-1.83</td>\n",
       "      <td>8.649</td>\n",
       "      <td>2</td>\n",
       "      <td>256</td>\n",
       "      <td>7</td>\n",
       "      <td>0</td>\n",
       "      <td>1</td>\n",
       "      <td>2015/205 Jul 24 12:25:52.00000UTC</td>\n",
       "      <td>True</td>\n",
       "      <td>96</td>\n",
       "      <td>115</td>\n",
       "      <td>0</td>\n",
       "      <td>4</td>\n",
       "      <td>MUV</td>\n",
       "      <td>NaN</td>\n",
       "      <td>mvn_iuv_l1a_periapse-orbit00108-muvdark_201410...</td>\n",
       "      <td>limb</td>\n",
       "      <td>raw</td>\n",
       "      <td>1141</td>\n",
       "      <td>1141</td>\n",
       "      <td>2015/205 Jul 24 12:25:52.00000UTC</td>\n",
       "      <td>CDS</td>\n",
       "      <td>PRIME</td>\n",
       "      <td></td>\n",
       "      <td>0</td>\n",
       "      <td>108</td>\n",
       "      <td>216.553055</td>\n",
       "      <td>LOWRES</td>\n",
       "      <td>NEITHER</td>\n",
       "      <td>LINEAR CSS_S4</td>\n",
       "      <td>4.8</td>\n",
       "      <td>1</td>\n",
       "      <td>MUV</td>\n",
       "    </tr>\n",
       "  </tbody>\n",
       "</table>\n",
       "</div>"
      ],
      "text/plain": [
       "   CASE_TEMP  DET_TEMP            ET   FOV_DEG  LYA_CENTROID  MIRROR_DEG  \\\n",
       "0      15950      2576  4.669038e+08  17.29248            -1     8.64624   \n",
       "\n",
       "   MIRROR_DN     TIMESTAMP                                UTC  \\\n",
       "0      16087  4.669037e+08  2014/291 Oct 18 11:28:44.36433UTC   \n",
       "\n",
       "             BIN_TBL  BITPIX  BLANK                            CAPTURE EXTEND  \\\n",
       "0  LINEAR 7,8 CSS_S4      32     -1  2014/291 Oct 18 11:28:44.36433UTC   True   \n",
       "\n",
       "                                            FILENAME  INT_TIME  MCP_VOLT  \\\n",
       "0  mvn_iuv_l1a_periapse-orbit00108-muvdark_201410...       4.2     -1.83   \n",
       "\n",
       "   MIR_DEG  NAXIS  NAXIS1  NAXIS2  N_FILL  OBS_ID  \\\n",
       "0    8.649      2     256       7       0       1   \n",
       "\n",
       "                             PROCESS SIMPLE  SPA_OFS  SPA_SIZE  SPE_OFS  \\\n",
       "0  2015/205 Jul 24 12:25:52.00000UTC   True       96       115        0   \n",
       "\n",
       "   SPE_SIZE  XUV  NAXIS3                                         PRODUCT_ID  \\\n",
       "0         4  MUV     NaN  mvn_iuv_l1a_periapse-orbit00108-muvdark_201410...   \n",
       "\n",
       "  COLLECTION_ID BUNDLE_ID CODE_SVN_REVISION ANC_SVN_REVISION  \\\n",
       "0          limb       raw              1141             1141   \n",
       "\n",
       "               PRODUCT_CREATION_DATE OBSERVATION_TYPE MISSION_PHASE  \\\n",
       "0  2015/205 Jul 24 12:25:52.00000UTC              CDS         PRIME   \n",
       "\n",
       "  TARGET_NAME  ORBIT_SEGMENT  ORBIT_NUMBER  SOLAR_LONGITUDE GRATING_SELECT  \\\n",
       "0                          0           108       216.553055         LOWRES   \n",
       "\n",
       "  KEYHOLE_SELECT BIN_PATTERN_INDEX  CADENCE  DUTY_CYCLE CHANNEL  \n",
       "0        NEITHER     LINEAR CSS_S4      4.8           1     MUV  "
      ]
     },
     "execution_count": 85,
     "metadata": {},
     "output_type": "execute_result"
    }
   ],
   "source": [
    "create_summary_df(l1adarkfnames[0])"
   ]
  },
  {
   "cell_type": "code",
   "execution_count": 94,
   "metadata": {
    "collapsed": false
   },
   "outputs": [],
   "source": [
    "doing = l1adarkfnames\n",
    "results = lview.map_async(create_summary_df, doing)"
   ]
  },
  {
   "cell_type": "code",
   "execution_count": 95,
   "metadata": {
    "collapsed": false
   },
   "outputs": [],
   "source": [
    "nb_progress_display(results, doing)"
   ]
  },
  {
   "cell_type": "code",
   "execution_count": 97,
   "metadata": {
    "collapsed": true
   },
   "outputs": [],
   "source": [
    "dfs = [df for df in results.result if type(df)!=dict]"
   ]
  },
  {
   "cell_type": "code",
   "execution_count": 98,
   "metadata": {
    "collapsed": false
   },
   "outputs": [],
   "source": [
    "results_df = pd.concat(dfs)"
   ]
  },
  {
   "cell_type": "code",
   "execution_count": 100,
   "metadata": {
    "collapsed": false
   },
   "outputs": [
    {
     "data": {
      "text/html": [
       "<div>\n",
       "<table border=\"1\" class=\"dataframe\">\n",
       "  <thead>\n",
       "    <tr style=\"text-align: right;\">\n",
       "      <th></th>\n",
       "      <th>ANC_SVN_REVISION</th>\n",
       "      <th>BIN_PATTERN_INDEX</th>\n",
       "      <th>BIN_TBL</th>\n",
       "      <th>BITPIX</th>\n",
       "      <th>BLANK</th>\n",
       "      <th>BUNDLE_ID</th>\n",
       "      <th>CADENCE</th>\n",
       "      <th>CAPTURE</th>\n",
       "      <th>CASE_TEMP</th>\n",
       "      <th>CHANNEL</th>\n",
       "      <th>CODE_SVN_REVISION</th>\n",
       "      <th>COLLECTION_ID</th>\n",
       "      <th>DET_TEMP</th>\n",
       "      <th>DUTY_CYCLE</th>\n",
       "      <th>ET</th>\n",
       "      <th>EXTEND</th>\n",
       "      <th>FILENAME</th>\n",
       "      <th>FOV_DEG</th>\n",
       "      <th>GRATING_SELECT</th>\n",
       "      <th>INT_TIME</th>\n",
       "      <th>KEYHOLE_SELECT</th>\n",
       "      <th>LYA_CENTROID</th>\n",
       "      <th>MCP_VOLT</th>\n",
       "      <th>MIRROR_DEG</th>\n",
       "      <th>MIRROR_DN</th>\n",
       "      <th>MIR_DEG</th>\n",
       "      <th>MISSION_PHASE</th>\n",
       "      <th>NAXIS</th>\n",
       "      <th>NAXIS1</th>\n",
       "      <th>NAXIS2</th>\n",
       "      <th>NAXIS3</th>\n",
       "      <th>N_FILL</th>\n",
       "      <th>OBSERVATION_TYPE</th>\n",
       "      <th>OBS_ID</th>\n",
       "      <th>ORBIT_NUMBER</th>\n",
       "      <th>ORBIT_SEGMENT</th>\n",
       "      <th>PROCESS</th>\n",
       "      <th>PRODUCT_CREATION_DATE</th>\n",
       "      <th>PRODUCT_ID</th>\n",
       "      <th>SIMPLE</th>\n",
       "      <th>SOLAR_LONGITUDE</th>\n",
       "      <th>SPA_OFS</th>\n",
       "      <th>SPA_SIZE</th>\n",
       "      <th>SPE_OFS</th>\n",
       "      <th>SPE_SIZE</th>\n",
       "      <th>TARGET_NAME</th>\n",
       "      <th>TIMESTAMP</th>\n",
       "      <th>UTC</th>\n",
       "      <th>XUV</th>\n",
       "    </tr>\n",
       "  </thead>\n",
       "  <tbody>\n",
       "    <tr>\n",
       "      <th>0</th>\n",
       "      <td>1141</td>\n",
       "      <td>LINEAR CSS_S4</td>\n",
       "      <td>LINEAR 7,8 CSS_S4</td>\n",
       "      <td>32</td>\n",
       "      <td>-1</td>\n",
       "      <td>raw</td>\n",
       "      <td>4.8</td>\n",
       "      <td>2014/291 Oct 18 11:28:44.36433UTC</td>\n",
       "      <td>15950</td>\n",
       "      <td>MUV</td>\n",
       "      <td>1141</td>\n",
       "      <td>limb</td>\n",
       "      <td>2576</td>\n",
       "      <td>1</td>\n",
       "      <td>4.669038e+08</td>\n",
       "      <td>True</td>\n",
       "      <td>mvn_iuv_l1a_periapse-orbit00108-muvdark_201410...</td>\n",
       "      <td>17.292480</td>\n",
       "      <td>LOWRES</td>\n",
       "      <td>4.2</td>\n",
       "      <td>NEITHER</td>\n",
       "      <td>-1</td>\n",
       "      <td>-1.83</td>\n",
       "      <td>8.646240</td>\n",
       "      <td>16087</td>\n",
       "      <td>8.649</td>\n",
       "      <td>PRIME</td>\n",
       "      <td>2</td>\n",
       "      <td>256</td>\n",
       "      <td>7</td>\n",
       "      <td>NaN</td>\n",
       "      <td>0</td>\n",
       "      <td>CDS</td>\n",
       "      <td>1</td>\n",
       "      <td>108</td>\n",
       "      <td>0</td>\n",
       "      <td>2015/205 Jul 24 12:25:52.00000UTC</td>\n",
       "      <td>2015/205 Jul 24 12:25:52.00000UTC</td>\n",
       "      <td>mvn_iuv_l1a_periapse-orbit00108-muvdark_201410...</td>\n",
       "      <td>True</td>\n",
       "      <td>216.553055</td>\n",
       "      <td>96</td>\n",
       "      <td>115</td>\n",
       "      <td>0</td>\n",
       "      <td>4</td>\n",
       "      <td></td>\n",
       "      <td>4.669037e+08</td>\n",
       "      <td>2014/291 Oct 18 11:28:44.36433UTC</td>\n",
       "      <td>MUV</td>\n",
       "    </tr>\n",
       "    <tr>\n",
       "      <th>0</th>\n",
       "      <td>1141</td>\n",
       "      <td>LINEAR CSS_S4</td>\n",
       "      <td>LINEAR 7,8 CSS_S4</td>\n",
       "      <td>32</td>\n",
       "      <td>-1</td>\n",
       "      <td>raw</td>\n",
       "      <td>4.8</td>\n",
       "      <td>2014/291 Oct 18 11:50:24.86118UTC</td>\n",
       "      <td>15929</td>\n",
       "      <td>MUV</td>\n",
       "      <td>1141</td>\n",
       "      <td>limb</td>\n",
       "      <td>2570</td>\n",
       "      <td>1</td>\n",
       "      <td>4.669051e+08</td>\n",
       "      <td>True</td>\n",
       "      <td>mvn_iuv_l1a_periapse-orbit00108-muvdark_201410...</td>\n",
       "      <td>23.373413</td>\n",
       "      <td>LOWRES</td>\n",
       "      <td>4.2</td>\n",
       "      <td>NEITHER</td>\n",
       "      <td>-1</td>\n",
       "      <td>-1.83</td>\n",
       "      <td>11.686707</td>\n",
       "      <td>17194</td>\n",
       "      <td>11.689</td>\n",
       "      <td>PRIME</td>\n",
       "      <td>2</td>\n",
       "      <td>256</td>\n",
       "      <td>7</td>\n",
       "      <td>NaN</td>\n",
       "      <td>0</td>\n",
       "      <td>CDS</td>\n",
       "      <td>1</td>\n",
       "      <td>108</td>\n",
       "      <td>0</td>\n",
       "      <td>2015/205 Jul 24 12:26:24.00000UTC</td>\n",
       "      <td>2015/205 Jul 24 12:26:24.00000UTC</td>\n",
       "      <td>mvn_iuv_l1a_periapse-orbit00108-muvdark_201410...</td>\n",
       "      <td>True</td>\n",
       "      <td>216.562317</td>\n",
       "      <td>96</td>\n",
       "      <td>115</td>\n",
       "      <td>0</td>\n",
       "      <td>4</td>\n",
       "      <td></td>\n",
       "      <td>4.669050e+08</td>\n",
       "      <td>2014/291 Oct 18 11:50:24.86118UTC</td>\n",
       "      <td>MUV</td>\n",
       "    </tr>\n",
       "    <tr>\n",
       "      <th>0</th>\n",
       "      <td>1141</td>\n",
       "      <td>LINEAR CSS_S4</td>\n",
       "      <td>LINEAR 7,8 CSS_S4</td>\n",
       "      <td>32</td>\n",
       "      <td>-1</td>\n",
       "      <td>raw</td>\n",
       "      <td>4.8</td>\n",
       "      <td>2014/291 Oct 18 16:05:46.53431UTC</td>\n",
       "      <td>15950</td>\n",
       "      <td>MUV</td>\n",
       "      <td>1141</td>\n",
       "      <td>limb</td>\n",
       "      <td>2576</td>\n",
       "      <td>1</td>\n",
       "      <td>4.669204e+08</td>\n",
       "      <td>True</td>\n",
       "      <td>mvn_iuv_l1a_periapse-orbit00109-muvdark_201410...</td>\n",
       "      <td>17.292480</td>\n",
       "      <td>LOWRES</td>\n",
       "      <td>4.2</td>\n",
       "      <td>NEITHER</td>\n",
       "      <td>-1</td>\n",
       "      <td>-1.83</td>\n",
       "      <td>8.646240</td>\n",
       "      <td>16087</td>\n",
       "      <td>8.649</td>\n",
       "      <td>PRIME</td>\n",
       "      <td>2</td>\n",
       "      <td>256</td>\n",
       "      <td>7</td>\n",
       "      <td>NaN</td>\n",
       "      <td>0</td>\n",
       "      <td>CDS</td>\n",
       "      <td>1</td>\n",
       "      <td>109</td>\n",
       "      <td>0</td>\n",
       "      <td>2015/205 Jul 24 12:27:52.00000UTC</td>\n",
       "      <td>2015/205 Jul 24 12:27:52.00000UTC</td>\n",
       "      <td>mvn_iuv_l1a_periapse-orbit00109-muvdark_201410...</td>\n",
       "      <td>True</td>\n",
       "      <td>216.671570</td>\n",
       "      <td>96</td>\n",
       "      <td>115</td>\n",
       "      <td>0</td>\n",
       "      <td>4</td>\n",
       "      <td></td>\n",
       "      <td>4.669203e+08</td>\n",
       "      <td>2014/291 Oct 18 16:05:46.53431UTC</td>\n",
       "      <td>MUV</td>\n",
       "    </tr>\n",
       "    <tr>\n",
       "      <th>0</th>\n",
       "      <td>1141</td>\n",
       "      <td>LINEAR CSS_S4</td>\n",
       "      <td>LINEAR 7,8 CSS_S4</td>\n",
       "      <td>32</td>\n",
       "      <td>-1</td>\n",
       "      <td>raw</td>\n",
       "      <td>4.8</td>\n",
       "      <td>2014/291 Oct 18 16:27:26.52514UTC</td>\n",
       "      <td>15923</td>\n",
       "      <td>MUV</td>\n",
       "      <td>1141</td>\n",
       "      <td>limb</td>\n",
       "      <td>2570</td>\n",
       "      <td>1</td>\n",
       "      <td>4.669217e+08</td>\n",
       "      <td>True</td>\n",
       "      <td>mvn_iuv_l1a_periapse-orbit00109-muvdark_201410...</td>\n",
       "      <td>23.373413</td>\n",
       "      <td>LOWRES</td>\n",
       "      <td>4.2</td>\n",
       "      <td>NEITHER</td>\n",
       "      <td>-1</td>\n",
       "      <td>-1.83</td>\n",
       "      <td>11.686707</td>\n",
       "      <td>17194</td>\n",
       "      <td>11.689</td>\n",
       "      <td>PRIME</td>\n",
       "      <td>2</td>\n",
       "      <td>256</td>\n",
       "      <td>7</td>\n",
       "      <td>NaN</td>\n",
       "      <td>0</td>\n",
       "      <td>CDS</td>\n",
       "      <td>1</td>\n",
       "      <td>109</td>\n",
       "      <td>0</td>\n",
       "      <td>2015/205 Jul 24 12:28:24.00000UTC</td>\n",
       "      <td>2015/205 Jul 24 12:28:24.00000UTC</td>\n",
       "      <td>mvn_iuv_l1a_periapse-orbit00109-muvdark_201410...</td>\n",
       "      <td>True</td>\n",
       "      <td>216.680832</td>\n",
       "      <td>96</td>\n",
       "      <td>115</td>\n",
       "      <td>0</td>\n",
       "      <td>4</td>\n",
       "      <td></td>\n",
       "      <td>4.669216e+08</td>\n",
       "      <td>2014/291 Oct 18 16:27:26.52514UTC</td>\n",
       "      <td>MUV</td>\n",
       "    </tr>\n",
       "    <tr>\n",
       "      <th>0</th>\n",
       "      <td>1141</td>\n",
       "      <td>LINEAR CSS_S4</td>\n",
       "      <td>LINEAR 7,8 CSS_S4</td>\n",
       "      <td>32</td>\n",
       "      <td>-1</td>\n",
       "      <td>raw</td>\n",
       "      <td>4.8</td>\n",
       "      <td>2014/291 Oct 18 20:42:49.94587UTC</td>\n",
       "      <td>15949</td>\n",
       "      <td>MUV</td>\n",
       "      <td>1141</td>\n",
       "      <td>limb</td>\n",
       "      <td>2576</td>\n",
       "      <td>1</td>\n",
       "      <td>4.669370e+08</td>\n",
       "      <td>True</td>\n",
       "      <td>mvn_iuv_l1a_periapse-orbit00110-muvdark_201410...</td>\n",
       "      <td>17.292480</td>\n",
       "      <td>LOWRES</td>\n",
       "      <td>4.2</td>\n",
       "      <td>NEITHER</td>\n",
       "      <td>-1</td>\n",
       "      <td>-1.83</td>\n",
       "      <td>8.646240</td>\n",
       "      <td>16087</td>\n",
       "      <td>8.649</td>\n",
       "      <td>PRIME</td>\n",
       "      <td>2</td>\n",
       "      <td>256</td>\n",
       "      <td>7</td>\n",
       "      <td>NaN</td>\n",
       "      <td>0</td>\n",
       "      <td>CDS</td>\n",
       "      <td>1</td>\n",
       "      <td>110</td>\n",
       "      <td>0</td>\n",
       "      <td>2015/205 Jul 24 12:29:52.00000UTC</td>\n",
       "      <td>2015/205 Jul 24 12:29:52.00000UTC</td>\n",
       "      <td>mvn_iuv_l1a_periapse-orbit00110-muvdark_201410...</td>\n",
       "      <td>True</td>\n",
       "      <td>216.790115</td>\n",
       "      <td>96</td>\n",
       "      <td>115</td>\n",
       "      <td>0</td>\n",
       "      <td>4</td>\n",
       "      <td></td>\n",
       "      <td>4.669370e+08</td>\n",
       "      <td>2014/291 Oct 18 20:42:49.94587UTC</td>\n",
       "      <td>MUV</td>\n",
       "    </tr>\n",
       "  </tbody>\n",
       "</table>\n",
       "</div>"
      ],
      "text/plain": [
       "  ANC_SVN_REVISION BIN_PATTERN_INDEX            BIN_TBL  BITPIX  BLANK  \\\n",
       "0             1141     LINEAR CSS_S4  LINEAR 7,8 CSS_S4      32     -1   \n",
       "0             1141     LINEAR CSS_S4  LINEAR 7,8 CSS_S4      32     -1   \n",
       "0             1141     LINEAR CSS_S4  LINEAR 7,8 CSS_S4      32     -1   \n",
       "0             1141     LINEAR CSS_S4  LINEAR 7,8 CSS_S4      32     -1   \n",
       "0             1141     LINEAR CSS_S4  LINEAR 7,8 CSS_S4      32     -1   \n",
       "\n",
       "  BUNDLE_ID  CADENCE                            CAPTURE  CASE_TEMP CHANNEL  \\\n",
       "0       raw      4.8  2014/291 Oct 18 11:28:44.36433UTC      15950     MUV   \n",
       "0       raw      4.8  2014/291 Oct 18 11:50:24.86118UTC      15929     MUV   \n",
       "0       raw      4.8  2014/291 Oct 18 16:05:46.53431UTC      15950     MUV   \n",
       "0       raw      4.8  2014/291 Oct 18 16:27:26.52514UTC      15923     MUV   \n",
       "0       raw      4.8  2014/291 Oct 18 20:42:49.94587UTC      15949     MUV   \n",
       "\n",
       "  CODE_SVN_REVISION COLLECTION_ID  DET_TEMP  DUTY_CYCLE            ET EXTEND  \\\n",
       "0              1141          limb      2576           1  4.669038e+08   True   \n",
       "0              1141          limb      2570           1  4.669051e+08   True   \n",
       "0              1141          limb      2576           1  4.669204e+08   True   \n",
       "0              1141          limb      2570           1  4.669217e+08   True   \n",
       "0              1141          limb      2576           1  4.669370e+08   True   \n",
       "\n",
       "                                            FILENAME    FOV_DEG  \\\n",
       "0  mvn_iuv_l1a_periapse-orbit00108-muvdark_201410...  17.292480   \n",
       "0  mvn_iuv_l1a_periapse-orbit00108-muvdark_201410...  23.373413   \n",
       "0  mvn_iuv_l1a_periapse-orbit00109-muvdark_201410...  17.292480   \n",
       "0  mvn_iuv_l1a_periapse-orbit00109-muvdark_201410...  23.373413   \n",
       "0  mvn_iuv_l1a_periapse-orbit00110-muvdark_201410...  17.292480   \n",
       "\n",
       "  GRATING_SELECT  INT_TIME KEYHOLE_SELECT  LYA_CENTROID  MCP_VOLT  MIRROR_DEG  \\\n",
       "0         LOWRES       4.2        NEITHER            -1     -1.83    8.646240   \n",
       "0         LOWRES       4.2        NEITHER            -1     -1.83   11.686707   \n",
       "0         LOWRES       4.2        NEITHER            -1     -1.83    8.646240   \n",
       "0         LOWRES       4.2        NEITHER            -1     -1.83   11.686707   \n",
       "0         LOWRES       4.2        NEITHER            -1     -1.83    8.646240   \n",
       "\n",
       "   MIRROR_DN  MIR_DEG MISSION_PHASE  NAXIS  NAXIS1  NAXIS2  NAXIS3  N_FILL  \\\n",
       "0      16087    8.649         PRIME      2     256       7     NaN       0   \n",
       "0      17194   11.689         PRIME      2     256       7     NaN       0   \n",
       "0      16087    8.649         PRIME      2     256       7     NaN       0   \n",
       "0      17194   11.689         PRIME      2     256       7     NaN       0   \n",
       "0      16087    8.649         PRIME      2     256       7     NaN       0   \n",
       "\n",
       "  OBSERVATION_TYPE  OBS_ID  ORBIT_NUMBER  ORBIT_SEGMENT  \\\n",
       "0              CDS       1           108              0   \n",
       "0              CDS       1           108              0   \n",
       "0              CDS       1           109              0   \n",
       "0              CDS       1           109              0   \n",
       "0              CDS       1           110              0   \n",
       "\n",
       "                             PROCESS              PRODUCT_CREATION_DATE  \\\n",
       "0  2015/205 Jul 24 12:25:52.00000UTC  2015/205 Jul 24 12:25:52.00000UTC   \n",
       "0  2015/205 Jul 24 12:26:24.00000UTC  2015/205 Jul 24 12:26:24.00000UTC   \n",
       "0  2015/205 Jul 24 12:27:52.00000UTC  2015/205 Jul 24 12:27:52.00000UTC   \n",
       "0  2015/205 Jul 24 12:28:24.00000UTC  2015/205 Jul 24 12:28:24.00000UTC   \n",
       "0  2015/205 Jul 24 12:29:52.00000UTC  2015/205 Jul 24 12:29:52.00000UTC   \n",
       "\n",
       "                                          PRODUCT_ID SIMPLE  SOLAR_LONGITUDE  \\\n",
       "0  mvn_iuv_l1a_periapse-orbit00108-muvdark_201410...   True       216.553055   \n",
       "0  mvn_iuv_l1a_periapse-orbit00108-muvdark_201410...   True       216.562317   \n",
       "0  mvn_iuv_l1a_periapse-orbit00109-muvdark_201410...   True       216.671570   \n",
       "0  mvn_iuv_l1a_periapse-orbit00109-muvdark_201410...   True       216.680832   \n",
       "0  mvn_iuv_l1a_periapse-orbit00110-muvdark_201410...   True       216.790115   \n",
       "\n",
       "   SPA_OFS  SPA_SIZE  SPE_OFS  SPE_SIZE TARGET_NAME     TIMESTAMP  \\\n",
       "0       96       115        0         4              4.669037e+08   \n",
       "0       96       115        0         4              4.669050e+08   \n",
       "0       96       115        0         4              4.669203e+08   \n",
       "0       96       115        0         4              4.669216e+08   \n",
       "0       96       115        0         4              4.669370e+08   \n",
       "\n",
       "                                 UTC  XUV  \n",
       "0  2014/291 Oct 18 11:28:44.36433UTC  MUV  \n",
       "0  2014/291 Oct 18 11:50:24.86118UTC  MUV  \n",
       "0  2014/291 Oct 18 16:05:46.53431UTC  MUV  \n",
       "0  2014/291 Oct 18 16:27:26.52514UTC  MUV  \n",
       "0  2014/291 Oct 18 20:42:49.94587UTC  MUV  "
      ]
     },
     "execution_count": 100,
     "metadata": {},
     "output_type": "execute_result"
    }
   ],
   "source": [
    "results_df.head()"
   ]
  },
  {
   "cell_type": "code",
   "execution_count": 62,
   "metadata": {
    "collapsed": false
   },
   "outputs": [],
   "source": [
    "results_df.loc[results_df.ANC_SVN_REVISION == '', 'ANC_SVN_REVISION'] = 0"
   ]
  },
  {
   "cell_type": "code",
   "execution_count": 63,
   "metadata": {
    "collapsed": false
   },
   "outputs": [],
   "source": [
    "results_df = results_df.convert_objects(convert_numeric=True)"
   ]
  },
  {
   "cell_type": "code",
   "execution_count": 64,
   "metadata": {
    "collapsed": false
   },
   "outputs": [],
   "source": [
    "results_df.to_hdf('/home/klay6683/output/l1a_dark_scans/results_df.h5', 'df')"
   ]
  },
  {
   "cell_type": "markdown",
   "metadata": {},
   "source": [
    "## Merge temporary h5 files to database"
   ]
  },
  {
   "cell_type": "code",
   "execution_count": 277,
   "metadata": {
    "collapsed": true
   },
   "outputs": [],
   "source": [
    "import glob\n",
    "h5fnames = glob.glob(\"/home/klay6683/output/l1a_dark_scans/*.h5\")"
   ]
  },
  {
   "cell_type": "code",
   "execution_count": 278,
   "metadata": {
    "collapsed": false
   },
   "outputs": [
    {
     "data": {
      "text/plain": [
       "13107"
      ]
     },
     "execution_count": 278,
     "metadata": {},
     "output_type": "execute_result"
    }
   ],
   "source": [
    "len(h5fnames)"
   ]
  },
  {
   "cell_type": "code",
   "execution_count": 279,
   "metadata": {
    "collapsed": true
   },
   "outputs": [],
   "source": [
    "def chunker(seq, size):\n",
    "    return (seq[pos:pos + size] for pos in range(0, len(seq), size))"
   ]
  },
  {
   "cell_type": "code",
   "execution_count": 280,
   "metadata": {
    "collapsed": false
   },
   "outputs": [
    {
     "name": "stdout",
     "output_type": "stream",
     "text": [
      "Chunk 0\n",
      "Chunk 1\n",
      "Chunk 2\n",
      "Chunk 3\n",
      "Chunk 4\n",
      "Chunk 5\n",
      "Chunk 6\n",
      "Chunk 7\n",
      "Chunk 8\n",
      "Chunk 9\n",
      "Chunk 10\n",
      "Chunk 11\n",
      "Chunk 12\n",
      "Chunk 13\n",
      "Chunk 14\n",
      "Chunk 15\n",
      "Chunk 16\n",
      "Chunk 17\n",
      "Chunk 18\n",
      "Chunk 19\n",
      "Chunk 20\n",
      "Chunk 21\n",
      "Chunk 22\n",
      "Chunk 23\n",
      "Chunk 24\n",
      "Chunk 25\n",
      "Chunk 26\n",
      "Chunk 27\n",
      "Chunk 28\n",
      "Chunk 29\n",
      "Chunk 30\n",
      "Chunk 31\n",
      "Chunk 32\n",
      "Chunk 33\n",
      "Chunk 34\n",
      "Chunk 35\n",
      "Chunk 36\n",
      "Chunk 37\n",
      "Chunk 38\n",
      "Chunk 39\n",
      "Chunk 40\n",
      "Chunk 41\n",
      "Chunk 42\n",
      "Chunk 43\n",
      "Chunk 44\n",
      "Chunk 45\n",
      "Chunk 46\n",
      "Chunk 47\n",
      "Chunk 48\n",
      "Chunk 49\n",
      "Chunk 50\n",
      "Chunk 51\n",
      "Chunk 52\n",
      "Chunk 53\n",
      "Chunk 54\n",
      "Chunk 55\n",
      "Chunk 56\n",
      "Chunk 57\n",
      "Chunk 58\n",
      "Chunk 59\n",
      "Chunk 60\n",
      "Chunk 61\n",
      "Chunk 62\n",
      "Chunk 63\n",
      "Chunk 64\n",
      "Chunk 65\n"
     ]
    }
   ],
   "source": [
    "dfs = []\n",
    "for i,chunk in enumerate(chunker(h5fnames, 200)):\n",
    "    print(\"Chunk {}\".format(i))\n",
    "    frames = []\n",
    "    for fname in chunk:\n",
    "        frames.append(pd.read_hdf(fname, 'df'))\n",
    "    dfs.append(pd.concat(frames, ignore_index=True))"
   ]
  },
  {
   "cell_type": "code",
   "execution_count": 282,
   "metadata": {
    "collapsed": false
   },
   "outputs": [],
   "source": [
    "superdf = pd.concat(dfs, ignore_index=True)"
   ]
  },
  {
   "cell_type": "code",
   "execution_count": 283,
   "metadata": {
    "collapsed": false
   },
   "outputs": [
    {
     "name": "stdout",
     "output_type": "stream",
     "text": [
      "<class 'pandas.core.frame.DataFrame'>\n",
      "Int64Index: 51306 entries, 0 to 51305\n",
      "Data columns (total 52 columns):\n",
      "ANC_SVN_REVISION         51306 non-null object\n",
      "BIN_PATTERN_INDEX        51306 non-null object\n",
      "BIN_TBL                  51306 non-null object\n",
      "BITPIX                   51306 non-null int64\n",
      "BLANK                    51306 non-null int64\n",
      "BUNDLE_ID                51306 non-null object\n",
      "CADENCE                  51306 non-null float64\n",
      "CAPTURE                  51306 non-null object\n",
      "CASE_TEMP                51306 non-null float64\n",
      "CHANNEL                  51306 non-null object\n",
      "CODE_SVN_REVISION        51306 non-null object\n",
      "COLLECTION_ID            51306 non-null object\n",
      "DET_TEMP                 51306 non-null float64\n",
      "DUTY_CYCLE               51306 non-null float64\n",
      "ET                       51306 non-null float64\n",
      "EXTEND                   51306 non-null bool\n",
      "FILENAME                 51306 non-null object\n",
      "FOV_DEG                  51306 non-null float32\n",
      "GRATING_SELECT           51306 non-null object\n",
      "INT_TIME                 51306 non-null float64\n",
      "KEYHOLE_SELECT           51306 non-null object\n",
      "LYA_CENTROID             51306 non-null int16\n",
      "MCP_VOLT                 51306 non-null float64\n",
      "MIRROR_DEG               51306 non-null float32\n",
      "MIRROR_DN                51306 non-null float64\n",
      "MIR_DEG                  51306 non-null float64\n",
      "MISSION_PHASE            51306 non-null object\n",
      "NAXIS                    51306 non-null int64\n",
      "NAXIS1                   51306 non-null int64\n",
      "NAXIS2                   51306 non-null int64\n",
      "NAXIS3                   44027 non-null float64\n",
      "N_FILL                   51306 non-null int64\n",
      "OBSERVATION_TYPE         51306 non-null object\n",
      "OBS_ID                   51306 non-null int64\n",
      "ORBIT_NUMBER             51306 non-null int64\n",
      "ORBIT_SEGMENT            51306 non-null int64\n",
      "PROCESS                  51306 non-null object\n",
      "PRODUCT_CREATION_DATE    51306 non-null object\n",
      "PRODUCT_ID               51306 non-null object\n",
      "SIMPLE                   51306 non-null bool\n",
      "SOLAR_LONGITUDE          51306 non-null float64\n",
      "SPA_OFS                  51306 non-null int64\n",
      "SPA_SIZE                 51306 non-null int64\n",
      "SPE_OFS                  51306 non-null int64\n",
      "SPE_SIZE                 51306 non-null int64\n",
      "TARGET_NAME              51306 non-null object\n",
      "TIMESTAMP                51306 non-null float64\n",
      "UTC                      51306 non-null object\n",
      "XUV                      51306 non-null object\n",
      "mean                     50262 non-null float64\n",
      "median                   50290 non-null float64\n",
      "std                      50262 non-null float64\n",
      "dtypes: bool(2), float32(2), float64(15), int16(1), int64(13), object(19)\n",
      "memory usage: 19.4+ MB\n"
     ]
    }
   ],
   "source": [
    "superdf.info()"
   ]
  },
  {
   "cell_type": "code",
   "execution_count": 284,
   "metadata": {
    "collapsed": true
   },
   "outputs": [],
   "source": [
    "from iuvs import calib"
   ]
  },
  {
   "cell_type": "code",
   "execution_count": 285,
   "metadata": {
    "collapsed": false
   },
   "outputs": [],
   "source": [
    "superdf.DET_TEMP = superdf.DET_TEMP.map(calib.convert_det_temp_to_C)\n",
    "superdf.CASE_TEMP = superdf.CASE_TEMP.map(calib.convert_case_temp_to_C)"
   ]
  },
  {
   "cell_type": "code",
   "execution_count": 286,
   "metadata": {
    "collapsed": true
   },
   "outputs": [],
   "source": [
    "superdf.to_hdf('/home/klay6683/to_keep/l1a_dark_scan.h5','df')"
   ]
  },
  {
   "cell_type": "code",
   "execution_count": 287,
   "metadata": {
    "collapsed": true
   },
   "outputs": [],
   "source": [
    "from iuvs import meta"
   ]
  },
  {
   "cell_type": "code",
   "execution_count": 103,
   "metadata": {
    "collapsed": true
   },
   "outputs": [],
   "source": [
    "from iuvs import calib"
   ]
  },
  {
   "cell_type": "code",
   "execution_count": 104,
   "metadata": {
    "collapsed": false
   },
   "outputs": [],
   "source": [
    "results_df.DET_TEMP = results_df.DET_TEMP.map(calib.convert_det_temp_to_C)"
   ]
  },
  {
   "cell_type": "code",
   "execution_count": 105,
   "metadata": {
    "collapsed": true
   },
   "outputs": [],
   "source": [
    "results_df.CASE_TEMP = results_df.CASE_TEMP.map(calib.convert_case_temp_to_C)"
   ]
  },
  {
   "cell_type": "code",
   "execution_count": 107,
   "metadata": {
    "collapsed": false
   },
   "outputs": [],
   "source": [
    "results_df.to_hdf('/Users/klay6683/Dropbox/data/iuvs/periapse_muvdarks_v02_r01/results_df.hdf',\n",
    "                 'df')"
   ]
  },
  {
   "cell_type": "code",
   "execution_count": null,
   "metadata": {
    "collapsed": true
   },
   "outputs": [],
   "source": []
  }
 ],
 "metadata": {
  "kernelspec": {
   "display_name": "Python 3",
   "language": "python",
   "name": "python3"
  },
  "language_info": {
   "codemirror_mode": {
    "name": "ipython",
    "version": 3
   },
   "file_extension": ".py",
   "mimetype": "text/x-python",
   "name": "python",
   "nbconvert_exporter": "python",
   "pygments_lexer": "ipython3",
   "version": "3.4.3"
  }
 },
 "nbformat": 4,
 "nbformat_minor": 0
}

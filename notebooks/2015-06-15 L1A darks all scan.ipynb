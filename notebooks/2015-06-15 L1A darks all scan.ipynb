{
 "cells": [
  {
   "cell_type": "code",
   "execution_count": 355,
   "metadata": {
    "collapsed": false
   },
   "outputs": [],
   "source": [
    "pd.options.display.max_columns = 100"
   ]
  },
  {
   "cell_type": "code",
   "execution_count": 189,
   "metadata": {
    "collapsed": false
   },
   "outputs": [
    {
     "name": "stdout",
     "output_type": "stream",
     "text": [
      "/maven_iuvs/production/products/level1a\n"
     ]
    }
   ],
   "source": [
    "l1adarkfnames = io.get_current_science_fnames('l1a', 'uvdark', env='production')"
   ]
  },
  {
   "cell_type": "code",
   "execution_count": 210,
   "metadata": {
    "collapsed": false
   },
   "outputs": [
    {
     "data": {
      "text/plain": [
       "14108"
      ]
     },
     "execution_count": 210,
     "metadata": {},
     "output_type": "execute_result"
    }
   ],
   "source": [
    "len(l1adarkfnames)"
   ]
  },
  {
   "cell_type": "code",
   "execution_count": 389,
   "metadata": {
    "collapsed": true
   },
   "outputs": [],
   "source": [
    "l1a = io.L1AReader(l1adarkfnames[7010])"
   ]
  },
  {
   "cell_type": "code",
   "execution_count": 386,
   "metadata": {
    "collapsed": false
   },
   "outputs": [
    {
     "data": {
      "text/plain": [
       "2"
      ]
     },
     "execution_count": 386,
     "metadata": {},
     "output_type": "execute_result"
    }
   ],
   "source": [
    "l1a.n_unique_spabins"
   ]
  },
  {
   "cell_type": "code",
   "execution_count": 351,
   "metadata": {
    "collapsed": false
   },
   "outputs": [
    {
     "data": {
      "text/plain": [
       "array([103, 103, 103, 103, 103, 103, 103, 103, 103,  93], dtype=int16)"
      ]
     },
     "execution_count": 351,
     "metadata": {},
     "output_type": "execute_result"
    }
   ],
   "source": [
    "l1a.spabins"
   ]
  },
  {
   "cell_type": "code",
   "execution_count": 325,
   "metadata": {
    "collapsed": false
   },
   "outputs": [
    {
     "data": {
      "text/plain": [
       "(10, 256)"
      ]
     },
     "execution_count": 325,
     "metadata": {},
     "output_type": "execute_result"
    }
   ],
   "source": [
    "l1a.img.shape"
   ]
  },
  {
   "cell_type": "code",
   "execution_count": 326,
   "metadata": {
    "collapsed": false
   },
   "outputs": [
    {
     "data": {
      "text/plain": [
       "ColDefs(\n",
       "    name = 'SPABINWIDTH'; format = '11I'\n",
       "    name = 'SPABINTRANSMIT'; format = '11I'\n",
       "    name = 'SPEBINWIDTH'; format = '256I'\n",
       "    name = 'SPEBINTRANSMIT'; format = '256I'\n",
       "    name = 'SPAPIXLO'; format = '10I'\n",
       "    name = 'SPAPIXHI'; format = '10I'\n",
       "    name = 'SPEPIXLO'; format = '256I'\n",
       "    name = 'SPEPIXHI'; format = '256I'\n",
       "    name = 'BINTABLENAME'; format = '8A'\n",
       ")"
      ]
     },
     "execution_count": 326,
     "metadata": {},
     "output_type": "execute_result"
    }
   ],
   "source": [
    "l1a.Binning.columns"
   ]
  },
  {
   "cell_type": "code",
   "execution_count": 303,
   "metadata": {
    "collapsed": true
   },
   "outputs": [],
   "source": [
    "from IPython.html.widgets import interact, interactive, fixed\n",
    "from IPython.html import widgets"
   ]
  },
  {
   "cell_type": "code",
   "execution_count": 387,
   "metadata": {
    "collapsed": true
   },
   "outputs": [],
   "source": [
    "def f(i):\n",
    "    l1a = io.L1AReader(l1adarkfnames[i])\n",
    "    print('n_dims:', l1a.n_dims)\n",
    "    i = 0\n",
    "    if l1a.n_dims == 3:\n",
    "        i = 1\n",
    "    print(l1a.img.shape[i])\n",
    "    print(l1a.Binning['SPABINWIDTH'].shape[1])"
   ]
  },
  {
   "cell_type": "code",
   "execution_count": 388,
   "metadata": {
    "collapsed": false
   },
   "outputs": [
    {
     "name": "stdout",
     "output_type": "stream",
     "text": [
      "n_dims: 3\n",
      "10\n",
      "12\n"
     ]
    }
   ],
   "source": [
    "interact(f, i=(0,len(l1adarkfnames)-1));"
   ]
  },
  {
   "cell_type": "markdown",
   "metadata": {},
   "source": [
    "## Generate dataframe with filename stats"
   ]
  },
  {
   "cell_type": "code",
   "execution_count": 191,
   "metadata": {
    "collapsed": false
   },
   "outputs": [],
   "source": [
    "df = pd.DataFrame([io.ScienceFilename(str(i)).as_series() for i in l1adarkfnames])"
   ]
  },
  {
   "cell_type": "code",
   "execution_count": 211,
   "metadata": {
    "collapsed": false
   },
   "outputs": [
    {
     "data": {
      "text/plain": [
       "Index(['basename', 'channel', 'cycle_orbit', 'instrument', 'level', 'mission',\n",
       "       'mode', 'obs_id', 'p', 'phase', 'revision', 'root', 'time', 'timestr',\n",
       "       'tokens', 'version', 'version_string'],\n",
       "      dtype='object')"
      ]
     },
     "execution_count": 211,
     "metadata": {},
     "output_type": "execute_result"
    }
   ],
   "source": [
    "df.columns"
   ]
  },
  {
   "cell_type": "code",
   "execution_count": 193,
   "metadata": {
    "collapsed": false
   },
   "outputs": [
    {
     "data": {
      "text/plain": [
       "IPH2            3181\n",
       "apoapse         3123\n",
       "periapse        1863\n",
       "early           1754\n",
       "outbound         785\n",
       "IPH1             672\n",
       "inbound          405\n",
       "outboundhifi     372\n",
       "ISON2            299\n",
       "IPH3             226\n",
       "ISON1            224\n",
       "occultation      217\n",
       "centroid         208\n",
       "cruisecal2       146\n",
       "outdisk          142\n",
       "outlimb          134\n",
       "APP1             112\n",
       "APP1A             56\n",
       "APP2              55\n",
       "cruisecal1        50\n",
       "outdiskhifi       36\n",
       "comet             22\n",
       "periapsehifi      20\n",
       "checkout           4\n",
       "                   2\n",
       "Name: phase, dtype: int64"
      ]
     },
     "execution_count": 193,
     "metadata": {},
     "output_type": "execute_result"
    }
   ],
   "source": [
    "df['phase'].value_counts()"
   ]
  },
  {
   "cell_type": "code",
   "execution_count": 368,
   "metadata": {
    "collapsed": false
   },
   "outputs": [],
   "source": [
    "from IPython.parallel import Client\n",
    "c = Client()"
   ]
  },
  {
   "cell_type": "code",
   "execution_count": 369,
   "metadata": {
    "collapsed": true
   },
   "outputs": [],
   "source": [
    "dview = c.direct_view()\n",
    "lview = c.load_balanced_view()"
   ]
  },
  {
   "cell_type": "markdown",
   "metadata": {},
   "source": [
    "## When I only scan for darks, len(fnames) < 10000, so I can keep the dataframes in memory.\n",
    "\n",
    "### If that is a problem, don't return the dataframe at the end!"
   ]
  },
  {
   "cell_type": "code",
   "execution_count": 370,
   "metadata": {
    "collapsed": true
   },
   "outputs": [],
   "source": [
    "def check_for_issues(p):\n",
    "    from iuvs import exceptions\n",
    "    d = {}\n",
    "    d['fname'] = p.name\n",
    "    try:\n",
    "        l1a = io.L1AReader(str(p))\n",
    "    except exceptions.DimensionsError:\n",
    "        d['dims'] = False\n",
    "    if l1a.img_header['BIN_TBL'].startswith('NON LINEAR'):\n",
    "        d['bintbl'] = 'nonlinear'\n",
    "    try:\n",
    "        _ = l1a.img_header['SPA_SIZE']\n",
    "    except KeyError:\n",
    "        d['spasize'] = False\n",
    "    if not l1a.img_header['FILENAME'].endswith('.fits.gz'):\n",
    "        d['filename'] = False\n",
    "    d['lenspabins'] = len(set(l1a.spabins))\n",
    "    d['lenspebins'] = len(set(l1a.spebins))\n",
    "    return d"
   ]
  },
  {
   "cell_type": "code",
   "execution_count": 371,
   "metadata": {
    "collapsed": false
   },
   "outputs": [
    {
     "data": {
      "text/plain": [
       "{'filename': False,\n",
       " 'fname': 'mvn_iuv_l1a_APP1-orbit00084-mode0111-muvdark_20141013T232042_v02_r01.fits.gz',\n",
       " 'lenspabins': 2,\n",
       " 'lenspebins': 1}"
      ]
     },
     "execution_count": 371,
     "metadata": {},
     "output_type": "execute_result"
    }
   ],
   "source": [
    "check_for_issues(df.p[4])"
   ]
  },
  {
   "cell_type": "code",
   "execution_count": 383,
   "metadata": {
    "collapsed": false
   },
   "outputs": [],
   "source": [
    "doing = df.p\n",
    "results = lview.map_async(check_for_issues, doing)"
   ]
  },
  {
   "cell_type": "code",
   "execution_count": 394,
   "metadata": {
    "collapsed": false
   },
   "outputs": [
    {
     "data": {
      "text/plain": [
       "True"
      ]
     },
     "execution_count": 394,
     "metadata": {},
     "output_type": "execute_result"
    }
   ],
   "source": [
    "from iuvs.multitools import nb_progress_display\n",
    "results.ready()"
   ]
  },
  {
   "cell_type": "code",
   "execution_count": 384,
   "metadata": {
    "collapsed": false
   },
   "outputs": [
    {
     "ename": "KeyboardInterrupt",
     "evalue": "",
     "output_type": "error",
     "traceback": [
      "\u001b[1;31m---------------------------------------------------------------------------\u001b[0m",
      "\u001b[1;31mKeyboardInterrupt\u001b[0m                         Traceback (most recent call last)",
      "\u001b[1;32m<ipython-input-384-4ae4ead6bb39>\u001b[0m in \u001b[0;36m<module>\u001b[1;34m()\u001b[0m\n\u001b[1;32m----> 1\u001b[1;33m \u001b[0mnb_progress_display\u001b[0m\u001b[1;33m(\u001b[0m\u001b[0mresults\u001b[0m\u001b[1;33m,\u001b[0m \u001b[0mdoing\u001b[0m\u001b[1;33m)\u001b[0m\u001b[1;33m\u001b[0m\u001b[0m\n\u001b[0m",
      "\u001b[1;32m/home/klay6683/src/iuvs/iuvs/multitools.py\u001b[0m in \u001b[0;36mnb_progress_display\u001b[1;34m(results, objectlist, sleep)\u001b[0m\n\u001b[0;32m     19\u001b[0m     \u001b[1;32mwhile\u001b[0m \u001b[1;32mnot\u001b[0m \u001b[0mresults\u001b[0m\u001b[1;33m.\u001b[0m\u001b[0mready\u001b[0m\u001b[1;33m(\u001b[0m\u001b[1;33m)\u001b[0m\u001b[1;33m:\u001b[0m\u001b[1;33m\u001b[0m\u001b[0m\n\u001b[0;32m     20\u001b[0m         \u001b[0mprog\u001b[0m\u001b[1;33m.\u001b[0m\u001b[0mvalue\u001b[0m \u001b[1;33m=\u001b[0m \u001b[0mresults\u001b[0m\u001b[1;33m.\u001b[0m\u001b[0mprogress\u001b[0m\u001b[1;33m\u001b[0m\u001b[0m\n\u001b[1;32m---> 21\u001b[1;33m         \u001b[0mtime\u001b[0m\u001b[1;33m.\u001b[0m\u001b[0msleep\u001b[0m\u001b[1;33m(\u001b[0m\u001b[0msleep\u001b[0m\u001b[1;33m)\u001b[0m\u001b[1;33m\u001b[0m\u001b[0m\n\u001b[0m\u001b[0;32m     22\u001b[0m \u001b[1;33m\u001b[0m\u001b[0m\n\u001b[0;32m     23\u001b[0m \u001b[1;33m\u001b[0m\u001b[0m\n",
      "\u001b[1;31mKeyboardInterrupt\u001b[0m: "
     ]
    }
   ],
   "source": [
    "nb_progress_display(results, doing)"
   ]
  },
  {
   "cell_type": "code",
   "execution_count": 395,
   "metadata": {
    "collapsed": false
   },
   "outputs": [],
   "source": [
    "resultdf = pd.DataFrame(results.result)"
   ]
  },
  {
   "cell_type": "code",
   "execution_count": 396,
   "metadata": {
    "collapsed": false
   },
   "outputs": [
    {
     "name": "stdout",
     "output_type": "stream",
     "text": [
      "bintbl\n",
      "NaN          13734\n",
      "nonlinear      374\n",
      "Name: bintbl, dtype: int64\n",
      "filename\n",
      "False    14108\n",
      "Name: filename, dtype: int64\n",
      "lenspabins\n",
      "1    13543\n",
      "2      565\n",
      "Name: lenspabins, dtype: int64\n",
      "lenspebins\n",
      "1    13147\n",
      "2      775\n",
      "9      186\n",
      "Name: lenspebins, dtype: int64\n",
      "spasize\n",
      "NaN      13734\n",
      "False      374\n",
      "Name: spasize, dtype: int64\n"
     ]
    }
   ],
   "source": [
    "for col in resultdf.columns:\n",
    "    if col == 'fname': continue\n",
    "    print(col)\n",
    "    print(resultdf[col].value_counts(dropna=False))"
   ]
  },
  {
   "cell_type": "code",
   "execution_count": 377,
   "metadata": {
    "collapsed": true
   },
   "outputs": [
    {
     "data": {
      "text/html": [
       "<div>\n",
       "<table border=\"1\" class=\"dataframe\">\n",
       "  <thead>\n",
       "    <tr style=\"text-align: right;\">\n",
       "      <th></th>\n",
       "      <th>bintbl</th>\n",
       "      <th>filename</th>\n",
       "      <th>fname</th>\n",
       "      <th>lenspabins</th>\n",
       "      <th>lenspebins</th>\n",
       "      <th>spasize</th>\n",
       "    </tr>\n",
       "  </thead>\n",
       "  <tbody>\n",
       "    <tr>\n",
       "      <th>0</th>\n",
       "      <td>nonlinear</td>\n",
       "      <td>False</td>\n",
       "      <td>mvn_iuv_l1a_-orbit01580-fuvdark_20150722T16250...</td>\n",
       "      <td>1</td>\n",
       "      <td>1</td>\n",
       "      <td>False</td>\n",
       "    </tr>\n",
       "    <tr>\n",
       "      <th>1</th>\n",
       "      <td>nonlinear</td>\n",
       "      <td>False</td>\n",
       "      <td>mvn_iuv_l1a_-orbit01655-fuvdark_20150805T07574...</td>\n",
       "      <td>1</td>\n",
       "      <td>1</td>\n",
       "      <td>False</td>\n",
       "    </tr>\n",
       "    <tr>\n",
       "      <th>2</th>\n",
       "      <td>NaN</td>\n",
       "      <td>False</td>\n",
       "      <td>mvn_iuv_l1a_APP1-orbit00084-mode0111-fuvdark_2...</td>\n",
       "      <td>2</td>\n",
       "      <td>1</td>\n",
       "      <td>NaN</td>\n",
       "    </tr>\n",
       "    <tr>\n",
       "      <th>3</th>\n",
       "      <td>NaN</td>\n",
       "      <td>False</td>\n",
       "      <td>mvn_iuv_l1a_APP1-orbit00084-mode0111-fuvdark_2...</td>\n",
       "      <td>2</td>\n",
       "      <td>1</td>\n",
       "      <td>NaN</td>\n",
       "    </tr>\n",
       "    <tr>\n",
       "      <th>4</th>\n",
       "      <td>NaN</td>\n",
       "      <td>False</td>\n",
       "      <td>mvn_iuv_l1a_APP1-orbit00084-mode0111-muvdark_2...</td>\n",
       "      <td>2</td>\n",
       "      <td>1</td>\n",
       "      <td>NaN</td>\n",
       "    </tr>\n",
       "    <tr>\n",
       "      <th>5</th>\n",
       "      <td>NaN</td>\n",
       "      <td>False</td>\n",
       "      <td>mvn_iuv_l1a_APP1-orbit00084-mode0111-muvdark_2...</td>\n",
       "      <td>2</td>\n",
       "      <td>1</td>\n",
       "      <td>NaN</td>\n",
       "    </tr>\n",
       "    <tr>\n",
       "      <th>6</th>\n",
       "      <td>NaN</td>\n",
       "      <td>False</td>\n",
       "      <td>mvn_iuv_l1a_APP1-orbit00084-mode0112-fuvdark_2...</td>\n",
       "      <td>2</td>\n",
       "      <td>1</td>\n",
       "      <td>NaN</td>\n",
       "    </tr>\n",
       "    <tr>\n",
       "      <th>7</th>\n",
       "      <td>NaN</td>\n",
       "      <td>False</td>\n",
       "      <td>mvn_iuv_l1a_APP1-orbit00084-mode0112-fuvdark_2...</td>\n",
       "      <td>2</td>\n",
       "      <td>1</td>\n",
       "      <td>NaN</td>\n",
       "    </tr>\n",
       "    <tr>\n",
       "      <th>8</th>\n",
       "      <td>NaN</td>\n",
       "      <td>False</td>\n",
       "      <td>mvn_iuv_l1a_APP1-orbit00084-mode0112-muvdark_2...</td>\n",
       "      <td>2</td>\n",
       "      <td>1</td>\n",
       "      <td>NaN</td>\n",
       "    </tr>\n",
       "    <tr>\n",
       "      <th>9</th>\n",
       "      <td>NaN</td>\n",
       "      <td>False</td>\n",
       "      <td>mvn_iuv_l1a_APP1-orbit00084-mode0112-muvdark_2...</td>\n",
       "      <td>2</td>\n",
       "      <td>1</td>\n",
       "      <td>NaN</td>\n",
       "    </tr>\n",
       "    <tr>\n",
       "      <th>10</th>\n",
       "      <td>NaN</td>\n",
       "      <td>False</td>\n",
       "      <td>mvn_iuv_l1a_APP1-orbit00084-mode0211-fuvdark_2...</td>\n",
       "      <td>2</td>\n",
       "      <td>1</td>\n",
       "      <td>NaN</td>\n",
       "    </tr>\n",
       "    <tr>\n",
       "      <th>11</th>\n",
       "      <td>NaN</td>\n",
       "      <td>False</td>\n",
       "      <td>mvn_iuv_l1a_APP1-orbit00084-mode0211-fuvdark_2...</td>\n",
       "      <td>2</td>\n",
       "      <td>1</td>\n",
       "      <td>NaN</td>\n",
       "    </tr>\n",
       "    <tr>\n",
       "      <th>12</th>\n",
       "      <td>NaN</td>\n",
       "      <td>False</td>\n",
       "      <td>mvn_iuv_l1a_APP1-orbit00084-mode0211-muvdark_2...</td>\n",
       "      <td>2</td>\n",
       "      <td>1</td>\n",
       "      <td>NaN</td>\n",
       "    </tr>\n",
       "    <tr>\n",
       "      <th>13</th>\n",
       "      <td>NaN</td>\n",
       "      <td>False</td>\n",
       "      <td>mvn_iuv_l1a_APP1-orbit00084-mode0211-muvdark_2...</td>\n",
       "      <td>2</td>\n",
       "      <td>1</td>\n",
       "      <td>NaN</td>\n",
       "    </tr>\n",
       "    <tr>\n",
       "      <th>14</th>\n",
       "      <td>NaN</td>\n",
       "      <td>False</td>\n",
       "      <td>mvn_iuv_l1a_APP1-orbit00084-mode0212-fuvdark_2...</td>\n",
       "      <td>2</td>\n",
       "      <td>1</td>\n",
       "      <td>NaN</td>\n",
       "    </tr>\n",
       "    <tr>\n",
       "      <th>15</th>\n",
       "      <td>NaN</td>\n",
       "      <td>False</td>\n",
       "      <td>mvn_iuv_l1a_APP1-orbit00084-mode0212-fuvdark_2...</td>\n",
       "      <td>2</td>\n",
       "      <td>1</td>\n",
       "      <td>NaN</td>\n",
       "    </tr>\n",
       "    <tr>\n",
       "      <th>16</th>\n",
       "      <td>NaN</td>\n",
       "      <td>False</td>\n",
       "      <td>mvn_iuv_l1a_APP1-orbit00084-mode0212-muvdark_2...</td>\n",
       "      <td>2</td>\n",
       "      <td>1</td>\n",
       "      <td>NaN</td>\n",
       "    </tr>\n",
       "    <tr>\n",
       "      <th>17</th>\n",
       "      <td>NaN</td>\n",
       "      <td>False</td>\n",
       "      <td>mvn_iuv_l1a_APP1-orbit00084-mode0212-muvdark_2...</td>\n",
       "      <td>2</td>\n",
       "      <td>1</td>\n",
       "      <td>NaN</td>\n",
       "    </tr>\n",
       "    <tr>\n",
       "      <th>18</th>\n",
       "      <td>NaN</td>\n",
       "      <td>False</td>\n",
       "      <td>mvn_iuv_l1a_APP1-orbit00085-mode0311-fuvdark_2...</td>\n",
       "      <td>2</td>\n",
       "      <td>1</td>\n",
       "      <td>NaN</td>\n",
       "    </tr>\n",
       "    <tr>\n",
       "      <th>19</th>\n",
       "      <td>NaN</td>\n",
       "      <td>False</td>\n",
       "      <td>mvn_iuv_l1a_APP1-orbit00085-mode0311-fuvdark_2...</td>\n",
       "      <td>2</td>\n",
       "      <td>1</td>\n",
       "      <td>NaN</td>\n",
       "    </tr>\n",
       "    <tr>\n",
       "      <th>20</th>\n",
       "      <td>NaN</td>\n",
       "      <td>False</td>\n",
       "      <td>mvn_iuv_l1a_APP1-orbit00085-mode0311-muvdark_2...</td>\n",
       "      <td>2</td>\n",
       "      <td>1</td>\n",
       "      <td>NaN</td>\n",
       "    </tr>\n",
       "    <tr>\n",
       "      <th>21</th>\n",
       "      <td>NaN</td>\n",
       "      <td>False</td>\n",
       "      <td>mvn_iuv_l1a_APP1-orbit00085-mode0311-muvdark_2...</td>\n",
       "      <td>2</td>\n",
       "      <td>1</td>\n",
       "      <td>NaN</td>\n",
       "    </tr>\n",
       "    <tr>\n",
       "      <th>22</th>\n",
       "      <td>NaN</td>\n",
       "      <td>False</td>\n",
       "      <td>mvn_iuv_l1a_APP1-orbit00085-mode0312-fuvdark_2...</td>\n",
       "      <td>2</td>\n",
       "      <td>1</td>\n",
       "      <td>NaN</td>\n",
       "    </tr>\n",
       "    <tr>\n",
       "      <th>23</th>\n",
       "      <td>NaN</td>\n",
       "      <td>False</td>\n",
       "      <td>mvn_iuv_l1a_APP1-orbit00085-mode0312-fuvdark_2...</td>\n",
       "      <td>2</td>\n",
       "      <td>1</td>\n",
       "      <td>NaN</td>\n",
       "    </tr>\n",
       "    <tr>\n",
       "      <th>24</th>\n",
       "      <td>NaN</td>\n",
       "      <td>False</td>\n",
       "      <td>mvn_iuv_l1a_APP1-orbit00085-mode0312-muvdark_2...</td>\n",
       "      <td>2</td>\n",
       "      <td>1</td>\n",
       "      <td>NaN</td>\n",
       "    </tr>\n",
       "    <tr>\n",
       "      <th>25</th>\n",
       "      <td>NaN</td>\n",
       "      <td>False</td>\n",
       "      <td>mvn_iuv_l1a_APP1-orbit00085-mode0312-muvdark_2...</td>\n",
       "      <td>2</td>\n",
       "      <td>1</td>\n",
       "      <td>NaN</td>\n",
       "    </tr>\n",
       "    <tr>\n",
       "      <th>26</th>\n",
       "      <td>NaN</td>\n",
       "      <td>False</td>\n",
       "      <td>mvn_iuv_l1a_APP1-orbit00085-mode0411-fuvdark_2...</td>\n",
       "      <td>2</td>\n",
       "      <td>1</td>\n",
       "      <td>NaN</td>\n",
       "    </tr>\n",
       "    <tr>\n",
       "      <th>27</th>\n",
       "      <td>NaN</td>\n",
       "      <td>False</td>\n",
       "      <td>mvn_iuv_l1a_APP1-orbit00085-mode0411-fuvdark_2...</td>\n",
       "      <td>2</td>\n",
       "      <td>1</td>\n",
       "      <td>NaN</td>\n",
       "    </tr>\n",
       "    <tr>\n",
       "      <th>28</th>\n",
       "      <td>NaN</td>\n",
       "      <td>False</td>\n",
       "      <td>mvn_iuv_l1a_APP1-orbit00085-mode0411-muvdark_2...</td>\n",
       "      <td>2</td>\n",
       "      <td>1</td>\n",
       "      <td>NaN</td>\n",
       "    </tr>\n",
       "    <tr>\n",
       "      <th>29</th>\n",
       "      <td>NaN</td>\n",
       "      <td>False</td>\n",
       "      <td>mvn_iuv_l1a_APP1-orbit00085-mode0411-muvdark_2...</td>\n",
       "      <td>2</td>\n",
       "      <td>1</td>\n",
       "      <td>NaN</td>\n",
       "    </tr>\n",
       "    <tr>\n",
       "      <th>...</th>\n",
       "      <td>...</td>\n",
       "      <td>...</td>\n",
       "      <td>...</td>\n",
       "      <td>...</td>\n",
       "      <td>...</td>\n",
       "      <td>...</td>\n",
       "    </tr>\n",
       "    <tr>\n",
       "      <th>130</th>\n",
       "      <td>NaN</td>\n",
       "      <td>False</td>\n",
       "      <td>mvn_iuv_l1a_APP1A-orbit00168-mode0311-fuvdark_...</td>\n",
       "      <td>1</td>\n",
       "      <td>2</td>\n",
       "      <td>NaN</td>\n",
       "    </tr>\n",
       "    <tr>\n",
       "      <th>131</th>\n",
       "      <td>NaN</td>\n",
       "      <td>False</td>\n",
       "      <td>mvn_iuv_l1a_APP1A-orbit00168-mode0311-fuvdark_...</td>\n",
       "      <td>1</td>\n",
       "      <td>2</td>\n",
       "      <td>NaN</td>\n",
       "    </tr>\n",
       "    <tr>\n",
       "      <th>132</th>\n",
       "      <td>NaN</td>\n",
       "      <td>False</td>\n",
       "      <td>mvn_iuv_l1a_APP1A-orbit00168-mode0311-muvdark_...</td>\n",
       "      <td>1</td>\n",
       "      <td>2</td>\n",
       "      <td>NaN</td>\n",
       "    </tr>\n",
       "    <tr>\n",
       "      <th>133</th>\n",
       "      <td>NaN</td>\n",
       "      <td>False</td>\n",
       "      <td>mvn_iuv_l1a_APP1A-orbit00168-mode0311-muvdark_...</td>\n",
       "      <td>1</td>\n",
       "      <td>2</td>\n",
       "      <td>NaN</td>\n",
       "    </tr>\n",
       "    <tr>\n",
       "      <th>134</th>\n",
       "      <td>NaN</td>\n",
       "      <td>False</td>\n",
       "      <td>mvn_iuv_l1a_APP1A-orbit00168-mode0312-fuvdark_...</td>\n",
       "      <td>1</td>\n",
       "      <td>2</td>\n",
       "      <td>NaN</td>\n",
       "    </tr>\n",
       "    <tr>\n",
       "      <th>135</th>\n",
       "      <td>NaN</td>\n",
       "      <td>False</td>\n",
       "      <td>mvn_iuv_l1a_APP1A-orbit00168-mode0312-fuvdark_...</td>\n",
       "      <td>1</td>\n",
       "      <td>2</td>\n",
       "      <td>NaN</td>\n",
       "    </tr>\n",
       "    <tr>\n",
       "      <th>136</th>\n",
       "      <td>NaN</td>\n",
       "      <td>False</td>\n",
       "      <td>mvn_iuv_l1a_APP1A-orbit00168-mode0312-muvdark_...</td>\n",
       "      <td>1</td>\n",
       "      <td>2</td>\n",
       "      <td>NaN</td>\n",
       "    </tr>\n",
       "    <tr>\n",
       "      <th>137</th>\n",
       "      <td>NaN</td>\n",
       "      <td>False</td>\n",
       "      <td>mvn_iuv_l1a_APP1A-orbit00168-mode0312-muvdark_...</td>\n",
       "      <td>1</td>\n",
       "      <td>2</td>\n",
       "      <td>NaN</td>\n",
       "    </tr>\n",
       "    <tr>\n",
       "      <th>138</th>\n",
       "      <td>NaN</td>\n",
       "      <td>False</td>\n",
       "      <td>mvn_iuv_l1a_APP1A-orbit00168-mode0411-fuvdark_...</td>\n",
       "      <td>1</td>\n",
       "      <td>2</td>\n",
       "      <td>NaN</td>\n",
       "    </tr>\n",
       "    <tr>\n",
       "      <th>139</th>\n",
       "      <td>NaN</td>\n",
       "      <td>False</td>\n",
       "      <td>mvn_iuv_l1a_APP1A-orbit00168-mode0411-fuvdark_...</td>\n",
       "      <td>1</td>\n",
       "      <td>2</td>\n",
       "      <td>NaN</td>\n",
       "    </tr>\n",
       "    <tr>\n",
       "      <th>140</th>\n",
       "      <td>NaN</td>\n",
       "      <td>False</td>\n",
       "      <td>mvn_iuv_l1a_APP1A-orbit00168-mode0411-muvdark_...</td>\n",
       "      <td>1</td>\n",
       "      <td>2</td>\n",
       "      <td>NaN</td>\n",
       "    </tr>\n",
       "    <tr>\n",
       "      <th>141</th>\n",
       "      <td>NaN</td>\n",
       "      <td>False</td>\n",
       "      <td>mvn_iuv_l1a_APP1A-orbit00168-mode0411-muvdark_...</td>\n",
       "      <td>1</td>\n",
       "      <td>2</td>\n",
       "      <td>NaN</td>\n",
       "    </tr>\n",
       "    <tr>\n",
       "      <th>142</th>\n",
       "      <td>NaN</td>\n",
       "      <td>False</td>\n",
       "      <td>mvn_iuv_l1a_APP1A-orbit00168-mode0412-fuvdark_...</td>\n",
       "      <td>1</td>\n",
       "      <td>2</td>\n",
       "      <td>NaN</td>\n",
       "    </tr>\n",
       "    <tr>\n",
       "      <th>143</th>\n",
       "      <td>NaN</td>\n",
       "      <td>False</td>\n",
       "      <td>mvn_iuv_l1a_APP1A-orbit00168-mode0412-fuvdark_...</td>\n",
       "      <td>1</td>\n",
       "      <td>2</td>\n",
       "      <td>NaN</td>\n",
       "    </tr>\n",
       "    <tr>\n",
       "      <th>144</th>\n",
       "      <td>NaN</td>\n",
       "      <td>False</td>\n",
       "      <td>mvn_iuv_l1a_APP1A-orbit00168-mode0412-muvdark_...</td>\n",
       "      <td>1</td>\n",
       "      <td>2</td>\n",
       "      <td>NaN</td>\n",
       "    </tr>\n",
       "    <tr>\n",
       "      <th>145</th>\n",
       "      <td>NaN</td>\n",
       "      <td>False</td>\n",
       "      <td>mvn_iuv_l1a_APP1A-orbit00168-mode0412-muvdark_...</td>\n",
       "      <td>1</td>\n",
       "      <td>2</td>\n",
       "      <td>NaN</td>\n",
       "    </tr>\n",
       "    <tr>\n",
       "      <th>146</th>\n",
       "      <td>NaN</td>\n",
       "      <td>False</td>\n",
       "      <td>mvn_iuv_l1a_APP1A-orbit00169-mode0511-fuvdark_...</td>\n",
       "      <td>1</td>\n",
       "      <td>2</td>\n",
       "      <td>NaN</td>\n",
       "    </tr>\n",
       "    <tr>\n",
       "      <th>147</th>\n",
       "      <td>NaN</td>\n",
       "      <td>False</td>\n",
       "      <td>mvn_iuv_l1a_APP1A-orbit00169-mode0511-fuvdark_...</td>\n",
       "      <td>1</td>\n",
       "      <td>2</td>\n",
       "      <td>NaN</td>\n",
       "    </tr>\n",
       "    <tr>\n",
       "      <th>148</th>\n",
       "      <td>NaN</td>\n",
       "      <td>False</td>\n",
       "      <td>mvn_iuv_l1a_APP1A-orbit00169-mode0511-muvdark_...</td>\n",
       "      <td>1</td>\n",
       "      <td>2</td>\n",
       "      <td>NaN</td>\n",
       "    </tr>\n",
       "    <tr>\n",
       "      <th>149</th>\n",
       "      <td>NaN</td>\n",
       "      <td>False</td>\n",
       "      <td>mvn_iuv_l1a_APP1A-orbit00169-mode0511-muvdark_...</td>\n",
       "      <td>1</td>\n",
       "      <td>2</td>\n",
       "      <td>NaN</td>\n",
       "    </tr>\n",
       "    <tr>\n",
       "      <th>150</th>\n",
       "      <td>NaN</td>\n",
       "      <td>False</td>\n",
       "      <td>mvn_iuv_l1a_APP1A-orbit00169-mode0512-fuvdark_...</td>\n",
       "      <td>1</td>\n",
       "      <td>2</td>\n",
       "      <td>NaN</td>\n",
       "    </tr>\n",
       "    <tr>\n",
       "      <th>151</th>\n",
       "      <td>NaN</td>\n",
       "      <td>False</td>\n",
       "      <td>mvn_iuv_l1a_APP1A-orbit00169-mode0512-fuvdark_...</td>\n",
       "      <td>1</td>\n",
       "      <td>2</td>\n",
       "      <td>NaN</td>\n",
       "    </tr>\n",
       "    <tr>\n",
       "      <th>152</th>\n",
       "      <td>NaN</td>\n",
       "      <td>False</td>\n",
       "      <td>mvn_iuv_l1a_APP1A-orbit00169-mode0512-muvdark_...</td>\n",
       "      <td>1</td>\n",
       "      <td>2</td>\n",
       "      <td>NaN</td>\n",
       "    </tr>\n",
       "    <tr>\n",
       "      <th>153</th>\n",
       "      <td>NaN</td>\n",
       "      <td>False</td>\n",
       "      <td>mvn_iuv_l1a_APP1A-orbit00169-mode0512-muvdark_...</td>\n",
       "      <td>1</td>\n",
       "      <td>2</td>\n",
       "      <td>NaN</td>\n",
       "    </tr>\n",
       "    <tr>\n",
       "      <th>154</th>\n",
       "      <td>NaN</td>\n",
       "      <td>False</td>\n",
       "      <td>mvn_iuv_l1a_APP1A-orbit00169-mode0611-fuvdark_...</td>\n",
       "      <td>1</td>\n",
       "      <td>2</td>\n",
       "      <td>NaN</td>\n",
       "    </tr>\n",
       "    <tr>\n",
       "      <th>155</th>\n",
       "      <td>NaN</td>\n",
       "      <td>False</td>\n",
       "      <td>mvn_iuv_l1a_APP1A-orbit00169-mode0611-fuvdark_...</td>\n",
       "      <td>1</td>\n",
       "      <td>2</td>\n",
       "      <td>NaN</td>\n",
       "    </tr>\n",
       "    <tr>\n",
       "      <th>156</th>\n",
       "      <td>NaN</td>\n",
       "      <td>False</td>\n",
       "      <td>mvn_iuv_l1a_APP1A-orbit00169-mode0611-muvdark_...</td>\n",
       "      <td>1</td>\n",
       "      <td>2</td>\n",
       "      <td>NaN</td>\n",
       "    </tr>\n",
       "    <tr>\n",
       "      <th>157</th>\n",
       "      <td>NaN</td>\n",
       "      <td>False</td>\n",
       "      <td>mvn_iuv_l1a_APP1A-orbit00169-mode0611-muvdark_...</td>\n",
       "      <td>1</td>\n",
       "      <td>2</td>\n",
       "      <td>NaN</td>\n",
       "    </tr>\n",
       "    <tr>\n",
       "      <th>158</th>\n",
       "      <td>NaN</td>\n",
       "      <td>False</td>\n",
       "      <td>mvn_iuv_l1a_APP1A-orbit00169-mode0612-fuvdark_...</td>\n",
       "      <td>1</td>\n",
       "      <td>2</td>\n",
       "      <td>NaN</td>\n",
       "    </tr>\n",
       "    <tr>\n",
       "      <th>159</th>\n",
       "      <td>NaN</td>\n",
       "      <td>False</td>\n",
       "      <td>mvn_iuv_l1a_APP1A-orbit00169-mode0612-fuvdark_...</td>\n",
       "      <td>1</td>\n",
       "      <td>2</td>\n",
       "      <td>NaN</td>\n",
       "    </tr>\n",
       "  </tbody>\n",
       "</table>\n",
       "<p>160 rows × 6 columns</p>\n",
       "</div>"
      ],
      "text/plain": [
       "        bintbl filename                                              fname  \\\n",
       "0    nonlinear    False  mvn_iuv_l1a_-orbit01580-fuvdark_20150722T16250...   \n",
       "1    nonlinear    False  mvn_iuv_l1a_-orbit01655-fuvdark_20150805T07574...   \n",
       "2          NaN    False  mvn_iuv_l1a_APP1-orbit00084-mode0111-fuvdark_2...   \n",
       "3          NaN    False  mvn_iuv_l1a_APP1-orbit00084-mode0111-fuvdark_2...   \n",
       "4          NaN    False  mvn_iuv_l1a_APP1-orbit00084-mode0111-muvdark_2...   \n",
       "5          NaN    False  mvn_iuv_l1a_APP1-orbit00084-mode0111-muvdark_2...   \n",
       "6          NaN    False  mvn_iuv_l1a_APP1-orbit00084-mode0112-fuvdark_2...   \n",
       "7          NaN    False  mvn_iuv_l1a_APP1-orbit00084-mode0112-fuvdark_2...   \n",
       "8          NaN    False  mvn_iuv_l1a_APP1-orbit00084-mode0112-muvdark_2...   \n",
       "9          NaN    False  mvn_iuv_l1a_APP1-orbit00084-mode0112-muvdark_2...   \n",
       "10         NaN    False  mvn_iuv_l1a_APP1-orbit00084-mode0211-fuvdark_2...   \n",
       "11         NaN    False  mvn_iuv_l1a_APP1-orbit00084-mode0211-fuvdark_2...   \n",
       "12         NaN    False  mvn_iuv_l1a_APP1-orbit00084-mode0211-muvdark_2...   \n",
       "13         NaN    False  mvn_iuv_l1a_APP1-orbit00084-mode0211-muvdark_2...   \n",
       "14         NaN    False  mvn_iuv_l1a_APP1-orbit00084-mode0212-fuvdark_2...   \n",
       "15         NaN    False  mvn_iuv_l1a_APP1-orbit00084-mode0212-fuvdark_2...   \n",
       "16         NaN    False  mvn_iuv_l1a_APP1-orbit00084-mode0212-muvdark_2...   \n",
       "17         NaN    False  mvn_iuv_l1a_APP1-orbit00084-mode0212-muvdark_2...   \n",
       "18         NaN    False  mvn_iuv_l1a_APP1-orbit00085-mode0311-fuvdark_2...   \n",
       "19         NaN    False  mvn_iuv_l1a_APP1-orbit00085-mode0311-fuvdark_2...   \n",
       "20         NaN    False  mvn_iuv_l1a_APP1-orbit00085-mode0311-muvdark_2...   \n",
       "21         NaN    False  mvn_iuv_l1a_APP1-orbit00085-mode0311-muvdark_2...   \n",
       "22         NaN    False  mvn_iuv_l1a_APP1-orbit00085-mode0312-fuvdark_2...   \n",
       "23         NaN    False  mvn_iuv_l1a_APP1-orbit00085-mode0312-fuvdark_2...   \n",
       "24         NaN    False  mvn_iuv_l1a_APP1-orbit00085-mode0312-muvdark_2...   \n",
       "25         NaN    False  mvn_iuv_l1a_APP1-orbit00085-mode0312-muvdark_2...   \n",
       "26         NaN    False  mvn_iuv_l1a_APP1-orbit00085-mode0411-fuvdark_2...   \n",
       "27         NaN    False  mvn_iuv_l1a_APP1-orbit00085-mode0411-fuvdark_2...   \n",
       "28         NaN    False  mvn_iuv_l1a_APP1-orbit00085-mode0411-muvdark_2...   \n",
       "29         NaN    False  mvn_iuv_l1a_APP1-orbit00085-mode0411-muvdark_2...   \n",
       "..         ...      ...                                                ...   \n",
       "130        NaN    False  mvn_iuv_l1a_APP1A-orbit00168-mode0311-fuvdark_...   \n",
       "131        NaN    False  mvn_iuv_l1a_APP1A-orbit00168-mode0311-fuvdark_...   \n",
       "132        NaN    False  mvn_iuv_l1a_APP1A-orbit00168-mode0311-muvdark_...   \n",
       "133        NaN    False  mvn_iuv_l1a_APP1A-orbit00168-mode0311-muvdark_...   \n",
       "134        NaN    False  mvn_iuv_l1a_APP1A-orbit00168-mode0312-fuvdark_...   \n",
       "135        NaN    False  mvn_iuv_l1a_APP1A-orbit00168-mode0312-fuvdark_...   \n",
       "136        NaN    False  mvn_iuv_l1a_APP1A-orbit00168-mode0312-muvdark_...   \n",
       "137        NaN    False  mvn_iuv_l1a_APP1A-orbit00168-mode0312-muvdark_...   \n",
       "138        NaN    False  mvn_iuv_l1a_APP1A-orbit00168-mode0411-fuvdark_...   \n",
       "139        NaN    False  mvn_iuv_l1a_APP1A-orbit00168-mode0411-fuvdark_...   \n",
       "140        NaN    False  mvn_iuv_l1a_APP1A-orbit00168-mode0411-muvdark_...   \n",
       "141        NaN    False  mvn_iuv_l1a_APP1A-orbit00168-mode0411-muvdark_...   \n",
       "142        NaN    False  mvn_iuv_l1a_APP1A-orbit00168-mode0412-fuvdark_...   \n",
       "143        NaN    False  mvn_iuv_l1a_APP1A-orbit00168-mode0412-fuvdark_...   \n",
       "144        NaN    False  mvn_iuv_l1a_APP1A-orbit00168-mode0412-muvdark_...   \n",
       "145        NaN    False  mvn_iuv_l1a_APP1A-orbit00168-mode0412-muvdark_...   \n",
       "146        NaN    False  mvn_iuv_l1a_APP1A-orbit00169-mode0511-fuvdark_...   \n",
       "147        NaN    False  mvn_iuv_l1a_APP1A-orbit00169-mode0511-fuvdark_...   \n",
       "148        NaN    False  mvn_iuv_l1a_APP1A-orbit00169-mode0511-muvdark_...   \n",
       "149        NaN    False  mvn_iuv_l1a_APP1A-orbit00169-mode0511-muvdark_...   \n",
       "150        NaN    False  mvn_iuv_l1a_APP1A-orbit00169-mode0512-fuvdark_...   \n",
       "151        NaN    False  mvn_iuv_l1a_APP1A-orbit00169-mode0512-fuvdark_...   \n",
       "152        NaN    False  mvn_iuv_l1a_APP1A-orbit00169-mode0512-muvdark_...   \n",
       "153        NaN    False  mvn_iuv_l1a_APP1A-orbit00169-mode0512-muvdark_...   \n",
       "154        NaN    False  mvn_iuv_l1a_APP1A-orbit00169-mode0611-fuvdark_...   \n",
       "155        NaN    False  mvn_iuv_l1a_APP1A-orbit00169-mode0611-fuvdark_...   \n",
       "156        NaN    False  mvn_iuv_l1a_APP1A-orbit00169-mode0611-muvdark_...   \n",
       "157        NaN    False  mvn_iuv_l1a_APP1A-orbit00169-mode0611-muvdark_...   \n",
       "158        NaN    False  mvn_iuv_l1a_APP1A-orbit00169-mode0612-fuvdark_...   \n",
       "159        NaN    False  mvn_iuv_l1a_APP1A-orbit00169-mode0612-fuvdark_...   \n",
       "\n",
       "     lenspabins  lenspebins spasize  \n",
       "0             1           1   False  \n",
       "1             1           1   False  \n",
       "2             2           1     NaN  \n",
       "3             2           1     NaN  \n",
       "4             2           1     NaN  \n",
       "5             2           1     NaN  \n",
       "6             2           1     NaN  \n",
       "7             2           1     NaN  \n",
       "8             2           1     NaN  \n",
       "9             2           1     NaN  \n",
       "10            2           1     NaN  \n",
       "11            2           1     NaN  \n",
       "12            2           1     NaN  \n",
       "13            2           1     NaN  \n",
       "14            2           1     NaN  \n",
       "15            2           1     NaN  \n",
       "16            2           1     NaN  \n",
       "17            2           1     NaN  \n",
       "18            2           1     NaN  \n",
       "19            2           1     NaN  \n",
       "20            2           1     NaN  \n",
       "21            2           1     NaN  \n",
       "22            2           1     NaN  \n",
       "23            2           1     NaN  \n",
       "24            2           1     NaN  \n",
       "25            2           1     NaN  \n",
       "26            2           1     NaN  \n",
       "27            2           1     NaN  \n",
       "28            2           1     NaN  \n",
       "29            2           1     NaN  \n",
       "..          ...         ...     ...  \n",
       "130           1           2     NaN  \n",
       "131           1           2     NaN  \n",
       "132           1           2     NaN  \n",
       "133           1           2     NaN  \n",
       "134           1           2     NaN  \n",
       "135           1           2     NaN  \n",
       "136           1           2     NaN  \n",
       "137           1           2     NaN  \n",
       "138           1           2     NaN  \n",
       "139           1           2     NaN  \n",
       "140           1           2     NaN  \n",
       "141           1           2     NaN  \n",
       "142           1           2     NaN  \n",
       "143           1           2     NaN  \n",
       "144           1           2     NaN  \n",
       "145           1           2     NaN  \n",
       "146           1           2     NaN  \n",
       "147           1           2     NaN  \n",
       "148           1           2     NaN  \n",
       "149           1           2     NaN  \n",
       "150           1           2     NaN  \n",
       "151           1           2     NaN  \n",
       "152           1           2     NaN  \n",
       "153           1           2     NaN  \n",
       "154           1           2     NaN  \n",
       "155           1           2     NaN  \n",
       "156           1           2     NaN  \n",
       "157           1           2     NaN  \n",
       "158           1           2     NaN  \n",
       "159           1           2     NaN  \n",
       "\n",
       "[160 rows x 6 columns]"
      ]
     },
     "execution_count": 377,
     "metadata": {},
     "output_type": "execute_result"
    }
   ],
   "source": [
    "resultdf"
   ]
  },
  {
   "cell_type": "code",
   "execution_count": null,
   "metadata": {
    "collapsed": true
   },
   "outputs": [],
   "source": []
  },
  {
   "cell_type": "code",
   "execution_count": 209,
   "metadata": {
    "collapsed": false
   },
   "outputs": [],
   "source": [
    "resultdf[resultdf[1]== 1][0].to_csv('/home/klay6683/to_keep/missing_binning_fields.csv')"
   ]
  },
  {
   "cell_type": "code",
   "execution_count": 206,
   "metadata": {
    "collapsed": false
   },
   "outputs": [
    {
     "name": "stdout",
     "output_type": "stream",
     "text": [
      "<class 'pandas.core.frame.DataFrame'>\n",
      "Int64Index: 14108 entries, 0 to 14107\n",
      "Data columns (total 2 columns):\n",
      "0    14108 non-null object\n",
      "1    14108 non-null int64\n",
      "dtypes: int64(1), object(1)\n",
      "memory usage: 330.7+ KB\n"
     ]
    }
   ],
   "source": [
    "resultdf.info()"
   ]
  },
  {
   "cell_type": "code",
   "execution_count": 392,
   "metadata": {
    "collapsed": false
   },
   "outputs": [
    {
     "data": {
      "text/plain": [
       "array([ 0.28499987,  0.29065173,  0.28991705,  0.29504912,  0.28251009,\n",
       "        0.29542302,  0.30167664,  0.28757104,  0.2780717 ,  0.27904405,\n",
       "        0.29417564,  0.31145206,  0.28650963,  0.29835663,  0.28400402,\n",
       "        0.29205689,  0.29192985,  0.2860661 ,  0.30517855,  0.28293447,\n",
       "        0.28134726])"
      ]
     },
     "execution_count": 392,
     "metadata": {},
     "output_type": "execute_result"
    }
   ],
   "source": [
    "l1a.primary_img_dn_s.mean(axis=(1,2))"
   ]
  },
  {
   "cell_type": "code",
   "execution_count": null,
   "metadata": {
    "collapsed": true
   },
   "outputs": [],
   "source": []
  },
  {
   "cell_type": "code",
   "execution_count": null,
   "metadata": {
    "collapsed": true
   },
   "outputs": [],
   "source": []
  },
  {
   "cell_type": "code",
   "execution_count": 19,
   "metadata": {
    "collapsed": false
   },
   "outputs": [],
   "source": [
    "def process_fname(fname):\n",
    "    import numpy as np\n",
    "    l1a = io.L1AReader(fname)\n",
    "    d = dict(fname=fname)\n",
    "    try:\n",
    "        l1a = io.L1AReader(str(p))\n",
    "    except exceptions.DimensionsError:\n",
    "        d['error'] = 'dims'\n",
    "        return d\n",
    "    if l1a.img_header['BIN_TBL'].startswith('NON LINEAR'):\n",
    "        d['error'] = 'nonlinear'\n",
    "        return d\n",
    "    d['n_unique_spa_bins'] = l1a.n_unique_spabins\n",
    "    d['n_unique_spe_bins'] = l1a.n_unique_spebins\n",
    "    main_header = io.get_header_df(l1a.hdulist[0])\n",
    "    integration = l1a.Integration\n",
    "    if main_header['NAXIS'] == 2:\n",
    "        main_header['NAXIS3'] = np.nan\n",
    "        avgtuple = None\n",
    "    elif main_header['NAXIS'] == 3:\n",
    "        avgtuple = (1,2)\n",
    "    else:\n",
    "        d['axes'] = False\n",
    "        return d\n",
    "    try:\n",
    "        integration['mean'] = l1a.primary_img_dn_s.mean(axis=avgtuple)\n",
    "        integration['median'] = np.median(l1a.primary_img_dn_s, axis=avgtuple)\n",
    "        integration['std'] = l1a.primary_img_dn_s.std(axis=avgtuple)\n",
    "    except KeyError:\n",
    "        integration['mean'] = np.nan\n",
    "        integration['median'] = np.nan\n",
    "        integration['std'] = np.nan\n",
    "    joined = integration.join(pd.concat([pd.DataFrame(main_header).T] * len(integration),\n",
    "                                        ignore_index=True))\n",
    "    for col in l1a.Observation.names[:-3]:\n",
    "        val = l1a.Observation[col][0]\n",
    "        if col == 'COLLECTION_ID':\n",
    "            val = val[0]\n",
    "        joined[col] = val\n",
    "    joined = joined.convert_objects(convert_numeric=True)\n",
    "#     savepath = io.save_to_hdf(joined, fname, 'l1a_dark_scans')\n",
    "#     return joined, 0"
   ]
  },
  {
   "cell_type": "code",
   "execution_count": 24,
   "metadata": {
    "collapsed": false
   },
   "outputs": [
    {
     "ename": "ValueError",
     "evalue": "Length of values does not match length of index",
     "output_type": "error",
     "traceback": [
      "\u001b[1;31m---------------------------------------------------------------------------\u001b[0m",
      "\u001b[1;31mValueError\u001b[0m                                Traceback (most recent call last)",
      "\u001b[1;32m<ipython-input-24-60cbe082b217>\u001b[0m in \u001b[0;36m<module>\u001b[1;34m()\u001b[0m\n\u001b[1;32m----> 1\u001b[1;33m \u001b[0mprocess_fname\u001b[0m\u001b[1;33m(\u001b[0m\u001b[0mfnames\u001b[0m\u001b[1;33m[\u001b[0m\u001b[1;36m1\u001b[0m\u001b[1;33m]\u001b[0m\u001b[1;33m)\u001b[0m\u001b[1;33m\u001b[0m\u001b[0m\n\u001b[0m",
      "\u001b[1;32m<ipython-input-19-38d1de5f5f6f>\u001b[0m in \u001b[0;36mprocess_fname\u001b[1;34m(fname)\u001b[0m\n\u001b[0;32m     14\u001b[0m         \u001b[1;32mreturn\u001b[0m \u001b[0mfname\u001b[0m\u001b[1;33m,\u001b[0m \u001b[1;36m1\u001b[0m\u001b[1;33m\u001b[0m\u001b[0m\n\u001b[0;32m     15\u001b[0m     \u001b[1;32mtry\u001b[0m\u001b[1;33m:\u001b[0m\u001b[1;33m\u001b[0m\u001b[0m\n\u001b[1;32m---> 16\u001b[1;33m         \u001b[0mintegration\u001b[0m\u001b[1;33m[\u001b[0m\u001b[1;34m'mean'\u001b[0m\u001b[1;33m]\u001b[0m \u001b[1;33m=\u001b[0m \u001b[0ml1a\u001b[0m\u001b[1;33m.\u001b[0m\u001b[0mprimary_img_dn_s\u001b[0m\u001b[1;33m.\u001b[0m\u001b[0mmean\u001b[0m\u001b[1;33m(\u001b[0m\u001b[0maxis\u001b[0m\u001b[1;33m=\u001b[0m\u001b[0mavgtuple\u001b[0m\u001b[1;33m)\u001b[0m\u001b[1;33m\u001b[0m\u001b[0m\n\u001b[0m\u001b[0;32m     17\u001b[0m         \u001b[0mintegration\u001b[0m\u001b[1;33m[\u001b[0m\u001b[1;34m'median'\u001b[0m\u001b[1;33m]\u001b[0m \u001b[1;33m=\u001b[0m \u001b[0mnp\u001b[0m\u001b[1;33m.\u001b[0m\u001b[0mmedian\u001b[0m\u001b[1;33m(\u001b[0m\u001b[0ml1a\u001b[0m\u001b[1;33m.\u001b[0m\u001b[0mprimary_img_dn_s\u001b[0m\u001b[1;33m,\u001b[0m \u001b[0maxis\u001b[0m\u001b[1;33m=\u001b[0m\u001b[0mavgtuple\u001b[0m\u001b[1;33m)\u001b[0m\u001b[1;33m\u001b[0m\u001b[0m\n\u001b[0;32m     18\u001b[0m         \u001b[0mintegration\u001b[0m\u001b[1;33m[\u001b[0m\u001b[1;34m'std'\u001b[0m\u001b[1;33m]\u001b[0m \u001b[1;33m=\u001b[0m \u001b[0ml1a\u001b[0m\u001b[1;33m.\u001b[0m\u001b[0mprimary_img_dn_s\u001b[0m\u001b[1;33m.\u001b[0m\u001b[0mstd\u001b[0m\u001b[1;33m(\u001b[0m\u001b[0maxis\u001b[0m\u001b[1;33m=\u001b[0m\u001b[0mavgtuple\u001b[0m\u001b[1;33m)\u001b[0m\u001b[1;33m\u001b[0m\u001b[0m\n",
      "\u001b[1;32m/usr/local/python3/miniconda/lib/python3.4/site-packages/pandas-0.16.2_9_g7636c2c-py3.4-linux-x86_64.egg/pandas/core/frame.py\u001b[0m in \u001b[0;36m__setitem__\u001b[1;34m(self, key, value)\u001b[0m\n\u001b[0;32m   2125\u001b[0m         \u001b[1;32melse\u001b[0m\u001b[1;33m:\u001b[0m\u001b[1;33m\u001b[0m\u001b[0m\n\u001b[0;32m   2126\u001b[0m             \u001b[1;31m# set column\u001b[0m\u001b[1;33m\u001b[0m\u001b[1;33m\u001b[0m\u001b[0m\n\u001b[1;32m-> 2127\u001b[1;33m             \u001b[0mself\u001b[0m\u001b[1;33m.\u001b[0m\u001b[0m_set_item\u001b[0m\u001b[1;33m(\u001b[0m\u001b[0mkey\u001b[0m\u001b[1;33m,\u001b[0m \u001b[0mvalue\u001b[0m\u001b[1;33m)\u001b[0m\u001b[1;33m\u001b[0m\u001b[0m\n\u001b[0m\u001b[0;32m   2128\u001b[0m \u001b[1;33m\u001b[0m\u001b[0m\n\u001b[0;32m   2129\u001b[0m     \u001b[1;32mdef\u001b[0m \u001b[0m_setitem_slice\u001b[0m\u001b[1;33m(\u001b[0m\u001b[0mself\u001b[0m\u001b[1;33m,\u001b[0m \u001b[0mkey\u001b[0m\u001b[1;33m,\u001b[0m \u001b[0mvalue\u001b[0m\u001b[1;33m)\u001b[0m\u001b[1;33m:\u001b[0m\u001b[1;33m\u001b[0m\u001b[0m\n",
      "\u001b[1;32m/usr/local/python3/miniconda/lib/python3.4/site-packages/pandas-0.16.2_9_g7636c2c-py3.4-linux-x86_64.egg/pandas/core/frame.py\u001b[0m in \u001b[0;36m_set_item\u001b[1;34m(self, key, value)\u001b[0m\n\u001b[0;32m   2202\u001b[0m \u001b[1;33m\u001b[0m\u001b[0m\n\u001b[0;32m   2203\u001b[0m         \u001b[0mself\u001b[0m\u001b[1;33m.\u001b[0m\u001b[0m_ensure_valid_index\u001b[0m\u001b[1;33m(\u001b[0m\u001b[0mvalue\u001b[0m\u001b[1;33m)\u001b[0m\u001b[1;33m\u001b[0m\u001b[0m\n\u001b[1;32m-> 2204\u001b[1;33m         \u001b[0mvalue\u001b[0m \u001b[1;33m=\u001b[0m \u001b[0mself\u001b[0m\u001b[1;33m.\u001b[0m\u001b[0m_sanitize_column\u001b[0m\u001b[1;33m(\u001b[0m\u001b[0mkey\u001b[0m\u001b[1;33m,\u001b[0m \u001b[0mvalue\u001b[0m\u001b[1;33m)\u001b[0m\u001b[1;33m\u001b[0m\u001b[0m\n\u001b[0m\u001b[0;32m   2205\u001b[0m         \u001b[0mNDFrame\u001b[0m\u001b[1;33m.\u001b[0m\u001b[0m_set_item\u001b[0m\u001b[1;33m(\u001b[0m\u001b[0mself\u001b[0m\u001b[1;33m,\u001b[0m \u001b[0mkey\u001b[0m\u001b[1;33m,\u001b[0m \u001b[0mvalue\u001b[0m\u001b[1;33m)\u001b[0m\u001b[1;33m\u001b[0m\u001b[0m\n\u001b[0;32m   2206\u001b[0m \u001b[1;33m\u001b[0m\u001b[0m\n",
      "\u001b[1;32m/usr/local/python3/miniconda/lib/python3.4/site-packages/pandas-0.16.2_9_g7636c2c-py3.4-linux-x86_64.egg/pandas/core/frame.py\u001b[0m in \u001b[0;36m_sanitize_column\u001b[1;34m(self, key, value)\u001b[0m\n\u001b[0;32m   2360\u001b[0m \u001b[1;33m\u001b[0m\u001b[0m\n\u001b[0;32m   2361\u001b[0m             \u001b[1;31m# turn me into an ndarray\u001b[0m\u001b[1;33m\u001b[0m\u001b[1;33m\u001b[0m\u001b[0m\n\u001b[1;32m-> 2362\u001b[1;33m             \u001b[0mvalue\u001b[0m \u001b[1;33m=\u001b[0m \u001b[0m_sanitize_index\u001b[0m\u001b[1;33m(\u001b[0m\u001b[0mvalue\u001b[0m\u001b[1;33m,\u001b[0m \u001b[0mself\u001b[0m\u001b[1;33m.\u001b[0m\u001b[0mindex\u001b[0m\u001b[1;33m,\u001b[0m \u001b[0mcopy\u001b[0m\u001b[1;33m=\u001b[0m\u001b[1;32mFalse\u001b[0m\u001b[1;33m)\u001b[0m\u001b[1;33m\u001b[0m\u001b[0m\n\u001b[0m\u001b[0;32m   2363\u001b[0m             \u001b[1;32mif\u001b[0m \u001b[1;32mnot\u001b[0m \u001b[0misinstance\u001b[0m\u001b[1;33m(\u001b[0m\u001b[0mvalue\u001b[0m\u001b[1;33m,\u001b[0m \u001b[1;33m(\u001b[0m\u001b[0mnp\u001b[0m\u001b[1;33m.\u001b[0m\u001b[0mndarray\u001b[0m\u001b[1;33m,\u001b[0m \u001b[0mIndex\u001b[0m\u001b[1;33m)\u001b[0m\u001b[1;33m)\u001b[0m\u001b[1;33m:\u001b[0m\u001b[1;33m\u001b[0m\u001b[0m\n\u001b[0;32m   2364\u001b[0m                 \u001b[1;32mif\u001b[0m \u001b[0misinstance\u001b[0m\u001b[1;33m(\u001b[0m\u001b[0mvalue\u001b[0m\u001b[1;33m,\u001b[0m \u001b[0mlist\u001b[0m\u001b[1;33m)\u001b[0m \u001b[1;32mand\u001b[0m \u001b[0mlen\u001b[0m\u001b[1;33m(\u001b[0m\u001b[0mvalue\u001b[0m\u001b[1;33m)\u001b[0m \u001b[1;33m>\u001b[0m \u001b[1;36m0\u001b[0m\u001b[1;33m:\u001b[0m\u001b[1;33m\u001b[0m\u001b[0m\n",
      "\u001b[1;32m/usr/local/python3/miniconda/lib/python3.4/site-packages/pandas-0.16.2_9_g7636c2c-py3.4-linux-x86_64.egg/pandas/core/series.py\u001b[0m in \u001b[0;36m_sanitize_index\u001b[1;34m(data, index, copy)\u001b[0m\n\u001b[0;32m   2577\u001b[0m \u001b[1;33m\u001b[0m\u001b[0m\n\u001b[0;32m   2578\u001b[0m     \u001b[1;32mif\u001b[0m \u001b[0mlen\u001b[0m\u001b[1;33m(\u001b[0m\u001b[0mdata\u001b[0m\u001b[1;33m)\u001b[0m \u001b[1;33m!=\u001b[0m \u001b[0mlen\u001b[0m\u001b[1;33m(\u001b[0m\u001b[0mindex\u001b[0m\u001b[1;33m)\u001b[0m\u001b[1;33m:\u001b[0m\u001b[1;33m\u001b[0m\u001b[0m\n\u001b[1;32m-> 2579\u001b[1;33m         raise ValueError('Length of values does not match length of '\n\u001b[0m\u001b[0;32m   2580\u001b[0m                          'index')\n\u001b[0;32m   2581\u001b[0m \u001b[1;33m\u001b[0m\u001b[0m\n",
      "\u001b[1;31mValueError\u001b[0m: Length of values does not match length of index"
     ]
    }
   ],
   "source": [
    "process_fname(fnames[1])"
   ]
  },
  {
   "cell_type": "code",
   "execution_count": 20,
   "metadata": {
    "collapsed": false
   },
   "outputs": [],
   "source": [
    "results = lview.map_async(process_fname, fnames[:8])"
   ]
  },
  {
   "cell_type": "code",
   "execution_count": 7,
   "metadata": {
    "collapsed": false
   },
   "outputs": [
    {
     "name": "stderr",
     "output_type": "stream",
     "text": [
      "WARNING:py.warnings::0: FutureWarning: IPython widgets are experimental and may change in the future.\n",
      "\n"
     ]
    }
   ],
   "source": [
    "from iuvs.multitools import nb_progress_display"
   ]
  },
  {
   "cell_type": "code",
   "execution_count": 21,
   "metadata": {
    "collapsed": false
   },
   "outputs": [],
   "source": [
    "nb_progress_display(results, fnames)"
   ]
  },
  {
   "cell_type": "code",
   "execution_count": 22,
   "metadata": {
    "collapsed": false,
    "scrolled": false
   },
   "outputs": [
    {
     "ename": "CompositeError",
     "evalue": "one or more exceptions from call to method: process_fname\n[4:apply]: ValueError: Length of values does not match length of index\n[0:apply]: ValueError: Length of values does not match length of index\n[1:apply]: ValueError: Length of values does not match length of index",
     "output_type": "error",
     "traceback": [
      "[4:apply]: ",
      "\u001b[1;31m---------------------------------------------------------------------------\u001b[0m\u001b[1;31mValueError\u001b[0m                                Traceback (most recent call last)\u001b[1;32m<string>\u001b[0m in \u001b[0;36m<module>\u001b[1;34m()\u001b[0m",
      "\u001b[1;32m/usr/local/python3/miniconda/lib/python3.4/site-packages/IPython/parallel/client/remotefunction.py\u001b[0m in \u001b[0;36m<lambda>\u001b[1;34m(f, *sequences)\u001b[0m",
      "\u001b[0;32m    232\u001b[0m             \u001b[1;32mif\u001b[0m \u001b[0mself\u001b[0m\u001b[1;33m.\u001b[0m\u001b[0m_mapping\u001b[0m\u001b[1;33m:\u001b[0m\u001b[1;33m\u001b[0m\u001b[0m",
      "\u001b[0;32m    233\u001b[0m                 \u001b[1;32mif\u001b[0m \u001b[0msys\u001b[0m\u001b[1;33m.\u001b[0m\u001b[0mversion_info\u001b[0m\u001b[1;33m[\u001b[0m\u001b[1;36m0\u001b[0m\u001b[1;33m]\u001b[0m \u001b[1;33m>=\u001b[0m \u001b[1;36m3\u001b[0m\u001b[1;33m:\u001b[0m\u001b[1;33m\u001b[0m\u001b[0m",
      "\u001b[1;32m--> 234\u001b[1;33m                     \u001b[0mf\u001b[0m \u001b[1;33m=\u001b[0m \u001b[1;32mlambda\u001b[0m \u001b[0mf\u001b[0m\u001b[1;33m,\u001b[0m \u001b[1;33m*\u001b[0m\u001b[0msequences\u001b[0m\u001b[1;33m:\u001b[0m \u001b[0mlist\u001b[0m\u001b[1;33m(\u001b[0m\u001b[0mmap\u001b[0m\u001b[1;33m(\u001b[0m\u001b[0mf\u001b[0m\u001b[1;33m,\u001b[0m \u001b[1;33m*\u001b[0m\u001b[0msequences\u001b[0m\u001b[1;33m)\u001b[0m\u001b[1;33m)\u001b[0m\u001b[1;33m\u001b[0m\u001b[0m",
      "\u001b[0m\u001b[0;32m    235\u001b[0m                 \u001b[1;32melse\u001b[0m\u001b[1;33m:\u001b[0m\u001b[1;33m\u001b[0m\u001b[0m",
      "\u001b[0;32m    236\u001b[0m                     \u001b[0mf\u001b[0m \u001b[1;33m=\u001b[0m \u001b[0mmap\u001b[0m\u001b[1;33m\u001b[0m\u001b[0m",
      "\u001b[1;32m<ipython-input-19-38d1de5f5f6f>\u001b[0m in \u001b[0;36mprocess_fname\u001b[1;34m(fname)\u001b[0m",
      "\u001b[1;32m/usr/local/python3/miniconda/lib/python3.4/site-packages/pandas-0.16.2_9_g7636c2c-py3.4-linux-x86_64.egg/pandas/core/frame.py\u001b[0m in \u001b[0;36m__setitem__\u001b[1;34m(self, key, value)\u001b[0m",
      "\u001b[0;32m   2125\u001b[0m         \u001b[1;32melse\u001b[0m\u001b[1;33m:\u001b[0m\u001b[1;33m\u001b[0m\u001b[0m",
      "\u001b[0;32m   2126\u001b[0m             \u001b[1;31m# set column\u001b[0m\u001b[1;33m\u001b[0m\u001b[1;33m\u001b[0m\u001b[0m",
      "\u001b[1;32m-> 2127\u001b[1;33m             \u001b[0mself\u001b[0m\u001b[1;33m.\u001b[0m\u001b[0m_set_item\u001b[0m\u001b[1;33m(\u001b[0m\u001b[0mkey\u001b[0m\u001b[1;33m,\u001b[0m \u001b[0mvalue\u001b[0m\u001b[1;33m)\u001b[0m\u001b[1;33m\u001b[0m\u001b[0m",
      "\u001b[0m\u001b[0;32m   2128\u001b[0m \u001b[1;33m\u001b[0m\u001b[0m",
      "\u001b[0;32m   2129\u001b[0m     \u001b[1;32mdef\u001b[0m \u001b[0m_setitem_slice\u001b[0m\u001b[1;33m(\u001b[0m\u001b[0mself\u001b[0m\u001b[1;33m,\u001b[0m \u001b[0mkey\u001b[0m\u001b[1;33m,\u001b[0m \u001b[0mvalue\u001b[0m\u001b[1;33m)\u001b[0m\u001b[1;33m:\u001b[0m\u001b[1;33m\u001b[0m\u001b[0m",
      "\u001b[1;32m/usr/local/python3/miniconda/lib/python3.4/site-packages/pandas-0.16.2_9_g7636c2c-py3.4-linux-x86_64.egg/pandas/core/frame.py\u001b[0m in \u001b[0;36m_set_item\u001b[1;34m(self, key, value)\u001b[0m",
      "\u001b[0;32m   2202\u001b[0m \u001b[1;33m\u001b[0m\u001b[0m",
      "\u001b[0;32m   2203\u001b[0m         \u001b[0mself\u001b[0m\u001b[1;33m.\u001b[0m\u001b[0m_ensure_valid_index\u001b[0m\u001b[1;33m(\u001b[0m\u001b[0mvalue\u001b[0m\u001b[1;33m)\u001b[0m\u001b[1;33m\u001b[0m\u001b[0m",
      "\u001b[1;32m-> 2204\u001b[1;33m         \u001b[0mvalue\u001b[0m \u001b[1;33m=\u001b[0m \u001b[0mself\u001b[0m\u001b[1;33m.\u001b[0m\u001b[0m_sanitize_column\u001b[0m\u001b[1;33m(\u001b[0m\u001b[0mkey\u001b[0m\u001b[1;33m,\u001b[0m \u001b[0mvalue\u001b[0m\u001b[1;33m)\u001b[0m\u001b[1;33m\u001b[0m\u001b[0m",
      "\u001b[0m\u001b[0;32m   2205\u001b[0m         \u001b[0mNDFrame\u001b[0m\u001b[1;33m.\u001b[0m\u001b[0m_set_item\u001b[0m\u001b[1;33m(\u001b[0m\u001b[0mself\u001b[0m\u001b[1;33m,\u001b[0m \u001b[0mkey\u001b[0m\u001b[1;33m,\u001b[0m \u001b[0mvalue\u001b[0m\u001b[1;33m)\u001b[0m\u001b[1;33m\u001b[0m\u001b[0m",
      "\u001b[0;32m   2206\u001b[0m \u001b[1;33m\u001b[0m\u001b[0m",
      "\u001b[1;32m/usr/local/python3/miniconda/lib/python3.4/site-packages/pandas-0.16.2_9_g7636c2c-py3.4-linux-x86_64.egg/pandas/core/frame.py\u001b[0m in \u001b[0;36m_sanitize_column\u001b[1;34m(self, key, value)\u001b[0m",
      "\u001b[0;32m   2360\u001b[0m \u001b[1;33m\u001b[0m\u001b[0m",
      "\u001b[0;32m   2361\u001b[0m             \u001b[1;31m# turn me into an ndarray\u001b[0m\u001b[1;33m\u001b[0m\u001b[1;33m\u001b[0m\u001b[0m",
      "\u001b[1;32m-> 2362\u001b[1;33m             \u001b[0mvalue\u001b[0m \u001b[1;33m=\u001b[0m \u001b[0m_sanitize_index\u001b[0m\u001b[1;33m(\u001b[0m\u001b[0mvalue\u001b[0m\u001b[1;33m,\u001b[0m \u001b[0mself\u001b[0m\u001b[1;33m.\u001b[0m\u001b[0mindex\u001b[0m\u001b[1;33m,\u001b[0m \u001b[0mcopy\u001b[0m\u001b[1;33m=\u001b[0m\u001b[1;32mFalse\u001b[0m\u001b[1;33m)\u001b[0m\u001b[1;33m\u001b[0m\u001b[0m",
      "\u001b[0m\u001b[0;32m   2363\u001b[0m             \u001b[1;32mif\u001b[0m \u001b[1;32mnot\u001b[0m \u001b[0misinstance\u001b[0m\u001b[1;33m(\u001b[0m\u001b[0mvalue\u001b[0m\u001b[1;33m,\u001b[0m \u001b[1;33m(\u001b[0m\u001b[0mnp\u001b[0m\u001b[1;33m.\u001b[0m\u001b[0mndarray\u001b[0m\u001b[1;33m,\u001b[0m \u001b[0mIndex\u001b[0m\u001b[1;33m)\u001b[0m\u001b[1;33m)\u001b[0m\u001b[1;33m:\u001b[0m\u001b[1;33m\u001b[0m\u001b[0m",
      "\u001b[0;32m   2364\u001b[0m                 \u001b[1;32mif\u001b[0m \u001b[0misinstance\u001b[0m\u001b[1;33m(\u001b[0m\u001b[0mvalue\u001b[0m\u001b[1;33m,\u001b[0m \u001b[0mlist\u001b[0m\u001b[1;33m)\u001b[0m \u001b[1;32mand\u001b[0m \u001b[0mlen\u001b[0m\u001b[1;33m(\u001b[0m\u001b[0mvalue\u001b[0m\u001b[1;33m)\u001b[0m \u001b[1;33m>\u001b[0m \u001b[1;36m0\u001b[0m\u001b[1;33m:\u001b[0m\u001b[1;33m\u001b[0m\u001b[0m",
      "\u001b[1;32m/usr/local/python3/miniconda/lib/python3.4/site-packages/pandas-0.16.2_9_g7636c2c-py3.4-linux-x86_64.egg/pandas/core/series.py\u001b[0m in \u001b[0;36m_sanitize_index\u001b[1;34m(data, index, copy)\u001b[0m",
      "\u001b[0;32m   2577\u001b[0m \u001b[1;33m\u001b[0m\u001b[0m",
      "\u001b[0;32m   2578\u001b[0m     \u001b[1;32mif\u001b[0m \u001b[0mlen\u001b[0m\u001b[1;33m(\u001b[0m\u001b[0mdata\u001b[0m\u001b[1;33m)\u001b[0m \u001b[1;33m!=\u001b[0m \u001b[0mlen\u001b[0m\u001b[1;33m(\u001b[0m\u001b[0mindex\u001b[0m\u001b[1;33m)\u001b[0m\u001b[1;33m:\u001b[0m\u001b[1;33m\u001b[0m\u001b[0m",
      "\u001b[1;32m-> 2579\u001b[1;33m         raise ValueError('Length of values does not match length of '",
      "\u001b[0m\u001b[0;32m   2580\u001b[0m                          'index')",
      "\u001b[0;32m   2581\u001b[0m \u001b[1;33m\u001b[0m\u001b[0m",
      "\u001b[1;31mValueError\u001b[0m: Length of values does not match length of index",
      "",
      "[0:apply]: ",
      "\u001b[1;31m---------------------------------------------------------------------------\u001b[0m\u001b[1;31mValueError\u001b[0m                                Traceback (most recent call last)\u001b[1;32m<string>\u001b[0m in \u001b[0;36m<module>\u001b[1;34m()\u001b[0m",
      "\u001b[1;32m/usr/local/python3/miniconda/lib/python3.4/site-packages/IPython/parallel/client/remotefunction.py\u001b[0m in \u001b[0;36m<lambda>\u001b[1;34m(f, *sequences)\u001b[0m",
      "\u001b[0;32m    232\u001b[0m             \u001b[1;32mif\u001b[0m \u001b[0mself\u001b[0m\u001b[1;33m.\u001b[0m\u001b[0m_mapping\u001b[0m\u001b[1;33m:\u001b[0m\u001b[1;33m\u001b[0m\u001b[0m",
      "\u001b[0;32m    233\u001b[0m                 \u001b[1;32mif\u001b[0m \u001b[0msys\u001b[0m\u001b[1;33m.\u001b[0m\u001b[0mversion_info\u001b[0m\u001b[1;33m[\u001b[0m\u001b[1;36m0\u001b[0m\u001b[1;33m]\u001b[0m \u001b[1;33m>=\u001b[0m \u001b[1;36m3\u001b[0m\u001b[1;33m:\u001b[0m\u001b[1;33m\u001b[0m\u001b[0m",
      "\u001b[1;32m--> 234\u001b[1;33m                     \u001b[0mf\u001b[0m \u001b[1;33m=\u001b[0m \u001b[1;32mlambda\u001b[0m \u001b[0mf\u001b[0m\u001b[1;33m,\u001b[0m \u001b[1;33m*\u001b[0m\u001b[0msequences\u001b[0m\u001b[1;33m:\u001b[0m \u001b[0mlist\u001b[0m\u001b[1;33m(\u001b[0m\u001b[0mmap\u001b[0m\u001b[1;33m(\u001b[0m\u001b[0mf\u001b[0m\u001b[1;33m,\u001b[0m \u001b[1;33m*\u001b[0m\u001b[0msequences\u001b[0m\u001b[1;33m)\u001b[0m\u001b[1;33m)\u001b[0m\u001b[1;33m\u001b[0m\u001b[0m",
      "\u001b[0m\u001b[0;32m    235\u001b[0m                 \u001b[1;32melse\u001b[0m\u001b[1;33m:\u001b[0m\u001b[1;33m\u001b[0m\u001b[0m",
      "\u001b[0;32m    236\u001b[0m                     \u001b[0mf\u001b[0m \u001b[1;33m=\u001b[0m \u001b[0mmap\u001b[0m\u001b[1;33m\u001b[0m\u001b[0m",
      "\u001b[1;32m<ipython-input-19-38d1de5f5f6f>\u001b[0m in \u001b[0;36mprocess_fname\u001b[1;34m(fname)\u001b[0m",
      "\u001b[1;32m/usr/local/python3/miniconda/lib/python3.4/site-packages/pandas-0.16.2_9_g7636c2c-py3.4-linux-x86_64.egg/pandas/core/frame.py\u001b[0m in \u001b[0;36m__setitem__\u001b[1;34m(self, key, value)\u001b[0m",
      "\u001b[0;32m   2125\u001b[0m         \u001b[1;32melse\u001b[0m\u001b[1;33m:\u001b[0m\u001b[1;33m\u001b[0m\u001b[0m",
      "\u001b[0;32m   2126\u001b[0m             \u001b[1;31m# set column\u001b[0m\u001b[1;33m\u001b[0m\u001b[1;33m\u001b[0m\u001b[0m",
      "\u001b[1;32m-> 2127\u001b[1;33m             \u001b[0mself\u001b[0m\u001b[1;33m.\u001b[0m\u001b[0m_set_item\u001b[0m\u001b[1;33m(\u001b[0m\u001b[0mkey\u001b[0m\u001b[1;33m,\u001b[0m \u001b[0mvalue\u001b[0m\u001b[1;33m)\u001b[0m\u001b[1;33m\u001b[0m\u001b[0m",
      "\u001b[0m\u001b[0;32m   2128\u001b[0m \u001b[1;33m\u001b[0m\u001b[0m",
      "\u001b[0;32m   2129\u001b[0m     \u001b[1;32mdef\u001b[0m \u001b[0m_setitem_slice\u001b[0m\u001b[1;33m(\u001b[0m\u001b[0mself\u001b[0m\u001b[1;33m,\u001b[0m \u001b[0mkey\u001b[0m\u001b[1;33m,\u001b[0m \u001b[0mvalue\u001b[0m\u001b[1;33m)\u001b[0m\u001b[1;33m:\u001b[0m\u001b[1;33m\u001b[0m\u001b[0m",
      "\u001b[1;32m/usr/local/python3/miniconda/lib/python3.4/site-packages/pandas-0.16.2_9_g7636c2c-py3.4-linux-x86_64.egg/pandas/core/frame.py\u001b[0m in \u001b[0;36m_set_item\u001b[1;34m(self, key, value)\u001b[0m",
      "\u001b[0;32m   2202\u001b[0m \u001b[1;33m\u001b[0m\u001b[0m",
      "\u001b[0;32m   2203\u001b[0m         \u001b[0mself\u001b[0m\u001b[1;33m.\u001b[0m\u001b[0m_ensure_valid_index\u001b[0m\u001b[1;33m(\u001b[0m\u001b[0mvalue\u001b[0m\u001b[1;33m)\u001b[0m\u001b[1;33m\u001b[0m\u001b[0m",
      "\u001b[1;32m-> 2204\u001b[1;33m         \u001b[0mvalue\u001b[0m \u001b[1;33m=\u001b[0m \u001b[0mself\u001b[0m\u001b[1;33m.\u001b[0m\u001b[0m_sanitize_column\u001b[0m\u001b[1;33m(\u001b[0m\u001b[0mkey\u001b[0m\u001b[1;33m,\u001b[0m \u001b[0mvalue\u001b[0m\u001b[1;33m)\u001b[0m\u001b[1;33m\u001b[0m\u001b[0m",
      "\u001b[0m\u001b[0;32m   2205\u001b[0m         \u001b[0mNDFrame\u001b[0m\u001b[1;33m.\u001b[0m\u001b[0m_set_item\u001b[0m\u001b[1;33m(\u001b[0m\u001b[0mself\u001b[0m\u001b[1;33m,\u001b[0m \u001b[0mkey\u001b[0m\u001b[1;33m,\u001b[0m \u001b[0mvalue\u001b[0m\u001b[1;33m)\u001b[0m\u001b[1;33m\u001b[0m\u001b[0m",
      "\u001b[0;32m   2206\u001b[0m \u001b[1;33m\u001b[0m\u001b[0m",
      "\u001b[1;32m/usr/local/python3/miniconda/lib/python3.4/site-packages/pandas-0.16.2_9_g7636c2c-py3.4-linux-x86_64.egg/pandas/core/frame.py\u001b[0m in \u001b[0;36m_sanitize_column\u001b[1;34m(self, key, value)\u001b[0m",
      "\u001b[0;32m   2360\u001b[0m \u001b[1;33m\u001b[0m\u001b[0m",
      "\u001b[0;32m   2361\u001b[0m             \u001b[1;31m# turn me into an ndarray\u001b[0m\u001b[1;33m\u001b[0m\u001b[1;33m\u001b[0m\u001b[0m",
      "\u001b[1;32m-> 2362\u001b[1;33m             \u001b[0mvalue\u001b[0m \u001b[1;33m=\u001b[0m \u001b[0m_sanitize_index\u001b[0m\u001b[1;33m(\u001b[0m\u001b[0mvalue\u001b[0m\u001b[1;33m,\u001b[0m \u001b[0mself\u001b[0m\u001b[1;33m.\u001b[0m\u001b[0mindex\u001b[0m\u001b[1;33m,\u001b[0m \u001b[0mcopy\u001b[0m\u001b[1;33m=\u001b[0m\u001b[1;32mFalse\u001b[0m\u001b[1;33m)\u001b[0m\u001b[1;33m\u001b[0m\u001b[0m",
      "\u001b[0m\u001b[0;32m   2363\u001b[0m             \u001b[1;32mif\u001b[0m \u001b[1;32mnot\u001b[0m \u001b[0misinstance\u001b[0m\u001b[1;33m(\u001b[0m\u001b[0mvalue\u001b[0m\u001b[1;33m,\u001b[0m \u001b[1;33m(\u001b[0m\u001b[0mnp\u001b[0m\u001b[1;33m.\u001b[0m\u001b[0mndarray\u001b[0m\u001b[1;33m,\u001b[0m \u001b[0mIndex\u001b[0m\u001b[1;33m)\u001b[0m\u001b[1;33m)\u001b[0m\u001b[1;33m:\u001b[0m\u001b[1;33m\u001b[0m\u001b[0m",
      "\u001b[0;32m   2364\u001b[0m                 \u001b[1;32mif\u001b[0m \u001b[0misinstance\u001b[0m\u001b[1;33m(\u001b[0m\u001b[0mvalue\u001b[0m\u001b[1;33m,\u001b[0m \u001b[0mlist\u001b[0m\u001b[1;33m)\u001b[0m \u001b[1;32mand\u001b[0m \u001b[0mlen\u001b[0m\u001b[1;33m(\u001b[0m\u001b[0mvalue\u001b[0m\u001b[1;33m)\u001b[0m \u001b[1;33m>\u001b[0m \u001b[1;36m0\u001b[0m\u001b[1;33m:\u001b[0m\u001b[1;33m\u001b[0m\u001b[0m",
      "\u001b[1;32m/usr/local/python3/miniconda/lib/python3.4/site-packages/pandas-0.16.2_9_g7636c2c-py3.4-linux-x86_64.egg/pandas/core/series.py\u001b[0m in \u001b[0;36m_sanitize_index\u001b[1;34m(data, index, copy)\u001b[0m",
      "\u001b[0;32m   2577\u001b[0m \u001b[1;33m\u001b[0m\u001b[0m",
      "\u001b[0;32m   2578\u001b[0m     \u001b[1;32mif\u001b[0m \u001b[0mlen\u001b[0m\u001b[1;33m(\u001b[0m\u001b[0mdata\u001b[0m\u001b[1;33m)\u001b[0m \u001b[1;33m!=\u001b[0m \u001b[0mlen\u001b[0m\u001b[1;33m(\u001b[0m\u001b[0mindex\u001b[0m\u001b[1;33m)\u001b[0m\u001b[1;33m:\u001b[0m\u001b[1;33m\u001b[0m\u001b[0m",
      "\u001b[1;32m-> 2579\u001b[1;33m         raise ValueError('Length of values does not match length of '",
      "\u001b[0m\u001b[0;32m   2580\u001b[0m                          'index')",
      "\u001b[0;32m   2581\u001b[0m \u001b[1;33m\u001b[0m\u001b[0m",
      "\u001b[1;31mValueError\u001b[0m: Length of values does not match length of index",
      "",
      "[1:apply]: ",
      "\u001b[1;31m---------------------------------------------------------------------------\u001b[0m\u001b[1;31mValueError\u001b[0m                                Traceback (most recent call last)\u001b[1;32m<string>\u001b[0m in \u001b[0;36m<module>\u001b[1;34m()\u001b[0m",
      "\u001b[1;32m/usr/local/python3/miniconda/lib/python3.4/site-packages/IPython/parallel/client/remotefunction.py\u001b[0m in \u001b[0;36m<lambda>\u001b[1;34m(f, *sequences)\u001b[0m",
      "\u001b[0;32m    232\u001b[0m             \u001b[1;32mif\u001b[0m \u001b[0mself\u001b[0m\u001b[1;33m.\u001b[0m\u001b[0m_mapping\u001b[0m\u001b[1;33m:\u001b[0m\u001b[1;33m\u001b[0m\u001b[0m",
      "\u001b[0;32m    233\u001b[0m                 \u001b[1;32mif\u001b[0m \u001b[0msys\u001b[0m\u001b[1;33m.\u001b[0m\u001b[0mversion_info\u001b[0m\u001b[1;33m[\u001b[0m\u001b[1;36m0\u001b[0m\u001b[1;33m]\u001b[0m \u001b[1;33m>=\u001b[0m \u001b[1;36m3\u001b[0m\u001b[1;33m:\u001b[0m\u001b[1;33m\u001b[0m\u001b[0m",
      "\u001b[1;32m--> 234\u001b[1;33m                     \u001b[0mf\u001b[0m \u001b[1;33m=\u001b[0m \u001b[1;32mlambda\u001b[0m \u001b[0mf\u001b[0m\u001b[1;33m,\u001b[0m \u001b[1;33m*\u001b[0m\u001b[0msequences\u001b[0m\u001b[1;33m:\u001b[0m \u001b[0mlist\u001b[0m\u001b[1;33m(\u001b[0m\u001b[0mmap\u001b[0m\u001b[1;33m(\u001b[0m\u001b[0mf\u001b[0m\u001b[1;33m,\u001b[0m \u001b[1;33m*\u001b[0m\u001b[0msequences\u001b[0m\u001b[1;33m)\u001b[0m\u001b[1;33m)\u001b[0m\u001b[1;33m\u001b[0m\u001b[0m",
      "\u001b[0m\u001b[0;32m    235\u001b[0m                 \u001b[1;32melse\u001b[0m\u001b[1;33m:\u001b[0m\u001b[1;33m\u001b[0m\u001b[0m",
      "\u001b[0;32m    236\u001b[0m                     \u001b[0mf\u001b[0m \u001b[1;33m=\u001b[0m \u001b[0mmap\u001b[0m\u001b[1;33m\u001b[0m\u001b[0m",
      "\u001b[1;32m<ipython-input-19-38d1de5f5f6f>\u001b[0m in \u001b[0;36mprocess_fname\u001b[1;34m(fname)\u001b[0m",
      "\u001b[1;32m/usr/local/python3/miniconda/lib/python3.4/site-packages/pandas-0.16.2_9_g7636c2c-py3.4-linux-x86_64.egg/pandas/core/frame.py\u001b[0m in \u001b[0;36m__setitem__\u001b[1;34m(self, key, value)\u001b[0m",
      "\u001b[0;32m   2125\u001b[0m         \u001b[1;32melse\u001b[0m\u001b[1;33m:\u001b[0m\u001b[1;33m\u001b[0m\u001b[0m",
      "\u001b[0;32m   2126\u001b[0m             \u001b[1;31m# set column\u001b[0m\u001b[1;33m\u001b[0m\u001b[1;33m\u001b[0m\u001b[0m",
      "\u001b[1;32m-> 2127\u001b[1;33m             \u001b[0mself\u001b[0m\u001b[1;33m.\u001b[0m\u001b[0m_set_item\u001b[0m\u001b[1;33m(\u001b[0m\u001b[0mkey\u001b[0m\u001b[1;33m,\u001b[0m \u001b[0mvalue\u001b[0m\u001b[1;33m)\u001b[0m\u001b[1;33m\u001b[0m\u001b[0m",
      "\u001b[0m\u001b[0;32m   2128\u001b[0m \u001b[1;33m\u001b[0m\u001b[0m",
      "\u001b[0;32m   2129\u001b[0m     \u001b[1;32mdef\u001b[0m \u001b[0m_setitem_slice\u001b[0m\u001b[1;33m(\u001b[0m\u001b[0mself\u001b[0m\u001b[1;33m,\u001b[0m \u001b[0mkey\u001b[0m\u001b[1;33m,\u001b[0m \u001b[0mvalue\u001b[0m\u001b[1;33m)\u001b[0m\u001b[1;33m:\u001b[0m\u001b[1;33m\u001b[0m\u001b[0m",
      "\u001b[1;32m/usr/local/python3/miniconda/lib/python3.4/site-packages/pandas-0.16.2_9_g7636c2c-py3.4-linux-x86_64.egg/pandas/core/frame.py\u001b[0m in \u001b[0;36m_set_item\u001b[1;34m(self, key, value)\u001b[0m",
      "\u001b[0;32m   2202\u001b[0m \u001b[1;33m\u001b[0m\u001b[0m",
      "\u001b[0;32m   2203\u001b[0m         \u001b[0mself\u001b[0m\u001b[1;33m.\u001b[0m\u001b[0m_ensure_valid_index\u001b[0m\u001b[1;33m(\u001b[0m\u001b[0mvalue\u001b[0m\u001b[1;33m)\u001b[0m\u001b[1;33m\u001b[0m\u001b[0m",
      "\u001b[1;32m-> 2204\u001b[1;33m         \u001b[0mvalue\u001b[0m \u001b[1;33m=\u001b[0m \u001b[0mself\u001b[0m\u001b[1;33m.\u001b[0m\u001b[0m_sanitize_column\u001b[0m\u001b[1;33m(\u001b[0m\u001b[0mkey\u001b[0m\u001b[1;33m,\u001b[0m \u001b[0mvalue\u001b[0m\u001b[1;33m)\u001b[0m\u001b[1;33m\u001b[0m\u001b[0m",
      "\u001b[0m\u001b[0;32m   2205\u001b[0m         \u001b[0mNDFrame\u001b[0m\u001b[1;33m.\u001b[0m\u001b[0m_set_item\u001b[0m\u001b[1;33m(\u001b[0m\u001b[0mself\u001b[0m\u001b[1;33m,\u001b[0m \u001b[0mkey\u001b[0m\u001b[1;33m,\u001b[0m \u001b[0mvalue\u001b[0m\u001b[1;33m)\u001b[0m\u001b[1;33m\u001b[0m\u001b[0m",
      "\u001b[0;32m   2206\u001b[0m \u001b[1;33m\u001b[0m\u001b[0m",
      "\u001b[1;32m/usr/local/python3/miniconda/lib/python3.4/site-packages/pandas-0.16.2_9_g7636c2c-py3.4-linux-x86_64.egg/pandas/core/frame.py\u001b[0m in \u001b[0;36m_sanitize_column\u001b[1;34m(self, key, value)\u001b[0m",
      "\u001b[0;32m   2360\u001b[0m \u001b[1;33m\u001b[0m\u001b[0m",
      "\u001b[0;32m   2361\u001b[0m             \u001b[1;31m# turn me into an ndarray\u001b[0m\u001b[1;33m\u001b[0m\u001b[1;33m\u001b[0m\u001b[0m",
      "\u001b[1;32m-> 2362\u001b[1;33m             \u001b[0mvalue\u001b[0m \u001b[1;33m=\u001b[0m \u001b[0m_sanitize_index\u001b[0m\u001b[1;33m(\u001b[0m\u001b[0mvalue\u001b[0m\u001b[1;33m,\u001b[0m \u001b[0mself\u001b[0m\u001b[1;33m.\u001b[0m\u001b[0mindex\u001b[0m\u001b[1;33m,\u001b[0m \u001b[0mcopy\u001b[0m\u001b[1;33m=\u001b[0m\u001b[1;32mFalse\u001b[0m\u001b[1;33m)\u001b[0m\u001b[1;33m\u001b[0m\u001b[0m",
      "\u001b[0m\u001b[0;32m   2363\u001b[0m             \u001b[1;32mif\u001b[0m \u001b[1;32mnot\u001b[0m \u001b[0misinstance\u001b[0m\u001b[1;33m(\u001b[0m\u001b[0mvalue\u001b[0m\u001b[1;33m,\u001b[0m \u001b[1;33m(\u001b[0m\u001b[0mnp\u001b[0m\u001b[1;33m.\u001b[0m\u001b[0mndarray\u001b[0m\u001b[1;33m,\u001b[0m \u001b[0mIndex\u001b[0m\u001b[1;33m)\u001b[0m\u001b[1;33m)\u001b[0m\u001b[1;33m:\u001b[0m\u001b[1;33m\u001b[0m\u001b[0m",
      "\u001b[0;32m   2364\u001b[0m                 \u001b[1;32mif\u001b[0m \u001b[0misinstance\u001b[0m\u001b[1;33m(\u001b[0m\u001b[0mvalue\u001b[0m\u001b[1;33m,\u001b[0m \u001b[0mlist\u001b[0m\u001b[1;33m)\u001b[0m \u001b[1;32mand\u001b[0m \u001b[0mlen\u001b[0m\u001b[1;33m(\u001b[0m\u001b[0mvalue\u001b[0m\u001b[1;33m)\u001b[0m \u001b[1;33m>\u001b[0m \u001b[1;36m0\u001b[0m\u001b[1;33m:\u001b[0m\u001b[1;33m\u001b[0m\u001b[0m",
      "\u001b[1;32m/usr/local/python3/miniconda/lib/python3.4/site-packages/pandas-0.16.2_9_g7636c2c-py3.4-linux-x86_64.egg/pandas/core/series.py\u001b[0m in \u001b[0;36m_sanitize_index\u001b[1;34m(data, index, copy)\u001b[0m",
      "\u001b[0;32m   2577\u001b[0m \u001b[1;33m\u001b[0m\u001b[0m",
      "\u001b[0;32m   2578\u001b[0m     \u001b[1;32mif\u001b[0m \u001b[0mlen\u001b[0m\u001b[1;33m(\u001b[0m\u001b[0mdata\u001b[0m\u001b[1;33m)\u001b[0m \u001b[1;33m!=\u001b[0m \u001b[0mlen\u001b[0m\u001b[1;33m(\u001b[0m\u001b[0mindex\u001b[0m\u001b[1;33m)\u001b[0m\u001b[1;33m:\u001b[0m\u001b[1;33m\u001b[0m\u001b[0m",
      "\u001b[1;32m-> 2579\u001b[1;33m         raise ValueError('Length of values does not match length of '",
      "\u001b[0m\u001b[0;32m   2580\u001b[0m                          'index')",
      "\u001b[0;32m   2581\u001b[0m \u001b[1;33m\u001b[0m\u001b[0m",
      "\u001b[1;31mValueError\u001b[0m: Length of values does not match length of index",
      ""
     ]
    }
   ],
   "source": [
    "naxis_not_2_or_3 = []\n",
    "good_ones = []\n",
    "n_ints_larger1 = []\n",
    "for res in results:\n",
    "    if res[1] == 1:\n",
    "        naxis_not_2_or_3.append(res[0])\n",
    "    elif res[1] == 2:\n",
    "        n_ints_larger1.append(res[0])\n",
    "    else:\n",
    "        good_ones.append(res[0])"
   ]
  },
  {
   "cell_type": "code",
   "execution_count": 45,
   "metadata": {
    "collapsed": false
   },
   "outputs": [
    {
     "data": {
      "text/plain": [
       "6"
      ]
     },
     "execution_count": 45,
     "metadata": {},
     "output_type": "execute_result"
    }
   ],
   "source": [
    "len(n_ints_larger1)"
   ]
  },
  {
   "cell_type": "code",
   "execution_count": 46,
   "metadata": {
    "collapsed": false
   },
   "outputs": [
    {
     "data": {
      "text/plain": [
       "5"
      ]
     },
     "execution_count": 46,
     "metadata": {},
     "output_type": "execute_result"
    }
   ],
   "source": [
    "len(naxis_not_2_or_3)"
   ]
  },
  {
   "cell_type": "code",
   "execution_count": 47,
   "metadata": {
    "collapsed": false
   },
   "outputs": [
    {
     "data": {
      "text/plain": [
       "['/maven_iuvs/stage/products/level1a/mvn_iuv_l1a_apoapse-orbit01243-muvdark_20150521T095658_v02_s01.fits.gz',\n",
       " '/maven_iuvs/stage/products/level1a/mvn_iuv_l1a_apoapse-orbit01236-muvdark_20150520T035347_v02_s01.fits.gz',\n",
       " '/maven_iuvs/stage/products/level1a/mvn_iuv_l1a_apoapse-orbit01236-fuvdark_20150520T035347_v02_s01.fits.gz',\n",
       " '/maven_iuvs/stage/products/level1a/mvn_iuv_l1a_apoapse-orbit01243-fuvdark_20150521T095658_v02_s01.fits.gz',\n",
       " '/maven_iuvs/stage/products/level1a/mvn_iuv_l1a_apoapse-orbit01243-fuvdark_20150521T104548_v02_s01.fits.gz',\n",
       " '/maven_iuvs/stage/products/level1a/mvn_iuv_l1a_apoapse-orbit01243-fuvdark_20150521T120507_v02_s01.fits.gz']"
      ]
     },
     "execution_count": 47,
     "metadata": {},
     "output_type": "execute_result"
    }
   ],
   "source": [
    "n_ints_larger1"
   ]
  },
  {
   "cell_type": "code",
   "execution_count": 59,
   "metadata": {
    "collapsed": false
   },
   "outputs": [],
   "source": [
    "results_df = pd.concat(good_ones, ignore_index=True)"
   ]
  },
  {
   "cell_type": "code",
   "execution_count": 60,
   "metadata": {
    "collapsed": false
   },
   "outputs": [
    {
     "data": {
      "text/html": [
       "<div>\n",
       "<table border=\"1\" class=\"dataframe\">\n",
       "  <thead>\n",
       "    <tr style=\"text-align: right;\">\n",
       "      <th></th>\n",
       "      <th>ANC_SVN_REVISION</th>\n",
       "      <th>BIN_PATTERN_INDEX</th>\n",
       "      <th>BIN_TBL</th>\n",
       "      <th>BITPIX</th>\n",
       "      <th>BLANK</th>\n",
       "      <th>BUNDLE_ID</th>\n",
       "      <th>CADENCE</th>\n",
       "      <th>CAPTURE</th>\n",
       "      <th>CASE_TEMP</th>\n",
       "      <th>CHANNEL</th>\n",
       "      <th>CODE_SVN_REVISION</th>\n",
       "      <th>COLLECTION_ID</th>\n",
       "      <th>DET_TEMP</th>\n",
       "      <th>DUTY_CYCLE</th>\n",
       "      <th>ET</th>\n",
       "      <th>EXTEND</th>\n",
       "      <th>FILENAME</th>\n",
       "      <th>FOV_DEG</th>\n",
       "      <th>GRATING_SELECT</th>\n",
       "      <th>INT_TIME</th>\n",
       "      <th>KEYHOLE_SELECT</th>\n",
       "      <th>LYA_CENTROID</th>\n",
       "      <th>MCP_VOLT</th>\n",
       "      <th>MIRROR_DEG</th>\n",
       "      <th>MIRROR_DN</th>\n",
       "      <th>MIR_DEG</th>\n",
       "      <th>MISSION_PHASE</th>\n",
       "      <th>NAXIS</th>\n",
       "      <th>NAXIS1</th>\n",
       "      <th>NAXIS2</th>\n",
       "      <th>NAXIS3</th>\n",
       "      <th>N_FILL</th>\n",
       "      <th>OBSERVATION_TYPE</th>\n",
       "      <th>OBS_ID</th>\n",
       "      <th>ORBIT_NUMBER</th>\n",
       "      <th>ORBIT_SEGMENT</th>\n",
       "      <th>PROCESS</th>\n",
       "      <th>PRODUCT_CREATION_DATE</th>\n",
       "      <th>PRODUCT_ID</th>\n",
       "      <th>SIMPLE</th>\n",
       "      <th>SOLAR_LONGITUDE</th>\n",
       "      <th>SPA_OFS</th>\n",
       "      <th>SPA_SIZE</th>\n",
       "      <th>SPE_OFS</th>\n",
       "      <th>SPE_SIZE</th>\n",
       "      <th>SW_VER</th>\n",
       "      <th>TARGET_NAME</th>\n",
       "      <th>TIMESTAMP</th>\n",
       "      <th>UTC</th>\n",
       "      <th>XUV</th>\n",
       "      <th>mean</th>\n",
       "      <th>median</th>\n",
       "      <th>std</th>\n",
       "    </tr>\n",
       "  </thead>\n",
       "  <tbody>\n",
       "    <tr>\n",
       "      <th>0</th>\n",
       "      <td>929</td>\n",
       "      <td>LINEAR linear_0004</td>\n",
       "      <td>LINEAR 5,6 linear_0004</td>\n",
       "      <td>32</td>\n",
       "      <td>-1</td>\n",
       "      <td>raw</td>\n",
       "      <td>4.8</td>\n",
       "      <td>2014/338 Dec 04 02:03:22.79468UTC</td>\n",
       "      <td>15972</td>\n",
       "      <td>FUV</td>\n",
       "      <td>929</td>\n",
       "      <td>limb</td>\n",
       "      <td>2594</td>\n",
       "      <td>1.000000</td>\n",
       "      <td>4.709307e+08</td>\n",
       "      <td>True</td>\n",
       "      <td>mvn_iuv_l1a_periapse-orbit00351-fuvdark_201412...</td>\n",
       "      <td>23.373413</td>\n",
       "      <td>LOWRES</td>\n",
       "      <td>4.2</td>\n",
       "      <td>NEITHER</td>\n",
       "      <td>1</td>\n",
       "      <td>-1.83</td>\n",
       "      <td>11.686707</td>\n",
       "      <td>17194</td>\n",
       "      <td>11.689</td>\n",
       "      <td>PRIME</td>\n",
       "      <td>2</td>\n",
       "      <td>256</td>\n",
       "      <td>7</td>\n",
       "      <td>NaN</td>\n",
       "      <td>0</td>\n",
       "      <td>CDS</td>\n",
       "      <td>4</td>\n",
       "      <td>351</td>\n",
       "      <td>0</td>\n",
       "      <td>2015/108 Apr 18 18:28:06.00000UTC</td>\n",
       "      <td>2015/108 Apr 18 18:28:06.00000UTC</td>\n",
       "      <td>mvn_iuv_l1a_periapse-orbit00351-fuvdark_201412...</td>\n",
       "      <td>True</td>\n",
       "      <td>245.792343</td>\n",
       "      <td>89</td>\n",
       "      <td>115</td>\n",
       "      <td>0</td>\n",
       "      <td>4</td>\n",
       "      <td>929</td>\n",
       "      <td>MARS</td>\n",
       "      <td>4.709306e+08</td>\n",
       "      <td>2014/338 Dec 04 02:03:22.79468UTC</td>\n",
       "      <td>FUV</td>\n",
       "      <td>1024.759487</td>\n",
       "      <td>993.5</td>\n",
       "      <td>242.897055</td>\n",
       "    </tr>\n",
       "    <tr>\n",
       "      <th>1</th>\n",
       "      <td>929</td>\n",
       "      <td>LINEAR linear_0006</td>\n",
       "      <td>LINEAR 5,6 linear_0006</td>\n",
       "      <td>32</td>\n",
       "      <td>-1</td>\n",
       "      <td>raw</td>\n",
       "      <td>4.8</td>\n",
       "      <td>2015/008 Jan 08 18:21:38.42850UTC</td>\n",
       "      <td>15964</td>\n",
       "      <td>FUV</td>\n",
       "      <td>929</td>\n",
       "      <td>limb</td>\n",
       "      <td>2600</td>\n",
       "      <td>1.000000</td>\n",
       "      <td>4.740134e+08</td>\n",
       "      <td>True</td>\n",
       "      <td>mvn_iuv_l1a_periapse-orbit00538-fuvdark_201501...</td>\n",
       "      <td>17.292480</td>\n",
       "      <td>LOWRES</td>\n",
       "      <td>4.2</td>\n",
       "      <td>NEITHER</td>\n",
       "      <td>1</td>\n",
       "      <td>-1.83</td>\n",
       "      <td>8.646240</td>\n",
       "      <td>16087</td>\n",
       "      <td>8.649</td>\n",
       "      <td>PRIME</td>\n",
       "      <td>3</td>\n",
       "      <td>256</td>\n",
       "      <td>7</td>\n",
       "      <td>2</td>\n",
       "      <td>0</td>\n",
       "      <td>CDS</td>\n",
       "      <td>6</td>\n",
       "      <td>538</td>\n",
       "      <td>0</td>\n",
       "      <td>2015/108 Apr 18 22:22:19.00000UTC</td>\n",
       "      <td>2015/108 Apr 18 22:22:19.00000UTC</td>\n",
       "      <td>mvn_iuv_l1a_periapse-orbit00538-fuvdark_201501...</td>\n",
       "      <td>True</td>\n",
       "      <td>268.399689</td>\n",
       "      <td>89</td>\n",
       "      <td>115</td>\n",
       "      <td>0</td>\n",
       "      <td>4</td>\n",
       "      <td>929</td>\n",
       "      <td>MARS</td>\n",
       "      <td>4.740133e+08</td>\n",
       "      <td>2015/008 Jan 08 18:21:38.42850UTC</td>\n",
       "      <td>FUV</td>\n",
       "      <td>1098.962612</td>\n",
       "      <td>1063.0</td>\n",
       "      <td>263.214653</td>\n",
       "    </tr>\n",
       "    <tr>\n",
       "      <th>2</th>\n",
       "      <td>929</td>\n",
       "      <td>LINEAR linear_0006</td>\n",
       "      <td>LINEAR 5,6 linear_0006</td>\n",
       "      <td>32</td>\n",
       "      <td>-1</td>\n",
       "      <td>raw</td>\n",
       "      <td>4.8</td>\n",
       "      <td>2015/008 Jan 08 18:21:38.42850UTC</td>\n",
       "      <td>15964</td>\n",
       "      <td>FUV</td>\n",
       "      <td>929</td>\n",
       "      <td>limb</td>\n",
       "      <td>2604</td>\n",
       "      <td>1.000000</td>\n",
       "      <td>4.740134e+08</td>\n",
       "      <td>True</td>\n",
       "      <td>mvn_iuv_l1a_periapse-orbit00538-fuvdark_201501...</td>\n",
       "      <td>17.292480</td>\n",
       "      <td>LOWRES</td>\n",
       "      <td>4.2</td>\n",
       "      <td>NEITHER</td>\n",
       "      <td>1</td>\n",
       "      <td>-1.83</td>\n",
       "      <td>8.646240</td>\n",
       "      <td>16087</td>\n",
       "      <td>8.649</td>\n",
       "      <td>PRIME</td>\n",
       "      <td>3</td>\n",
       "      <td>256</td>\n",
       "      <td>7</td>\n",
       "      <td>2</td>\n",
       "      <td>0</td>\n",
       "      <td>CDS</td>\n",
       "      <td>6</td>\n",
       "      <td>538</td>\n",
       "      <td>0</td>\n",
       "      <td>2015/108 Apr 18 22:22:19.00000UTC</td>\n",
       "      <td>2015/108 Apr 18 22:22:19.00000UTC</td>\n",
       "      <td>mvn_iuv_l1a_periapse-orbit00538-fuvdark_201501...</td>\n",
       "      <td>True</td>\n",
       "      <td>268.399689</td>\n",
       "      <td>89</td>\n",
       "      <td>115</td>\n",
       "      <td>0</td>\n",
       "      <td>4</td>\n",
       "      <td>929</td>\n",
       "      <td>MARS</td>\n",
       "      <td>4.740133e+08</td>\n",
       "      <td>2015/008 Jan 08 18:21:43.22849UTC</td>\n",
       "      <td>FUV</td>\n",
       "      <td>1012.230469</td>\n",
       "      <td>974.0</td>\n",
       "      <td>239.967113</td>\n",
       "    </tr>\n",
       "    <tr>\n",
       "      <th>3</th>\n",
       "      <td>929</td>\n",
       "      <td>LINEAR linear_0004</td>\n",
       "      <td>LINEAR 15,16 linear_0004</td>\n",
       "      <td>32</td>\n",
       "      <td>-1</td>\n",
       "      <td>raw</td>\n",
       "      <td>15.0</td>\n",
       "      <td>2014/336 Dec 02 05:40:46.04215UTC</td>\n",
       "      <td>15928</td>\n",
       "      <td>FUV</td>\n",
       "      <td>929</td>\n",
       "      <td>disk</td>\n",
       "      <td>2589</td>\n",
       "      <td>1.000000</td>\n",
       "      <td>4.707709e+08</td>\n",
       "      <td>True</td>\n",
       "      <td>mvn_iuv_l1a_apoapse-orbit00341-fuvdark_2014120...</td>\n",
       "      <td>65.797119</td>\n",
       "      <td>LOWRES</td>\n",
       "      <td>14.4</td>\n",
       "      <td>NEITHER</td>\n",
       "      <td>1</td>\n",
       "      <td>-1.83</td>\n",
       "      <td>32.898560</td>\n",
       "      <td>24917</td>\n",
       "      <td>32.901</td>\n",
       "      <td>PRIME</td>\n",
       "      <td>2</td>\n",
       "      <td>184</td>\n",
       "      <td>10</td>\n",
       "      <td>NaN</td>\n",
       "      <td>0</td>\n",
       "      <td>CDS</td>\n",
       "      <td>8196</td>\n",
       "      <td>341</td>\n",
       "      <td>0</td>\n",
       "      <td>2015/108 Apr 18 18:13:25.00000UTC</td>\n",
       "      <td>2015/108 Apr 18 18:13:25.00000UTC</td>\n",
       "      <td>mvn_iuv_l1a_apoapse-orbit00341-fuvdark_2014120...</td>\n",
       "      <td>True</td>\n",
       "      <td>244.619370</td>\n",
       "      <td>89</td>\n",
       "      <td>80</td>\n",
       "      <td>65</td>\n",
       "      <td>4</td>\n",
       "      <td>929</td>\n",
       "      <td>MARS</td>\n",
       "      <td>4.707708e+08</td>\n",
       "      <td>2014/336 Dec 02 05:40:46.04215UTC</td>\n",
       "      <td>FUV</td>\n",
       "      <td>1469.102174</td>\n",
       "      <td>1393.0</td>\n",
       "      <td>398.650876</td>\n",
       "    </tr>\n",
       "    <tr>\n",
       "      <th>4</th>\n",
       "      <td>929</td>\n",
       "      <td>LINEAR CSS_S4</td>\n",
       "      <td>LINEAR 17,18 CSS_S4</td>\n",
       "      <td>32</td>\n",
       "      <td>-1</td>\n",
       "      <td>raw</td>\n",
       "      <td>15.0</td>\n",
       "      <td>2014/291 Oct 18 17:54:10.74999UTC</td>\n",
       "      <td>15929</td>\n",
       "      <td>MUV</td>\n",
       "      <td>929:931M</td>\n",
       "      <td>disk</td>\n",
       "      <td>2572</td>\n",
       "      <td>0.200855</td>\n",
       "      <td>4.669269e+08</td>\n",
       "      <td>True</td>\n",
       "      <td>mvn_iuv_l1a_apoapse-orbit00109-muvdark_2014101...</td>\n",
       "      <td>65.797119</td>\n",
       "      <td>LOWRES</td>\n",
       "      <td>14.4</td>\n",
       "      <td>NEITHER</td>\n",
       "      <td>-1</td>\n",
       "      <td>-1.83</td>\n",
       "      <td>32.898560</td>\n",
       "      <td>24917</td>\n",
       "      <td>32.901</td>\n",
       "      <td>PRIME</td>\n",
       "      <td>2</td>\n",
       "      <td>30</td>\n",
       "      <td>10</td>\n",
       "      <td>NaN</td>\n",
       "      <td>0</td>\n",
       "      <td>CDS</td>\n",
       "      <td>2001</td>\n",
       "      <td>109</td>\n",
       "      <td>0</td>\n",
       "      <td>2015/115 Apr 25 03:58:15.00000UTC</td>\n",
       "      <td>2015/115 Apr 25 03:58:15.00000UTC</td>\n",
       "      <td>mvn_iuv_l1a_apoapse-orbit00109-muvdark_2014101...</td>\n",
       "      <td>True</td>\n",
       "      <td>216.717957</td>\n",
       "      <td>101</td>\n",
       "      <td>80</td>\n",
       "      <td>2</td>\n",
       "      <td>34</td>\n",
       "      <td>929:931M</td>\n",
       "      <td></td>\n",
       "      <td>4.669268e+08</td>\n",
       "      <td>2014/291 Oct 18 17:54:10.74999UTC</td>\n",
       "      <td>MUV</td>\n",
       "      <td>15498.593333</td>\n",
       "      <td>15320.0</td>\n",
       "      <td>1563.283871</td>\n",
       "    </tr>\n",
       "  </tbody>\n",
       "</table>\n",
       "</div>"
      ],
      "text/plain": [
       "  ANC_SVN_REVISION   BIN_PATTERN_INDEX                   BIN_TBL  BITPIX  \\\n",
       "0              929  LINEAR linear_0004    LINEAR 5,6 linear_0004      32   \n",
       "1              929  LINEAR linear_0006    LINEAR 5,6 linear_0006      32   \n",
       "2              929  LINEAR linear_0006    LINEAR 5,6 linear_0006      32   \n",
       "3              929  LINEAR linear_0004  LINEAR 15,16 linear_0004      32   \n",
       "4              929       LINEAR CSS_S4       LINEAR 17,18 CSS_S4      32   \n",
       "\n",
       "   BLANK BUNDLE_ID  CADENCE                            CAPTURE  CASE_TEMP  \\\n",
       "0     -1       raw      4.8  2014/338 Dec 04 02:03:22.79468UTC      15972   \n",
       "1     -1       raw      4.8  2015/008 Jan 08 18:21:38.42850UTC      15964   \n",
       "2     -1       raw      4.8  2015/008 Jan 08 18:21:38.42850UTC      15964   \n",
       "3     -1       raw     15.0  2014/336 Dec 02 05:40:46.04215UTC      15928   \n",
       "4     -1       raw     15.0  2014/291 Oct 18 17:54:10.74999UTC      15929   \n",
       "\n",
       "  CHANNEL CODE_SVN_REVISION COLLECTION_ID  DET_TEMP  DUTY_CYCLE            ET  \\\n",
       "0     FUV               929          limb      2594    1.000000  4.709307e+08   \n",
       "1     FUV               929          limb      2600    1.000000  4.740134e+08   \n",
       "2     FUV               929          limb      2604    1.000000  4.740134e+08   \n",
       "3     FUV               929          disk      2589    1.000000  4.707709e+08   \n",
       "4     MUV          929:931M          disk      2572    0.200855  4.669269e+08   \n",
       "\n",
       "  EXTEND                                           FILENAME    FOV_DEG  \\\n",
       "0   True  mvn_iuv_l1a_periapse-orbit00351-fuvdark_201412...  23.373413   \n",
       "1   True  mvn_iuv_l1a_periapse-orbit00538-fuvdark_201501...  17.292480   \n",
       "2   True  mvn_iuv_l1a_periapse-orbit00538-fuvdark_201501...  17.292480   \n",
       "3   True  mvn_iuv_l1a_apoapse-orbit00341-fuvdark_2014120...  65.797119   \n",
       "4   True  mvn_iuv_l1a_apoapse-orbit00109-muvdark_2014101...  65.797119   \n",
       "\n",
       "  GRATING_SELECT  INT_TIME KEYHOLE_SELECT  LYA_CENTROID  MCP_VOLT  MIRROR_DEG  \\\n",
       "0         LOWRES       4.2        NEITHER             1     -1.83   11.686707   \n",
       "1         LOWRES       4.2        NEITHER             1     -1.83    8.646240   \n",
       "2         LOWRES       4.2        NEITHER             1     -1.83    8.646240   \n",
       "3         LOWRES      14.4        NEITHER             1     -1.83   32.898560   \n",
       "4         LOWRES      14.4        NEITHER            -1     -1.83   32.898560   \n",
       "\n",
       "   MIRROR_DN  MIR_DEG MISSION_PHASE  NAXIS  NAXIS1  NAXIS2  NAXIS3  N_FILL  \\\n",
       "0      17194   11.689         PRIME      2     256       7     NaN       0   \n",
       "1      16087    8.649         PRIME      3     256       7       2       0   \n",
       "2      16087    8.649         PRIME      3     256       7       2       0   \n",
       "3      24917   32.901         PRIME      2     184      10     NaN       0   \n",
       "4      24917   32.901         PRIME      2      30      10     NaN       0   \n",
       "\n",
       "  OBSERVATION_TYPE  OBS_ID  ORBIT_NUMBER  ORBIT_SEGMENT  \\\n",
       "0              CDS       4           351              0   \n",
       "1              CDS       6           538              0   \n",
       "2              CDS       6           538              0   \n",
       "3              CDS    8196           341              0   \n",
       "4              CDS    2001           109              0   \n",
       "\n",
       "                             PROCESS              PRODUCT_CREATION_DATE  \\\n",
       "0  2015/108 Apr 18 18:28:06.00000UTC  2015/108 Apr 18 18:28:06.00000UTC   \n",
       "1  2015/108 Apr 18 22:22:19.00000UTC  2015/108 Apr 18 22:22:19.00000UTC   \n",
       "2  2015/108 Apr 18 22:22:19.00000UTC  2015/108 Apr 18 22:22:19.00000UTC   \n",
       "3  2015/108 Apr 18 18:13:25.00000UTC  2015/108 Apr 18 18:13:25.00000UTC   \n",
       "4  2015/115 Apr 25 03:58:15.00000UTC  2015/115 Apr 25 03:58:15.00000UTC   \n",
       "\n",
       "                                          PRODUCT_ID SIMPLE  SOLAR_LONGITUDE  \\\n",
       "0  mvn_iuv_l1a_periapse-orbit00351-fuvdark_201412...   True       245.792343   \n",
       "1  mvn_iuv_l1a_periapse-orbit00538-fuvdark_201501...   True       268.399689   \n",
       "2  mvn_iuv_l1a_periapse-orbit00538-fuvdark_201501...   True       268.399689   \n",
       "3  mvn_iuv_l1a_apoapse-orbit00341-fuvdark_2014120...   True       244.619370   \n",
       "4  mvn_iuv_l1a_apoapse-orbit00109-muvdark_2014101...   True       216.717957   \n",
       "\n",
       "   SPA_OFS  SPA_SIZE  SPE_OFS  SPE_SIZE    SW_VER TARGET_NAME     TIMESTAMP  \\\n",
       "0       89       115        0         4       929        MARS  4.709306e+08   \n",
       "1       89       115        0         4       929        MARS  4.740133e+08   \n",
       "2       89       115        0         4       929        MARS  4.740133e+08   \n",
       "3       89        80       65         4       929        MARS  4.707708e+08   \n",
       "4      101        80        2        34  929:931M              4.669268e+08   \n",
       "\n",
       "                                 UTC  XUV          mean   median          std  \n",
       "0  2014/338 Dec 04 02:03:22.79468UTC  FUV   1024.759487    993.5   242.897055  \n",
       "1  2015/008 Jan 08 18:21:38.42850UTC  FUV   1098.962612   1063.0   263.214653  \n",
       "2  2015/008 Jan 08 18:21:43.22849UTC  FUV   1012.230469    974.0   239.967113  \n",
       "3  2014/336 Dec 02 05:40:46.04215UTC  FUV   1469.102174   1393.0   398.650876  \n",
       "4  2014/291 Oct 18 17:54:10.74999UTC  MUV  15498.593333  15320.0  1563.283871  "
      ]
     },
     "execution_count": 60,
     "metadata": {},
     "output_type": "execute_result"
    }
   ],
   "source": [
    "results_df.head()"
   ]
  },
  {
   "cell_type": "code",
   "execution_count": 61,
   "metadata": {
    "collapsed": false
   },
   "outputs": [
    {
     "name": "stdout",
     "output_type": "stream",
     "text": [
      "<class 'pandas.core.frame.DataFrame'>\n",
      "Int64Index: 18826 entries, 0 to 18825\n",
      "Data columns (total 53 columns):\n",
      "ANC_SVN_REVISION         18826 non-null object\n",
      "BIN_PATTERN_INDEX        18826 non-null object\n",
      "BIN_TBL                  18826 non-null object\n",
      "BITPIX                   18826 non-null int64\n",
      "BLANK                    18826 non-null int64\n",
      "BUNDLE_ID                18826 non-null object\n",
      "CADENCE                  18826 non-null float64\n",
      "CAPTURE                  18826 non-null object\n",
      "CASE_TEMP                18826 non-null float64\n",
      "CHANNEL                  18826 non-null object\n",
      "CODE_SVN_REVISION        18826 non-null object\n",
      "COLLECTION_ID            18826 non-null object\n",
      "DET_TEMP                 18826 non-null float64\n",
      "DUTY_CYCLE               18826 non-null float64\n",
      "ET                       18826 non-null float64\n",
      "EXTEND                   18826 non-null bool\n",
      "FILENAME                 18826 non-null object\n",
      "FOV_DEG                  18826 non-null float64\n",
      "GRATING_SELECT           18826 non-null object\n",
      "INT_TIME                 18826 non-null float64\n",
      "KEYHOLE_SELECT           18826 non-null object\n",
      "LYA_CENTROID             18826 non-null int64\n",
      "MCP_VOLT                 18826 non-null float64\n",
      "MIRROR_DEG               18826 non-null float64\n",
      "MIRROR_DN                18826 non-null float64\n",
      "MIR_DEG                  18826 non-null float64\n",
      "MISSION_PHASE            18826 non-null object\n",
      "NAXIS                    18826 non-null int64\n",
      "NAXIS1                   18826 non-null int64\n",
      "NAXIS2                   18826 non-null int64\n",
      "NAXIS3                   16775 non-null float64\n",
      "N_FILL                   18826 non-null int64\n",
      "OBSERVATION_TYPE         18826 non-null object\n",
      "OBS_ID                   18826 non-null int64\n",
      "ORBIT_NUMBER             18826 non-null int64\n",
      "ORBIT_SEGMENT            18826 non-null int64\n",
      "PROCESS                  18826 non-null object\n",
      "PRODUCT_CREATION_DATE    18826 non-null object\n",
      "PRODUCT_ID               18826 non-null object\n",
      "SIMPLE                   18826 non-null bool\n",
      "SOLAR_LONGITUDE          18826 non-null float64\n",
      "SPA_OFS                  17716 non-null float64\n",
      "SPA_SIZE                 17716 non-null float64\n",
      "SPE_OFS                  17716 non-null float64\n",
      "SPE_SIZE                 17716 non-null float64\n",
      "SW_VER                   17563 non-null object\n",
      "TARGET_NAME              18826 non-null object\n",
      "TIMESTAMP                18826 non-null float64\n",
      "UTC                      18826 non-null object\n",
      "XUV                      18826 non-null object\n",
      "mean                     17810 non-null float64\n",
      "median                   17814 non-null float64\n",
      "std                      17810 non-null float64\n",
      "dtypes: bool(2), float64(21), int64(10), object(20)\n",
      "memory usage: 7.5+ MB\n"
     ]
    }
   ],
   "source": [
    "results_df.info()"
   ]
  },
  {
   "cell_type": "code",
   "execution_count": 62,
   "metadata": {
    "collapsed": false
   },
   "outputs": [],
   "source": [
    "results_df.loc[results_df.ANC_SVN_REVISION == '', 'ANC_SVN_REVISION'] = 0"
   ]
  },
  {
   "cell_type": "code",
   "execution_count": 63,
   "metadata": {
    "collapsed": false
   },
   "outputs": [],
   "source": [
    "results_df = results_df.convert_objects(convert_numeric=True)"
   ]
  },
  {
   "cell_type": "code",
   "execution_count": 64,
   "metadata": {
    "collapsed": false
   },
   "outputs": [],
   "source": [
    "results_df.to_hdf('/home/klay6683/output/l1a_dark_scans/results_df.h5', 'df')"
   ]
  },
  {
   "cell_type": "markdown",
   "metadata": {},
   "source": [
    "### For longer scans when I can't keep everything in memory"
   ]
  },
  {
   "cell_type": "code",
   "execution_count": 10,
   "metadata": {
    "collapsed": true
   },
   "outputs": [],
   "source": [
    "import glob\n",
    "h5fnames = glob.glob(\"/home/klay6683/output/l1a_dark_scans/*.h5\")"
   ]
  },
  {
   "cell_type": "code",
   "execution_count": 11,
   "metadata": {
    "collapsed": false
   },
   "outputs": [
    {
     "data": {
      "text/plain": [
       "40421"
      ]
     },
     "execution_count": 11,
     "metadata": {},
     "output_type": "execute_result"
    }
   ],
   "source": [
    "len(h5fnames)"
   ]
  },
  {
   "cell_type": "code",
   "execution_count": 12,
   "metadata": {
    "collapsed": true
   },
   "outputs": [],
   "source": [
    "def chunker(seq, size):\n",
    "    return (seq[pos:pos + size] for pos in range(0, len(seq), size))"
   ]
  },
  {
   "cell_type": "code",
   "execution_count": 13,
   "metadata": {
    "collapsed": false
   },
   "outputs": [
    {
     "name": "stdout",
     "output_type": "stream",
     "text": [
      "Chunk 0\n",
      "Chunk 1\n",
      "Chunk 2\n",
      "Chunk 3\n",
      "Chunk 4\n",
      "Chunk 5\n",
      "Chunk 6\n",
      "Chunk 7\n",
      "Chunk 8\n",
      "Chunk 9\n",
      "Chunk 10\n",
      "Chunk 11\n",
      "Chunk 12\n",
      "Chunk 13\n",
      "Chunk 14\n",
      "Chunk 15\n",
      "Chunk 16\n",
      "Chunk 17\n",
      "Chunk 18\n",
      "Chunk 19\n",
      "Chunk 20\n",
      "Chunk 21\n",
      "Chunk 22\n",
      "Chunk 23\n",
      "Chunk 24\n",
      "Chunk 25\n",
      "Chunk 26\n",
      "Chunk 27\n",
      "Chunk 28\n",
      "Chunk 29\n",
      "Chunk 30\n",
      "Chunk 31\n",
      "Chunk 32\n",
      "Chunk 33\n",
      "Chunk 34\n",
      "Chunk 35\n",
      "Chunk 36\n",
      "Chunk 37\n",
      "Chunk 38\n",
      "Chunk 39\n",
      "Chunk 40\n",
      "Chunk 41\n",
      "Chunk 42\n",
      "Chunk 43\n",
      "Chunk 44\n",
      "Chunk 45\n",
      "Chunk 46\n",
      "Chunk 47\n",
      "Chunk 48\n",
      "Chunk 49\n",
      "Chunk 50\n",
      "Chunk 51\n",
      "Chunk 52\n",
      "Chunk 53\n",
      "Chunk 54\n",
      "Chunk 55\n",
      "Chunk 56\n",
      "Chunk 57\n",
      "Chunk 58\n",
      "Chunk 59\n",
      "Chunk 60\n",
      "Chunk 61\n",
      "Chunk 62\n",
      "Chunk 63\n",
      "Chunk 64\n",
      "Chunk 65\n",
      "Chunk 66\n",
      "Chunk 67\n",
      "Chunk 68\n",
      "Chunk 69\n",
      "Chunk 70\n",
      "Chunk 71\n",
      "Chunk 72\n",
      "Chunk 73\n",
      "Chunk 74\n",
      "Chunk 75\n",
      "Chunk 76\n",
      "Chunk 77\n",
      "Chunk 78\n",
      "Chunk 79\n",
      "Chunk 80\n",
      "Chunk 81\n",
      "Chunk 82\n",
      "Chunk 83\n",
      "Chunk 84\n",
      "Chunk 85\n",
      "Chunk 86\n",
      "Chunk 87\n",
      "Chunk 88\n",
      "Chunk 89\n",
      "Chunk 90\n",
      "Chunk 91\n",
      "Chunk 92\n",
      "Chunk 93\n",
      "Chunk 94\n",
      "Chunk 95\n",
      "Chunk 96\n",
      "Chunk 97\n",
      "Chunk 98\n",
      "Chunk 99\n",
      "Chunk 100\n",
      "Chunk 101\n",
      "Chunk 102\n",
      "Chunk 103\n",
      "Chunk 104\n",
      "Chunk 105\n",
      "Chunk 106\n",
      "Chunk 107\n",
      "Chunk 108\n",
      "Chunk 109\n",
      "Chunk 110\n",
      "Chunk 111\n",
      "Chunk 112\n",
      "Chunk 113\n",
      "Chunk 114\n",
      "Chunk 115\n",
      "Chunk 116\n",
      "Chunk 117\n",
      "Chunk 118\n",
      "Chunk 119\n",
      "Chunk 120\n",
      "Chunk 121\n",
      "Chunk 122\n",
      "Chunk 123\n",
      "Chunk 124\n",
      "Chunk 125\n",
      "Chunk 126\n",
      "Chunk 127\n",
      "Chunk 128\n",
      "Chunk 129\n",
      "Chunk 130\n",
      "Chunk 131\n",
      "Chunk 132\n",
      "Chunk 133\n",
      "Chunk 134\n",
      "Chunk 135\n",
      "Chunk 136\n",
      "Chunk 137\n",
      "Chunk 138\n",
      "Chunk 139\n",
      "Chunk 140\n",
      "Chunk 141\n",
      "Chunk 142\n",
      "Chunk 143\n",
      "Chunk 144\n",
      "Chunk 145\n",
      "Chunk 146\n",
      "Chunk 147\n",
      "Chunk 148\n",
      "Chunk 149\n",
      "Chunk 150\n",
      "Chunk 151\n",
      "Chunk 152\n",
      "Chunk 153\n",
      "Chunk 154\n",
      "Chunk 155\n",
      "Chunk 156\n",
      "Chunk 157\n",
      "Chunk 158\n",
      "Chunk 159\n",
      "Chunk 160\n",
      "Chunk 161\n",
      "Chunk 162\n",
      "Chunk 163\n",
      "Chunk 164\n",
      "Chunk 165\n",
      "Chunk 166\n",
      "Chunk 167\n",
      "Chunk 168\n",
      "Chunk 169\n",
      "Chunk 170\n",
      "Chunk 171\n",
      "Chunk 172\n",
      "Chunk 173\n",
      "Chunk 174\n",
      "Chunk 175\n",
      "Chunk 176\n",
      "Chunk 177\n",
      "Chunk 178\n",
      "Chunk 179\n",
      "Chunk 180\n",
      "Chunk 181\n",
      "Chunk 182\n",
      "Chunk 183\n",
      "Chunk 184\n",
      "Chunk 185\n",
      "Chunk 186\n",
      "Chunk 187\n",
      "Chunk 188\n",
      "Chunk 189\n",
      "Chunk 190\n",
      "Chunk 191\n",
      "Chunk 192\n",
      "Chunk 193\n",
      "Chunk 194\n",
      "Chunk 195\n",
      "Chunk 196\n",
      "Chunk 197\n",
      "Chunk 198\n",
      "Chunk 199\n",
      "Chunk 200\n",
      "Chunk 201\n",
      "Chunk 202\n"
     ]
    }
   ],
   "source": [
    "dfs = []\n",
    "for i,chunk in enumerate(chunker(h5fnames, 200)):\n",
    "    print(\"Chunk {}\".format(i))\n",
    "    frames = []\n",
    "    for fname in chunk:\n",
    "        frames.append(pd.read_hdf(fname, 'df'))\n",
    "    dfs.append(pd.concat(frames, ignore_index=True))"
   ]
  },
  {
   "cell_type": "code",
   "execution_count": 14,
   "metadata": {
    "collapsed": false
   },
   "outputs": [],
   "source": [
    "superdf = pd.concat(dfs, ignore_index=True)"
   ]
  },
  {
   "cell_type": "code",
   "execution_count": 15,
   "metadata": {
    "collapsed": false
   },
   "outputs": [
    {
     "name": "stdout",
     "output_type": "stream",
     "text": [
      "<class 'pandas.core.frame.DataFrame'>\n",
      "Int64Index: 40421 entries, 0 to 40420\n",
      "Data columns (total 63 columns):\n",
      "AVERAGE               40421 non-null float64\n",
      "BIN_SHIFT             40421 non-null int64\n",
      "BIN_SHIFT_DIR         40421 non-null int64\n",
      "BIN_TBL               40421 non-null object\n",
      "BIN_TYPE              40421 non-null object\n",
      "BIN_X_ROW             40421 non-null int64\n",
      "BIN_Y_ROW             40421 non-null int64\n",
      "BITPIX                40421 non-null int64\n",
      "BLANK                 40421 non-null int64\n",
      "BSCALE                494 non-null float64\n",
      "BZERO                 494 non-null float64\n",
      "CADENCE               40421 non-null float64\n",
      "CAPTURE               40421 non-null object\n",
      "CASE_TEMP             39927 non-null float64\n",
      "CHECKSUM              40421 non-null float64\n",
      "DATA_COMPRESSION      40421 non-null int64\n",
      "DET_TEMP              39927 non-null float64\n",
      "EXTEND                40421 non-null bool\n",
      "FILENAME              40421 non-null object\n",
      "FUV_BAD_PIXEL_MASK    40421 non-null int64\n",
      "IMAGE_NUMBER          40421 non-null float64\n",
      "INT_TIME              40421 non-null float64\n",
      "LENGTH                40421 non-null float64\n",
      "MCP_GAIN              40421 non-null float64\n",
      "MCP_VOLT              40421 non-null float64\n",
      "MIRROR_POS            40421 non-null float64\n",
      "MIR_DEG               40421 non-null float64\n",
      "MODE                  40421 non-null object\n",
      "MUV_BAD_PIXEL_MASK    40421 non-null int64\n",
      "NAXIS                 40421 non-null int64\n",
      "NAXIS1                40421 non-null int64\n",
      "NAXIS2                40421 non-null int64\n",
      "NAXIS3                19545 non-null float64\n",
      "NUMBER                40421 non-null float64\n",
      "N_FILL                40421 non-null int64\n",
      "OBS_ID                40421 non-null float64\n",
      "ON_CHIP_WINDOWING     40421 non-null int64\n",
      "PROCESS               40421 non-null object\n",
      "SCAN_MODE             40421 non-null object\n",
      "SCI_ERR_FLAGS         40421 non-null int64\n",
      "SCI_PKT_CKSUM         40421 non-null int64\n",
      "SCI_SEG_LENGTH        40421 non-null float64\n",
      "SCI_SEG_NUM           40421 non-null float64\n",
      "SCI_SEG_TOTAL         40421 non-null float64\n",
      "SET_TOTAL             40421 non-null float64\n",
      "SHUTTER_NUM           40421 non-null int64\n",
      "SHUTTER_OFF           40421 non-null float64\n",
      "SHUTTER_ON            40421 non-null float64\n",
      "SIMPLE                40421 non-null bool\n",
      "SPA_OFS               40421 non-null int64\n",
      "SPA_SIZE              40421 non-null int64\n",
      "SPE_OFS               40421 non-null int64\n",
      "SPE_SIZE              40421 non-null int64\n",
      "START_TIME            40421 non-null float64\n",
      "START_TIME__SUB       40421 non-null float64\n",
      "STEP_INT              40421 non-null int64\n",
      "STEP_NUM              40421 non-null float64\n",
      "STEP_SIZE             40421 non-null int64\n",
      "SW_VER                40421 non-null object\n",
      "TEST_PATTERN          40421 non-null int64\n",
      "TIME_FLAG             40421 non-null object\n",
      "XUV                   40421 non-null object\n",
      "primary_mean          40154 non-null float64\n",
      "dtypes: bool(2), float64(27), int64(24), object(10)\n",
      "memory usage: 19.2+ MB\n"
     ]
    }
   ],
   "source": [
    "superdf.info()"
   ]
  },
  {
   "cell_type": "code",
   "execution_count": 18,
   "metadata": {
    "collapsed": true
   },
   "outputs": [],
   "source": [
    "from iuvs import calib"
   ]
  },
  {
   "cell_type": "code",
   "execution_count": 19,
   "metadata": {
    "collapsed": false
   },
   "outputs": [],
   "source": [
    "superdf.DET_TEMP = superdf.DET_TEMP.map(calib.convert_det_temp_to_C)\n",
    "superdf.CASE_TEMP = superdf.CASE_TEMP.map(calib.convert_case_temp_to_C)"
   ]
  },
  {
   "cell_type": "code",
   "execution_count": 20,
   "metadata": {
    "collapsed": true
   },
   "outputs": [],
   "source": [
    "superdf.to_hdf('/home/klay6683/output/l1a_summary.h5','df')"
   ]
  },
  {
   "cell_type": "code",
   "execution_count": 21,
   "metadata": {
    "collapsed": true
   },
   "outputs": [],
   "source": [
    "meta.produce_summary_txt(superdf, 'l1a_summary.txt')"
   ]
  },
  {
   "cell_type": "code",
   "execution_count": null,
   "metadata": {
    "collapsed": true
   },
   "outputs": [],
   "source": []
  }
 ],
 "metadata": {
  "kernelspec": {
   "display_name": "Python 3",
   "language": "python",
   "name": "python3"
  },
  "language_info": {
   "codemirror_mode": {
    "name": "ipython",
    "version": 3
   },
   "file_extension": ".py",
   "mimetype": "text/x-python",
   "name": "python",
   "nbconvert_exporter": "python",
   "pygments_lexer": "ipython3",
   "version": "3.4.3"
  }
 },
 "nbformat": 4,
 "nbformat_minor": 0
}
